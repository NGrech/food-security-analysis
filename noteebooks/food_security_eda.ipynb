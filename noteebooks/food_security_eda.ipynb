{
 "cells": [
  {
   "cell_type": "markdown",
   "metadata": {},
   "source": [
    "# Food Security Data EDA\n",
    "\n",
    "In this notebook we explore the data on food security available from the FAOSTAT database."
   ]
  },
  {
   "cell_type": "code",
   "execution_count": 78,
   "metadata": {},
   "outputs": [],
   "source": [
    "# Imports \n",
    "from pprint import pprint\n",
    "from IPython.display import HTML\n",
    "import pandas as pd\n",
    "import plotly.express as px\n",
    "import os "
   ]
  },
  {
   "cell_type": "code",
   "execution_count": 2,
   "metadata": {},
   "outputs": [
    {
     "data": {
      "text/html": [
       "<div>\n",
       "<style scoped>\n",
       "    .dataframe tbody tr th:only-of-type {\n",
       "        vertical-align: middle;\n",
       "    }\n",
       "\n",
       "    .dataframe tbody tr th {\n",
       "        vertical-align: top;\n",
       "    }\n",
       "\n",
       "    .dataframe thead th {\n",
       "        text-align: right;\n",
       "    }\n",
       "</style>\n",
       "<table border=\"1\" class=\"dataframe\">\n",
       "  <thead>\n",
       "    <tr style=\"text-align: right;\">\n",
       "      <th></th>\n",
       "      <th>Area Code</th>\n",
       "      <th>Area</th>\n",
       "      <th>Item Code</th>\n",
       "      <th>Item</th>\n",
       "      <th>Element Code</th>\n",
       "      <th>Element</th>\n",
       "      <th>Year Code</th>\n",
       "      <th>Year</th>\n",
       "      <th>Unit</th>\n",
       "      <th>Value</th>\n",
       "      <th>Flag</th>\n",
       "      <th>Note</th>\n",
       "    </tr>\n",
       "  </thead>\n",
       "  <tbody>\n",
       "    <tr>\n",
       "      <th>0</th>\n",
       "      <td>2</td>\n",
       "      <td>Afghanistan</td>\n",
       "      <td>21010</td>\n",
       "      <td>Average dietary energy supply adequacy (percen...</td>\n",
       "      <td>6121</td>\n",
       "      <td>Value</td>\n",
       "      <td>20002002</td>\n",
       "      <td>2000-2002</td>\n",
       "      <td>%</td>\n",
       "      <td>87</td>\n",
       "      <td>F</td>\n",
       "      <td>NaN</td>\n",
       "    </tr>\n",
       "    <tr>\n",
       "      <th>1</th>\n",
       "      <td>2</td>\n",
       "      <td>Afghanistan</td>\n",
       "      <td>21010</td>\n",
       "      <td>Average dietary energy supply adequacy (percen...</td>\n",
       "      <td>6121</td>\n",
       "      <td>Value</td>\n",
       "      <td>20012003</td>\n",
       "      <td>2001-2003</td>\n",
       "      <td>%</td>\n",
       "      <td>88</td>\n",
       "      <td>F</td>\n",
       "      <td>NaN</td>\n",
       "    </tr>\n",
       "    <tr>\n",
       "      <th>2</th>\n",
       "      <td>2</td>\n",
       "      <td>Afghanistan</td>\n",
       "      <td>21010</td>\n",
       "      <td>Average dietary energy supply adequacy (percen...</td>\n",
       "      <td>6121</td>\n",
       "      <td>Value</td>\n",
       "      <td>20022004</td>\n",
       "      <td>2002-2004</td>\n",
       "      <td>%</td>\n",
       "      <td>91</td>\n",
       "      <td>F</td>\n",
       "      <td>NaN</td>\n",
       "    </tr>\n",
       "    <tr>\n",
       "      <th>3</th>\n",
       "      <td>2</td>\n",
       "      <td>Afghanistan</td>\n",
       "      <td>21010</td>\n",
       "      <td>Average dietary energy supply adequacy (percen...</td>\n",
       "      <td>6121</td>\n",
       "      <td>Value</td>\n",
       "      <td>20032005</td>\n",
       "      <td>2003-2005</td>\n",
       "      <td>%</td>\n",
       "      <td>92</td>\n",
       "      <td>F</td>\n",
       "      <td>NaN</td>\n",
       "    </tr>\n",
       "    <tr>\n",
       "      <th>4</th>\n",
       "      <td>2</td>\n",
       "      <td>Afghanistan</td>\n",
       "      <td>21010</td>\n",
       "      <td>Average dietary energy supply adequacy (percen...</td>\n",
       "      <td>6121</td>\n",
       "      <td>Value</td>\n",
       "      <td>20042006</td>\n",
       "      <td>2004-2006</td>\n",
       "      <td>%</td>\n",
       "      <td>92</td>\n",
       "      <td>F</td>\n",
       "      <td>NaN</td>\n",
       "    </tr>\n",
       "  </tbody>\n",
       "</table>\n",
       "</div>"
      ],
      "text/plain": [
       "   Area Code         Area  Item Code  \\\n",
       "0          2  Afghanistan      21010   \n",
       "1          2  Afghanistan      21010   \n",
       "2          2  Afghanistan      21010   \n",
       "3          2  Afghanistan      21010   \n",
       "4          2  Afghanistan      21010   \n",
       "\n",
       "                                                Item  Element Code Element  \\\n",
       "0  Average dietary energy supply adequacy (percen...          6121   Value   \n",
       "1  Average dietary energy supply adequacy (percen...          6121   Value   \n",
       "2  Average dietary energy supply adequacy (percen...          6121   Value   \n",
       "3  Average dietary energy supply adequacy (percen...          6121   Value   \n",
       "4  Average dietary energy supply adequacy (percen...          6121   Value   \n",
       "\n",
       "   Year Code       Year Unit Value Flag  Note  \n",
       "0   20002002  2000-2002    %    87    F   NaN  \n",
       "1   20012003  2001-2003    %    88    F   NaN  \n",
       "2   20022004  2002-2004    %    91    F   NaN  \n",
       "3   20032005  2003-2005    %    92    F   NaN  \n",
       "4   20042006  2004-2006    %    92    F   NaN  "
      ]
     },
     "execution_count": 2,
     "metadata": {},
     "output_type": "execute_result"
    }
   ],
   "source": [
    "# Loading data\n",
    "\n",
    "data_pth = os.path.join(os.pardir, 'data', 'food_security', 'Food_Security_Data_E_All_Data_(Normalized).csv')\n",
    "\n",
    "food_security_pdf = pd.read_csv(data_pth, encoding = \"ISO-8859-1\")\n",
    "food_security_pdf.head()"
   ]
  },
  {
   "cell_type": "markdown",
   "metadata": {},
   "source": [
    "We start by looking into the different 'items' we have, these are the indicators and measurements of food security "
   ]
  },
  {
   "cell_type": "code",
   "execution_count": 32,
   "metadata": {},
   "outputs": [
    {
     "name": "stdout",
     "output_type": "stream",
     "text": [
      "Number of items in data set: 48 \n"
     ]
    }
   ],
   "source": [
    "desc_pth = os.path.join(os.pardir, 'data', 'food_security', 'FAOSTAT_definitions_items.csv')\n",
    "item_desc_pdf = pd.read_csv(desc_pth,)[['Item Code', 'Item', 'Description']]\n",
    "print(f'Number of items in data set: {len(item_desc_pdf)} ')"
   ]
  },
  {
   "cell_type": "markdown",
   "metadata": {},
   "source": [
    "Since there are 48 items we will focus on a subset of them. "
   ]
  },
  {
   "cell_type": "code",
   "execution_count": 58,
   "metadata": {},
   "outputs": [
    {
     "data": {
      "text/plain": [
       "[[210041, 'Prevalence of undernourishment (percent) (3-year average)'],\n",
       " [210011, 'Number of people undernourished (million) (3-year average)'],\n",
       " [210401,\n",
       "  'Prevalence of severe food insecurity in the total population (percent) (3-year average)'],\n",
       " [210091,\n",
       "  'Prevalence of moderate or severe food insecurity in the total population (percent) (3-year average)'],\n",
       " [210071,\n",
       "  'Number of severely food insecure people (million) (3-year average)'],\n",
       " [210081,\n",
       "  'Number of moderately or severely food insecure people (million) (3-year average)'],\n",
       " [21026, 'Percentage of children under 5 years affected by wasting (percent)'],\n",
       " [210260, 'Number of children under 5 years affected by wasting (million)'],\n",
       " [21025,\n",
       "  'Percentage of children under 5 years of age who are stunted (modelled estimates) (percent)'],\n",
       " [210250,\n",
       "  'Number of children under 5 years of age who are stunted (modeled estimates) (million)'],\n",
       " [21041,\n",
       "  'Percentage of children under 5 years of age who are overweight (modelled estimates) (percent)'],\n",
       " [210410,\n",
       "  'Number of children under 5 years of age who are overweight (modeled estimates) (million)'],\n",
       " [21042, 'Prevalence of obesity in the adult population (18 years and older)'],\n",
       " [210420, 'Number of obese adults (18 years and older) (million)'],\n",
       " [21043, 'Prevalence of anemia among women of reproductive age (15-49 years)'],\n",
       " [210430,\n",
       "  'Number of women of reproductive age (15-49 years) affected by anemia (million)'],\n",
       " [21044,\n",
       "  'Prevalence of exclusive breastfeeding among infants 0-5 months of age'],\n",
       " [21049, 'Prevalence of low birthweight (percent)'],\n",
       " [210490, 'Number of newborns with low birthweight (million)']]"
      ]
     },
     "execution_count": 58,
     "metadata": {},
     "output_type": "execute_result"
    }
   ],
   "source": [
    "item_codes_of_interest = [210041, 210011, 210401, 210091, 210071, 210081, 21026, 210260, 21025, 210250, 21041, 210410, 21042, 210420, 21043, 210430, 21044, 21049, 210490]\n",
    "items_pdf = item_desc_pdf[item_desc_pdf['Item Code'].isin(item_codes_of_interest)]\n",
    "items_pdf[['Item Code', 'Item']].values.tolist()"
   ]
  },
  {
   "cell_type": "markdown",
   "metadata": {},
   "source": [
    "## Prevalence of undernourishment (percent) (3-year average)"
   ]
  },
  {
   "cell_type": "code",
   "execution_count": 69,
   "metadata": {},
   "outputs": [
    {
     "data": {
      "text/html": [
       "<table border=\"1\" class=\"dataframe\">\n",
       "  <thead>\n",
       "    <tr style=\"text-align: right;\">\n",
       "      <th></th>\n",
       "      <th>Description</th>\n",
       "    </tr>\n",
       "  </thead>\n",
       "  <tbody>\n",
       "    <tr>\n",
       "      <th>8</th>\n",
       "      <td>The prevalence of undernourishment expresses the probability that a randomly selected individual from the population consumes an amount of calories that is insufficient to cover her/his energy requirement for an active and healthy life. The indicator is computed by comparing a probability distribution of habitual daily dietary energy consumption with a threshold level called the minimum dietary energy Requirement. Both are based on the notion of an average individual in the reference population.</td>\n",
       "    </tr>\n",
       "  </tbody>\n",
       "</table>"
      ],
      "text/plain": [
       "<IPython.core.display.HTML object>"
      ]
     },
     "execution_count": 69,
     "metadata": {},
     "output_type": "execute_result"
    }
   ],
   "source": [
    "HTML(item_desc_pdf[item_desc_pdf['Item Code'] == 210041][['Description']].to_html())"
   ]
  },
  {
   "cell_type": "code",
   "execution_count": 72,
   "metadata": {},
   "outputs": [
    {
     "data": {
      "text/html": [
       "<div>\n",
       "<style scoped>\n",
       "    .dataframe tbody tr th:only-of-type {\n",
       "        vertical-align: middle;\n",
       "    }\n",
       "\n",
       "    .dataframe tbody tr th {\n",
       "        vertical-align: top;\n",
       "    }\n",
       "\n",
       "    .dataframe thead th {\n",
       "        text-align: right;\n",
       "    }\n",
       "</style>\n",
       "<table border=\"1\" class=\"dataframe\">\n",
       "  <thead>\n",
       "    <tr style=\"text-align: right;\">\n",
       "      <th></th>\n",
       "      <th>Area Code</th>\n",
       "      <th>Area</th>\n",
       "      <th>Element Code</th>\n",
       "      <th>Element</th>\n",
       "      <th>Year Code</th>\n",
       "      <th>Year</th>\n",
       "      <th>Unit</th>\n",
       "      <th>Value</th>\n",
       "      <th>Flag</th>\n",
       "      <th>Note</th>\n",
       "    </tr>\n",
       "  </thead>\n",
       "  <tbody>\n",
       "    <tr>\n",
       "      <th>125</th>\n",
       "      <td>2</td>\n",
       "      <td>Afghanistan</td>\n",
       "      <td>6121</td>\n",
       "      <td>Value</td>\n",
       "      <td>20002002</td>\n",
       "      <td>2000-2002</td>\n",
       "      <td>%</td>\n",
       "      <td>47.8</td>\n",
       "      <td>F</td>\n",
       "      <td>NaN</td>\n",
       "    </tr>\n",
       "    <tr>\n",
       "      <th>126</th>\n",
       "      <td>2</td>\n",
       "      <td>Afghanistan</td>\n",
       "      <td>6121</td>\n",
       "      <td>Value</td>\n",
       "      <td>20012003</td>\n",
       "      <td>2001-2003</td>\n",
       "      <td>%</td>\n",
       "      <td>45.6</td>\n",
       "      <td>F</td>\n",
       "      <td>NaN</td>\n",
       "    </tr>\n",
       "    <tr>\n",
       "      <th>127</th>\n",
       "      <td>2</td>\n",
       "      <td>Afghanistan</td>\n",
       "      <td>6121</td>\n",
       "      <td>Value</td>\n",
       "      <td>20022004</td>\n",
       "      <td>2002-2004</td>\n",
       "      <td>%</td>\n",
       "      <td>40.6</td>\n",
       "      <td>F</td>\n",
       "      <td>NaN</td>\n",
       "    </tr>\n",
       "    <tr>\n",
       "      <th>128</th>\n",
       "      <td>2</td>\n",
       "      <td>Afghanistan</td>\n",
       "      <td>6121</td>\n",
       "      <td>Value</td>\n",
       "      <td>20032005</td>\n",
       "      <td>2003-2005</td>\n",
       "      <td>%</td>\n",
       "      <td>38</td>\n",
       "      <td>F</td>\n",
       "      <td>NaN</td>\n",
       "    </tr>\n",
       "    <tr>\n",
       "      <th>129</th>\n",
       "      <td>2</td>\n",
       "      <td>Afghanistan</td>\n",
       "      <td>6121</td>\n",
       "      <td>Value</td>\n",
       "      <td>20042006</td>\n",
       "      <td>2004-2006</td>\n",
       "      <td>%</td>\n",
       "      <td>36.1</td>\n",
       "      <td>F</td>\n",
       "      <td>NaN</td>\n",
       "    </tr>\n",
       "  </tbody>\n",
       "</table>\n",
       "</div>"
      ],
      "text/plain": [
       "     Area Code         Area  Element Code Element  Year Code       Year Unit  \\\n",
       "125          2  Afghanistan          6121   Value   20002002  2000-2002    %   \n",
       "126          2  Afghanistan          6121   Value   20012003  2001-2003    %   \n",
       "127          2  Afghanistan          6121   Value   20022004  2002-2004    %   \n",
       "128          2  Afghanistan          6121   Value   20032005  2003-2005    %   \n",
       "129          2  Afghanistan          6121   Value   20042006  2004-2006    %   \n",
       "\n",
       "    Value Flag  Note  \n",
       "125  47.8    F   NaN  \n",
       "126  45.6    F   NaN  \n",
       "127  40.6    F   NaN  \n",
       "128    38    F   NaN  \n",
       "129  36.1    F   NaN  "
      ]
     },
     "execution_count": 72,
     "metadata": {},
     "output_type": "execute_result"
    }
   ],
   "source": [
    "p_undernourishment_pdf = food_security_pdf[food_security_pdf['Item Code'] == 210041]\n",
    "p_undernourishment_pdf = p_undernourishment_pdf.drop(['Item Code', 'Item'], axis=1)\n",
    "p_undernourishment_pdf.head()"
   ]
  },
  {
   "cell_type": "code",
   "execution_count": 80,
   "metadata": {},
   "outputs": [
    {
     "data": {
      "application/vnd.plotly.v1+json": {
       "config": {
        "plotlyServerURL": "https://plot.ly"
       },
       "data": [
        {
         "hovertemplate": "Area=World<br>Year=%{x}<br>Value=%{y}<extra></extra>",
         "legendgroup": "World",
         "line": {
          "color": "#636efa",
          "dash": "solid"
         },
         "marker": {
          "symbol": "circle"
         },
         "mode": "lines",
         "name": "World",
         "orientation": "v",
         "showlegend": true,
         "type": "scatter",
         "x": [
          "2000-2002",
          "2001-2003",
          "2002-2004",
          "2003-2005",
          "2004-2006",
          "2005-2007",
          "2006-2008",
          "2007-2009",
          "2008-2010",
          "2009-2011",
          "2010-2012",
          "2011-2013",
          "2012-2014",
          "2013-2015",
          "2014-2016",
          "2015-2017",
          "2016-2018",
          "2017-2019",
          "2018-2020"
         ],
         "xaxis": "x",
         "y": [
          "13.2",
          "13.2",
          "13.1",
          "12.8",
          "12.3",
          "11.5",
          "10.7",
          "10.2",
          "9.7",
          "9.4",
          "9",
          "8.9",
          "8.7",
          "8.5",
          "8.3",
          "8.3",
          "8.2",
          "8.3",
          "8.9"
         ],
         "yaxis": "y"
        },
        {
         "hovertemplate": "Area=Africa<br>Year=%{x}<br>Value=%{y}<extra></extra>",
         "legendgroup": "Africa",
         "line": {
          "color": "#EF553B",
          "dash": "solid"
         },
         "marker": {
          "symbol": "circle"
         },
         "mode": "lines",
         "name": "Africa",
         "orientation": "v",
         "showlegend": true,
         "type": "scatter",
         "x": [
          "2000-2002",
          "2001-2003",
          "2002-2004",
          "2003-2005",
          "2004-2006",
          "2005-2007",
          "2006-2008",
          "2007-2009",
          "2008-2010",
          "2009-2011",
          "2010-2012",
          "2011-2013",
          "2012-2014",
          "2013-2015",
          "2014-2016",
          "2015-2017",
          "2016-2018",
          "2017-2019",
          "2018-2020"
         ],
         "xaxis": "x",
         "y": [
          "24",
          "23.6",
          "23.3",
          "22.5",
          "21.6",
          "20.9",
          "20.5",
          "20.1",
          "19.2",
          "18.7",
          "18.3",
          "18.4",
          "17.8",
          "17.3",
          "17",
          "17.1",
          "17.4",
          "17.6",
          "19"
         ],
         "yaxis": "y"
        },
        {
         "hovertemplate": "Area=Eastern Africa<br>Year=%{x}<br>Value=%{y}<extra></extra>",
         "legendgroup": "Eastern Africa",
         "line": {
          "color": "#00cc96",
          "dash": "solid"
         },
         "marker": {
          "symbol": "circle"
         },
         "mode": "lines",
         "name": "Eastern Africa",
         "orientation": "v",
         "showlegend": true,
         "type": "scatter",
         "x": [
          "2000-2002",
          "2001-2003",
          "2002-2004",
          "2003-2005",
          "2004-2006",
          "2005-2007",
          "2006-2008",
          "2007-2009",
          "2008-2010",
          "2009-2011",
          "2010-2012",
          "2011-2013",
          "2012-2014",
          "2013-2015",
          "2014-2016",
          "2015-2017",
          "2016-2018",
          "2017-2019",
          "2018-2020"
         ],
         "xaxis": "x",
         "y": [
          "38.6",
          "38.1",
          "37.7",
          "36.1",
          "34.2",
          "32.7",
          "32.3",
          "31.6",
          "30.1",
          "29.4",
          "28.8",
          "28.6",
          "26.9",
          "25.7",
          "25",
          "25.1",
          "25.5",
          "25.5",
          "26.6"
         ],
         "yaxis": "y"
        },
        {
         "hovertemplate": "Area=Middle Africa<br>Year=%{x}<br>Value=%{y}<extra></extra>",
         "legendgroup": "Middle Africa",
         "line": {
          "color": "#ab63fa",
          "dash": "solid"
         },
         "marker": {
          "symbol": "circle"
         },
         "mode": "lines",
         "name": "Middle Africa",
         "orientation": "v",
         "showlegend": true,
         "type": "scatter",
         "x": [
          "2000-2002",
          "2001-2003",
          "2002-2004",
          "2003-2005",
          "2004-2006",
          "2005-2007",
          "2006-2008",
          "2007-2009",
          "2008-2010",
          "2009-2011",
          "2010-2012",
          "2011-2013",
          "2012-2014",
          "2013-2015",
          "2014-2016",
          "2015-2017",
          "2016-2018",
          "2017-2019",
          "2018-2020"
         ],
         "xaxis": "x",
         "y": [
          "40.1",
          "38.9",
          "38.1",
          "37.3",
          "36.7",
          "36.1",
          "35.4",
          "34.6",
          "32.4",
          "30.4",
          "29.3",
          "29.8",
          "29.5",
          "29",
          "28.8",
          "28.9",
          "29.1",
          "29.4",
          "30.5"
         ],
         "yaxis": "y"
        },
        {
         "hovertemplate": "Area=Northern Africa<br>Year=%{x}<br>Value=%{y}<extra></extra>",
         "legendgroup": "Northern Africa",
         "line": {
          "color": "#FFA15A",
          "dash": "solid"
         },
         "marker": {
          "symbol": "circle"
         },
         "mode": "lines",
         "name": "Northern Africa",
         "orientation": "v",
         "showlegend": true,
         "type": "scatter",
         "x": [
          "2000-2002",
          "2001-2003",
          "2002-2004",
          "2003-2005",
          "2004-2006",
          "2005-2007",
          "2006-2008",
          "2007-2009",
          "2008-2010",
          "2009-2011",
          "2010-2012",
          "2011-2013",
          "2012-2014",
          "2013-2015",
          "2014-2016",
          "2015-2017",
          "2016-2018",
          "2017-2019",
          "2018-2020"
         ],
         "xaxis": "x",
         "y": [
          "8.6",
          "8.3",
          "8.4",
          "8.5",
          "8.3",
          "7.9",
          "7.5",
          "7.4",
          "7.3",
          "7.4",
          "7.3",
          "7",
          "6.5",
          "6.2",
          "6.1",
          "6.3",
          "6.3",
          "6.4",
          "6.6"
         ],
         "yaxis": "y"
        },
        {
         "hovertemplate": "Area=Southern Africa<br>Year=%{x}<br>Value=%{y}<extra></extra>",
         "legendgroup": "Southern Africa",
         "line": {
          "color": "#19d3f3",
          "dash": "solid"
         },
         "marker": {
          "symbol": "circle"
         },
         "mode": "lines",
         "name": "Southern Africa",
         "orientation": "v",
         "showlegend": true,
         "type": "scatter",
         "x": [
          "2000-2002",
          "2001-2003",
          "2002-2004",
          "2003-2005",
          "2004-2006",
          "2005-2007",
          "2006-2008",
          "2007-2009",
          "2008-2010",
          "2009-2011",
          "2010-2012",
          "2011-2013",
          "2012-2014",
          "2013-2015",
          "2014-2016",
          "2015-2017",
          "2016-2018",
          "2017-2019",
          "2018-2020"
         ],
         "xaxis": "x",
         "y": [
          "5.6",
          "5.4",
          "5.3",
          "5.1",
          "5.1",
          "5.3",
          "5.6",
          "5.8",
          "6",
          "6.2",
          "6.2",
          "6.3",
          "6.5",
          "6.9",
          "7.4",
          "7.6",
          "7.6",
          "7.5",
          "8.4"
         ],
         "yaxis": "y"
        },
        {
         "hovertemplate": "Area=Western Africa<br>Year=%{x}<br>Value=%{y}<extra></extra>",
         "legendgroup": "Western Africa",
         "line": {
          "color": "#FF6692",
          "dash": "solid"
         },
         "marker": {
          "symbol": "circle"
         },
         "mode": "lines",
         "name": "Western Africa",
         "orientation": "v",
         "showlegend": true,
         "type": "scatter",
         "x": [
          "2000-2002",
          "2001-2003",
          "2002-2004",
          "2003-2005",
          "2004-2006",
          "2005-2007",
          "2006-2008",
          "2007-2009",
          "2008-2010",
          "2009-2011",
          "2010-2012",
          "2011-2013",
          "2012-2014",
          "2013-2015",
          "2014-2016",
          "2015-2017",
          "2016-2018",
          "2017-2019",
          "2018-2020"
         ],
         "xaxis": "x",
         "y": [
          "16.5",
          "16.2",
          "15.7",
          "15",
          "14.1",
          "13.4",
          "12.9",
          "12.6",
          "12.1",
          "11.8",
          "11.4",
          "11.8",
          "11.8",
          "11.9",
          "11.7",
          "11.8",
          "12.1",
          "12.4",
          "14.8"
         ],
         "yaxis": "y"
        },
        {
         "hovertemplate": "Area=Sub-Saharan Africa (including Sudan)<br>Year=%{x}<br>Value=%{y}<extra></extra>",
         "legendgroup": "Sub-Saharan Africa (including Sudan)",
         "line": {
          "color": "#B6E880",
          "dash": "solid"
         },
         "marker": {
          "symbol": "circle"
         },
         "mode": "lines",
         "name": "Sub-Saharan Africa (including Sudan)",
         "orientation": "v",
         "showlegend": true,
         "type": "scatter",
         "x": [
          "2000-2002",
          "2001-2003",
          "2002-2004",
          "2003-2005",
          "2004-2006",
          "2005-2007",
          "2006-2008",
          "2007-2009",
          "2008-2010",
          "2009-2011",
          "2010-2012",
          "2011-2013",
          "2012-2014",
          "2013-2015",
          "2014-2016",
          "2015-2017",
          "2016-2018",
          "2017-2019",
          "2018-2020"
         ],
         "xaxis": "x",
         "y": [
          "27.9",
          "27.3",
          "26.9",
          "25.9",
          "24.8",
          "23.9",
          "23.4",
          "23",
          "21.9",
          "21.3",
          "20.7",
          "20.8",
          "20.1",
          "19.6",
          "19.3",
          "19.4",
          "19.7",
          "19.9",
          "21.4"
         ],
         "yaxis": "y"
        },
        {
         "hovertemplate": "Area=Northern America and Europe<br>Year=%{x}<br>Value=%{y}<extra></extra>",
         "legendgroup": "Northern America and Europe",
         "line": {
          "color": "#FF97FF",
          "dash": "solid"
         },
         "marker": {
          "symbol": "circle"
         },
         "mode": "lines",
         "name": "Northern America and Europe",
         "orientation": "v",
         "showlegend": true,
         "type": "scatter",
         "x": [
          "2000-2002",
          "2001-2003",
          "2002-2004",
          "2003-2005",
          "2004-2006",
          "2005-2007",
          "2006-2008",
          "2007-2009",
          "2008-2010",
          "2009-2011",
          "2010-2012",
          "2011-2013",
          "2012-2014",
          "2013-2015",
          "2014-2016",
          "2015-2017",
          "2016-2018",
          "2017-2019",
          "2018-2020"
         ],
         "xaxis": "x",
         "y": [
          "<2.5",
          "<2.5",
          "<2.5",
          "<2.5",
          "<2.5",
          "<2.5",
          "<2.5",
          "<2.5",
          "<2.5",
          "<2.5",
          "<2.5",
          "<2.5",
          "<2.5",
          "<2.5",
          "<2.5",
          "<2.5",
          "<2.5",
          "<2.5",
          "<2.5"
         ],
         "yaxis": "y"
        },
        {
         "hovertemplate": "Area=Northern America<br>Year=%{x}<br>Value=%{y}<extra></extra>",
         "legendgroup": "Northern America",
         "line": {
          "color": "#FECB52",
          "dash": "solid"
         },
         "marker": {
          "symbol": "circle"
         },
         "mode": "lines",
         "name": "Northern America",
         "orientation": "v",
         "showlegend": true,
         "type": "scatter",
         "x": [
          "2000-2002",
          "2001-2003",
          "2002-2004",
          "2003-2005",
          "2004-2006",
          "2005-2007",
          "2006-2008",
          "2007-2009",
          "2008-2010",
          "2009-2011",
          "2010-2012",
          "2011-2013",
          "2012-2014",
          "2013-2015",
          "2014-2016",
          "2015-2017",
          "2016-2018",
          "2017-2019",
          "2018-2020"
         ],
         "xaxis": "x",
         "y": [
          "<2.5",
          "<2.5",
          "<2.5",
          "<2.5",
          "<2.5",
          "<2.5",
          "<2.5",
          "<2.5",
          "<2.5",
          "<2.5",
          "<2.5",
          "<2.5",
          "<2.5",
          "<2.5",
          "<2.5",
          "<2.5",
          "<2.5",
          "<2.5",
          "<2.5"
         ],
         "yaxis": "y"
        },
        {
         "hovertemplate": "Area=Europe<br>Year=%{x}<br>Value=%{y}<extra></extra>",
         "legendgroup": "Europe",
         "line": {
          "color": "#636efa",
          "dash": "solid"
         },
         "marker": {
          "symbol": "circle"
         },
         "mode": "lines",
         "name": "Europe",
         "orientation": "v",
         "showlegend": true,
         "type": "scatter",
         "x": [
          "2000-2002",
          "2001-2003",
          "2002-2004",
          "2003-2005",
          "2004-2006",
          "2005-2007",
          "2006-2008",
          "2007-2009",
          "2008-2010",
          "2009-2011",
          "2010-2012",
          "2011-2013",
          "2012-2014",
          "2013-2015",
          "2014-2016",
          "2015-2017",
          "2016-2018",
          "2017-2019",
          "2018-2020"
         ],
         "xaxis": "x",
         "y": [
          "<2.5",
          "<2.5",
          "<2.5",
          "<2.5",
          "<2.5",
          "<2.5",
          "<2.5",
          "<2.5",
          "<2.5",
          "<2.5",
          "<2.5",
          "<2.5",
          "<2.5",
          "<2.5",
          "<2.5",
          "<2.5",
          "<2.5",
          "<2.5",
          "<2.5"
         ],
         "yaxis": "y"
        },
        {
         "hovertemplate": "Area=Eastern Europe<br>Year=%{x}<br>Value=%{y}<extra></extra>",
         "legendgroup": "Eastern Europe",
         "line": {
          "color": "#EF553B",
          "dash": "solid"
         },
         "marker": {
          "symbol": "circle"
         },
         "mode": "lines",
         "name": "Eastern Europe",
         "orientation": "v",
         "showlegend": true,
         "type": "scatter",
         "x": [
          "2000-2002",
          "2001-2003",
          "2002-2004",
          "2003-2005",
          "2004-2006",
          "2005-2007",
          "2006-2008",
          "2007-2009",
          "2008-2010",
          "2009-2011",
          "2010-2012",
          "2011-2013",
          "2012-2014",
          "2013-2015",
          "2014-2016",
          "2015-2017",
          "2016-2018",
          "2017-2019",
          "2018-2020"
         ],
         "xaxis": "x",
         "y": [
          "3",
          "2.6",
          "<2.5",
          "<2.5",
          "<2.5",
          "<2.5",
          "<2.5",
          "<2.5",
          "<2.5",
          "<2.5",
          "<2.5",
          "<2.5",
          "<2.5",
          "<2.5",
          "<2.5",
          "<2.5",
          "<2.5",
          "<2.5",
          "<2.5"
         ],
         "yaxis": "y"
        },
        {
         "hovertemplate": "Area=Northern Europe<br>Year=%{x}<br>Value=%{y}<extra></extra>",
         "legendgroup": "Northern Europe",
         "line": {
          "color": "#00cc96",
          "dash": "solid"
         },
         "marker": {
          "symbol": "circle"
         },
         "mode": "lines",
         "name": "Northern Europe",
         "orientation": "v",
         "showlegend": true,
         "type": "scatter",
         "x": [
          "2000-2002",
          "2001-2003",
          "2002-2004",
          "2003-2005",
          "2004-2006",
          "2005-2007",
          "2006-2008",
          "2007-2009",
          "2008-2010",
          "2009-2011",
          "2010-2012",
          "2011-2013",
          "2012-2014",
          "2013-2015",
          "2014-2016",
          "2015-2017",
          "2016-2018",
          "2017-2019",
          "2018-2020"
         ],
         "xaxis": "x",
         "y": [
          "<2.5",
          "<2.5",
          "<2.5",
          "<2.5",
          "<2.5",
          "<2.5",
          "<2.5",
          "<2.5",
          "<2.5",
          "<2.5",
          "<2.5",
          "<2.5",
          "<2.5",
          "<2.5",
          "<2.5",
          "<2.5",
          "<2.5",
          "<2.5",
          "<2.5"
         ],
         "yaxis": "y"
        },
        {
         "hovertemplate": "Area=Southern Europe<br>Year=%{x}<br>Value=%{y}<extra></extra>",
         "legendgroup": "Southern Europe",
         "line": {
          "color": "#ab63fa",
          "dash": "solid"
         },
         "marker": {
          "symbol": "circle"
         },
         "mode": "lines",
         "name": "Southern Europe",
         "orientation": "v",
         "showlegend": true,
         "type": "scatter",
         "x": [
          "2000-2002",
          "2001-2003",
          "2002-2004",
          "2003-2005",
          "2004-2006",
          "2005-2007",
          "2006-2008",
          "2007-2009",
          "2008-2010",
          "2009-2011",
          "2010-2012",
          "2011-2013",
          "2012-2014",
          "2013-2015",
          "2014-2016",
          "2015-2017",
          "2016-2018",
          "2017-2019",
          "2018-2020"
         ],
         "xaxis": "x",
         "y": [
          "<2.5",
          "<2.5",
          "<2.5",
          "<2.5",
          "<2.5",
          "<2.5",
          "<2.5",
          "<2.5",
          "<2.5",
          "<2.5",
          "<2.5",
          "<2.5",
          "<2.5",
          "<2.5",
          "<2.5",
          "<2.5",
          "<2.5",
          "<2.5",
          "<2.5"
         ],
         "yaxis": "y"
        },
        {
         "hovertemplate": "Area=Western Europe<br>Year=%{x}<br>Value=%{y}<extra></extra>",
         "legendgroup": "Western Europe",
         "line": {
          "color": "#FFA15A",
          "dash": "solid"
         },
         "marker": {
          "symbol": "circle"
         },
         "mode": "lines",
         "name": "Western Europe",
         "orientation": "v",
         "showlegend": true,
         "type": "scatter",
         "x": [
          "2000-2002",
          "2001-2003",
          "2002-2004",
          "2003-2005",
          "2004-2006",
          "2005-2007",
          "2006-2008",
          "2007-2009",
          "2008-2010",
          "2009-2011",
          "2010-2012",
          "2011-2013",
          "2012-2014",
          "2013-2015",
          "2014-2016",
          "2015-2017",
          "2016-2018",
          "2017-2019",
          "2018-2020"
         ],
         "xaxis": "x",
         "y": [
          "<2.5",
          "<2.5",
          "<2.5",
          "<2.5",
          "<2.5",
          "<2.5",
          "<2.5",
          "<2.5",
          "<2.5",
          "<2.5",
          "<2.5",
          "<2.5",
          "<2.5",
          "<2.5",
          "<2.5",
          "<2.5",
          "<2.5",
          "<2.5",
          "<2.5"
         ],
         "yaxis": "y"
        },
        {
         "hovertemplate": "Area=Latin America and the Caribbean<br>Year=%{x}<br>Value=%{y}<extra></extra>",
         "legendgroup": "Latin America and the Caribbean",
         "line": {
          "color": "#19d3f3",
          "dash": "solid"
         },
         "marker": {
          "symbol": "circle"
         },
         "mode": "lines",
         "name": "Latin America and the Caribbean",
         "orientation": "v",
         "showlegend": true,
         "type": "scatter",
         "x": [
          "2000-2002",
          "2001-2003",
          "2002-2004",
          "2003-2005",
          "2004-2006",
          "2005-2007",
          "2006-2008",
          "2007-2009",
          "2008-2010",
          "2009-2011",
          "2010-2012",
          "2011-2013",
          "2012-2014",
          "2013-2015",
          "2014-2016",
          "2015-2017",
          "2016-2018",
          "2017-2019",
          "2018-2020"
         ],
         "xaxis": "x",
         "y": [
          "10.8",
          "10.5",
          "10.3",
          "9.7",
          "9.3",
          "8.8",
          "8.3",
          "8",
          "7.5",
          "7.1",
          "6.5",
          "6.2",
          "5.8",
          "5.7",
          "6",
          "6.4",
          "6.7",
          "6.8",
          "7.7"
         ],
         "yaxis": "y"
        },
        {
         "hovertemplate": "Area=Central America<br>Year=%{x}<br>Value=%{y}<extra></extra>",
         "legendgroup": "Central America",
         "line": {
          "color": "#FF6692",
          "dash": "solid"
         },
         "marker": {
          "symbol": "circle"
         },
         "mode": "lines",
         "name": "Central America",
         "orientation": "v",
         "showlegend": true,
         "type": "scatter",
         "x": [
          "2000-2002",
          "2001-2003",
          "2002-2004",
          "2003-2005",
          "2004-2006",
          "2005-2007",
          "2006-2008",
          "2007-2009",
          "2008-2010",
          "2009-2011",
          "2010-2012",
          "2011-2013",
          "2012-2014",
          "2013-2015",
          "2014-2016",
          "2015-2017",
          "2016-2018",
          "2017-2019",
          "2018-2020"
         ],
         "xaxis": "x",
         "y": [
          "7.4",
          "7.3",
          "7.8",
          "8.1",
          "7.9",
          "7.5",
          "7.4",
          "7.6",
          "7.7",
          "7.5",
          "7.3",
          "7.2",
          "6.9",
          "7.1",
          "7.5",
          "7.8",
          "8",
          "8",
          "8.9"
         ],
         "yaxis": "y"
        },
        {
         "hovertemplate": "Area=Caribbean<br>Year=%{x}<br>Value=%{y}<extra></extra>",
         "legendgroup": "Caribbean",
         "line": {
          "color": "#B6E880",
          "dash": "solid"
         },
         "marker": {
          "symbol": "circle"
         },
         "mode": "lines",
         "name": "Caribbean",
         "orientation": "v",
         "showlegend": true,
         "type": "scatter",
         "x": [
          "2000-2002",
          "2001-2003",
          "2002-2004",
          "2003-2005",
          "2004-2006",
          "2005-2007",
          "2006-2008",
          "2007-2009",
          "2008-2010",
          "2009-2011",
          "2010-2012",
          "2011-2013",
          "2012-2014",
          "2013-2015",
          "2014-2016",
          "2015-2017",
          "2016-2018",
          "2017-2019",
          "2018-2020"
         ],
         "xaxis": "x",
         "y": [
          "18.9",
          "19.7",
          "20.1",
          "20.2",
          "19.2",
          "18.5",
          "18.4",
          "18.2",
          "17.5",
          "16.6",
          "16",
          "16",
          "15.7",
          "15.4",
          "15.2",
          "15.3",
          "15.6",
          "15.7",
          "16"
         ],
         "yaxis": "y"
        },
        {
         "hovertemplate": "Area=South America<br>Year=%{x}<br>Value=%{y}<extra></extra>",
         "legendgroup": "South America",
         "line": {
          "color": "#FF97FF",
          "dash": "solid"
         },
         "marker": {
          "symbol": "circle"
         },
         "mode": "lines",
         "name": "South America",
         "orientation": "v",
         "showlegend": true,
         "type": "scatter",
         "x": [
          "2000-2002",
          "2001-2003",
          "2002-2004",
          "2003-2005",
          "2004-2006",
          "2005-2007",
          "2006-2008",
          "2007-2009",
          "2008-2010",
          "2009-2011",
          "2010-2012",
          "2011-2013",
          "2012-2014",
          "2013-2015",
          "2014-2016",
          "2015-2017",
          "2016-2018",
          "2017-2019",
          "2018-2020"
         ],
         "xaxis": "x",
         "y": [
          "11.2",
          "10.7",
          "10.2",
          "9.3",
          "8.8",
          "8.3",
          "7.5",
          "7",
          "6.4",
          "5.9",
          "5.3",
          "4.8",
          "4.3",
          "4.1",
          "4.5",
          "4.9",
          "5.3",
          "5.5",
          "6.3"
         ],
         "yaxis": "y"
        },
        {
         "hovertemplate": "Area=Asia<br>Year=%{x}<br>Value=%{y}<extra></extra>",
         "legendgroup": "Asia",
         "line": {
          "color": "#FECB52",
          "dash": "solid"
         },
         "marker": {
          "symbol": "circle"
         },
         "mode": "lines",
         "name": "Asia",
         "orientation": "v",
         "showlegend": true,
         "type": "scatter",
         "x": [
          "2000-2002",
          "2001-2003",
          "2002-2004",
          "2003-2005",
          "2004-2006",
          "2005-2007",
          "2006-2008",
          "2007-2009",
          "2008-2010",
          "2009-2011",
          "2010-2012",
          "2011-2013",
          "2012-2014",
          "2013-2015",
          "2014-2016",
          "2015-2017",
          "2016-2018",
          "2017-2019",
          "2018-2020"
         ],
         "xaxis": "x",
         "y": [
          "14.5",
          "14.6",
          "14.6",
          "14.3",
          "13.7",
          "12.6",
          "11.5",
          "10.7",
          "10.1",
          "9.7",
          "9.3",
          "9",
          "8.8",
          "8.5",
          "8.3",
          "8",
          "7.8",
          "7.8",
          "8.2"
         ],
         "yaxis": "y"
        },
        {
         "hovertemplate": "Area=Central Asia<br>Year=%{x}<br>Value=%{y}<extra></extra>",
         "legendgroup": "Central Asia",
         "line": {
          "color": "#636efa",
          "dash": "solid"
         },
         "marker": {
          "symbol": "circle"
         },
         "mode": "lines",
         "name": "Central Asia",
         "orientation": "v",
         "showlegend": true,
         "type": "scatter",
         "x": [
          "2000-2002",
          "2001-2003",
          "2002-2004",
          "2003-2005",
          "2004-2006",
          "2005-2007",
          "2006-2008",
          "2007-2009",
          "2008-2010",
          "2009-2011",
          "2010-2012",
          "2011-2013",
          "2012-2014",
          "2013-2015",
          "2014-2016",
          "2015-2017",
          "2016-2018",
          "2017-2019",
          "2018-2020"
         ],
         "xaxis": "x",
         "y": [
          "13.4",
          "13.6",
          "13",
          "11.7",
          "10.8",
          "9.7",
          "9",
          "8.5",
          "7.1",
          "5.5",
          "3.9",
          "3.6",
          "3.3",
          "3.1",
          "3",
          "3.1",
          "3.2",
          "3.1",
          "3.2"
         ],
         "yaxis": "y"
        },
        {
         "hovertemplate": "Area=Eastern Asia<br>Year=%{x}<br>Value=%{y}<extra></extra>",
         "legendgroup": "Eastern Asia",
         "line": {
          "color": "#EF553B",
          "dash": "solid"
         },
         "marker": {
          "symbol": "circle"
         },
         "mode": "lines",
         "name": "Eastern Asia",
         "orientation": "v",
         "showlegend": true,
         "type": "scatter",
         "x": [
          "2000-2002",
          "2001-2003",
          "2002-2004",
          "2003-2005",
          "2004-2006",
          "2005-2007",
          "2006-2008",
          "2007-2009",
          "2008-2010",
          "2009-2011",
          "2010-2012",
          "2011-2013",
          "2012-2014",
          "2013-2015",
          "2014-2016",
          "2015-2017",
          "2016-2018",
          "2017-2019",
          "2018-2020"
         ],
         "xaxis": "x",
         "y": [
          "9.4",
          "8.9",
          "8.3",
          "7.6",
          "6.9",
          "6.1",
          "5.2",
          "4.3",
          "3.4",
          "2.7",
          "<2.5",
          "<2.5",
          "<2.5",
          "<2.5",
          "<2.5",
          "<2.5",
          "<2.5",
          "<2.5",
          "<2.5"
         ],
         "yaxis": "y"
        },
        {
         "hovertemplate": "Area=East Asia (excluding China)<br>Year=%{x}<br>Value=%{y}<extra></extra>",
         "legendgroup": "East Asia (excluding China)",
         "line": {
          "color": "#00cc96",
          "dash": "solid"
         },
         "marker": {
          "symbol": "circle"
         },
         "mode": "lines",
         "name": "East Asia (excluding China)",
         "orientation": "v",
         "showlegend": true,
         "type": "scatter",
         "x": [
          "2000-2002",
          "2001-2003",
          "2002-2004",
          "2003-2005",
          "2004-2006",
          "2005-2007",
          "2006-2008",
          "2007-2009",
          "2008-2010",
          "2009-2011",
          "2010-2012",
          "2011-2013",
          "2012-2014",
          "2013-2015",
          "2014-2016",
          "2015-2017",
          "2016-2018",
          "2017-2019",
          "2018-2020"
         ],
         "xaxis": "x",
         "y": [
          "5.5",
          "5.6",
          "5.4",
          "5.4",
          "5.6",
          "5.9",
          "6.2",
          "6.5",
          "6.8",
          "6.9",
          "6.7",
          "6.5",
          "6.2",
          "6.2",
          "6.1",
          "6.2",
          "6.3",
          "6.2",
          "6.2"
         ],
         "yaxis": "y"
        },
        {
         "hovertemplate": "Area=Southern Asia<br>Year=%{x}<br>Value=%{y}<extra></extra>",
         "legendgroup": "Southern Asia",
         "line": {
          "color": "#ab63fa",
          "dash": "solid"
         },
         "marker": {
          "symbol": "circle"
         },
         "mode": "lines",
         "name": "Southern Asia",
         "orientation": "v",
         "showlegend": true,
         "type": "scatter",
         "x": [
          "2000-2002",
          "2001-2003",
          "2002-2004",
          "2003-2005",
          "2004-2006",
          "2005-2007",
          "2006-2008",
          "2007-2009",
          "2008-2010",
          "2009-2011",
          "2010-2012",
          "2011-2013",
          "2012-2014",
          "2013-2015",
          "2014-2016",
          "2015-2017",
          "2016-2018",
          "2017-2019",
          "2018-2020"
         ],
         "xaxis": "x",
         "y": [
          "18.4",
          "19.5",
          "20.3",
          "20.4",
          "19.9",
          "18.3",
          "16.6",
          "15.8",
          "15.7",
          "15.5",
          "15.2",
          "14.8",
          "14.7",
          "14.3",
          "13.9",
          "13.4",
          "13.1",
          "13.1",
          "14.1"
         ],
         "yaxis": "y"
        },
        {
         "hovertemplate": "Area=South Asia (excluding India)<br>Year=%{x}<br>Value=%{y}<extra></extra>",
         "legendgroup": "South Asia (excluding India)",
         "line": {
          "color": "#FFA15A",
          "dash": "solid"
         },
         "marker": {
          "symbol": "circle"
         },
         "mode": "lines",
         "name": "South Asia (excluding India)",
         "orientation": "v",
         "showlegend": true,
         "type": "scatter",
         "x": [
          "2000-2002",
          "2001-2003",
          "2002-2004",
          "2003-2005",
          "2004-2006",
          "2005-2007",
          "2006-2008",
          "2007-2009",
          "2008-2010",
          "2009-2011",
          "2010-2012",
          "2011-2013",
          "2012-2014",
          "2013-2015",
          "2014-2016",
          "2015-2017",
          "2016-2018",
          "2017-2019",
          "2018-2020"
         ],
         "xaxis": "x",
         "y": [
          "18.2",
          "18",
          "17.3",
          "16.1",
          "15.4",
          "14.7",
          "14.3",
          "13.8",
          "14",
          "14.1",
          "14.3",
          "14.4",
          "13.6",
          "12.6",
          "11.8",
          "11.5",
          "11.2",
          "10.9",
          "11"
         ],
         "yaxis": "y"
        },
        {
         "hovertemplate": "Area=South-eastern Asia<br>Year=%{x}<br>Value=%{y}<extra></extra>",
         "legendgroup": "South-eastern Asia",
         "line": {
          "color": "#19d3f3",
          "dash": "solid"
         },
         "marker": {
          "symbol": "circle"
         },
         "mode": "lines",
         "name": "South-eastern Asia",
         "orientation": "v",
         "showlegend": true,
         "type": "scatter",
         "x": [
          "2000-2002",
          "2001-2003",
          "2002-2004",
          "2003-2005",
          "2004-2006",
          "2005-2007",
          "2006-2008",
          "2007-2009",
          "2008-2010",
          "2009-2011",
          "2010-2012",
          "2011-2013",
          "2012-2014",
          "2013-2015",
          "2014-2016",
          "2015-2017",
          "2016-2018",
          "2017-2019",
          "2018-2020"
         ],
         "xaxis": "x",
         "y": [
          "20",
          "19.3",
          "18.3",
          "17.7",
          "17.1",
          "16.3",
          "15.4",
          "14.5",
          "13.2",
          "11.9",
          "10.6",
          "9.9",
          "9.3",
          "8.8",
          "8.2",
          "7.8",
          "7.4",
          "7.1",
          "7.1"
         ],
         "yaxis": "y"
        },
        {
         "hovertemplate": "Area=Western Asia<br>Year=%{x}<br>Value=%{y}<extra></extra>",
         "legendgroup": "Western Asia",
         "line": {
          "color": "#FF6692",
          "dash": "solid"
         },
         "marker": {
          "symbol": "circle"
         },
         "mode": "lines",
         "name": "Western Asia",
         "orientation": "v",
         "showlegend": true,
         "type": "scatter",
         "x": [
          "2000-2002",
          "2001-2003",
          "2002-2004",
          "2003-2005",
          "2004-2006",
          "2005-2007",
          "2006-2008",
          "2007-2009",
          "2008-2010",
          "2009-2011",
          "2010-2012",
          "2011-2013",
          "2012-2014",
          "2013-2015",
          "2014-2016",
          "2015-2017",
          "2016-2018",
          "2017-2019",
          "2018-2020"
         ],
         "xaxis": "x",
         "y": [
          "9.3",
          "9.3",
          "9.3",
          "9.2",
          "8.9",
          "8.7",
          "8.7",
          "8.6",
          "8.8",
          "10.5",
          "12.2",
          "13.6",
          "13.4",
          "13.6",
          "14.1",
          "14.6",
          "14.6",
          "14.4",
          "14.6"
         ],
         "yaxis": "y"
        },
        {
         "hovertemplate": "Area=Central Asia and Southern Asia<br>Year=%{x}<br>Value=%{y}<extra></extra>",
         "legendgroup": "Central Asia and Southern Asia",
         "line": {
          "color": "#B6E880",
          "dash": "solid"
         },
         "marker": {
          "symbol": "circle"
         },
         "mode": "lines",
         "name": "Central Asia and Southern Asia",
         "orientation": "v",
         "showlegend": true,
         "type": "scatter",
         "x": [
          "2000-2002",
          "2001-2003",
          "2002-2004",
          "2003-2005",
          "2004-2006",
          "2005-2007",
          "2006-2008",
          "2007-2009",
          "2008-2010",
          "2009-2011",
          "2010-2012",
          "2011-2013",
          "2012-2014",
          "2013-2015",
          "2014-2016",
          "2015-2017",
          "2016-2018",
          "2017-2019",
          "2018-2020"
         ],
         "xaxis": "x",
         "y": [
          "18.2",
          "19.3",
          "20.1",
          "20.1",
          "19.6",
          "18",
          "16.3",
          "15.5",
          "15.4",
          "15.1",
          "14.8",
          "14.4",
          "14.3",
          "13.9",
          "13.5",
          "13",
          "12.7",
          "12.8",
          "13.7"
         ],
         "yaxis": "y"
        },
        {
         "hovertemplate": "Area=Eastern Asia and South-eastern Asia<br>Year=%{x}<br>Value=%{y}<extra></extra>",
         "legendgroup": "Eastern Asia and South-eastern Asia",
         "line": {
          "color": "#FF97FF",
          "dash": "solid"
         },
         "marker": {
          "symbol": "circle"
         },
         "mode": "lines",
         "name": "Eastern Asia and South-eastern Asia",
         "orientation": "v",
         "showlegend": true,
         "type": "scatter",
         "x": [
          "2000-2002",
          "2001-2003",
          "2002-2004",
          "2003-2005",
          "2004-2006",
          "2005-2007",
          "2006-2008",
          "2007-2009",
          "2008-2010",
          "2009-2011",
          "2010-2012",
          "2011-2013",
          "2012-2014",
          "2013-2015",
          "2014-2016",
          "2015-2017",
          "2016-2018",
          "2017-2019",
          "2018-2020"
         ],
         "xaxis": "x",
         "y": [
          "12.2",
          "11.6",
          "10.9",
          "10.2",
          "9.6",
          "8.8",
          "7.9",
          "7.1",
          "6.1",
          "5.2",
          "4.4",
          "4.1",
          "3.8",
          "3.5",
          "3.3",
          "3.1",
          "2.9",
          "2.8",
          "2.8"
         ],
         "yaxis": "y"
        },
        {
         "hovertemplate": "Area=Western Asia and Northern Africa<br>Year=%{x}<br>Value=%{y}<extra></extra>",
         "legendgroup": "Western Asia and Northern Africa",
         "line": {
          "color": "#FECB52",
          "dash": "solid"
         },
         "marker": {
          "symbol": "circle"
         },
         "mode": "lines",
         "name": "Western Asia and Northern Africa",
         "orientation": "v",
         "showlegend": true,
         "type": "scatter",
         "x": [
          "2000-2002",
          "2001-2003",
          "2002-2004",
          "2003-2005",
          "2004-2006",
          "2005-2007",
          "2006-2008",
          "2007-2009",
          "2008-2010",
          "2009-2011",
          "2010-2012",
          "2011-2013",
          "2012-2014",
          "2013-2015",
          "2014-2016",
          "2015-2017",
          "2016-2018",
          "2017-2019",
          "2018-2020"
         ],
         "xaxis": "x",
         "y": [
          "9",
          "8.8",
          "8.8",
          "8.9",
          "8.6",
          "8.3",
          "8.1",
          "8",
          "8.1",
          "9",
          "9.9",
          "10.6",
          "10.2",
          "10.2",
          "10.4",
          "10.7",
          "10.8",
          "10.7",
          "10.9"
         ],
         "yaxis": "y"
        },
        {
         "hovertemplate": "Area=Oceania<br>Year=%{x}<br>Value=%{y}<extra></extra>",
         "legendgroup": "Oceania",
         "line": {
          "color": "#636efa",
          "dash": "solid"
         },
         "marker": {
          "symbol": "circle"
         },
         "mode": "lines",
         "name": "Oceania",
         "orientation": "v",
         "showlegend": true,
         "type": "scatter",
         "x": [
          "2000-2002",
          "2001-2003",
          "2002-2004",
          "2003-2005",
          "2004-2006",
          "2005-2007",
          "2006-2008",
          "2007-2009",
          "2008-2010",
          "2009-2011",
          "2010-2012",
          "2011-2013",
          "2012-2014",
          "2013-2015",
          "2014-2016",
          "2015-2017",
          "2016-2018",
          "2017-2019",
          "2018-2020"
         ],
         "xaxis": "x",
         "y": [
          "6.6",
          "6.6",
          "6.8",
          "6.9",
          "6.7",
          "6.6",
          "6.4",
          "6.4",
          "6",
          "5.6",
          "5.3",
          "5.4",
          "5.7",
          "5.9",
          "6.1",
          "6.2",
          "6.2",
          "6.2",
          "6.2"
         ],
         "yaxis": "y"
        },
        {
         "hovertemplate": "Area=Australia and New Zealand<br>Year=%{x}<br>Value=%{y}<extra></extra>",
         "legendgroup": "Australia and New Zealand",
         "line": {
          "color": "#EF553B",
          "dash": "solid"
         },
         "marker": {
          "symbol": "circle"
         },
         "mode": "lines",
         "name": "Australia and New Zealand",
         "orientation": "v",
         "showlegend": true,
         "type": "scatter",
         "x": [
          "2000-2002",
          "2001-2003",
          "2002-2004",
          "2003-2005",
          "2004-2006",
          "2005-2007",
          "2006-2008",
          "2007-2009",
          "2008-2010",
          "2009-2011",
          "2010-2012",
          "2011-2013",
          "2012-2014",
          "2013-2015",
          "2014-2016",
          "2015-2017",
          "2016-2018",
          "2017-2019",
          "2018-2020"
         ],
         "xaxis": "x",
         "y": [
          "<2.5",
          "<2.5",
          "<2.5",
          "<2.5",
          "<2.5",
          "<2.5",
          "<2.5",
          "<2.5",
          "<2.5",
          "<2.5",
          "<2.5",
          "<2.5",
          "<2.5",
          "<2.5",
          "<2.5",
          "<2.5",
          "<2.5",
          "<2.5",
          "<2.5"
         ],
         "yaxis": "y"
        },
        {
         "hovertemplate": "Area=Melanesia<br>Year=%{x}<br>Value=%{y}<extra></extra>",
         "legendgroup": "Melanesia",
         "line": {
          "color": "#00cc96",
          "dash": "solid"
         },
         "marker": {
          "symbol": "circle"
         },
         "mode": "lines",
         "name": "Melanesia",
         "orientation": "v",
         "showlegend": true,
         "type": "scatter",
         "x": [
          "2000-2002",
          "2001-2003",
          "2002-2004",
          "2003-2005",
          "2004-2006",
          "2005-2007",
          "2006-2008",
          "2007-2009",
          "2008-2010",
          "2009-2011",
          "2010-2012",
          "2011-2013",
          "2012-2014",
          "2013-2015",
          "2014-2016",
          "2015-2017",
          "2016-2018",
          "2017-2019",
          "2018-2020"
         ],
         "xaxis": "x",
         "y": [
          "22.2",
          "22.8",
          "23.3",
          "24",
          "23.2",
          "23.1",
          "22.6",
          "23",
          "21.1",
          "19.6",
          "18.4",
          "18.7",
          "20",
          "21",
          "22.1",
          "22.2",
          "22.2",
          "21.9",
          "21.7"
         ],
         "yaxis": "y"
        },
        {
         "hovertemplate": "Area=Micronesia<br>Year=%{x}<br>Value=%{y}<extra></extra>",
         "legendgroup": "Micronesia",
         "line": {
          "color": "#ab63fa",
          "dash": "solid"
         },
         "marker": {
          "symbol": "circle"
         },
         "mode": "lines",
         "name": "Micronesia",
         "orientation": "v",
         "showlegend": true,
         "type": "scatter",
         "x": [
          "2000-2002",
          "2001-2003",
          "2002-2004",
          "2003-2005",
          "2004-2006",
          "2005-2007",
          "2006-2008",
          "2007-2009",
          "2008-2010",
          "2009-2011",
          "2010-2012",
          "2011-2013",
          "2012-2014",
          "2013-2015",
          "2014-2016",
          "2015-2017",
          "2016-2018",
          "2017-2019",
          "2018-2020"
         ],
         "xaxis": "x",
         "y": [
          null,
          null,
          null,
          null,
          null,
          null,
          null,
          null,
          null,
          null,
          null,
          null,
          null,
          null,
          null,
          null,
          null,
          null,
          null
         ],
         "yaxis": "y"
        },
        {
         "hovertemplate": "Area=Polynesia<br>Year=%{x}<br>Value=%{y}<extra></extra>",
         "legendgroup": "Polynesia",
         "line": {
          "color": "#FFA15A",
          "dash": "solid"
         },
         "marker": {
          "symbol": "circle"
         },
         "mode": "lines",
         "name": "Polynesia",
         "orientation": "v",
         "showlegend": true,
         "type": "scatter",
         "x": [
          "2000-2002",
          "2001-2003",
          "2002-2004",
          "2003-2005",
          "2004-2006",
          "2005-2007",
          "2006-2008",
          "2007-2009",
          "2008-2010",
          "2009-2011",
          "2010-2012",
          "2011-2013",
          "2012-2014",
          "2013-2015",
          "2014-2016",
          "2015-2017",
          "2016-2018",
          "2017-2019",
          "2018-2020"
         ],
         "xaxis": "x",
         "y": [
          "3.9",
          "3.8",
          "3.7",
          "3.6",
          "3.6",
          "3.8",
          "3.9",
          "3.9",
          "3.7",
          "3.8",
          "3.6",
          "3.5",
          "3.4",
          "3.7",
          "4",
          "4.2",
          "4.3",
          "4.2",
          "4.1"
         ],
         "yaxis": "y"
        },
        {
         "hovertemplate": "Area=Least Developed Countries<br>Year=%{x}<br>Value=%{y}<extra></extra>",
         "legendgroup": "Least Developed Countries",
         "line": {
          "color": "#19d3f3",
          "dash": "solid"
         },
         "marker": {
          "symbol": "circle"
         },
         "mode": "lines",
         "name": "Least Developed Countries",
         "orientation": "v",
         "showlegend": true,
         "type": "scatter",
         "x": [
          "2000-2002",
          "2001-2003",
          "2002-2004",
          "2003-2005",
          "2004-2006",
          "2005-2007",
          "2006-2008",
          "2007-2009",
          "2008-2010",
          "2009-2011",
          "2010-2012",
          "2011-2013",
          "2012-2014",
          "2013-2015",
          "2014-2016",
          "2015-2017",
          "2016-2018",
          "2017-2019",
          "2018-2020"
         ],
         "xaxis": "x",
         "y": [
          "32.5",
          "31.5",
          "30.6",
          "29.6",
          "28.5",
          "27.3",
          "26.5",
          "25.6",
          "24.5",
          "23.7",
          "23.2",
          "23.3",
          "22.5",
          "21.9",
          "21.4",
          "21.4",
          "21.5",
          "21.3",
          "22"
         ],
         "yaxis": "y"
        },
        {
         "hovertemplate": "Area=Land Locked Developing Countries<br>Year=%{x}<br>Value=%{y}<extra></extra>",
         "legendgroup": "Land Locked Developing Countries",
         "line": {
          "color": "#FF6692",
          "dash": "solid"
         },
         "marker": {
          "symbol": "circle"
         },
         "mode": "lines",
         "name": "Land Locked Developing Countries",
         "orientation": "v",
         "showlegend": true,
         "type": "scatter",
         "x": [
          "2000-2002",
          "2001-2003",
          "2002-2004",
          "2003-2005",
          "2004-2006",
          "2005-2007",
          "2006-2008",
          "2007-2009",
          "2008-2010",
          "2009-2011",
          "2010-2012",
          "2011-2013",
          "2012-2014",
          "2013-2015",
          "2014-2016",
          "2015-2017",
          "2016-2018",
          "2017-2019",
          "2018-2020"
         ],
         "xaxis": "x",
         "y": [
          "31.9",
          "30.7",
          "29.6",
          "28",
          "26.8",
          "25.4",
          "24.6",
          "23.6",
          "21.7",
          "20.5",
          "19.5",
          "19.5",
          "18.4",
          "17.1",
          "16.1",
          "15.9",
          "16.2",
          "16.4",
          "17.5"
         ],
         "yaxis": "y"
        },
        {
         "hovertemplate": "Area=Small Island Developing States<br>Year=%{x}<br>Value=%{y}<extra></extra>",
         "legendgroup": "Small Island Developing States",
         "line": {
          "color": "#B6E880",
          "dash": "solid"
         },
         "marker": {
          "symbol": "circle"
         },
         "mode": "lines",
         "name": "Small Island Developing States",
         "orientation": "v",
         "showlegend": true,
         "type": "scatter",
         "x": [
          "2000-2002",
          "2001-2003",
          "2002-2004",
          "2003-2005",
          "2004-2006",
          "2005-2007",
          "2006-2008",
          "2007-2009",
          "2008-2010",
          "2009-2011",
          "2010-2012",
          "2011-2013",
          "2012-2014",
          "2013-2015",
          "2014-2016",
          "2015-2017",
          "2016-2018",
          "2017-2019",
          "2018-2020"
         ],
         "xaxis": "x",
         "y": [
          "18.4",
          "18.8",
          "19",
          "19",
          "18.2",
          "17.6",
          "17.4",
          "17.3",
          "16.4",
          "15.5",
          "14.8",
          "14.9",
          "14.8",
          "14.7",
          "14.7",
          "14.8",
          "15",
          "15",
          "15.2"
         ],
         "yaxis": "y"
        },
        {
         "hovertemplate": "Area=Low Income Food Deficit Countries<br>Year=%{x}<br>Value=%{y}<extra></extra>",
         "legendgroup": "Low Income Food Deficit Countries",
         "line": {
          "color": "#FF97FF",
          "dash": "solid"
         },
         "marker": {
          "symbol": "circle"
         },
         "mode": "lines",
         "name": "Low Income Food Deficit Countries",
         "orientation": "v",
         "showlegend": true,
         "type": "scatter",
         "x": [
          "2000-2002",
          "2001-2003",
          "2002-2004",
          "2003-2005",
          "2004-2006",
          "2005-2007",
          "2006-2008",
          "2007-2009",
          "2008-2010",
          "2009-2011",
          "2010-2012",
          "2011-2013",
          "2012-2014",
          "2013-2015",
          "2014-2016",
          "2015-2017",
          "2016-2018",
          "2017-2019",
          "2018-2020"
         ],
         "xaxis": "x",
         "y": [
          "22.9",
          "23.5",
          "24",
          "23.9",
          "23.3",
          "21.8",
          "20.4",
          "19.6",
          "19.1",
          "18.8",
          "18.5",
          "18.4",
          "18.1",
          "17.7",
          "17.4",
          "17.2",
          "17.1",
          "17.1",
          "18"
         ],
         "yaxis": "y"
        },
        {
         "hovertemplate": "Area=Low income economies<br>Year=%{x}<br>Value=%{y}<extra></extra>",
         "legendgroup": "Low income economies",
         "line": {
          "color": "#FECB52",
          "dash": "solid"
         },
         "marker": {
          "symbol": "circle"
         },
         "mode": "lines",
         "name": "Low income economies",
         "orientation": "v",
         "showlegend": true,
         "type": "scatter",
         "x": [
          "2000-2002",
          "2001-2003",
          "2002-2004",
          "2003-2005",
          "2004-2006",
          "2005-2007",
          "2006-2008",
          "2007-2009",
          "2008-2010",
          "2009-2011",
          "2010-2012",
          "2011-2013",
          "2012-2014",
          "2013-2015",
          "2014-2016",
          "2015-2017",
          "2016-2018",
          "2017-2019",
          "2018-2020"
         ],
         "xaxis": "x",
         "y": [
          "36.1",
          "35.2",
          "34.4",
          "33.5",
          "32.5",
          "31.6",
          "30.9",
          "30.1",
          "28.9",
          "28.7",
          "28.7",
          "29.4",
          "28.4",
          "27.8",
          "27.4",
          "27.5",
          "27.9",
          "27.9",
          "28.9"
         ],
         "yaxis": "y"
        },
        {
         "hovertemplate": "Area=Lower-middle-income economies<br>Year=%{x}<br>Value=%{y}<extra></extra>",
         "legendgroup": "Lower-middle-income economies",
         "line": {
          "color": "#636efa",
          "dash": "solid"
         },
         "marker": {
          "symbol": "circle"
         },
         "mode": "lines",
         "name": "Lower-middle-income economies",
         "orientation": "v",
         "showlegend": true,
         "type": "scatter",
         "x": [
          "2000-2002",
          "2001-2003",
          "2002-2004",
          "2003-2005",
          "2004-2006",
          "2005-2007",
          "2006-2008",
          "2007-2009",
          "2008-2010",
          "2009-2011",
          "2010-2012",
          "2011-2013",
          "2012-2014",
          "2013-2015",
          "2014-2016",
          "2015-2017",
          "2016-2018",
          "2017-2019",
          "2018-2020"
         ],
         "xaxis": "x",
         "y": [
          "18.4",
          "19",
          "19.4",
          "19.2",
          "18.5",
          "17.1",
          "15.7",
          "15.1",
          "14.7",
          "14.4",
          "14",
          "13.6",
          "13.4",
          "13.1",
          "12.7",
          "12.4",
          "12.1",
          "12.1",
          "13"
         ],
         "yaxis": "y"
        },
        {
         "hovertemplate": "Area=High-income economies<br>Year=%{x}<br>Value=%{y}<extra></extra>",
         "legendgroup": "High-income economies",
         "line": {
          "color": "#EF553B",
          "dash": "solid"
         },
         "marker": {
          "symbol": "circle"
         },
         "mode": "lines",
         "name": "High-income economies",
         "orientation": "v",
         "showlegend": true,
         "type": "scatter",
         "x": [
          "2000-2002",
          "2001-2003",
          "2002-2004",
          "2003-2005",
          "2004-2006",
          "2005-2007",
          "2006-2008",
          "2007-2009",
          "2008-2010",
          "2009-2011",
          "2010-2012",
          "2011-2013",
          "2012-2014",
          "2013-2015",
          "2014-2016",
          "2015-2017",
          "2016-2018",
          "2017-2019",
          "2018-2020"
         ],
         "xaxis": "x",
         "y": [
          "<2.5",
          "<2.5",
          "<2.5",
          "<2.5",
          "<2.5",
          "<2.5",
          "<2.5",
          "<2.5",
          "<2.5",
          "<2.5",
          "<2.5",
          "<2.5",
          "<2.5",
          "<2.5",
          "<2.5",
          "<2.5",
          "<2.5",
          "<2.5",
          "<2.5"
         ],
         "yaxis": "y"
        },
        {
         "hovertemplate": "Area=Upper-middle-income economies<br>Year=%{x}<br>Value=%{y}<extra></extra>",
         "legendgroup": "Upper-middle-income economies",
         "line": {
          "color": "#00cc96",
          "dash": "solid"
         },
         "marker": {
          "symbol": "circle"
         },
         "mode": "lines",
         "name": "Upper-middle-income economies",
         "orientation": "v",
         "showlegend": true,
         "type": "scatter",
         "x": [
          "2000-2002",
          "2001-2003",
          "2002-2004",
          "2003-2005",
          "2004-2006",
          "2005-2007",
          "2006-2008",
          "2007-2009",
          "2008-2010",
          "2009-2011",
          "2010-2012",
          "2011-2013",
          "2012-2014",
          "2013-2015",
          "2014-2016",
          "2015-2017",
          "2016-2018",
          "2017-2019",
          "2018-2020"
         ],
         "xaxis": "x",
         "y": [
          "10.1",
          "9.7",
          "9.1",
          "8.6",
          "8",
          "7.3",
          "6.6",
          "5.9",
          "5.1",
          "4.5",
          "3.9",
          "3.6",
          "3.3",
          "3.2",
          "3.1",
          "3.1",
          "3.2",
          "3.2",
          "3.4"
         ],
         "yaxis": "y"
        }
       ],
       "layout": {
        "legend": {
         "title": {
          "text": "Area"
         },
         "tracegroupgap": 0
        },
        "margin": {
         "t": 60
        },
        "template": {
         "data": {
          "bar": [
           {
            "error_x": {
             "color": "#2a3f5f"
            },
            "error_y": {
             "color": "#2a3f5f"
            },
            "marker": {
             "line": {
              "color": "#E5ECF6",
              "width": 0.5
             },
             "pattern": {
              "fillmode": "overlay",
              "size": 10,
              "solidity": 0.2
             }
            },
            "type": "bar"
           }
          ],
          "barpolar": [
           {
            "marker": {
             "line": {
              "color": "#E5ECF6",
              "width": 0.5
             },
             "pattern": {
              "fillmode": "overlay",
              "size": 10,
              "solidity": 0.2
             }
            },
            "type": "barpolar"
           }
          ],
          "carpet": [
           {
            "aaxis": {
             "endlinecolor": "#2a3f5f",
             "gridcolor": "white",
             "linecolor": "white",
             "minorgridcolor": "white",
             "startlinecolor": "#2a3f5f"
            },
            "baxis": {
             "endlinecolor": "#2a3f5f",
             "gridcolor": "white",
             "linecolor": "white",
             "minorgridcolor": "white",
             "startlinecolor": "#2a3f5f"
            },
            "type": "carpet"
           }
          ],
          "choropleth": [
           {
            "colorbar": {
             "outlinewidth": 0,
             "ticks": ""
            },
            "type": "choropleth"
           }
          ],
          "contour": [
           {
            "colorbar": {
             "outlinewidth": 0,
             "ticks": ""
            },
            "colorscale": [
             [
              0,
              "#0d0887"
             ],
             [
              0.1111111111111111,
              "#46039f"
             ],
             [
              0.2222222222222222,
              "#7201a8"
             ],
             [
              0.3333333333333333,
              "#9c179e"
             ],
             [
              0.4444444444444444,
              "#bd3786"
             ],
             [
              0.5555555555555556,
              "#d8576b"
             ],
             [
              0.6666666666666666,
              "#ed7953"
             ],
             [
              0.7777777777777778,
              "#fb9f3a"
             ],
             [
              0.8888888888888888,
              "#fdca26"
             ],
             [
              1,
              "#f0f921"
             ]
            ],
            "type": "contour"
           }
          ],
          "contourcarpet": [
           {
            "colorbar": {
             "outlinewidth": 0,
             "ticks": ""
            },
            "type": "contourcarpet"
           }
          ],
          "heatmap": [
           {
            "colorbar": {
             "outlinewidth": 0,
             "ticks": ""
            },
            "colorscale": [
             [
              0,
              "#0d0887"
             ],
             [
              0.1111111111111111,
              "#46039f"
             ],
             [
              0.2222222222222222,
              "#7201a8"
             ],
             [
              0.3333333333333333,
              "#9c179e"
             ],
             [
              0.4444444444444444,
              "#bd3786"
             ],
             [
              0.5555555555555556,
              "#d8576b"
             ],
             [
              0.6666666666666666,
              "#ed7953"
             ],
             [
              0.7777777777777778,
              "#fb9f3a"
             ],
             [
              0.8888888888888888,
              "#fdca26"
             ],
             [
              1,
              "#f0f921"
             ]
            ],
            "type": "heatmap"
           }
          ],
          "heatmapgl": [
           {
            "colorbar": {
             "outlinewidth": 0,
             "ticks": ""
            },
            "colorscale": [
             [
              0,
              "#0d0887"
             ],
             [
              0.1111111111111111,
              "#46039f"
             ],
             [
              0.2222222222222222,
              "#7201a8"
             ],
             [
              0.3333333333333333,
              "#9c179e"
             ],
             [
              0.4444444444444444,
              "#bd3786"
             ],
             [
              0.5555555555555556,
              "#d8576b"
             ],
             [
              0.6666666666666666,
              "#ed7953"
             ],
             [
              0.7777777777777778,
              "#fb9f3a"
             ],
             [
              0.8888888888888888,
              "#fdca26"
             ],
             [
              1,
              "#f0f921"
             ]
            ],
            "type": "heatmapgl"
           }
          ],
          "histogram": [
           {
            "marker": {
             "pattern": {
              "fillmode": "overlay",
              "size": 10,
              "solidity": 0.2
             }
            },
            "type": "histogram"
           }
          ],
          "histogram2d": [
           {
            "colorbar": {
             "outlinewidth": 0,
             "ticks": ""
            },
            "colorscale": [
             [
              0,
              "#0d0887"
             ],
             [
              0.1111111111111111,
              "#46039f"
             ],
             [
              0.2222222222222222,
              "#7201a8"
             ],
             [
              0.3333333333333333,
              "#9c179e"
             ],
             [
              0.4444444444444444,
              "#bd3786"
             ],
             [
              0.5555555555555556,
              "#d8576b"
             ],
             [
              0.6666666666666666,
              "#ed7953"
             ],
             [
              0.7777777777777778,
              "#fb9f3a"
             ],
             [
              0.8888888888888888,
              "#fdca26"
             ],
             [
              1,
              "#f0f921"
             ]
            ],
            "type": "histogram2d"
           }
          ],
          "histogram2dcontour": [
           {
            "colorbar": {
             "outlinewidth": 0,
             "ticks": ""
            },
            "colorscale": [
             [
              0,
              "#0d0887"
             ],
             [
              0.1111111111111111,
              "#46039f"
             ],
             [
              0.2222222222222222,
              "#7201a8"
             ],
             [
              0.3333333333333333,
              "#9c179e"
             ],
             [
              0.4444444444444444,
              "#bd3786"
             ],
             [
              0.5555555555555556,
              "#d8576b"
             ],
             [
              0.6666666666666666,
              "#ed7953"
             ],
             [
              0.7777777777777778,
              "#fb9f3a"
             ],
             [
              0.8888888888888888,
              "#fdca26"
             ],
             [
              1,
              "#f0f921"
             ]
            ],
            "type": "histogram2dcontour"
           }
          ],
          "mesh3d": [
           {
            "colorbar": {
             "outlinewidth": 0,
             "ticks": ""
            },
            "type": "mesh3d"
           }
          ],
          "parcoords": [
           {
            "line": {
             "colorbar": {
              "outlinewidth": 0,
              "ticks": ""
             }
            },
            "type": "parcoords"
           }
          ],
          "pie": [
           {
            "automargin": true,
            "type": "pie"
           }
          ],
          "scatter": [
           {
            "marker": {
             "colorbar": {
              "outlinewidth": 0,
              "ticks": ""
             }
            },
            "type": "scatter"
           }
          ],
          "scatter3d": [
           {
            "line": {
             "colorbar": {
              "outlinewidth": 0,
              "ticks": ""
             }
            },
            "marker": {
             "colorbar": {
              "outlinewidth": 0,
              "ticks": ""
             }
            },
            "type": "scatter3d"
           }
          ],
          "scattercarpet": [
           {
            "marker": {
             "colorbar": {
              "outlinewidth": 0,
              "ticks": ""
             }
            },
            "type": "scattercarpet"
           }
          ],
          "scattergeo": [
           {
            "marker": {
             "colorbar": {
              "outlinewidth": 0,
              "ticks": ""
             }
            },
            "type": "scattergeo"
           }
          ],
          "scattergl": [
           {
            "marker": {
             "colorbar": {
              "outlinewidth": 0,
              "ticks": ""
             }
            },
            "type": "scattergl"
           }
          ],
          "scattermapbox": [
           {
            "marker": {
             "colorbar": {
              "outlinewidth": 0,
              "ticks": ""
             }
            },
            "type": "scattermapbox"
           }
          ],
          "scatterpolar": [
           {
            "marker": {
             "colorbar": {
              "outlinewidth": 0,
              "ticks": ""
             }
            },
            "type": "scatterpolar"
           }
          ],
          "scatterpolargl": [
           {
            "marker": {
             "colorbar": {
              "outlinewidth": 0,
              "ticks": ""
             }
            },
            "type": "scatterpolargl"
           }
          ],
          "scatterternary": [
           {
            "marker": {
             "colorbar": {
              "outlinewidth": 0,
              "ticks": ""
             }
            },
            "type": "scatterternary"
           }
          ],
          "surface": [
           {
            "colorbar": {
             "outlinewidth": 0,
             "ticks": ""
            },
            "colorscale": [
             [
              0,
              "#0d0887"
             ],
             [
              0.1111111111111111,
              "#46039f"
             ],
             [
              0.2222222222222222,
              "#7201a8"
             ],
             [
              0.3333333333333333,
              "#9c179e"
             ],
             [
              0.4444444444444444,
              "#bd3786"
             ],
             [
              0.5555555555555556,
              "#d8576b"
             ],
             [
              0.6666666666666666,
              "#ed7953"
             ],
             [
              0.7777777777777778,
              "#fb9f3a"
             ],
             [
              0.8888888888888888,
              "#fdca26"
             ],
             [
              1,
              "#f0f921"
             ]
            ],
            "type": "surface"
           }
          ],
          "table": [
           {
            "cells": {
             "fill": {
              "color": "#EBF0F8"
             },
             "line": {
              "color": "white"
             }
            },
            "header": {
             "fill": {
              "color": "#C8D4E3"
             },
             "line": {
              "color": "white"
             }
            },
            "type": "table"
           }
          ]
         },
         "layout": {
          "annotationdefaults": {
           "arrowcolor": "#2a3f5f",
           "arrowhead": 0,
           "arrowwidth": 1
          },
          "autotypenumbers": "strict",
          "coloraxis": {
           "colorbar": {
            "outlinewidth": 0,
            "ticks": ""
           }
          },
          "colorscale": {
           "diverging": [
            [
             0,
             "#8e0152"
            ],
            [
             0.1,
             "#c51b7d"
            ],
            [
             0.2,
             "#de77ae"
            ],
            [
             0.3,
             "#f1b6da"
            ],
            [
             0.4,
             "#fde0ef"
            ],
            [
             0.5,
             "#f7f7f7"
            ],
            [
             0.6,
             "#e6f5d0"
            ],
            [
             0.7,
             "#b8e186"
            ],
            [
             0.8,
             "#7fbc41"
            ],
            [
             0.9,
             "#4d9221"
            ],
            [
             1,
             "#276419"
            ]
           ],
           "sequential": [
            [
             0,
             "#0d0887"
            ],
            [
             0.1111111111111111,
             "#46039f"
            ],
            [
             0.2222222222222222,
             "#7201a8"
            ],
            [
             0.3333333333333333,
             "#9c179e"
            ],
            [
             0.4444444444444444,
             "#bd3786"
            ],
            [
             0.5555555555555556,
             "#d8576b"
            ],
            [
             0.6666666666666666,
             "#ed7953"
            ],
            [
             0.7777777777777778,
             "#fb9f3a"
            ],
            [
             0.8888888888888888,
             "#fdca26"
            ],
            [
             1,
             "#f0f921"
            ]
           ],
           "sequentialminus": [
            [
             0,
             "#0d0887"
            ],
            [
             0.1111111111111111,
             "#46039f"
            ],
            [
             0.2222222222222222,
             "#7201a8"
            ],
            [
             0.3333333333333333,
             "#9c179e"
            ],
            [
             0.4444444444444444,
             "#bd3786"
            ],
            [
             0.5555555555555556,
             "#d8576b"
            ],
            [
             0.6666666666666666,
             "#ed7953"
            ],
            [
             0.7777777777777778,
             "#fb9f3a"
            ],
            [
             0.8888888888888888,
             "#fdca26"
            ],
            [
             1,
             "#f0f921"
            ]
           ]
          },
          "colorway": [
           "#636efa",
           "#EF553B",
           "#00cc96",
           "#ab63fa",
           "#FFA15A",
           "#19d3f3",
           "#FF6692",
           "#B6E880",
           "#FF97FF",
           "#FECB52"
          ],
          "font": {
           "color": "#2a3f5f"
          },
          "geo": {
           "bgcolor": "white",
           "lakecolor": "white",
           "landcolor": "#E5ECF6",
           "showlakes": true,
           "showland": true,
           "subunitcolor": "white"
          },
          "hoverlabel": {
           "align": "left"
          },
          "hovermode": "closest",
          "mapbox": {
           "style": "light"
          },
          "paper_bgcolor": "white",
          "plot_bgcolor": "#E5ECF6",
          "polar": {
           "angularaxis": {
            "gridcolor": "white",
            "linecolor": "white",
            "ticks": ""
           },
           "bgcolor": "#E5ECF6",
           "radialaxis": {
            "gridcolor": "white",
            "linecolor": "white",
            "ticks": ""
           }
          },
          "scene": {
           "xaxis": {
            "backgroundcolor": "#E5ECF6",
            "gridcolor": "white",
            "gridwidth": 2,
            "linecolor": "white",
            "showbackground": true,
            "ticks": "",
            "zerolinecolor": "white"
           },
           "yaxis": {
            "backgroundcolor": "#E5ECF6",
            "gridcolor": "white",
            "gridwidth": 2,
            "linecolor": "white",
            "showbackground": true,
            "ticks": "",
            "zerolinecolor": "white"
           },
           "zaxis": {
            "backgroundcolor": "#E5ECF6",
            "gridcolor": "white",
            "gridwidth": 2,
            "linecolor": "white",
            "showbackground": true,
            "ticks": "",
            "zerolinecolor": "white"
           }
          },
          "shapedefaults": {
           "line": {
            "color": "#2a3f5f"
           }
          },
          "ternary": {
           "aaxis": {
            "gridcolor": "white",
            "linecolor": "white",
            "ticks": ""
           },
           "baxis": {
            "gridcolor": "white",
            "linecolor": "white",
            "ticks": ""
           },
           "bgcolor": "#E5ECF6",
           "caxis": {
            "gridcolor": "white",
            "linecolor": "white",
            "ticks": ""
           }
          },
          "title": {
           "x": 0.05
          },
          "xaxis": {
           "automargin": true,
           "gridcolor": "white",
           "linecolor": "white",
           "ticks": "",
           "title": {
            "standoff": 15
           },
           "zerolinecolor": "white",
           "zerolinewidth": 2
          },
          "yaxis": {
           "automargin": true,
           "gridcolor": "white",
           "linecolor": "white",
           "ticks": "",
           "title": {
            "standoff": 15
           },
           "zerolinecolor": "white",
           "zerolinewidth": 2
          }
         }
        },
        "xaxis": {
         "anchor": "y",
         "domain": [
          0,
          1
         ],
         "title": {
          "text": "Year"
         }
        },
        "yaxis": {
         "anchor": "x",
         "domain": [
          0,
          1
         ],
         "title": {
          "text": "Value"
         }
        }
       }
      }
     },
     "metadata": {},
     "output_type": "display_data"
    }
   ],
   "source": [
    "# Looking at countries represented\n",
    "p_undernourishment_by_country_pdf = p_undernourishment_pdf[p_undernourishment_pdf['Area Code']>1000]\n",
    "px.line(p_undernourishment_by_country_pdf, x='Year', y='Value', color='Area')"
   ]
  },
  {
   "cell_type": "code",
   "execution_count": null,
   "metadata": {},
   "outputs": [],
   "source": []
  }
 ],
 "metadata": {
  "interpreter": {
   "hash": "569284d3b4ee63d52a64be8054ed17e88a37e12e3d4b3eda4e685f5a740911fe"
  },
  "kernelspec": {
   "display_name": "Python 3.8.5 64-bit ('food-security-analysis-wAnqH67o-py3.8': poetry)",
   "language": "python",
   "name": "python3"
  },
  "language_info": {
   "codemirror_mode": {
    "name": "ipython",
    "version": 3
   },
   "file_extension": ".py",
   "mimetype": "text/x-python",
   "name": "python",
   "nbconvert_exporter": "python",
   "pygments_lexer": "ipython3",
   "version": "3.8.5"
  },
  "orig_nbformat": 4
 },
 "nbformat": 4,
 "nbformat_minor": 2
}
