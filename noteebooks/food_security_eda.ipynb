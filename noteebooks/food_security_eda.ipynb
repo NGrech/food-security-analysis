{
 "cells": [
  {
   "cell_type": "markdown",
   "metadata": {},
   "source": [
    "# Food Security Data EDA\n",
    "\n",
    "In this notebook we explore the data on food security available from the FAOSTAT database."
   ]
  },
  {
   "cell_type": "code",
   "execution_count": 1,
   "metadata": {},
   "outputs": [],
   "source": [
    "# Imports \n",
    "from pprint import pprint\n",
    "from IPython.display import HTML\n",
    "import pandas as pd\n",
    "import plotly.express as px\n",
    "import numpy as np\n",
    "import os "
   ]
  },
  {
   "cell_type": "code",
   "execution_count": 2,
   "metadata": {},
   "outputs": [
    {
     "data": {
      "text/html": [
       "<div>\n",
       "<style scoped>\n",
       "    .dataframe tbody tr th:only-of-type {\n",
       "        vertical-align: middle;\n",
       "    }\n",
       "\n",
       "    .dataframe tbody tr th {\n",
       "        vertical-align: top;\n",
       "    }\n",
       "\n",
       "    .dataframe thead th {\n",
       "        text-align: right;\n",
       "    }\n",
       "</style>\n",
       "<table border=\"1\" class=\"dataframe\">\n",
       "  <thead>\n",
       "    <tr style=\"text-align: right;\">\n",
       "      <th></th>\n",
       "      <th>Area Code</th>\n",
       "      <th>Area</th>\n",
       "      <th>Item Code</th>\n",
       "      <th>Item</th>\n",
       "      <th>Element Code</th>\n",
       "      <th>Element</th>\n",
       "      <th>Year Code</th>\n",
       "      <th>Year</th>\n",
       "      <th>Unit</th>\n",
       "      <th>Value</th>\n",
       "      <th>Flag</th>\n",
       "      <th>Note</th>\n",
       "    </tr>\n",
       "  </thead>\n",
       "  <tbody>\n",
       "    <tr>\n",
       "      <th>0</th>\n",
       "      <td>2</td>\n",
       "      <td>Afghanistan</td>\n",
       "      <td>21010</td>\n",
       "      <td>Average dietary energy supply adequacy (percen...</td>\n",
       "      <td>6121</td>\n",
       "      <td>Value</td>\n",
       "      <td>20002002</td>\n",
       "      <td>2000-2002</td>\n",
       "      <td>%</td>\n",
       "      <td>87</td>\n",
       "      <td>F</td>\n",
       "      <td>NaN</td>\n",
       "    </tr>\n",
       "    <tr>\n",
       "      <th>1</th>\n",
       "      <td>2</td>\n",
       "      <td>Afghanistan</td>\n",
       "      <td>21010</td>\n",
       "      <td>Average dietary energy supply adequacy (percen...</td>\n",
       "      <td>6121</td>\n",
       "      <td>Value</td>\n",
       "      <td>20012003</td>\n",
       "      <td>2001-2003</td>\n",
       "      <td>%</td>\n",
       "      <td>88</td>\n",
       "      <td>F</td>\n",
       "      <td>NaN</td>\n",
       "    </tr>\n",
       "    <tr>\n",
       "      <th>2</th>\n",
       "      <td>2</td>\n",
       "      <td>Afghanistan</td>\n",
       "      <td>21010</td>\n",
       "      <td>Average dietary energy supply adequacy (percen...</td>\n",
       "      <td>6121</td>\n",
       "      <td>Value</td>\n",
       "      <td>20022004</td>\n",
       "      <td>2002-2004</td>\n",
       "      <td>%</td>\n",
       "      <td>91</td>\n",
       "      <td>F</td>\n",
       "      <td>NaN</td>\n",
       "    </tr>\n",
       "    <tr>\n",
       "      <th>3</th>\n",
       "      <td>2</td>\n",
       "      <td>Afghanistan</td>\n",
       "      <td>21010</td>\n",
       "      <td>Average dietary energy supply adequacy (percen...</td>\n",
       "      <td>6121</td>\n",
       "      <td>Value</td>\n",
       "      <td>20032005</td>\n",
       "      <td>2003-2005</td>\n",
       "      <td>%</td>\n",
       "      <td>92</td>\n",
       "      <td>F</td>\n",
       "      <td>NaN</td>\n",
       "    </tr>\n",
       "    <tr>\n",
       "      <th>4</th>\n",
       "      <td>2</td>\n",
       "      <td>Afghanistan</td>\n",
       "      <td>21010</td>\n",
       "      <td>Average dietary energy supply adequacy (percen...</td>\n",
       "      <td>6121</td>\n",
       "      <td>Value</td>\n",
       "      <td>20042006</td>\n",
       "      <td>2004-2006</td>\n",
       "      <td>%</td>\n",
       "      <td>92</td>\n",
       "      <td>F</td>\n",
       "      <td>NaN</td>\n",
       "    </tr>\n",
       "  </tbody>\n",
       "</table>\n",
       "</div>"
      ],
      "text/plain": [
       "   Area Code         Area  Item Code  \\\n",
       "0          2  Afghanistan      21010   \n",
       "1          2  Afghanistan      21010   \n",
       "2          2  Afghanistan      21010   \n",
       "3          2  Afghanistan      21010   \n",
       "4          2  Afghanistan      21010   \n",
       "\n",
       "                                                Item  Element Code Element  \\\n",
       "0  Average dietary energy supply adequacy (percen...          6121   Value   \n",
       "1  Average dietary energy supply adequacy (percen...          6121   Value   \n",
       "2  Average dietary energy supply adequacy (percen...          6121   Value   \n",
       "3  Average dietary energy supply adequacy (percen...          6121   Value   \n",
       "4  Average dietary energy supply adequacy (percen...          6121   Value   \n",
       "\n",
       "   Year Code       Year Unit Value Flag  Note  \n",
       "0   20002002  2000-2002    %    87    F   NaN  \n",
       "1   20012003  2001-2003    %    88    F   NaN  \n",
       "2   20022004  2002-2004    %    91    F   NaN  \n",
       "3   20032005  2003-2005    %    92    F   NaN  \n",
       "4   20042006  2004-2006    %    92    F   NaN  "
      ]
     },
     "execution_count": 2,
     "metadata": {},
     "output_type": "execute_result"
    }
   ],
   "source": [
    "# Loading data\n",
    "\n",
    "data_pth = os.path.join(os.pardir, 'data', 'food_security', 'Food_Security_Data_E_All_Data_(Normalized).csv')\n",
    "\n",
    "food_security_pdf = pd.read_csv(data_pth, encoding = \"ISO-8859-1\")\n",
    "food_security_pdf.head()"
   ]
  },
  {
   "cell_type": "markdown",
   "metadata": {},
   "source": [
    "We will focus on _Target 2.1: Universal access to safe and nutritious food_ in relation to economy strength/development:\n",
    "\n",
    "It has two indicators:\n",
    "\n",
    "- Indicator 2.1.1: Prevalence of undernourishment.\n",
    "- Indicator 2.1.2: Prevalence of moderate or severe food insecurity in the population."
   ]
  },
  {
   "cell_type": "code",
   "execution_count": 3,
   "metadata": {},
   "outputs": [
    {
     "name": "stderr",
     "output_type": "stream",
     "text": [
      "C:\\Users\\ngrec\\AppData\\Local\\Temp/ipykernel_16956/1355017613.py:3: SettingWithCopyWarning: \n",
      "A value is trying to be set on a copy of a slice from a DataFrame.\n",
      "Try using .loc[row_indexer,col_indexer] = value instead\n",
      "\n",
      "See the caveats in the documentation: https://pandas.pydata.org/pandas-docs/stable/user_guide/indexing.html#returning-a-view-versus-a-copy\n",
      "  undernourishment_pdf['Value'] = undernourishment_pdf['Value'].apply(lambda x: float(x.replace('<', '')))\n",
      "C:\\Users\\ngrec\\AppData\\Local\\Temp/ipykernel_16956/1355017613.py:5: SettingWithCopyWarning: \n",
      "A value is trying to be set on a copy of a slice from a DataFrame.\n",
      "Try using .loc[row_indexer,col_indexer] = value instead\n",
      "\n",
      "See the caveats in the documentation: https://pandas.pydata.org/pandas-docs/stable/user_guide/indexing.html#returning-a-view-versus-a-copy\n",
      "  food_insecurity_pdf['Value'] = food_insecurity_pdf['Value'].apply(lambda x: float(x.replace('<', '')))\n"
     ]
    }
   ],
   "source": [
    "# Selecting needed data \n",
    "undernourishment_pdf = food_security_pdf[(food_security_pdf['Item Code'].isin([210041])) & (food_security_pdf['Area Code'].isin([5858, 5859,9010, 9011]))] \n",
    "undernourishment_pdf['Value'] = undernourishment_pdf['Value'].apply(lambda x: float(x.replace('<', '')))\n",
    "food_insecurity_pdf = food_security_pdf[(food_security_pdf['Item Code'].isin([210091])) & (food_security_pdf['Area Code'].isin([5858, 5859,9010, 9011]))] \n",
    "food_insecurity_pdf['Value'] = food_insecurity_pdf['Value'].apply(lambda x: float(x.replace('<', '')))"
   ]
  },
  {
   "cell_type": "markdown",
   "metadata": {},
   "source": [
    "## Visualizing Indicators"
   ]
  },
  {
   "cell_type": "markdown",
   "metadata": {},
   "source": [
    "### Moderate and sevier food insecurity "
   ]
  },
  {
   "cell_type": "code",
   "execution_count": 4,
   "metadata": {},
   "outputs": [
    {
     "data": {
      "application/vnd.plotly.v1+json": {
       "config": {
        "plotlyServerURL": "https://plot.ly"
       },
       "data": [
        {
         "hovertemplate": "Area=Low income economies<br>Year=%{x}<br>Value=%{y}<extra></extra>",
         "legendgroup": "Low income economies",
         "line": {
          "color": "#636efa",
          "dash": "solid"
         },
         "marker": {
          "symbol": "circle"
         },
         "mode": "lines",
         "name": "Low income economies",
         "orientation": "v",
         "showlegend": true,
         "type": "scatter",
         "x": [
          "2014-2016",
          "2015-2017",
          "2016-2018",
          "2017-2019",
          "2018-2020"
         ],
         "xaxis": "x",
         "y": [
          54.6,
          56.4,
          57.9,
          58.7,
          59.6
         ],
         "yaxis": "y"
        },
        {
         "hovertemplate": "Area=Lower-middle-income economies<br>Year=%{x}<br>Value=%{y}<extra></extra>",
         "legendgroup": "Lower-middle-income economies",
         "line": {
          "color": "#EF553B",
          "dash": "solid"
         },
         "marker": {
          "symbol": "circle"
         },
         "mode": "lines",
         "name": "Lower-middle-income economies",
         "orientation": "v",
         "showlegend": true,
         "type": "scatter",
         "x": [
          "2014-2016",
          "2015-2017",
          "2016-2018",
          "2017-2019",
          "2018-2020"
         ],
         "xaxis": "x",
         "y": [
          31.5,
          31.5,
          32.9,
          34.9,
          39
         ],
         "yaxis": "y"
        },
        {
         "hovertemplate": "Area=High-income economies<br>Year=%{x}<br>Value=%{y}<extra></extra>",
         "legendgroup": "High-income economies",
         "line": {
          "color": "#00cc96",
          "dash": "solid"
         },
         "marker": {
          "symbol": "circle"
         },
         "mode": "lines",
         "name": "High-income economies",
         "orientation": "v",
         "showlegend": true,
         "type": "scatter",
         "x": [
          "2014-2016",
          "2015-2017",
          "2016-2018",
          "2017-2019",
          "2018-2020"
         ],
         "xaxis": "x",
         "y": [
          8.6,
          8.2,
          7.9,
          7.7,
          7.6
         ],
         "yaxis": "y"
        },
        {
         "hovertemplate": "Area=Upper-middle-income economies<br>Year=%{x}<br>Value=%{y}<extra></extra>",
         "legendgroup": "Upper-middle-income economies",
         "line": {
          "color": "#ab63fa",
          "dash": "solid"
         },
         "marker": {
          "symbol": "circle"
         },
         "mode": "lines",
         "name": "Upper-middle-income economies",
         "orientation": "v",
         "showlegend": true,
         "type": "scatter",
         "x": [
          "2014-2016",
          "2015-2017",
          "2016-2018",
          "2017-2019",
          "2018-2020"
         ],
         "xaxis": "x",
         "y": [
          14.1,
          15.7,
          16.7,
          17,
          17.3
         ],
         "yaxis": "y"
        }
       ],
       "layout": {
        "legend": {
         "title": {
          "text": "Area"
         },
         "tracegroupgap": 0
        },
        "margin": {
         "t": 60
        },
        "template": {
         "data": {
          "bar": [
           {
            "error_x": {
             "color": "#2a3f5f"
            },
            "error_y": {
             "color": "#2a3f5f"
            },
            "marker": {
             "line": {
              "color": "#E5ECF6",
              "width": 0.5
             },
             "pattern": {
              "fillmode": "overlay",
              "size": 10,
              "solidity": 0.2
             }
            },
            "type": "bar"
           }
          ],
          "barpolar": [
           {
            "marker": {
             "line": {
              "color": "#E5ECF6",
              "width": 0.5
             },
             "pattern": {
              "fillmode": "overlay",
              "size": 10,
              "solidity": 0.2
             }
            },
            "type": "barpolar"
           }
          ],
          "carpet": [
           {
            "aaxis": {
             "endlinecolor": "#2a3f5f",
             "gridcolor": "white",
             "linecolor": "white",
             "minorgridcolor": "white",
             "startlinecolor": "#2a3f5f"
            },
            "baxis": {
             "endlinecolor": "#2a3f5f",
             "gridcolor": "white",
             "linecolor": "white",
             "minorgridcolor": "white",
             "startlinecolor": "#2a3f5f"
            },
            "type": "carpet"
           }
          ],
          "choropleth": [
           {
            "colorbar": {
             "outlinewidth": 0,
             "ticks": ""
            },
            "type": "choropleth"
           }
          ],
          "contour": [
           {
            "colorbar": {
             "outlinewidth": 0,
             "ticks": ""
            },
            "colorscale": [
             [
              0,
              "#0d0887"
             ],
             [
              0.1111111111111111,
              "#46039f"
             ],
             [
              0.2222222222222222,
              "#7201a8"
             ],
             [
              0.3333333333333333,
              "#9c179e"
             ],
             [
              0.4444444444444444,
              "#bd3786"
             ],
             [
              0.5555555555555556,
              "#d8576b"
             ],
             [
              0.6666666666666666,
              "#ed7953"
             ],
             [
              0.7777777777777778,
              "#fb9f3a"
             ],
             [
              0.8888888888888888,
              "#fdca26"
             ],
             [
              1,
              "#f0f921"
             ]
            ],
            "type": "contour"
           }
          ],
          "contourcarpet": [
           {
            "colorbar": {
             "outlinewidth": 0,
             "ticks": ""
            },
            "type": "contourcarpet"
           }
          ],
          "heatmap": [
           {
            "colorbar": {
             "outlinewidth": 0,
             "ticks": ""
            },
            "colorscale": [
             [
              0,
              "#0d0887"
             ],
             [
              0.1111111111111111,
              "#46039f"
             ],
             [
              0.2222222222222222,
              "#7201a8"
             ],
             [
              0.3333333333333333,
              "#9c179e"
             ],
             [
              0.4444444444444444,
              "#bd3786"
             ],
             [
              0.5555555555555556,
              "#d8576b"
             ],
             [
              0.6666666666666666,
              "#ed7953"
             ],
             [
              0.7777777777777778,
              "#fb9f3a"
             ],
             [
              0.8888888888888888,
              "#fdca26"
             ],
             [
              1,
              "#f0f921"
             ]
            ],
            "type": "heatmap"
           }
          ],
          "heatmapgl": [
           {
            "colorbar": {
             "outlinewidth": 0,
             "ticks": ""
            },
            "colorscale": [
             [
              0,
              "#0d0887"
             ],
             [
              0.1111111111111111,
              "#46039f"
             ],
             [
              0.2222222222222222,
              "#7201a8"
             ],
             [
              0.3333333333333333,
              "#9c179e"
             ],
             [
              0.4444444444444444,
              "#bd3786"
             ],
             [
              0.5555555555555556,
              "#d8576b"
             ],
             [
              0.6666666666666666,
              "#ed7953"
             ],
             [
              0.7777777777777778,
              "#fb9f3a"
             ],
             [
              0.8888888888888888,
              "#fdca26"
             ],
             [
              1,
              "#f0f921"
             ]
            ],
            "type": "heatmapgl"
           }
          ],
          "histogram": [
           {
            "marker": {
             "pattern": {
              "fillmode": "overlay",
              "size": 10,
              "solidity": 0.2
             }
            },
            "type": "histogram"
           }
          ],
          "histogram2d": [
           {
            "colorbar": {
             "outlinewidth": 0,
             "ticks": ""
            },
            "colorscale": [
             [
              0,
              "#0d0887"
             ],
             [
              0.1111111111111111,
              "#46039f"
             ],
             [
              0.2222222222222222,
              "#7201a8"
             ],
             [
              0.3333333333333333,
              "#9c179e"
             ],
             [
              0.4444444444444444,
              "#bd3786"
             ],
             [
              0.5555555555555556,
              "#d8576b"
             ],
             [
              0.6666666666666666,
              "#ed7953"
             ],
             [
              0.7777777777777778,
              "#fb9f3a"
             ],
             [
              0.8888888888888888,
              "#fdca26"
             ],
             [
              1,
              "#f0f921"
             ]
            ],
            "type": "histogram2d"
           }
          ],
          "histogram2dcontour": [
           {
            "colorbar": {
             "outlinewidth": 0,
             "ticks": ""
            },
            "colorscale": [
             [
              0,
              "#0d0887"
             ],
             [
              0.1111111111111111,
              "#46039f"
             ],
             [
              0.2222222222222222,
              "#7201a8"
             ],
             [
              0.3333333333333333,
              "#9c179e"
             ],
             [
              0.4444444444444444,
              "#bd3786"
             ],
             [
              0.5555555555555556,
              "#d8576b"
             ],
             [
              0.6666666666666666,
              "#ed7953"
             ],
             [
              0.7777777777777778,
              "#fb9f3a"
             ],
             [
              0.8888888888888888,
              "#fdca26"
             ],
             [
              1,
              "#f0f921"
             ]
            ],
            "type": "histogram2dcontour"
           }
          ],
          "mesh3d": [
           {
            "colorbar": {
             "outlinewidth": 0,
             "ticks": ""
            },
            "type": "mesh3d"
           }
          ],
          "parcoords": [
           {
            "line": {
             "colorbar": {
              "outlinewidth": 0,
              "ticks": ""
             }
            },
            "type": "parcoords"
           }
          ],
          "pie": [
           {
            "automargin": true,
            "type": "pie"
           }
          ],
          "scatter": [
           {
            "marker": {
             "colorbar": {
              "outlinewidth": 0,
              "ticks": ""
             }
            },
            "type": "scatter"
           }
          ],
          "scatter3d": [
           {
            "line": {
             "colorbar": {
              "outlinewidth": 0,
              "ticks": ""
             }
            },
            "marker": {
             "colorbar": {
              "outlinewidth": 0,
              "ticks": ""
             }
            },
            "type": "scatter3d"
           }
          ],
          "scattercarpet": [
           {
            "marker": {
             "colorbar": {
              "outlinewidth": 0,
              "ticks": ""
             }
            },
            "type": "scattercarpet"
           }
          ],
          "scattergeo": [
           {
            "marker": {
             "colorbar": {
              "outlinewidth": 0,
              "ticks": ""
             }
            },
            "type": "scattergeo"
           }
          ],
          "scattergl": [
           {
            "marker": {
             "colorbar": {
              "outlinewidth": 0,
              "ticks": ""
             }
            },
            "type": "scattergl"
           }
          ],
          "scattermapbox": [
           {
            "marker": {
             "colorbar": {
              "outlinewidth": 0,
              "ticks": ""
             }
            },
            "type": "scattermapbox"
           }
          ],
          "scatterpolar": [
           {
            "marker": {
             "colorbar": {
              "outlinewidth": 0,
              "ticks": ""
             }
            },
            "type": "scatterpolar"
           }
          ],
          "scatterpolargl": [
           {
            "marker": {
             "colorbar": {
              "outlinewidth": 0,
              "ticks": ""
             }
            },
            "type": "scatterpolargl"
           }
          ],
          "scatterternary": [
           {
            "marker": {
             "colorbar": {
              "outlinewidth": 0,
              "ticks": ""
             }
            },
            "type": "scatterternary"
           }
          ],
          "surface": [
           {
            "colorbar": {
             "outlinewidth": 0,
             "ticks": ""
            },
            "colorscale": [
             [
              0,
              "#0d0887"
             ],
             [
              0.1111111111111111,
              "#46039f"
             ],
             [
              0.2222222222222222,
              "#7201a8"
             ],
             [
              0.3333333333333333,
              "#9c179e"
             ],
             [
              0.4444444444444444,
              "#bd3786"
             ],
             [
              0.5555555555555556,
              "#d8576b"
             ],
             [
              0.6666666666666666,
              "#ed7953"
             ],
             [
              0.7777777777777778,
              "#fb9f3a"
             ],
             [
              0.8888888888888888,
              "#fdca26"
             ],
             [
              1,
              "#f0f921"
             ]
            ],
            "type": "surface"
           }
          ],
          "table": [
           {
            "cells": {
             "fill": {
              "color": "#EBF0F8"
             },
             "line": {
              "color": "white"
             }
            },
            "header": {
             "fill": {
              "color": "#C8D4E3"
             },
             "line": {
              "color": "white"
             }
            },
            "type": "table"
           }
          ]
         },
         "layout": {
          "annotationdefaults": {
           "arrowcolor": "#2a3f5f",
           "arrowhead": 0,
           "arrowwidth": 1
          },
          "autotypenumbers": "strict",
          "coloraxis": {
           "colorbar": {
            "outlinewidth": 0,
            "ticks": ""
           }
          },
          "colorscale": {
           "diverging": [
            [
             0,
             "#8e0152"
            ],
            [
             0.1,
             "#c51b7d"
            ],
            [
             0.2,
             "#de77ae"
            ],
            [
             0.3,
             "#f1b6da"
            ],
            [
             0.4,
             "#fde0ef"
            ],
            [
             0.5,
             "#f7f7f7"
            ],
            [
             0.6,
             "#e6f5d0"
            ],
            [
             0.7,
             "#b8e186"
            ],
            [
             0.8,
             "#7fbc41"
            ],
            [
             0.9,
             "#4d9221"
            ],
            [
             1,
             "#276419"
            ]
           ],
           "sequential": [
            [
             0,
             "#0d0887"
            ],
            [
             0.1111111111111111,
             "#46039f"
            ],
            [
             0.2222222222222222,
             "#7201a8"
            ],
            [
             0.3333333333333333,
             "#9c179e"
            ],
            [
             0.4444444444444444,
             "#bd3786"
            ],
            [
             0.5555555555555556,
             "#d8576b"
            ],
            [
             0.6666666666666666,
             "#ed7953"
            ],
            [
             0.7777777777777778,
             "#fb9f3a"
            ],
            [
             0.8888888888888888,
             "#fdca26"
            ],
            [
             1,
             "#f0f921"
            ]
           ],
           "sequentialminus": [
            [
             0,
             "#0d0887"
            ],
            [
             0.1111111111111111,
             "#46039f"
            ],
            [
             0.2222222222222222,
             "#7201a8"
            ],
            [
             0.3333333333333333,
             "#9c179e"
            ],
            [
             0.4444444444444444,
             "#bd3786"
            ],
            [
             0.5555555555555556,
             "#d8576b"
            ],
            [
             0.6666666666666666,
             "#ed7953"
            ],
            [
             0.7777777777777778,
             "#fb9f3a"
            ],
            [
             0.8888888888888888,
             "#fdca26"
            ],
            [
             1,
             "#f0f921"
            ]
           ]
          },
          "colorway": [
           "#636efa",
           "#EF553B",
           "#00cc96",
           "#ab63fa",
           "#FFA15A",
           "#19d3f3",
           "#FF6692",
           "#B6E880",
           "#FF97FF",
           "#FECB52"
          ],
          "font": {
           "color": "#2a3f5f"
          },
          "geo": {
           "bgcolor": "white",
           "lakecolor": "white",
           "landcolor": "#E5ECF6",
           "showlakes": true,
           "showland": true,
           "subunitcolor": "white"
          },
          "hoverlabel": {
           "align": "left"
          },
          "hovermode": "closest",
          "mapbox": {
           "style": "light"
          },
          "paper_bgcolor": "white",
          "plot_bgcolor": "#E5ECF6",
          "polar": {
           "angularaxis": {
            "gridcolor": "white",
            "linecolor": "white",
            "ticks": ""
           },
           "bgcolor": "#E5ECF6",
           "radialaxis": {
            "gridcolor": "white",
            "linecolor": "white",
            "ticks": ""
           }
          },
          "scene": {
           "xaxis": {
            "backgroundcolor": "#E5ECF6",
            "gridcolor": "white",
            "gridwidth": 2,
            "linecolor": "white",
            "showbackground": true,
            "ticks": "",
            "zerolinecolor": "white"
           },
           "yaxis": {
            "backgroundcolor": "#E5ECF6",
            "gridcolor": "white",
            "gridwidth": 2,
            "linecolor": "white",
            "showbackground": true,
            "ticks": "",
            "zerolinecolor": "white"
           },
           "zaxis": {
            "backgroundcolor": "#E5ECF6",
            "gridcolor": "white",
            "gridwidth": 2,
            "linecolor": "white",
            "showbackground": true,
            "ticks": "",
            "zerolinecolor": "white"
           }
          },
          "shapedefaults": {
           "line": {
            "color": "#2a3f5f"
           }
          },
          "ternary": {
           "aaxis": {
            "gridcolor": "white",
            "linecolor": "white",
            "ticks": ""
           },
           "baxis": {
            "gridcolor": "white",
            "linecolor": "white",
            "ticks": ""
           },
           "bgcolor": "#E5ECF6",
           "caxis": {
            "gridcolor": "white",
            "linecolor": "white",
            "ticks": ""
           }
          },
          "title": {
           "x": 0.05
          },
          "xaxis": {
           "automargin": true,
           "gridcolor": "white",
           "linecolor": "white",
           "ticks": "",
           "title": {
            "standoff": 15
           },
           "zerolinecolor": "white",
           "zerolinewidth": 2
          },
          "yaxis": {
           "automargin": true,
           "gridcolor": "white",
           "linecolor": "white",
           "ticks": "",
           "title": {
            "standoff": 15
           },
           "zerolinecolor": "white",
           "zerolinewidth": 2
          }
         }
        },
        "xaxis": {
         "anchor": "y",
         "domain": [
          0,
          1
         ],
         "title": {
          "text": "Year"
         }
        },
        "yaxis": {
         "anchor": "x",
         "domain": [
          0,
          1
         ],
         "title": {
          "text": "Value"
         }
        }
       }
      }
     },
     "metadata": {},
     "output_type": "display_data"
    }
   ],
   "source": [
    "# insecurity data \n",
    "px.line(food_insecurity_pdf, x='Year', y='Value', color='Area')"
   ]
  },
  {
   "cell_type": "markdown",
   "metadata": {},
   "source": [
    "### Prevalence of Undernourishment "
   ]
  },
  {
   "cell_type": "code",
   "execution_count": 5,
   "metadata": {},
   "outputs": [
    {
     "data": {
      "application/vnd.plotly.v1+json": {
       "config": {
        "plotlyServerURL": "https://plot.ly"
       },
       "data": [
        {
         "hovertemplate": "Area=Low income economies<br>Year=%{x}<br>Value=%{y}<extra></extra>",
         "legendgroup": "Low income economies",
         "line": {
          "color": "#636efa",
          "dash": "solid"
         },
         "marker": {
          "symbol": "circle"
         },
         "mode": "lines",
         "name": "Low income economies",
         "orientation": "v",
         "showlegend": true,
         "type": "scatter",
         "x": [
          "2000-2002",
          "2001-2003",
          "2002-2004",
          "2003-2005",
          "2004-2006",
          "2005-2007",
          "2006-2008",
          "2007-2009",
          "2008-2010",
          "2009-2011",
          "2010-2012",
          "2011-2013",
          "2012-2014",
          "2013-2015",
          "2014-2016",
          "2015-2017",
          "2016-2018",
          "2017-2019",
          "2018-2020"
         ],
         "xaxis": "x",
         "y": [
          36.1,
          35.2,
          34.4,
          33.5,
          32.5,
          31.6,
          30.9,
          30.1,
          28.9,
          28.7,
          28.7,
          29.4,
          28.4,
          27.8,
          27.4,
          27.5,
          27.9,
          27.9,
          28.9
         ],
         "yaxis": "y"
        },
        {
         "hovertemplate": "Area=Lower-middle-income economies<br>Year=%{x}<br>Value=%{y}<extra></extra>",
         "legendgroup": "Lower-middle-income economies",
         "line": {
          "color": "#EF553B",
          "dash": "solid"
         },
         "marker": {
          "symbol": "circle"
         },
         "mode": "lines",
         "name": "Lower-middle-income economies",
         "orientation": "v",
         "showlegend": true,
         "type": "scatter",
         "x": [
          "2000-2002",
          "2001-2003",
          "2002-2004",
          "2003-2005",
          "2004-2006",
          "2005-2007",
          "2006-2008",
          "2007-2009",
          "2008-2010",
          "2009-2011",
          "2010-2012",
          "2011-2013",
          "2012-2014",
          "2013-2015",
          "2014-2016",
          "2015-2017",
          "2016-2018",
          "2017-2019",
          "2018-2020"
         ],
         "xaxis": "x",
         "y": [
          18.4,
          19,
          19.4,
          19.2,
          18.5,
          17.1,
          15.7,
          15.1,
          14.7,
          14.4,
          14,
          13.6,
          13.4,
          13.1,
          12.7,
          12.4,
          12.1,
          12.1,
          13
         ],
         "yaxis": "y"
        },
        {
         "hovertemplate": "Area=High-income economies<br>Year=%{x}<br>Value=%{y}<extra></extra>",
         "legendgroup": "High-income economies",
         "line": {
          "color": "#00cc96",
          "dash": "solid"
         },
         "marker": {
          "symbol": "circle"
         },
         "mode": "lines",
         "name": "High-income economies",
         "orientation": "v",
         "showlegend": true,
         "type": "scatter",
         "x": [
          "2000-2002",
          "2001-2003",
          "2002-2004",
          "2003-2005",
          "2004-2006",
          "2005-2007",
          "2006-2008",
          "2007-2009",
          "2008-2010",
          "2009-2011",
          "2010-2012",
          "2011-2013",
          "2012-2014",
          "2013-2015",
          "2014-2016",
          "2015-2017",
          "2016-2018",
          "2017-2019",
          "2018-2020"
         ],
         "xaxis": "x",
         "y": [
          2.5,
          2.5,
          2.5,
          2.5,
          2.5,
          2.5,
          2.5,
          2.5,
          2.5,
          2.5,
          2.5,
          2.5,
          2.5,
          2.5,
          2.5,
          2.5,
          2.5,
          2.5,
          2.5
         ],
         "yaxis": "y"
        },
        {
         "hovertemplate": "Area=Upper-middle-income economies<br>Year=%{x}<br>Value=%{y}<extra></extra>",
         "legendgroup": "Upper-middle-income economies",
         "line": {
          "color": "#ab63fa",
          "dash": "solid"
         },
         "marker": {
          "symbol": "circle"
         },
         "mode": "lines",
         "name": "Upper-middle-income economies",
         "orientation": "v",
         "showlegend": true,
         "type": "scatter",
         "x": [
          "2000-2002",
          "2001-2003",
          "2002-2004",
          "2003-2005",
          "2004-2006",
          "2005-2007",
          "2006-2008",
          "2007-2009",
          "2008-2010",
          "2009-2011",
          "2010-2012",
          "2011-2013",
          "2012-2014",
          "2013-2015",
          "2014-2016",
          "2015-2017",
          "2016-2018",
          "2017-2019",
          "2018-2020"
         ],
         "xaxis": "x",
         "y": [
          10.1,
          9.7,
          9.1,
          8.6,
          8,
          7.3,
          6.6,
          5.9,
          5.1,
          4.5,
          3.9,
          3.6,
          3.3,
          3.2,
          3.1,
          3.1,
          3.2,
          3.2,
          3.4
         ],
         "yaxis": "y"
        }
       ],
       "layout": {
        "legend": {
         "title": {
          "text": "Area"
         },
         "tracegroupgap": 0
        },
        "margin": {
         "t": 60
        },
        "template": {
         "data": {
          "bar": [
           {
            "error_x": {
             "color": "#2a3f5f"
            },
            "error_y": {
             "color": "#2a3f5f"
            },
            "marker": {
             "line": {
              "color": "#E5ECF6",
              "width": 0.5
             },
             "pattern": {
              "fillmode": "overlay",
              "size": 10,
              "solidity": 0.2
             }
            },
            "type": "bar"
           }
          ],
          "barpolar": [
           {
            "marker": {
             "line": {
              "color": "#E5ECF6",
              "width": 0.5
             },
             "pattern": {
              "fillmode": "overlay",
              "size": 10,
              "solidity": 0.2
             }
            },
            "type": "barpolar"
           }
          ],
          "carpet": [
           {
            "aaxis": {
             "endlinecolor": "#2a3f5f",
             "gridcolor": "white",
             "linecolor": "white",
             "minorgridcolor": "white",
             "startlinecolor": "#2a3f5f"
            },
            "baxis": {
             "endlinecolor": "#2a3f5f",
             "gridcolor": "white",
             "linecolor": "white",
             "minorgridcolor": "white",
             "startlinecolor": "#2a3f5f"
            },
            "type": "carpet"
           }
          ],
          "choropleth": [
           {
            "colorbar": {
             "outlinewidth": 0,
             "ticks": ""
            },
            "type": "choropleth"
           }
          ],
          "contour": [
           {
            "colorbar": {
             "outlinewidth": 0,
             "ticks": ""
            },
            "colorscale": [
             [
              0,
              "#0d0887"
             ],
             [
              0.1111111111111111,
              "#46039f"
             ],
             [
              0.2222222222222222,
              "#7201a8"
             ],
             [
              0.3333333333333333,
              "#9c179e"
             ],
             [
              0.4444444444444444,
              "#bd3786"
             ],
             [
              0.5555555555555556,
              "#d8576b"
             ],
             [
              0.6666666666666666,
              "#ed7953"
             ],
             [
              0.7777777777777778,
              "#fb9f3a"
             ],
             [
              0.8888888888888888,
              "#fdca26"
             ],
             [
              1,
              "#f0f921"
             ]
            ],
            "type": "contour"
           }
          ],
          "contourcarpet": [
           {
            "colorbar": {
             "outlinewidth": 0,
             "ticks": ""
            },
            "type": "contourcarpet"
           }
          ],
          "heatmap": [
           {
            "colorbar": {
             "outlinewidth": 0,
             "ticks": ""
            },
            "colorscale": [
             [
              0,
              "#0d0887"
             ],
             [
              0.1111111111111111,
              "#46039f"
             ],
             [
              0.2222222222222222,
              "#7201a8"
             ],
             [
              0.3333333333333333,
              "#9c179e"
             ],
             [
              0.4444444444444444,
              "#bd3786"
             ],
             [
              0.5555555555555556,
              "#d8576b"
             ],
             [
              0.6666666666666666,
              "#ed7953"
             ],
             [
              0.7777777777777778,
              "#fb9f3a"
             ],
             [
              0.8888888888888888,
              "#fdca26"
             ],
             [
              1,
              "#f0f921"
             ]
            ],
            "type": "heatmap"
           }
          ],
          "heatmapgl": [
           {
            "colorbar": {
             "outlinewidth": 0,
             "ticks": ""
            },
            "colorscale": [
             [
              0,
              "#0d0887"
             ],
             [
              0.1111111111111111,
              "#46039f"
             ],
             [
              0.2222222222222222,
              "#7201a8"
             ],
             [
              0.3333333333333333,
              "#9c179e"
             ],
             [
              0.4444444444444444,
              "#bd3786"
             ],
             [
              0.5555555555555556,
              "#d8576b"
             ],
             [
              0.6666666666666666,
              "#ed7953"
             ],
             [
              0.7777777777777778,
              "#fb9f3a"
             ],
             [
              0.8888888888888888,
              "#fdca26"
             ],
             [
              1,
              "#f0f921"
             ]
            ],
            "type": "heatmapgl"
           }
          ],
          "histogram": [
           {
            "marker": {
             "pattern": {
              "fillmode": "overlay",
              "size": 10,
              "solidity": 0.2
             }
            },
            "type": "histogram"
           }
          ],
          "histogram2d": [
           {
            "colorbar": {
             "outlinewidth": 0,
             "ticks": ""
            },
            "colorscale": [
             [
              0,
              "#0d0887"
             ],
             [
              0.1111111111111111,
              "#46039f"
             ],
             [
              0.2222222222222222,
              "#7201a8"
             ],
             [
              0.3333333333333333,
              "#9c179e"
             ],
             [
              0.4444444444444444,
              "#bd3786"
             ],
             [
              0.5555555555555556,
              "#d8576b"
             ],
             [
              0.6666666666666666,
              "#ed7953"
             ],
             [
              0.7777777777777778,
              "#fb9f3a"
             ],
             [
              0.8888888888888888,
              "#fdca26"
             ],
             [
              1,
              "#f0f921"
             ]
            ],
            "type": "histogram2d"
           }
          ],
          "histogram2dcontour": [
           {
            "colorbar": {
             "outlinewidth": 0,
             "ticks": ""
            },
            "colorscale": [
             [
              0,
              "#0d0887"
             ],
             [
              0.1111111111111111,
              "#46039f"
             ],
             [
              0.2222222222222222,
              "#7201a8"
             ],
             [
              0.3333333333333333,
              "#9c179e"
             ],
             [
              0.4444444444444444,
              "#bd3786"
             ],
             [
              0.5555555555555556,
              "#d8576b"
             ],
             [
              0.6666666666666666,
              "#ed7953"
             ],
             [
              0.7777777777777778,
              "#fb9f3a"
             ],
             [
              0.8888888888888888,
              "#fdca26"
             ],
             [
              1,
              "#f0f921"
             ]
            ],
            "type": "histogram2dcontour"
           }
          ],
          "mesh3d": [
           {
            "colorbar": {
             "outlinewidth": 0,
             "ticks": ""
            },
            "type": "mesh3d"
           }
          ],
          "parcoords": [
           {
            "line": {
             "colorbar": {
              "outlinewidth": 0,
              "ticks": ""
             }
            },
            "type": "parcoords"
           }
          ],
          "pie": [
           {
            "automargin": true,
            "type": "pie"
           }
          ],
          "scatter": [
           {
            "marker": {
             "colorbar": {
              "outlinewidth": 0,
              "ticks": ""
             }
            },
            "type": "scatter"
           }
          ],
          "scatter3d": [
           {
            "line": {
             "colorbar": {
              "outlinewidth": 0,
              "ticks": ""
             }
            },
            "marker": {
             "colorbar": {
              "outlinewidth": 0,
              "ticks": ""
             }
            },
            "type": "scatter3d"
           }
          ],
          "scattercarpet": [
           {
            "marker": {
             "colorbar": {
              "outlinewidth": 0,
              "ticks": ""
             }
            },
            "type": "scattercarpet"
           }
          ],
          "scattergeo": [
           {
            "marker": {
             "colorbar": {
              "outlinewidth": 0,
              "ticks": ""
             }
            },
            "type": "scattergeo"
           }
          ],
          "scattergl": [
           {
            "marker": {
             "colorbar": {
              "outlinewidth": 0,
              "ticks": ""
             }
            },
            "type": "scattergl"
           }
          ],
          "scattermapbox": [
           {
            "marker": {
             "colorbar": {
              "outlinewidth": 0,
              "ticks": ""
             }
            },
            "type": "scattermapbox"
           }
          ],
          "scatterpolar": [
           {
            "marker": {
             "colorbar": {
              "outlinewidth": 0,
              "ticks": ""
             }
            },
            "type": "scatterpolar"
           }
          ],
          "scatterpolargl": [
           {
            "marker": {
             "colorbar": {
              "outlinewidth": 0,
              "ticks": ""
             }
            },
            "type": "scatterpolargl"
           }
          ],
          "scatterternary": [
           {
            "marker": {
             "colorbar": {
              "outlinewidth": 0,
              "ticks": ""
             }
            },
            "type": "scatterternary"
           }
          ],
          "surface": [
           {
            "colorbar": {
             "outlinewidth": 0,
             "ticks": ""
            },
            "colorscale": [
             [
              0,
              "#0d0887"
             ],
             [
              0.1111111111111111,
              "#46039f"
             ],
             [
              0.2222222222222222,
              "#7201a8"
             ],
             [
              0.3333333333333333,
              "#9c179e"
             ],
             [
              0.4444444444444444,
              "#bd3786"
             ],
             [
              0.5555555555555556,
              "#d8576b"
             ],
             [
              0.6666666666666666,
              "#ed7953"
             ],
             [
              0.7777777777777778,
              "#fb9f3a"
             ],
             [
              0.8888888888888888,
              "#fdca26"
             ],
             [
              1,
              "#f0f921"
             ]
            ],
            "type": "surface"
           }
          ],
          "table": [
           {
            "cells": {
             "fill": {
              "color": "#EBF0F8"
             },
             "line": {
              "color": "white"
             }
            },
            "header": {
             "fill": {
              "color": "#C8D4E3"
             },
             "line": {
              "color": "white"
             }
            },
            "type": "table"
           }
          ]
         },
         "layout": {
          "annotationdefaults": {
           "arrowcolor": "#2a3f5f",
           "arrowhead": 0,
           "arrowwidth": 1
          },
          "autotypenumbers": "strict",
          "coloraxis": {
           "colorbar": {
            "outlinewidth": 0,
            "ticks": ""
           }
          },
          "colorscale": {
           "diverging": [
            [
             0,
             "#8e0152"
            ],
            [
             0.1,
             "#c51b7d"
            ],
            [
             0.2,
             "#de77ae"
            ],
            [
             0.3,
             "#f1b6da"
            ],
            [
             0.4,
             "#fde0ef"
            ],
            [
             0.5,
             "#f7f7f7"
            ],
            [
             0.6,
             "#e6f5d0"
            ],
            [
             0.7,
             "#b8e186"
            ],
            [
             0.8,
             "#7fbc41"
            ],
            [
             0.9,
             "#4d9221"
            ],
            [
             1,
             "#276419"
            ]
           ],
           "sequential": [
            [
             0,
             "#0d0887"
            ],
            [
             0.1111111111111111,
             "#46039f"
            ],
            [
             0.2222222222222222,
             "#7201a8"
            ],
            [
             0.3333333333333333,
             "#9c179e"
            ],
            [
             0.4444444444444444,
             "#bd3786"
            ],
            [
             0.5555555555555556,
             "#d8576b"
            ],
            [
             0.6666666666666666,
             "#ed7953"
            ],
            [
             0.7777777777777778,
             "#fb9f3a"
            ],
            [
             0.8888888888888888,
             "#fdca26"
            ],
            [
             1,
             "#f0f921"
            ]
           ],
           "sequentialminus": [
            [
             0,
             "#0d0887"
            ],
            [
             0.1111111111111111,
             "#46039f"
            ],
            [
             0.2222222222222222,
             "#7201a8"
            ],
            [
             0.3333333333333333,
             "#9c179e"
            ],
            [
             0.4444444444444444,
             "#bd3786"
            ],
            [
             0.5555555555555556,
             "#d8576b"
            ],
            [
             0.6666666666666666,
             "#ed7953"
            ],
            [
             0.7777777777777778,
             "#fb9f3a"
            ],
            [
             0.8888888888888888,
             "#fdca26"
            ],
            [
             1,
             "#f0f921"
            ]
           ]
          },
          "colorway": [
           "#636efa",
           "#EF553B",
           "#00cc96",
           "#ab63fa",
           "#FFA15A",
           "#19d3f3",
           "#FF6692",
           "#B6E880",
           "#FF97FF",
           "#FECB52"
          ],
          "font": {
           "color": "#2a3f5f"
          },
          "geo": {
           "bgcolor": "white",
           "lakecolor": "white",
           "landcolor": "#E5ECF6",
           "showlakes": true,
           "showland": true,
           "subunitcolor": "white"
          },
          "hoverlabel": {
           "align": "left"
          },
          "hovermode": "closest",
          "mapbox": {
           "style": "light"
          },
          "paper_bgcolor": "white",
          "plot_bgcolor": "#E5ECF6",
          "polar": {
           "angularaxis": {
            "gridcolor": "white",
            "linecolor": "white",
            "ticks": ""
           },
           "bgcolor": "#E5ECF6",
           "radialaxis": {
            "gridcolor": "white",
            "linecolor": "white",
            "ticks": ""
           }
          },
          "scene": {
           "xaxis": {
            "backgroundcolor": "#E5ECF6",
            "gridcolor": "white",
            "gridwidth": 2,
            "linecolor": "white",
            "showbackground": true,
            "ticks": "",
            "zerolinecolor": "white"
           },
           "yaxis": {
            "backgroundcolor": "#E5ECF6",
            "gridcolor": "white",
            "gridwidth": 2,
            "linecolor": "white",
            "showbackground": true,
            "ticks": "",
            "zerolinecolor": "white"
           },
           "zaxis": {
            "backgroundcolor": "#E5ECF6",
            "gridcolor": "white",
            "gridwidth": 2,
            "linecolor": "white",
            "showbackground": true,
            "ticks": "",
            "zerolinecolor": "white"
           }
          },
          "shapedefaults": {
           "line": {
            "color": "#2a3f5f"
           }
          },
          "ternary": {
           "aaxis": {
            "gridcolor": "white",
            "linecolor": "white",
            "ticks": ""
           },
           "baxis": {
            "gridcolor": "white",
            "linecolor": "white",
            "ticks": ""
           },
           "bgcolor": "#E5ECF6",
           "caxis": {
            "gridcolor": "white",
            "linecolor": "white",
            "ticks": ""
           }
          },
          "title": {
           "x": 0.05
          },
          "xaxis": {
           "automargin": true,
           "gridcolor": "white",
           "linecolor": "white",
           "ticks": "",
           "title": {
            "standoff": 15
           },
           "zerolinecolor": "white",
           "zerolinewidth": 2
          },
          "yaxis": {
           "automargin": true,
           "gridcolor": "white",
           "linecolor": "white",
           "ticks": "",
           "title": {
            "standoff": 15
           },
           "zerolinecolor": "white",
           "zerolinewidth": 2
          }
         }
        },
        "xaxis": {
         "anchor": "y",
         "domain": [
          0,
          1
         ],
         "title": {
          "text": "Year"
         }
        },
        "yaxis": {
         "anchor": "x",
         "domain": [
          0,
          1
         ],
         "title": {
          "text": "Value"
         }
        }
       }
      }
     },
     "metadata": {},
     "output_type": "display_data"
    }
   ],
   "source": [
    "# Undernourishment data \n",
    "px.line(undernourishment_pdf, x='Year', y='Value', color='Area')"
   ]
  },
  {
   "cell_type": "code",
   "execution_count": null,
   "metadata": {},
   "outputs": [],
   "source": [
    "# TODO:look at absolute numbers vs prevelance and see if possible to do a T-test "
   ]
  },
  {
   "cell_type": "markdown",
   "metadata": {},
   "source": [
    "## Visualizing potential factors"
   ]
  },
  {
   "cell_type": "markdown",
   "metadata": {},
   "source": [
    "### Consumer Price Indicators"
   ]
  },
  {
   "cell_type": "code",
   "execution_count": 6,
   "metadata": {},
   "outputs": [
    {
     "data": {
      "text/html": [
       "<div>\n",
       "<style scoped>\n",
       "    .dataframe tbody tr th:only-of-type {\n",
       "        vertical-align: middle;\n",
       "    }\n",
       "\n",
       "    .dataframe tbody tr th {\n",
       "        vertical-align: top;\n",
       "    }\n",
       "\n",
       "    .dataframe thead th {\n",
       "        text-align: right;\n",
       "    }\n",
       "</style>\n",
       "<table border=\"1\" class=\"dataframe\">\n",
       "  <thead>\n",
       "    <tr style=\"text-align: right;\">\n",
       "      <th></th>\n",
       "      <th>Area Code (M49)</th>\n",
       "      <th>Year</th>\n",
       "      <th>Item</th>\n",
       "      <th>Months</th>\n",
       "      <th>Value</th>\n",
       "    </tr>\n",
       "  </thead>\n",
       "  <tbody>\n",
       "    <tr>\n",
       "      <th>0</th>\n",
       "      <td>4</td>\n",
       "      <td>2000</td>\n",
       "      <td>Consumer Prices, Food Indices (2015 = 100)</td>\n",
       "      <td>January</td>\n",
       "      <td>24.356332</td>\n",
       "    </tr>\n",
       "    <tr>\n",
       "      <th>1</th>\n",
       "      <td>4</td>\n",
       "      <td>2001</td>\n",
       "      <td>Consumer Prices, Food Indices (2015 = 100)</td>\n",
       "      <td>January</td>\n",
       "      <td>29.944592</td>\n",
       "    </tr>\n",
       "    <tr>\n",
       "      <th>2</th>\n",
       "      <td>4</td>\n",
       "      <td>2002</td>\n",
       "      <td>Consumer Prices, Food Indices (2015 = 100)</td>\n",
       "      <td>January</td>\n",
       "      <td>33.421952</td>\n",
       "    </tr>\n",
       "    <tr>\n",
       "      <th>3</th>\n",
       "      <td>4</td>\n",
       "      <td>2003</td>\n",
       "      <td>Consumer Prices, Food Indices (2015 = 100)</td>\n",
       "      <td>January</td>\n",
       "      <td>39.967661</td>\n",
       "    </tr>\n",
       "    <tr>\n",
       "      <th>4</th>\n",
       "      <td>4</td>\n",
       "      <td>2004</td>\n",
       "      <td>Consumer Prices, Food Indices (2015 = 100)</td>\n",
       "      <td>January</td>\n",
       "      <td>43.401939</td>\n",
       "    </tr>\n",
       "  </tbody>\n",
       "</table>\n",
       "</div>"
      ],
      "text/plain": [
       "   Area Code (M49)  Year                                        Item   Months  \\\n",
       "0                4  2000  Consumer Prices, Food Indices (2015 = 100)  January   \n",
       "1                4  2001  Consumer Prices, Food Indices (2015 = 100)  January   \n",
       "2                4  2002  Consumer Prices, Food Indices (2015 = 100)  January   \n",
       "3                4  2003  Consumer Prices, Food Indices (2015 = 100)  January   \n",
       "4                4  2004  Consumer Prices, Food Indices (2015 = 100)  January   \n",
       "\n",
       "       Value  \n",
       "0  24.356332  \n",
       "1  29.944592  \n",
       "2  33.421952  \n",
       "3  39.967661  \n",
       "4  43.401939  "
      ]
     },
     "execution_count": 6,
     "metadata": {},
     "output_type": "execute_result"
    }
   ],
   "source": [
    "# Loading consumer price index data\n",
    "\n",
    "consumer_data_pth = os.path.join(os.pardir, 'data', 'food_security', 'FAOSTAT_consumer_price_indicators.csv')\n",
    "\n",
    "cpi_pdf = pd.read_csv(consumer_data_pth)[['Area Code (M49)', 'Year', 'Item', 'Months', 'Value']]\n",
    "cpi_pdf.head()\n"
   ]
  },
  {
   "cell_type": "code",
   "execution_count": 7,
   "metadata": {},
   "outputs": [
    {
     "data": {
      "text/html": [
       "<div>\n",
       "<style scoped>\n",
       "    .dataframe tbody tr th:only-of-type {\n",
       "        vertical-align: middle;\n",
       "    }\n",
       "\n",
       "    .dataframe tbody tr th {\n",
       "        vertical-align: top;\n",
       "    }\n",
       "\n",
       "    .dataframe thead th {\n",
       "        text-align: right;\n",
       "    }\n",
       "</style>\n",
       "<table border=\"1\" class=\"dataframe\">\n",
       "  <thead>\n",
       "    <tr style=\"text-align: right;\">\n",
       "      <th></th>\n",
       "      <th>Item</th>\n",
       "    </tr>\n",
       "  </thead>\n",
       "  <tbody>\n",
       "    <tr>\n",
       "      <th>0</th>\n",
       "      <td>Consumer Prices, Food Indices (2015 = 100)</td>\n",
       "    </tr>\n",
       "    <tr>\n",
       "      <th>261</th>\n",
       "      <td>Consumer Prices, General Indices (2015 = 100)</td>\n",
       "    </tr>\n",
       "    <tr>\n",
       "      <th>522</th>\n",
       "      <td>Food price inflation</td>\n",
       "    </tr>\n",
       "  </tbody>\n",
       "</table>\n",
       "</div>"
      ],
      "text/plain": [
       "                                              Item\n",
       "0       Consumer Prices, Food Indices (2015 = 100)\n",
       "261  Consumer Prices, General Indices (2015 = 100)\n",
       "522                           Food price inflation"
      ]
     },
     "execution_count": 7,
     "metadata": {},
     "output_type": "execute_result"
    }
   ],
   "source": [
    "cpi_pdf[['Item']].drop_duplicates()"
   ]
  },
  {
   "cell_type": "markdown",
   "metadata": {},
   "source": [
    "We see both food price indices and general price indices"
   ]
  },
  {
   "cell_type": "code",
   "execution_count": 33,
   "metadata": {},
   "outputs": [
    {
     "data": {
      "text/html": [
       "<div>\n",
       "<style scoped>\n",
       "    .dataframe tbody tr th:only-of-type {\n",
       "        vertical-align: middle;\n",
       "    }\n",
       "\n",
       "    .dataframe tbody tr th {\n",
       "        vertical-align: top;\n",
       "    }\n",
       "\n",
       "    .dataframe thead th {\n",
       "        text-align: right;\n",
       "    }\n",
       "</style>\n",
       "<table border=\"1\" class=\"dataframe\">\n",
       "  <thead>\n",
       "    <tr style=\"text-align: right;\">\n",
       "      <th></th>\n",
       "      <th>Economic Group</th>\n",
       "      <th>Year</th>\n",
       "      <th>Months</th>\n",
       "      <th>Item</th>\n",
       "      <th>Value</th>\n",
       "      <th>date</th>\n",
       "    </tr>\n",
       "  </thead>\n",
       "  <tbody>\n",
       "    <tr>\n",
       "      <th>0</th>\n",
       "      <td>High-income economies</td>\n",
       "      <td>2000</td>\n",
       "      <td>April</td>\n",
       "      <td>Consumer Prices, Food Indices (2015 = 100)</td>\n",
       "      <td>63.919783</td>\n",
       "      <td>2000-04-01</td>\n",
       "    </tr>\n",
       "    <tr>\n",
       "      <th>1</th>\n",
       "      <td>High-income economies</td>\n",
       "      <td>2000</td>\n",
       "      <td>April</td>\n",
       "      <td>Consumer Prices, General Indices (2015 = 100)</td>\n",
       "      <td>68.103791</td>\n",
       "      <td>2000-04-01</td>\n",
       "    </tr>\n",
       "    <tr>\n",
       "      <th>2</th>\n",
       "      <td>High-income economies</td>\n",
       "      <td>2000</td>\n",
       "      <td>August</td>\n",
       "      <td>Consumer Prices, Food Indices (2015 = 100)</td>\n",
       "      <td>64.219141</td>\n",
       "      <td>2000-08-01</td>\n",
       "    </tr>\n",
       "    <tr>\n",
       "      <th>3</th>\n",
       "      <td>High-income economies</td>\n",
       "      <td>2000</td>\n",
       "      <td>August</td>\n",
       "      <td>Consumer Prices, General Indices (2015 = 100)</td>\n",
       "      <td>68.561712</td>\n",
       "      <td>2000-08-01</td>\n",
       "    </tr>\n",
       "    <tr>\n",
       "      <th>4</th>\n",
       "      <td>High-income economies</td>\n",
       "      <td>2000</td>\n",
       "      <td>December</td>\n",
       "      <td>Consumer Prices, Food Indices (2015 = 100)</td>\n",
       "      <td>64.758543</td>\n",
       "      <td>2000-12-01</td>\n",
       "    </tr>\n",
       "  </tbody>\n",
       "</table>\n",
       "</div>"
      ],
      "text/plain": [
       "          Economic Group  Year    Months  \\\n",
       "0  High-income economies  2000     April   \n",
       "1  High-income economies  2000     April   \n",
       "2  High-income economies  2000    August   \n",
       "3  High-income economies  2000    August   \n",
       "4  High-income economies  2000  December   \n",
       "\n",
       "                                            Item      Value       date  \n",
       "0     Consumer Prices, Food Indices (2015 = 100)  63.919783 2000-04-01  \n",
       "1  Consumer Prices, General Indices (2015 = 100)  68.103791 2000-04-01  \n",
       "2     Consumer Prices, Food Indices (2015 = 100)  64.219141 2000-08-01  \n",
       "3  Consumer Prices, General Indices (2015 = 100)  68.561712 2000-08-01  \n",
       "4     Consumer Prices, Food Indices (2015 = 100)  64.758543 2000-12-01  "
      ]
     },
     "execution_count": 33,
     "metadata": {},
     "output_type": "execute_result"
    }
   ],
   "source": [
    "# Joining the cpi data with economic group \n",
    "\n",
    "cg_data_path = os.path.join(os.pardir, 'data', 'food_security', 'FAOSTAT_country_group.csv')\n",
    "cg_pdf = pd.read_csv(cg_data_path)\n",
    "\n",
    "# Filtering out all but the X income economies Country Group\n",
    "cg_pdf = cg_pdf[cg_pdf['Country Group Code'].isin([5858, 5859,9010, 9011])][['Country Group', 'M49 Code']].rename(columns={'M49 Code':'Area Code (M49)', 'Country Group': 'Economic Group'})\n",
    "ecpi_pdf = cpi_pdf.merge(cg_pdf).drop(columns=['Area Code (M49)']).groupby(['Economic Group', 'Year', 'Months', 'Item']).mean().reset_index()\n",
    "ecpi_pdf['date'] = pd.to_datetime(ecpi_pdf['Year'].astype(str)  + ecpi_pdf['Months'], format='%Y%B')\n",
    "ecpi_pdf .head()"
   ]
  },
  {
   "cell_type": "code",
   "execution_count": 35,
   "metadata": {},
   "outputs": [
    {
     "data": {
      "application/vnd.plotly.v1+json": {
       "config": {
        "plotlyServerURL": "https://plot.ly"
       },
       "data": [
        {
         "hovertemplate": "Economic Group=Lower-middle-income economies<br>date=%{x}<br>Value=%{y}<extra></extra>",
         "legendgroup": "Lower-middle-income economies",
         "line": {
          "color": "#636efa",
          "dash": "solid"
         },
         "marker": {
          "symbol": "circle"
         },
         "mode": "lines",
         "name": "Lower-middle-income economies",
         "showlegend": true,
         "type": "scattergl",
         "x": [
          "2000-01-01T00:00:00",
          "2000-02-01T00:00:00",
          "2000-03-01T00:00:00",
          "2000-04-01T00:00:00",
          "2000-05-01T00:00:00",
          "2000-06-01T00:00:00",
          "2000-07-01T00:00:00",
          "2000-08-01T00:00:00",
          "2000-09-01T00:00:00",
          "2000-10-01T00:00:00",
          "2000-11-01T00:00:00",
          "2000-12-01T00:00:00",
          "2001-01-01T00:00:00",
          "2001-02-01T00:00:00",
          "2001-03-01T00:00:00",
          "2001-04-01T00:00:00",
          "2001-05-01T00:00:00",
          "2001-06-01T00:00:00",
          "2001-07-01T00:00:00",
          "2001-08-01T00:00:00",
          "2001-09-01T00:00:00",
          "2001-10-01T00:00:00",
          "2001-11-01T00:00:00",
          "2001-12-01T00:00:00",
          "2002-01-01T00:00:00",
          "2002-02-01T00:00:00",
          "2002-03-01T00:00:00",
          "2002-04-01T00:00:00",
          "2002-05-01T00:00:00",
          "2002-06-01T00:00:00",
          "2002-07-01T00:00:00",
          "2002-08-01T00:00:00",
          "2002-09-01T00:00:00",
          "2002-10-01T00:00:00",
          "2002-11-01T00:00:00",
          "2002-12-01T00:00:00",
          "2003-01-01T00:00:00",
          "2003-02-01T00:00:00",
          "2003-03-01T00:00:00",
          "2003-04-01T00:00:00",
          "2003-05-01T00:00:00",
          "2003-06-01T00:00:00",
          "2003-07-01T00:00:00",
          "2003-08-01T00:00:00",
          "2003-09-01T00:00:00",
          "2003-10-01T00:00:00",
          "2003-11-01T00:00:00",
          "2003-12-01T00:00:00",
          "2004-01-01T00:00:00",
          "2004-02-01T00:00:00",
          "2004-03-01T00:00:00",
          "2004-04-01T00:00:00",
          "2004-05-01T00:00:00",
          "2004-06-01T00:00:00",
          "2004-07-01T00:00:00",
          "2004-08-01T00:00:00",
          "2004-09-01T00:00:00",
          "2004-10-01T00:00:00",
          "2004-11-01T00:00:00",
          "2004-12-01T00:00:00",
          "2005-01-01T00:00:00",
          "2005-02-01T00:00:00",
          "2005-03-01T00:00:00",
          "2005-04-01T00:00:00",
          "2005-05-01T00:00:00",
          "2005-06-01T00:00:00",
          "2005-07-01T00:00:00",
          "2005-08-01T00:00:00",
          "2005-09-01T00:00:00",
          "2005-10-01T00:00:00",
          "2005-11-01T00:00:00",
          "2005-12-01T00:00:00",
          "2006-01-01T00:00:00",
          "2006-02-01T00:00:00",
          "2006-03-01T00:00:00",
          "2006-04-01T00:00:00",
          "2006-05-01T00:00:00",
          "2006-06-01T00:00:00",
          "2006-07-01T00:00:00",
          "2006-08-01T00:00:00",
          "2006-09-01T00:00:00",
          "2006-10-01T00:00:00",
          "2006-11-01T00:00:00",
          "2006-12-01T00:00:00",
          "2007-01-01T00:00:00",
          "2007-02-01T00:00:00",
          "2007-03-01T00:00:00",
          "2007-04-01T00:00:00",
          "2007-05-01T00:00:00",
          "2007-06-01T00:00:00",
          "2007-07-01T00:00:00",
          "2007-08-01T00:00:00",
          "2007-09-01T00:00:00",
          "2007-10-01T00:00:00",
          "2007-11-01T00:00:00",
          "2007-12-01T00:00:00",
          "2008-01-01T00:00:00",
          "2008-02-01T00:00:00",
          "2008-03-01T00:00:00",
          "2008-04-01T00:00:00",
          "2008-05-01T00:00:00",
          "2008-06-01T00:00:00",
          "2008-07-01T00:00:00",
          "2008-08-01T00:00:00",
          "2008-09-01T00:00:00",
          "2008-10-01T00:00:00",
          "2008-11-01T00:00:00",
          "2008-12-01T00:00:00",
          "2009-01-01T00:00:00",
          "2009-02-01T00:00:00",
          "2009-03-01T00:00:00",
          "2009-04-01T00:00:00",
          "2009-05-01T00:00:00",
          "2009-06-01T00:00:00",
          "2009-07-01T00:00:00",
          "2009-08-01T00:00:00",
          "2009-09-01T00:00:00",
          "2009-10-01T00:00:00",
          "2009-11-01T00:00:00",
          "2009-12-01T00:00:00",
          "2010-01-01T00:00:00",
          "2010-02-01T00:00:00",
          "2010-03-01T00:00:00",
          "2010-04-01T00:00:00",
          "2010-05-01T00:00:00",
          "2010-06-01T00:00:00",
          "2010-07-01T00:00:00",
          "2010-08-01T00:00:00",
          "2010-09-01T00:00:00",
          "2010-10-01T00:00:00",
          "2010-11-01T00:00:00",
          "2010-12-01T00:00:00",
          "2011-01-01T00:00:00",
          "2011-02-01T00:00:00",
          "2011-03-01T00:00:00",
          "2011-04-01T00:00:00",
          "2011-05-01T00:00:00",
          "2011-06-01T00:00:00",
          "2011-07-01T00:00:00",
          "2011-08-01T00:00:00",
          "2011-09-01T00:00:00",
          "2011-10-01T00:00:00",
          "2011-11-01T00:00:00",
          "2011-12-01T00:00:00",
          "2012-01-01T00:00:00",
          "2012-02-01T00:00:00",
          "2012-03-01T00:00:00",
          "2012-04-01T00:00:00",
          "2012-05-01T00:00:00",
          "2012-06-01T00:00:00",
          "2012-07-01T00:00:00",
          "2012-08-01T00:00:00",
          "2012-09-01T00:00:00",
          "2012-10-01T00:00:00",
          "2012-11-01T00:00:00",
          "2012-12-01T00:00:00",
          "2013-01-01T00:00:00",
          "2013-02-01T00:00:00",
          "2013-03-01T00:00:00",
          "2013-04-01T00:00:00",
          "2013-05-01T00:00:00",
          "2013-06-01T00:00:00",
          "2013-07-01T00:00:00",
          "2013-08-01T00:00:00",
          "2013-09-01T00:00:00",
          "2013-10-01T00:00:00",
          "2013-11-01T00:00:00",
          "2013-12-01T00:00:00",
          "2014-01-01T00:00:00",
          "2014-02-01T00:00:00",
          "2014-03-01T00:00:00",
          "2014-04-01T00:00:00",
          "2014-05-01T00:00:00",
          "2014-06-01T00:00:00",
          "2014-07-01T00:00:00",
          "2014-08-01T00:00:00",
          "2014-09-01T00:00:00",
          "2014-10-01T00:00:00",
          "2014-11-01T00:00:00",
          "2014-12-01T00:00:00",
          "2015-01-01T00:00:00",
          "2015-02-01T00:00:00",
          "2015-03-01T00:00:00",
          "2015-04-01T00:00:00",
          "2015-05-01T00:00:00",
          "2015-06-01T00:00:00",
          "2015-07-01T00:00:00",
          "2015-08-01T00:00:00",
          "2015-09-01T00:00:00",
          "2015-10-01T00:00:00",
          "2015-11-01T00:00:00",
          "2015-12-01T00:00:00",
          "2016-01-01T00:00:00",
          "2016-02-01T00:00:00",
          "2016-03-01T00:00:00",
          "2016-04-01T00:00:00",
          "2016-05-01T00:00:00",
          "2016-06-01T00:00:00",
          "2016-07-01T00:00:00",
          "2016-08-01T00:00:00",
          "2016-09-01T00:00:00",
          "2016-10-01T00:00:00",
          "2016-11-01T00:00:00",
          "2016-12-01T00:00:00",
          "2017-01-01T00:00:00",
          "2017-02-01T00:00:00",
          "2017-03-01T00:00:00",
          "2017-04-01T00:00:00",
          "2017-05-01T00:00:00",
          "2017-06-01T00:00:00",
          "2017-07-01T00:00:00",
          "2017-08-01T00:00:00",
          "2017-09-01T00:00:00",
          "2017-10-01T00:00:00",
          "2017-11-01T00:00:00",
          "2017-12-01T00:00:00",
          "2018-01-01T00:00:00",
          "2018-02-01T00:00:00",
          "2018-03-01T00:00:00",
          "2018-04-01T00:00:00",
          "2018-05-01T00:00:00",
          "2018-06-01T00:00:00",
          "2018-07-01T00:00:00",
          "2018-08-01T00:00:00",
          "2018-09-01T00:00:00",
          "2018-10-01T00:00:00",
          "2018-11-01T00:00:00",
          "2018-12-01T00:00:00",
          "2019-01-01T00:00:00",
          "2019-02-01T00:00:00",
          "2019-03-01T00:00:00",
          "2019-04-01T00:00:00",
          "2019-05-01T00:00:00",
          "2019-06-01T00:00:00",
          "2019-07-01T00:00:00",
          "2019-08-01T00:00:00",
          "2019-09-01T00:00:00",
          "2019-10-01T00:00:00",
          "2019-11-01T00:00:00",
          "2019-12-01T00:00:00",
          "2020-01-01T00:00:00",
          "2020-02-01T00:00:00",
          "2020-03-01T00:00:00",
          "2020-04-01T00:00:00",
          "2020-05-01T00:00:00",
          "2020-06-01T00:00:00",
          "2020-07-01T00:00:00",
          "2020-08-01T00:00:00",
          "2020-09-01T00:00:00",
          "2020-10-01T00:00:00",
          "2020-11-01T00:00:00",
          "2020-12-01T00:00:00",
          "2021-01-01T00:00:00",
          "2021-02-01T00:00:00",
          "2021-03-01T00:00:00",
          "2021-04-01T00:00:00",
          "2021-05-01T00:00:00",
          "2021-06-01T00:00:00",
          "2021-07-01T00:00:00",
          "2021-08-01T00:00:00",
          "2021-09-01T00:00:00"
         ],
         "xaxis": "x",
         "y": [
          37.00004737777778,
          37.190428,
          37.36725402222222,
          37.51905795555555,
          37.69135493333333,
          37.87895588888889,
          37.99434448888889,
          38.08412982222222,
          38.163259266666664,
          38.30521126666667,
          38.47066142222222,
          38.71216606666667,
          39.02319148888889,
          39.23413497777778,
          39.46383455555555,
          39.6051642,
          39.806102422222224,
          39.91120086666667,
          40.02555668888889,
          40.11353677777778,
          40.25581375555555,
          40.42533308888889,
          40.67125253333333,
          40.916690933333335,
          41.221780933333335,
          41.43572208888889,
          41.573559688888885,
          41.803256777777776,
          42.034003,
          42.19270306666667,
          42.33156228888889,
          42.51492213333333,
          42.74038575555556,
          42.95206988888889,
          43.19172384444445,
          43.50200935555556,
          43.722772444444445,
          43.952909,
          44.113083333333336,
          44.32146271111112,
          44.53509313333333,
          44.66758913333334,
          44.67088782222222,
          44.75797,
          44.90898822222222,
          45.17130035555555,
          45.447375622222225,
          45.70606222222223,
          46.02655877777778,
          46.25781968888889,
          46.40127404444444,
          46.635613355555556,
          46.84331095555555,
          47.06789824444444,
          47.25681297777778,
          47.42212946666666,
          47.49962197777778,
          47.70600271111111,
          48.00323151111111,
          48.296562511111105,
          48.59878602222222,
          48.93010988888889,
          49.25032382222222,
          49.532896111111114,
          49.80277366666667,
          50.00999766666666,
          50.20523175555555,
          50.56328877777778,
          50.81194137777778,
          51.02103206666666,
          51.25786106666666,
          51.502873377777775,
          51.83663924444444,
          52.24760228888889,
          52.52129082222222,
          53.002415311111115,
          53.453056466666666,
          53.71771588888889,
          53.96146497777777,
          54.013456311111106,
          54.15264291111111,
          54.36975524444444,
          54.69688028888889,
          55.16800264444444,
          55.73731464444444,
          56.12888193333334,
          56.42487975555555,
          56.82546908888889,
          57.24267848888889,
          57.68452031111111,
          58.06344775555556,
          58.70251015555555,
          59.24995571111111,
          59.9656856,
          60.53106897777778,
          61.01061966666666,
          61.274602673913044,
          62.28031019565217,
          63.33369365217391,
          64.5165050652174,
          65.9982405,
          66.88717930434782,
          67.71626567391304,
          68.77019417391304,
          69.00395845652174,
          69.12976560869565,
          69.40754547826087,
          69.62000756521739,
          69.89762830434783,
          70.20963045652174,
          70.53193191304348,
          70.85260845652174,
          71.24418882608695,
          71.39378347826087,
          71.39372695652175,
          71.68602276086958,
          71.7118947173913,
          71.68459730434783,
          71.87717254347827,
          72.15878632608695,
          72.751504,
          73.24972923913043,
          73.69574306521739,
          73.88876582608695,
          74.12044634782609,
          74.45016552173912,
          74.67483134782609,
          75.22515417391305,
          76.15731819565217,
          76.6286367826087,
          77.20085447826087,
          77.80244565217392,
          78.69516923913044,
          79.28592163043479,
          79.81007845652174,
          80.6319382173913,
          80.82578058695653,
          80.83648802173913,
          81.2600775,
          81.72225019565217,
          81.97890245652174,
          82.08866980434783,
          82.34992715217392,
          82.71631323913043,
          83.36214760869565,
          83.71816117391305,
          84.24527819565218,
          84.89931767391305,
          85.02528354347827,
          85.25742880434782,
          85.64584571739131,
          86.01643460869565,
          86.28643854347825,
          86.42543339130434,
          86.71879389130434,
          87.312088,
          88.3183963478261,
          88.58080002173914,
          88.77439486956521,
          89.21360208695651,
          89.59353773913043,
          90.13085504347826,
          90.55618495652173,
          91.01744689130435,
          91.26685317391305,
          91.8115062826087,
          91.98778930434783,
          92.26127093478262,
          92.69402517391305,
          92.9445955,
          93.3548732173913,
          94.24070776086957,
          94.71081643478261,
          95.34069930434782,
          95.79785258695651,
          96.00524410869566,
          95.97085313043479,
          96.24785997826086,
          96.64511141304347,
          97.13031202173913,
          97.78755021739131,
          97.91818430434782,
          98.47752565217392,
          99.098531,
          99.69458539130436,
          100.14783908695652,
          100.37609545652174,
          100.54264580434783,
          100.89677595652174,
          101.39422306521739,
          101.89894897826086,
          102.23136956521739,
          102.5171019347826,
          102.89493723913043,
          103.30468484782608,
          104.3285827826087,
          105.08167054347825,
          105.4779194130435,
          105.83966258695652,
          105.84504932608695,
          106.0899955,
          106.51922389130435,
          107.29284228260869,
          107.85391510869566,
          108.79325806521739,
          109.6004995,
          110.35022115217392,
          111.3644010652174,
          111.88829482608696,
          112.1800838478261,
          112.62144189130434,
          113.0256924347826,
          113.48145367391305,
          113.81859010869564,
          114.33099332608697,
          114.93579036956523,
          116.41445565217391,
          116.87474726086955,
          117.40149867391305,
          118.19203226086957,
          118.8460917826087,
          119.29493547826087,
          119.80342356521739,
          120.399535,
          121.01186015217391,
          121.53780439130435,
          122.35193339130436,
          123.01667413043478,
          123.90331423913044,
          124.83164104347826,
          125.72342510869565,
          127.01747045652175,
          128.1462457173913,
          128.62584397826086,
          129.8349499347826,
          130.83339510869567,
          131.70478163043478,
          132.70841136956523,
          134.26559367391303,
          135.44452267391304,
          137.02904930434784,
          138.57932697826087,
          141.51508808695652,
          145.56200404347825,
          147.94949747826087,
          150.10368582608697,
          152.47626045652174,
          154.3529496521739,
          158.58896260869565,
          162.41380247826086,
          166.02390152173913,
          168.3131606521739,
          175.80986956521738,
          182.32664969565215,
          186.98629721739132,
          193.76805636956524,
          199.26176060869565,
          204.51328197826086,
          209.8768748478261,
          215.18948030434782,
          220.74435823913043
         ],
         "yaxis": "y"
        },
        {
         "hovertemplate": "Economic Group=High-income economies<br>date=%{x}<br>Value=%{y}<extra></extra>",
         "legendgroup": "High-income economies",
         "line": {
          "color": "#EF553B",
          "dash": "solid"
         },
         "marker": {
          "symbol": "circle"
         },
         "mode": "lines",
         "name": "High-income economies",
         "showlegend": true,
         "type": "scattergl",
         "x": [
          "2000-01-01T00:00:00",
          "2000-02-01T00:00:00",
          "2000-03-01T00:00:00",
          "2000-04-01T00:00:00",
          "2000-05-01T00:00:00",
          "2000-06-01T00:00:00",
          "2000-07-01T00:00:00",
          "2000-08-01T00:00:00",
          "2000-09-01T00:00:00",
          "2000-10-01T00:00:00",
          "2000-11-01T00:00:00",
          "2000-12-01T00:00:00",
          "2001-01-01T00:00:00",
          "2001-02-01T00:00:00",
          "2001-03-01T00:00:00",
          "2001-04-01T00:00:00",
          "2001-05-01T00:00:00",
          "2001-06-01T00:00:00",
          "2001-07-01T00:00:00",
          "2001-08-01T00:00:00",
          "2001-09-01T00:00:00",
          "2001-10-01T00:00:00",
          "2001-11-01T00:00:00",
          "2001-12-01T00:00:00",
          "2002-01-01T00:00:00",
          "2002-02-01T00:00:00",
          "2002-03-01T00:00:00",
          "2002-04-01T00:00:00",
          "2002-05-01T00:00:00",
          "2002-06-01T00:00:00",
          "2002-07-01T00:00:00",
          "2002-08-01T00:00:00",
          "2002-09-01T00:00:00",
          "2002-10-01T00:00:00",
          "2002-11-01T00:00:00",
          "2002-12-01T00:00:00",
          "2003-01-01T00:00:00",
          "2003-02-01T00:00:00",
          "2003-03-01T00:00:00",
          "2003-04-01T00:00:00",
          "2003-05-01T00:00:00",
          "2003-06-01T00:00:00",
          "2003-07-01T00:00:00",
          "2003-08-01T00:00:00",
          "2003-09-01T00:00:00",
          "2003-10-01T00:00:00",
          "2003-11-01T00:00:00",
          "2003-12-01T00:00:00",
          "2004-01-01T00:00:00",
          "2004-02-01T00:00:00",
          "2004-03-01T00:00:00",
          "2004-04-01T00:00:00",
          "2004-05-01T00:00:00",
          "2004-06-01T00:00:00",
          "2004-07-01T00:00:00",
          "2004-08-01T00:00:00",
          "2004-09-01T00:00:00",
          "2004-10-01T00:00:00",
          "2004-11-01T00:00:00",
          "2004-12-01T00:00:00",
          "2005-01-01T00:00:00",
          "2005-02-01T00:00:00",
          "2005-03-01T00:00:00",
          "2005-04-01T00:00:00",
          "2005-05-01T00:00:00",
          "2005-06-01T00:00:00",
          "2005-07-01T00:00:00",
          "2005-08-01T00:00:00",
          "2005-09-01T00:00:00",
          "2005-10-01T00:00:00",
          "2005-11-01T00:00:00",
          "2005-12-01T00:00:00",
          "2006-01-01T00:00:00",
          "2006-02-01T00:00:00",
          "2006-03-01T00:00:00",
          "2006-04-01T00:00:00",
          "2006-05-01T00:00:00",
          "2006-06-01T00:00:00",
          "2006-07-01T00:00:00",
          "2006-08-01T00:00:00",
          "2006-09-01T00:00:00",
          "2006-10-01T00:00:00",
          "2006-11-01T00:00:00",
          "2006-12-01T00:00:00",
          "2007-01-01T00:00:00",
          "2007-02-01T00:00:00",
          "2007-03-01T00:00:00",
          "2007-04-01T00:00:00",
          "2007-05-01T00:00:00",
          "2007-06-01T00:00:00",
          "2007-07-01T00:00:00",
          "2007-08-01T00:00:00",
          "2007-09-01T00:00:00",
          "2007-10-01T00:00:00",
          "2007-11-01T00:00:00",
          "2007-12-01T00:00:00",
          "2008-01-01T00:00:00",
          "2008-02-01T00:00:00",
          "2008-03-01T00:00:00",
          "2008-04-01T00:00:00",
          "2008-05-01T00:00:00",
          "2008-06-01T00:00:00",
          "2008-07-01T00:00:00",
          "2008-08-01T00:00:00",
          "2008-09-01T00:00:00",
          "2008-10-01T00:00:00",
          "2008-11-01T00:00:00",
          "2008-12-01T00:00:00",
          "2009-01-01T00:00:00",
          "2009-02-01T00:00:00",
          "2009-03-01T00:00:00",
          "2009-04-01T00:00:00",
          "2009-05-01T00:00:00",
          "2009-06-01T00:00:00",
          "2009-07-01T00:00:00",
          "2009-08-01T00:00:00",
          "2009-09-01T00:00:00",
          "2009-10-01T00:00:00",
          "2009-11-01T00:00:00",
          "2009-12-01T00:00:00",
          "2010-01-01T00:00:00",
          "2010-02-01T00:00:00",
          "2010-03-01T00:00:00",
          "2010-04-01T00:00:00",
          "2010-05-01T00:00:00",
          "2010-06-01T00:00:00",
          "2010-07-01T00:00:00",
          "2010-08-01T00:00:00",
          "2010-09-01T00:00:00",
          "2010-10-01T00:00:00",
          "2010-11-01T00:00:00",
          "2010-12-01T00:00:00",
          "2011-01-01T00:00:00",
          "2011-02-01T00:00:00",
          "2011-03-01T00:00:00",
          "2011-04-01T00:00:00",
          "2011-05-01T00:00:00",
          "2011-06-01T00:00:00",
          "2011-07-01T00:00:00",
          "2011-08-01T00:00:00",
          "2011-09-01T00:00:00",
          "2011-10-01T00:00:00",
          "2011-11-01T00:00:00",
          "2011-12-01T00:00:00",
          "2012-01-01T00:00:00",
          "2012-02-01T00:00:00",
          "2012-03-01T00:00:00",
          "2012-04-01T00:00:00",
          "2012-05-01T00:00:00",
          "2012-06-01T00:00:00",
          "2012-07-01T00:00:00",
          "2012-08-01T00:00:00",
          "2012-09-01T00:00:00",
          "2012-10-01T00:00:00",
          "2012-11-01T00:00:00",
          "2012-12-01T00:00:00",
          "2013-01-01T00:00:00",
          "2013-02-01T00:00:00",
          "2013-03-01T00:00:00",
          "2013-04-01T00:00:00",
          "2013-05-01T00:00:00",
          "2013-06-01T00:00:00",
          "2013-07-01T00:00:00",
          "2013-08-01T00:00:00",
          "2013-09-01T00:00:00",
          "2013-10-01T00:00:00",
          "2013-11-01T00:00:00",
          "2013-12-01T00:00:00",
          "2014-01-01T00:00:00",
          "2014-02-01T00:00:00",
          "2014-03-01T00:00:00",
          "2014-04-01T00:00:00",
          "2014-05-01T00:00:00",
          "2014-06-01T00:00:00",
          "2014-07-01T00:00:00",
          "2014-08-01T00:00:00",
          "2014-09-01T00:00:00",
          "2014-10-01T00:00:00",
          "2014-11-01T00:00:00",
          "2014-12-01T00:00:00",
          "2015-01-01T00:00:00",
          "2015-02-01T00:00:00",
          "2015-03-01T00:00:00",
          "2015-04-01T00:00:00",
          "2015-05-01T00:00:00",
          "2015-06-01T00:00:00",
          "2015-07-01T00:00:00",
          "2015-08-01T00:00:00",
          "2015-09-01T00:00:00",
          "2015-10-01T00:00:00",
          "2015-11-01T00:00:00",
          "2015-12-01T00:00:00",
          "2016-01-01T00:00:00",
          "2016-02-01T00:00:00",
          "2016-03-01T00:00:00",
          "2016-04-01T00:00:00",
          "2016-05-01T00:00:00",
          "2016-06-01T00:00:00",
          "2016-07-01T00:00:00",
          "2016-08-01T00:00:00",
          "2016-09-01T00:00:00",
          "2016-10-01T00:00:00",
          "2016-11-01T00:00:00",
          "2016-12-01T00:00:00",
          "2017-01-01T00:00:00",
          "2017-02-01T00:00:00",
          "2017-03-01T00:00:00",
          "2017-04-01T00:00:00",
          "2017-05-01T00:00:00",
          "2017-06-01T00:00:00",
          "2017-07-01T00:00:00",
          "2017-08-01T00:00:00",
          "2017-09-01T00:00:00",
          "2017-10-01T00:00:00",
          "2017-11-01T00:00:00",
          "2017-12-01T00:00:00",
          "2018-01-01T00:00:00",
          "2018-02-01T00:00:00",
          "2018-03-01T00:00:00",
          "2018-04-01T00:00:00",
          "2018-05-01T00:00:00",
          "2018-06-01T00:00:00",
          "2018-07-01T00:00:00",
          "2018-08-01T00:00:00",
          "2018-09-01T00:00:00",
          "2018-10-01T00:00:00",
          "2018-11-01T00:00:00",
          "2018-12-01T00:00:00",
          "2019-01-01T00:00:00",
          "2019-02-01T00:00:00",
          "2019-03-01T00:00:00",
          "2019-04-01T00:00:00",
          "2019-05-01T00:00:00",
          "2019-06-01T00:00:00",
          "2019-07-01T00:00:00",
          "2019-08-01T00:00:00",
          "2019-09-01T00:00:00",
          "2019-10-01T00:00:00",
          "2019-11-01T00:00:00",
          "2019-12-01T00:00:00",
          "2020-01-01T00:00:00",
          "2020-02-01T00:00:00",
          "2020-03-01T00:00:00",
          "2020-04-01T00:00:00",
          "2020-05-01T00:00:00",
          "2020-06-01T00:00:00",
          "2020-07-01T00:00:00",
          "2020-08-01T00:00:00",
          "2020-09-01T00:00:00",
          "2020-10-01T00:00:00",
          "2020-11-01T00:00:00",
          "2020-12-01T00:00:00",
          "2021-01-01T00:00:00",
          "2021-02-01T00:00:00",
          "2021-03-01T00:00:00",
          "2021-04-01T00:00:00",
          "2021-05-01T00:00:00",
          "2021-06-01T00:00:00",
          "2021-07-01T00:00:00",
          "2021-08-01T00:00:00",
          "2021-09-01T00:00:00"
         ],
         "xaxis": "x",
         "y": [
          63.693677290322576,
          63.85047498387097,
          63.8570209032258,
          63.91978259677419,
          64.07556893548387,
          64.09051420967742,
          64.19226320967742,
          64.21914064516129,
          64.33142516129031,
          64.4498678064516,
          64.5736409516129,
          64.75854333870969,
          65.1681335483871,
          65.37290019354839,
          65.68889148387096,
          66.04635727419355,
          66.49242235483871,
          66.74904733870967,
          66.53222772580645,
          66.54827424193547,
          66.61961938709678,
          66.80098022580646,
          66.75589941935485,
          67.08364970967742,
          67.78922782258066,
          67.80705083870967,
          67.86874538709677,
          67.91807453225807,
          67.91735016129033,
          67.76248101612904,
          67.60986912903225,
          67.59274325806452,
          67.73471446774194,
          67.77857662903226,
          67.83318166129033,
          67.98195846774193,
          68.30863443548387,
          68.56663743548387,
          68.82842311290322,
          68.91565383870967,
          69.0584568064516,
          69.09706543548387,
          68.89669356451613,
          68.86188472580645,
          69.12587438709677,
          69.18664748387097,
          69.35066912903226,
          69.43607477419354,
          69.89834843548387,
          69.99345220967741,
          70.17269467741936,
          70.2422932580645,
          70.45538061290323,
          70.5387284516129,
          70.52452737096775,
          70.42618527419354,
          70.45405140322582,
          70.5227240967742,
          70.67563146774194,
          70.96438370967742,
          71.0606973064516,
          71.4478734516129,
          71.58584266129033,
          71.4813182419355,
          71.61550258064516,
          71.57916540322582,
          71.42609025806452,
          71.41565353225806,
          71.61331229032258,
          71.75318927419355,
          71.9343597419355,
          72.17168248387097,
          72.66380308064517,
          72.8796080483871,
          72.98898898387097,
          73.21631059677419,
          73.6066585483871,
          73.77776672580646,
          73.89503970967742,
          74.09928072580644,
          74.41315633870967,
          74.46155587096774,
          74.75898970967742,
          74.99426780645162,
          75.55158916129032,
          75.75820029032259,
          75.81143567741935,
          76.26101088709677,
          76.46490391935484,
          76.61782058064516,
          76.87128974193548,
          77.27162266129032,
          77.92883627419354,
          78.67798891935485,
          79.34050361290323,
          79.89248380645162,
          80.89487196774193,
          81.58607932258064,
          82.01304627419356,
          82.72343535483871,
          83.36685320967743,
          83.76042177419356,
          84.2979695,
          84.6120695,
          85.07345491935484,
          85.4629844032258,
          85.95018854838709,
          86.20462620967741,
          86.82324409677419,
          86.95151711290323,
          87.01895716129033,
          86.73929785483871,
          86.70914964516129,
          86.4887085483871,
          86.21776593548387,
          85.97422908064516,
          86.04724209677418,
          85.89741564516129,
          85.96983932258065,
          86.08929009677419,
          86.60573685483871,
          86.95803162903225,
          87.15581106451613,
          87.52157151612903,
          87.52749087096774,
          87.62200666129033,
          87.85849985483871,
          88.13562419354838,
          88.70025133870968,
          88.83484424193549,
          88.95072853225805,
          89.2579858064516,
          89.93590941935483,
          90.56435798387098,
          90.93973046774194,
          91.21375633870967,
          91.66525575806452,
          91.66791806451613,
          91.77658216129032,
          91.85181250000001,
          92.12182851612903,
          92.32572096774193,
          92.594779,
          92.94634916129033,
          93.5126850483871,
          94.01954979032259,
          94.32688267741935,
          94.42197408064516,
          94.59783583870968,
          94.59905008064516,
          94.6842649516129,
          94.8642684516129,
          95.26432111290323,
          95.55732183870968,
          95.65137169354838,
          95.90018498387097,
          96.656228,
          96.92900279032258,
          97.00892803225807,
          97.34117680645161,
          97.67366279032258,
          97.87561538709677,
          97.80114422580645,
          97.72741793548387,
          97.76291416129031,
          97.75433541935485,
          97.71308970967742,
          98.01450237096775,
          98.46648408064517,
          98.70834675806452,
          98.72132314516129,
          98.72748785483871,
          98.8043355967742,
          98.82339780645162,
          98.80922248387097,
          98.80876454838709,
          99.06082172580645,
          99.18966609677419,
          99.27808480645162,
          99.10430274193548,
          99.68707066129032,
          99.87246708064515,
          99.89693456451613,
          99.82554920967742,
          100.19121933870969,
          100.19409035483872,
          100.1065975,
          100.36861841935485,
          100.66231712903225,
          100.89226082258065,
          100.70387729032258,
          100.47266596774195,
          100.67217579032257,
          101.10354730645162,
          100.88253974193549,
          101.05745991935483,
          101.179219,
          101.0745531935484,
          101.40826690322581,
          101.55384548387097,
          101.61835685483871,
          101.52398670967742,
          101.5181144516129,
          101.6676905967742,
          102.283309,
          102.87124351612904,
          102.66706767741935,
          102.59156630645161,
          102.9399215967742,
          102.99602056451613,
          103.34930014516128,
          103.47432072580645,
          103.64239482258064,
          103.97383675806451,
          104.09243522580645,
          104.18048206451613,
          104.85095888709677,
          105.06148275806451,
          104.88368416129032,
          104.93004316129033,
          105.16077608064516,
          105.42166561290323,
          105.77874888709677,
          105.86792883870969,
          106.36364543548386,
          106.63829533870968,
          106.60469203225806,
          106.6429461935484,
          107.38034096774194,
          107.9568375483871,
          108.17480585483871,
          108.16966930645161,
          108.5036839032258,
          108.90641516129031,
          109.42239282258065,
          109.88680061290323,
          110.18789374193548,
          110.38200404838709,
          110.811243,
          111.10683806451613,
          112.24999290322582,
          112.8384060483871,
          113.31120851612904,
          114.26026193548387,
          114.58381766129031,
          114.66878349999999,
          114.70996056451614,
          115.09293917741935,
          115.23793745161291,
          115.8207330967742,
          115.84960943548387,
          115.93696635483872,
          116.92213841935484,
          117.49460520967742,
          117.76571087096774,
          118.45045735483872,
          119.12767398387096,
          119.67224109677419,
          120.31647406451613,
          120.91445214516129,
          121.4378699516129
         ],
         "yaxis": "y"
        },
        {
         "hovertemplate": "Economic Group=Low income economies<br>date=%{x}<br>Value=%{y}<extra></extra>",
         "legendgroup": "Low income economies",
         "line": {
          "color": "#00cc96",
          "dash": "solid"
         },
         "marker": {
          "symbol": "circle"
         },
         "mode": "lines",
         "name": "Low income economies",
         "showlegend": true,
         "type": "scattergl",
         "x": [
          "2000-01-01T00:00:00",
          "2000-02-01T00:00:00",
          "2000-03-01T00:00:00",
          "2000-04-01T00:00:00",
          "2000-05-01T00:00:00",
          "2000-06-01T00:00:00",
          "2000-07-01T00:00:00",
          "2000-08-01T00:00:00",
          "2000-09-01T00:00:00",
          "2000-10-01T00:00:00",
          "2000-11-01T00:00:00",
          "2000-12-01T00:00:00",
          "2001-01-01T00:00:00",
          "2001-02-01T00:00:00",
          "2001-03-01T00:00:00",
          "2001-04-01T00:00:00",
          "2001-05-01T00:00:00",
          "2001-06-01T00:00:00",
          "2001-07-01T00:00:00",
          "2001-08-01T00:00:00",
          "2001-09-01T00:00:00",
          "2001-10-01T00:00:00",
          "2001-11-01T00:00:00",
          "2001-12-01T00:00:00",
          "2002-01-01T00:00:00",
          "2002-02-01T00:00:00",
          "2002-03-01T00:00:00",
          "2002-04-01T00:00:00",
          "2002-05-01T00:00:00",
          "2002-06-01T00:00:00",
          "2002-07-01T00:00:00",
          "2002-08-01T00:00:00",
          "2002-09-01T00:00:00",
          "2002-10-01T00:00:00",
          "2002-11-01T00:00:00",
          "2002-12-01T00:00:00",
          "2003-01-01T00:00:00",
          "2003-02-01T00:00:00",
          "2003-03-01T00:00:00",
          "2003-04-01T00:00:00",
          "2003-05-01T00:00:00",
          "2003-06-01T00:00:00",
          "2003-07-01T00:00:00",
          "2003-08-01T00:00:00",
          "2003-09-01T00:00:00",
          "2003-10-01T00:00:00",
          "2003-11-01T00:00:00",
          "2003-12-01T00:00:00",
          "2004-01-01T00:00:00",
          "2004-02-01T00:00:00",
          "2004-03-01T00:00:00",
          "2004-04-01T00:00:00",
          "2004-05-01T00:00:00",
          "2004-06-01T00:00:00",
          "2004-07-01T00:00:00",
          "2004-08-01T00:00:00",
          "2004-09-01T00:00:00",
          "2004-10-01T00:00:00",
          "2004-11-01T00:00:00",
          "2004-12-01T00:00:00",
          "2005-01-01T00:00:00",
          "2005-02-01T00:00:00",
          "2005-03-01T00:00:00",
          "2005-04-01T00:00:00",
          "2005-05-01T00:00:00",
          "2005-06-01T00:00:00",
          "2005-07-01T00:00:00",
          "2005-08-01T00:00:00",
          "2005-09-01T00:00:00",
          "2005-10-01T00:00:00",
          "2005-11-01T00:00:00",
          "2005-12-01T00:00:00",
          "2006-01-01T00:00:00",
          "2006-02-01T00:00:00",
          "2006-03-01T00:00:00",
          "2006-04-01T00:00:00",
          "2006-05-01T00:00:00",
          "2006-06-01T00:00:00",
          "2006-07-01T00:00:00",
          "2006-08-01T00:00:00",
          "2006-09-01T00:00:00",
          "2006-10-01T00:00:00",
          "2006-11-01T00:00:00",
          "2006-12-01T00:00:00",
          "2007-01-01T00:00:00",
          "2007-02-01T00:00:00",
          "2007-03-01T00:00:00",
          "2007-04-01T00:00:00",
          "2007-05-01T00:00:00",
          "2007-06-01T00:00:00",
          "2007-07-01T00:00:00",
          "2007-08-01T00:00:00",
          "2007-09-01T00:00:00",
          "2007-10-01T00:00:00",
          "2007-11-01T00:00:00",
          "2007-12-01T00:00:00",
          "2008-01-01T00:00:00",
          "2008-02-01T00:00:00",
          "2008-03-01T00:00:00",
          "2008-04-01T00:00:00",
          "2008-05-01T00:00:00",
          "2008-06-01T00:00:00",
          "2008-07-01T00:00:00",
          "2008-08-01T00:00:00",
          "2008-09-01T00:00:00",
          "2008-10-01T00:00:00",
          "2008-11-01T00:00:00",
          "2008-12-01T00:00:00",
          "2009-01-01T00:00:00",
          "2009-02-01T00:00:00",
          "2009-03-01T00:00:00",
          "2009-04-01T00:00:00",
          "2009-05-01T00:00:00",
          "2009-06-01T00:00:00",
          "2009-07-01T00:00:00",
          "2009-08-01T00:00:00",
          "2009-09-01T00:00:00",
          "2009-10-01T00:00:00",
          "2009-11-01T00:00:00",
          "2009-12-01T00:00:00",
          "2010-01-01T00:00:00",
          "2010-02-01T00:00:00",
          "2010-03-01T00:00:00",
          "2010-04-01T00:00:00",
          "2010-05-01T00:00:00",
          "2010-06-01T00:00:00",
          "2010-07-01T00:00:00",
          "2010-08-01T00:00:00",
          "2010-09-01T00:00:00",
          "2010-10-01T00:00:00",
          "2010-11-01T00:00:00",
          "2010-12-01T00:00:00",
          "2011-01-01T00:00:00",
          "2011-02-01T00:00:00",
          "2011-03-01T00:00:00",
          "2011-04-01T00:00:00",
          "2011-05-01T00:00:00",
          "2011-06-01T00:00:00",
          "2011-07-01T00:00:00",
          "2011-08-01T00:00:00",
          "2011-09-01T00:00:00",
          "2011-10-01T00:00:00",
          "2011-11-01T00:00:00",
          "2011-12-01T00:00:00",
          "2012-01-01T00:00:00",
          "2012-02-01T00:00:00",
          "2012-03-01T00:00:00",
          "2012-04-01T00:00:00",
          "2012-05-01T00:00:00",
          "2012-06-01T00:00:00",
          "2012-07-01T00:00:00",
          "2012-08-01T00:00:00",
          "2012-09-01T00:00:00",
          "2012-10-01T00:00:00",
          "2012-11-01T00:00:00",
          "2012-12-01T00:00:00",
          "2013-01-01T00:00:00",
          "2013-02-01T00:00:00",
          "2013-03-01T00:00:00",
          "2013-04-01T00:00:00",
          "2013-05-01T00:00:00",
          "2013-06-01T00:00:00",
          "2013-07-01T00:00:00",
          "2013-08-01T00:00:00",
          "2013-09-01T00:00:00",
          "2013-10-01T00:00:00",
          "2013-11-01T00:00:00",
          "2013-12-01T00:00:00",
          "2014-01-01T00:00:00",
          "2014-02-01T00:00:00",
          "2014-03-01T00:00:00",
          "2014-04-01T00:00:00",
          "2014-05-01T00:00:00",
          "2014-06-01T00:00:00",
          "2014-07-01T00:00:00",
          "2014-08-01T00:00:00",
          "2014-09-01T00:00:00",
          "2014-10-01T00:00:00",
          "2014-11-01T00:00:00",
          "2014-12-01T00:00:00",
          "2015-01-01T00:00:00",
          "2015-02-01T00:00:00",
          "2015-03-01T00:00:00",
          "2015-04-01T00:00:00",
          "2015-05-01T00:00:00",
          "2015-06-01T00:00:00",
          "2015-07-01T00:00:00",
          "2015-08-01T00:00:00",
          "2015-09-01T00:00:00",
          "2015-10-01T00:00:00",
          "2015-11-01T00:00:00",
          "2015-12-01T00:00:00",
          "2016-01-01T00:00:00",
          "2016-02-01T00:00:00",
          "2016-03-01T00:00:00",
          "2016-04-01T00:00:00",
          "2016-05-01T00:00:00",
          "2016-06-01T00:00:00",
          "2016-07-01T00:00:00",
          "2016-08-01T00:00:00",
          "2016-09-01T00:00:00",
          "2016-10-01T00:00:00",
          "2016-11-01T00:00:00",
          "2016-12-01T00:00:00",
          "2017-01-01T00:00:00",
          "2017-02-01T00:00:00",
          "2017-03-01T00:00:00",
          "2017-04-01T00:00:00",
          "2017-05-01T00:00:00",
          "2017-06-01T00:00:00",
          "2017-07-01T00:00:00",
          "2017-08-01T00:00:00",
          "2017-09-01T00:00:00",
          "2017-10-01T00:00:00",
          "2017-11-01T00:00:00",
          "2017-12-01T00:00:00",
          "2018-01-01T00:00:00",
          "2018-02-01T00:00:00",
          "2018-03-01T00:00:00",
          "2018-04-01T00:00:00",
          "2018-05-01T00:00:00",
          "2018-06-01T00:00:00",
          "2018-07-01T00:00:00",
          "2018-08-01T00:00:00",
          "2018-09-01T00:00:00",
          "2018-10-01T00:00:00",
          "2018-11-01T00:00:00",
          "2018-12-01T00:00:00",
          "2019-01-01T00:00:00",
          "2019-02-01T00:00:00",
          "2019-03-01T00:00:00",
          "2019-04-01T00:00:00",
          "2019-05-01T00:00:00",
          "2019-06-01T00:00:00",
          "2019-07-01T00:00:00",
          "2019-08-01T00:00:00",
          "2019-09-01T00:00:00",
          "2019-10-01T00:00:00",
          "2019-11-01T00:00:00",
          "2019-12-01T00:00:00",
          "2020-01-01T00:00:00",
          "2020-02-01T00:00:00",
          "2020-03-01T00:00:00",
          "2020-04-01T00:00:00",
          "2020-05-01T00:00:00",
          "2020-06-01T00:00:00",
          "2020-07-01T00:00:00",
          "2020-08-01T00:00:00",
          "2020-09-01T00:00:00",
          "2020-10-01T00:00:00",
          "2020-11-01T00:00:00",
          "2020-12-01T00:00:00",
          "2021-01-01T00:00:00",
          "2021-02-01T00:00:00",
          "2021-03-01T00:00:00",
          "2021-04-01T00:00:00",
          "2021-05-01T00:00:00",
          "2021-06-01T00:00:00",
          "2021-07-01T00:00:00",
          "2021-08-01T00:00:00",
          "2021-09-01T00:00:00"
         ],
         "xaxis": "x",
         "y": [
          37.249867103448274,
          37.13925979310345,
          37.332233206896554,
          37.42836534482758,
          37.76568582758621,
          38.00466106896551,
          37.95395813793104,
          38.00273344827586,
          38.00270086206896,
          38.04723820689656,
          38.0844628275862,
          38.567666482758625,
          39.052783999999996,
          38.910217448275866,
          39.67131555172414,
          39.83483375862069,
          40.16597017241379,
          40.664593068965516,
          40.913620206896546,
          41.21801137931034,
          41.119410655172416,
          41.35037313793103,
          41.553935103448275,
          41.652326655172416,
          41.83150172413793,
          42.20502996551724,
          42.44053113793104,
          42.66698065517242,
          42.951115103448274,
          43.435627,
          43.68893720689655,
          43.485092620689656,
          43.13060624137931,
          43.23760634482758,
          43.52240317241379,
          43.38409355172414,
          43.54341710344828,
          43.702803379310346,
          43.50637037931035,
          43.83447386206897,
          44.62305789655172,
          45.0808175862069,
          44.801222344827586,
          44.60689586206897,
          44.61896,
          44.81746817241379,
          45.07584468965517,
          44.92660882758621,
          44.914510896551725,
          44.916167551724136,
          44.949564034482755,
          45.383645413793104,
          46.07051310344827,
          46.472207137931036,
          46.802906586206895,
          47.14694968965517,
          47.10434737931035,
          47.788223379310345,
          48.246636,
          48.218221275862064,
          48.615591241379306,
          48.98804724137931,
          49.50781468965518,
          50.15466437931035,
          50.804620517241375,
          51.47803024137931,
          52.278868068965515,
          52.56820348275862,
          52.12859272413793,
          52.4116048275862,
          51.89018855172414,
          51.59464675862069,
          51.87121058620689,
          52.069985448275865,
          52.350577,
          52.83433237931035,
          53.423389965517245,
          53.90528275862069,
          53.95715665517241,
          54.194448758620695,
          54.60609396551724,
          54.976502413793106,
          54.92581520689655,
          55.568275793103446,
          55.46209196551724,
          55.92879679310345,
          56.209086896551725,
          56.199174793103445,
          56.150666931034486,
          56.76600896551724,
          57.26729827586207,
          57.16615562068965,
          58.09269368965517,
          58.920768379310346,
          59.79856251724138,
          59.79189534482758,
          60.257711,
          60.852526499999996,
          61.491250199999996,
          62.459271400000006,
          63.835905866666664,
          65.402819,
          66.76920439999999,
          67.78102129999999,
          68.31139723333334,
          68.50611316666667,
          68.1455287,
          67.828269,
          67.8199444,
          67.59967520000001,
          67.29040933333333,
          67.65617803333333,
          67.7894439,
          67.5152434,
          68.4246391,
          69.00676046666668,
          69.38313176666666,
          69.06997526666667,
          69.30185093333333,
          69.09234586666666,
          69.62658316666666,
          69.75519576666667,
          69.78844843333333,
          70.11075696666667,
          70.37335209999999,
          71.03655869999999,
          71.8682802,
          72.6411015,
          72.80186673333333,
          72.96783356666667,
          73.37978673333333,
          74.1057778,
          75.22216806666667,
          75.09776256666667,
          75.42040186666667,
          76.4624715,
          76.96324603333332,
          78.1712176,
          79.40481756666667,
          80.05347356666667,
          80.15901726666667,
          80.78173443333334,
          81.5196343,
          82.1213214,
          82.46924346666667,
          82.7105803,
          83.21357540000001,
          83.9804167,
          85.28042146666667,
          85.28596013333332,
          85.89248963333333,
          86.77988056666666,
          87.21213306666667,
          87.1083013,
          87.86702543333332,
          87.7094296,
          87.96408939999999,
          88.16066436666667,
          88.53644393333335,
          88.98666543333334,
          89.39279376666667,
          89.65059373333334,
          90.55050823333335,
          91.26160759999999,
          91.8573883,
          92.46633019999999,
          92.3900422,
          91.70175466666666,
          91.79829826666668,
          91.7513857,
          92.2047997,
          92.43941799999999,
          92.8101961,
          92.9579847,
          93.74419053333332,
          93.92603383333334,
          93.86621553333333,
          94.145211,
          94.66530403333333,
          94.49980736666666,
          95.0429452,
          95.684388,
          96.50638869999999,
          97.4208758,
          98.55361996666667,
          99.85878819999999,
          100.32971666666667,
          101.33340043333332,
          103.08585790000001,
          103.77531743333334,
          105.0887877,
          106.17742679999999,
          107.77776560000001,
          108.96248963333332,
          110.1117944,
          112.10249596666667,
          114.56218606666667,
          115.5085191,
          126.02974446666667,
          126.9513269,
          131.06318113333333,
          131.61040626666667,
          134.15575386666666,
          141.3370866,
          140.5479933,
          155.16098453333333,
          149.98458346666666,
          148.59847856666667,
          165.79901213333332,
          158.9641026,
          159.89358053333336,
          161.07553776666666,
          165.37816216666667,
          162.59645373333333,
          171.22786406666668,
          173.3498735,
          179.62264510000003,
          181.04351353333334,
          188.3564723,
          211.54532033333334,
          201.31591043333336,
          195.42137793333333,
          221.39547793333335,
          201.54966196666663,
          192.3139931,
          191.8033306,
          196.9902111,
          196.3843642,
          228.5261716,
          251.30760693333332,
          270.652835,
          281.4024915333333,
          291.7750564,
          299.9715235333333,
          322.6049175,
          333.36284943333334,
          343.9278103666667,
          362.75176123333335,
          305.82104259999994,
          322.9084459,
          330.54671626666664,
          351.5469804,
          370.49244293333334,
          404.6865937333333,
          423.2066131,
          416.58612460000006,
          485.211179,
          524.0265431,
          560.3537447666666,
          572.6880883666668,
          566.3224197333333,
          559.1705110333334,
          580.9733869666667,
          607.9434742666667,
          618.7932127666667,
          628.6085878666668,
          637.0808057666667,
          651.1986459666666,
          663.9176157333333,
          674.9846480666668,
          685.9636155000001
         ],
         "yaxis": "y"
        },
        {
         "hovertemplate": "Economic Group=Upper-middle-income economies<br>date=%{x}<br>Value=%{y}<extra></extra>",
         "legendgroup": "Upper-middle-income economies",
         "line": {
          "color": "#ab63fa",
          "dash": "solid"
         },
         "marker": {
          "symbol": "circle"
         },
         "mode": "lines",
         "name": "Upper-middle-income economies",
         "showlegend": true,
         "type": "scattergl",
         "x": [
          "2000-01-01T00:00:00",
          "2000-02-01T00:00:00",
          "2000-03-01T00:00:00",
          "2000-04-01T00:00:00",
          "2000-05-01T00:00:00",
          "2000-06-01T00:00:00",
          "2000-07-01T00:00:00",
          "2000-08-01T00:00:00",
          "2000-09-01T00:00:00",
          "2000-10-01T00:00:00",
          "2000-11-01T00:00:00",
          "2000-12-01T00:00:00",
          "2001-01-01T00:00:00",
          "2001-02-01T00:00:00",
          "2001-03-01T00:00:00",
          "2001-04-01T00:00:00",
          "2001-05-01T00:00:00",
          "2001-06-01T00:00:00",
          "2001-07-01T00:00:00",
          "2001-08-01T00:00:00",
          "2001-09-01T00:00:00",
          "2001-10-01T00:00:00",
          "2001-11-01T00:00:00",
          "2001-12-01T00:00:00",
          "2002-01-01T00:00:00",
          "2002-02-01T00:00:00",
          "2002-03-01T00:00:00",
          "2002-04-01T00:00:00",
          "2002-05-01T00:00:00",
          "2002-06-01T00:00:00",
          "2002-07-01T00:00:00",
          "2002-08-01T00:00:00",
          "2002-09-01T00:00:00",
          "2002-10-01T00:00:00",
          "2002-11-01T00:00:00",
          "2002-12-01T00:00:00",
          "2003-01-01T00:00:00",
          "2003-02-01T00:00:00",
          "2003-03-01T00:00:00",
          "2003-04-01T00:00:00",
          "2003-05-01T00:00:00",
          "2003-06-01T00:00:00",
          "2003-07-01T00:00:00",
          "2003-08-01T00:00:00",
          "2003-09-01T00:00:00",
          "2003-10-01T00:00:00",
          "2003-11-01T00:00:00",
          "2003-12-01T00:00:00",
          "2004-01-01T00:00:00",
          "2004-02-01T00:00:00",
          "2004-03-01T00:00:00",
          "2004-04-01T00:00:00",
          "2004-05-01T00:00:00",
          "2004-06-01T00:00:00",
          "2004-07-01T00:00:00",
          "2004-08-01T00:00:00",
          "2004-09-01T00:00:00",
          "2004-10-01T00:00:00",
          "2004-11-01T00:00:00",
          "2004-12-01T00:00:00",
          "2005-01-01T00:00:00",
          "2005-02-01T00:00:00",
          "2005-03-01T00:00:00",
          "2005-04-01T00:00:00",
          "2005-05-01T00:00:00",
          "2005-06-01T00:00:00",
          "2005-07-01T00:00:00",
          "2005-08-01T00:00:00",
          "2005-09-01T00:00:00",
          "2005-10-01T00:00:00",
          "2005-11-01T00:00:00",
          "2005-12-01T00:00:00",
          "2006-01-01T00:00:00",
          "2006-02-01T00:00:00",
          "2006-03-01T00:00:00",
          "2006-04-01T00:00:00",
          "2006-05-01T00:00:00",
          "2006-06-01T00:00:00",
          "2006-07-01T00:00:00",
          "2006-08-01T00:00:00",
          "2006-09-01T00:00:00",
          "2006-10-01T00:00:00",
          "2006-11-01T00:00:00",
          "2006-12-01T00:00:00",
          "2007-01-01T00:00:00",
          "2007-02-01T00:00:00",
          "2007-03-01T00:00:00",
          "2007-04-01T00:00:00",
          "2007-05-01T00:00:00",
          "2007-06-01T00:00:00",
          "2007-07-01T00:00:00",
          "2007-08-01T00:00:00",
          "2007-09-01T00:00:00",
          "2007-10-01T00:00:00",
          "2007-11-01T00:00:00",
          "2007-12-01T00:00:00",
          "2008-01-01T00:00:00",
          "2008-02-01T00:00:00",
          "2008-03-01T00:00:00",
          "2008-04-01T00:00:00",
          "2008-05-01T00:00:00",
          "2008-06-01T00:00:00",
          "2008-07-01T00:00:00",
          "2008-08-01T00:00:00",
          "2008-09-01T00:00:00",
          "2008-10-01T00:00:00",
          "2008-11-01T00:00:00",
          "2008-12-01T00:00:00",
          "2009-01-01T00:00:00",
          "2009-02-01T00:00:00",
          "2009-03-01T00:00:00",
          "2009-04-01T00:00:00",
          "2009-05-01T00:00:00",
          "2009-06-01T00:00:00",
          "2009-07-01T00:00:00",
          "2009-08-01T00:00:00",
          "2009-09-01T00:00:00",
          "2009-10-01T00:00:00",
          "2009-11-01T00:00:00",
          "2009-12-01T00:00:00",
          "2010-01-01T00:00:00",
          "2010-02-01T00:00:00",
          "2010-03-01T00:00:00",
          "2010-04-01T00:00:00",
          "2010-05-01T00:00:00",
          "2010-06-01T00:00:00",
          "2010-07-01T00:00:00",
          "2010-08-01T00:00:00",
          "2010-09-01T00:00:00",
          "2010-10-01T00:00:00",
          "2010-11-01T00:00:00",
          "2010-12-01T00:00:00",
          "2011-01-01T00:00:00",
          "2011-02-01T00:00:00",
          "2011-03-01T00:00:00",
          "2011-04-01T00:00:00",
          "2011-05-01T00:00:00",
          "2011-06-01T00:00:00",
          "2011-07-01T00:00:00",
          "2011-08-01T00:00:00",
          "2011-09-01T00:00:00",
          "2011-10-01T00:00:00",
          "2011-11-01T00:00:00",
          "2011-12-01T00:00:00",
          "2012-01-01T00:00:00",
          "2012-02-01T00:00:00",
          "2012-03-01T00:00:00",
          "2012-04-01T00:00:00",
          "2012-05-01T00:00:00",
          "2012-06-01T00:00:00",
          "2012-07-01T00:00:00",
          "2012-08-01T00:00:00",
          "2012-09-01T00:00:00",
          "2012-10-01T00:00:00",
          "2012-11-01T00:00:00",
          "2012-12-01T00:00:00",
          "2013-01-01T00:00:00",
          "2013-02-01T00:00:00",
          "2013-03-01T00:00:00",
          "2013-04-01T00:00:00",
          "2013-05-01T00:00:00",
          "2013-06-01T00:00:00",
          "2013-07-01T00:00:00",
          "2013-08-01T00:00:00",
          "2013-09-01T00:00:00",
          "2013-10-01T00:00:00",
          "2013-11-01T00:00:00",
          "2013-12-01T00:00:00",
          "2014-01-01T00:00:00",
          "2014-02-01T00:00:00",
          "2014-03-01T00:00:00",
          "2014-04-01T00:00:00",
          "2014-05-01T00:00:00",
          "2014-06-01T00:00:00",
          "2014-07-01T00:00:00",
          "2014-08-01T00:00:00",
          "2014-09-01T00:00:00",
          "2014-10-01T00:00:00",
          "2014-11-01T00:00:00",
          "2014-12-01T00:00:00",
          "2015-01-01T00:00:00",
          "2015-02-01T00:00:00",
          "2015-03-01T00:00:00",
          "2015-04-01T00:00:00",
          "2015-05-01T00:00:00",
          "2015-06-01T00:00:00",
          "2015-07-01T00:00:00",
          "2015-08-01T00:00:00",
          "2015-09-01T00:00:00",
          "2015-10-01T00:00:00",
          "2015-11-01T00:00:00",
          "2015-12-01T00:00:00",
          "2016-01-01T00:00:00",
          "2016-02-01T00:00:00",
          "2016-03-01T00:00:00",
          "2016-04-01T00:00:00",
          "2016-05-01T00:00:00",
          "2016-06-01T00:00:00",
          "2016-07-01T00:00:00",
          "2016-08-01T00:00:00",
          "2016-09-01T00:00:00",
          "2016-10-01T00:00:00",
          "2016-11-01T00:00:00",
          "2016-12-01T00:00:00",
          "2017-01-01T00:00:00",
          "2017-02-01T00:00:00",
          "2017-03-01T00:00:00",
          "2017-04-01T00:00:00",
          "2017-05-01T00:00:00",
          "2017-06-01T00:00:00",
          "2017-07-01T00:00:00",
          "2017-08-01T00:00:00",
          "2017-09-01T00:00:00",
          "2017-10-01T00:00:00",
          "2017-11-01T00:00:00",
          "2017-12-01T00:00:00",
          "2018-01-01T00:00:00",
          "2018-02-01T00:00:00",
          "2018-03-01T00:00:00",
          "2018-04-01T00:00:00",
          "2018-05-01T00:00:00",
          "2018-06-01T00:00:00",
          "2018-07-01T00:00:00",
          "2018-08-01T00:00:00",
          "2018-09-01T00:00:00",
          "2018-10-01T00:00:00",
          "2018-11-01T00:00:00",
          "2018-12-01T00:00:00",
          "2019-01-01T00:00:00",
          "2019-02-01T00:00:00",
          "2019-03-01T00:00:00",
          "2019-04-01T00:00:00",
          "2019-05-01T00:00:00",
          "2019-06-01T00:00:00",
          "2019-07-01T00:00:00",
          "2019-08-01T00:00:00",
          "2019-09-01T00:00:00",
          "2019-10-01T00:00:00",
          "2019-11-01T00:00:00",
          "2019-12-01T00:00:00",
          "2020-01-01T00:00:00",
          "2020-02-01T00:00:00",
          "2020-03-01T00:00:00",
          "2020-04-01T00:00:00",
          "2020-05-01T00:00:00",
          "2020-06-01T00:00:00",
          "2020-07-01T00:00:00",
          "2020-08-01T00:00:00",
          "2020-09-01T00:00:00",
          "2020-10-01T00:00:00",
          "2020-11-01T00:00:00",
          "2020-12-01T00:00:00",
          "2021-01-01T00:00:00",
          "2021-02-01T00:00:00",
          "2021-03-01T00:00:00",
          "2021-04-01T00:00:00",
          "2021-05-01T00:00:00",
          "2021-06-01T00:00:00",
          "2021-07-01T00:00:00",
          "2021-08-01T00:00:00",
          "2021-09-01T00:00:00"
         ],
         "xaxis": "x",
         "y": [
          40.23015579591837,
          40.460569408163266,
          40.605094122448975,
          40.811823530612244,
          40.98855744897959,
          41.113863510204084,
          41.195061244897964,
          41.41994453061224,
          41.53628930612245,
          41.76529881632653,
          41.88421473469388,
          42.138472224489796,
          42.396348591836734,
          42.649026081632655,
          42.85281253061224,
          43.18792442857143,
          43.449267204081636,
          43.68602291836735,
          43.765458714285714,
          43.95491608163265,
          44.28765751020408,
          44.51414075510204,
          44.80647583673469,
          45.15795246938775,
          45.493613326530614,
          45.66766863265306,
          45.806560795918365,
          45.96196089795919,
          46.016057244897965,
          46.08675142857143,
          46.07911987755102,
          46.27322814285714,
          46.56024510204082,
          46.85913769387755,
          47.14825206122448,
          47.37517910204082,
          47.62509851020408,
          47.779375,
          47.99161197959184,
          48.18887365306122,
          48.427385306122446,
          48.42659028571428,
          48.52623710204082,
          48.690234734693874,
          48.8918467755102,
          49.299342204081626,
          49.65047295918367,
          49.98353789795919,
          50.43462393877551,
          50.75542506122449,
          50.99425165306123,
          51.2334446122449,
          51.449113244897966,
          51.38847455102041,
          51.55018444897959,
          51.72209665306122,
          51.88327281632653,
          52.179662285714286,
          52.38722987755102,
          52.66510167346939,
          52.97641148979592,
          53.325112346938774,
          53.561553571428576,
          53.78721497959184,
          53.88907497959184,
          53.831473653061224,
          53.922400714285715,
          53.75839418367347,
          54.35467224489796,
          54.91882418367347,
          54.9249596122449,
          55.274848795918366,
          55.85577971428572,
          56.11523618367347,
          56.35594922448979,
          56.58571595918367,
          56.79243071428571,
          56.865542285714284,
          56.880614040816326,
          57.05589902040816,
          57.40100106122449,
          57.83799885714286,
          58.33877973469388,
          58.983242265306124,
          59.69813208163265,
          59.96142708163265,
          60.185914714285715,
          60.59140089795918,
          60.93883863265306,
          61.15872414285714,
          61.42030212244897,
          62.277377102040816,
          63.10193620408163,
          63.92475230612245,
          64.70152993877551,
          65.59316363265306,
          66.49981565306123,
          67.52603002040816,
          68.44981234693877,
          69.32084163265306,
          69.9151868367347,
          70.36331830612245,
          70.77581114285714,
          71.41978751020407,
          72.14475575510204,
          72.58844859183672,
          72.79498416326531,
          73.19842457142857,
          73.72738930612245,
          73.71061848979592,
          73.96558775510204,
          73.81761471428571,
          73.80257675510204,
          73.62074948979591,
          73.4406692244898,
          73.81034342857143,
          74.08536320408163,
          74.09058897959184,
          74.28688887755102,
          74.76004128571428,
          74.8424337142857,
          75.51467208163265,
          75.86639118367347,
          76.15395459183674,
          76.12119620408164,
          76.11746608163266,
          76.25181230612245,
          76.80901279591836,
          77.20112614285713,
          77.88033724489796,
          78.36580636734693,
          78.9653256122449,
          79.92132802040817,
          80.56729,
          81.37486683673468,
          82.05701128571428,
          82.58405477551021,
          82.28968463265306,
          82.54948548979593,
          83.20772416326531,
          83.58458534693878,
          84.00392124489795,
          84.58573810204082,
          85.11421891836734,
          85.5947661632653,
          85.90345385714286,
          86.38197744897958,
          86.71375748979591,
          86.45610202040815,
          86.62090640816326,
          86.85618528571429,
          87.2626243877551,
          87.86996514285715,
          88.59326248979592,
          88.71743367346937,
          89.34948553061224,
          90.30953097959184,
          90.62305444897959,
          90.98830473469388,
          91.25231420408163,
          91.21279242857143,
          91.27132314285714,
          91.17403234693877,
          91.23515430612244,
          91.38008087755102,
          91.76516359183674,
          91.77036518367348,
          92.28814065306123,
          93.40251912244898,
          93.73038016326531,
          94.12017753061225,
          94.26709653061225,
          94.19974328571429,
          94.22326383673469,
          94.28207442857142,
          94.91550399999998,
          95.21927634693877,
          95.7548275510204,
          96.19513720408163,
          96.86077073469387,
          98.6575630612245,
          98.8561496122449,
          99.32004775510205,
          99.67434365306121,
          99.31406440816328,
          99.227751,
          99.37619285714287,
          100.06820830612244,
          100.71987912244899,
          101.56656048979592,
          102.42893457142858,
          103.5599618367347,
          105.34533085714286,
          106.27327489795918,
          107.05869610204081,
          108.60748697959184,
          110.2881123877551,
          112.55911783673469,
          114.26130742857143,
          115.83321287755102,
          117.50639155102041,
          118.88423342857143,
          121.18796642857143,
          124.04974902040817,
          129.80760742857143,
          133.519485,
          137.36103504081632,
          140.62561091836736,
          145.2996708979592,
          150.1224301632653,
          155.46609953061224,
          165.1421075714286,
          181.3191138367347,
          210.52058032653062,
          250.69677381632656,
          336.189695877551,
          503.3749198367347,
          687.4703524081633,
          931.3366898367346,
          1439.2500598163265,
          3124.9173281428575,
          5770.5211542040815,
          10234.77679334694,
          17907.68211755102,
          37009.587475775515,
          69591.28201334695,
          164343.36687967347,
          325562.89448736736,
          989558.500304449,
          2142178.510370041,
          2843505.198060633,
          3675944.5908519593,
          5101175.983238122,
          5999697.3512468375,
          6809556.2556034485,
          9114493.467376083,
          14003452.744774245,
          16506941.152190613,
          19751044.112907875,
          26303978.64661741,
          44430521.179232344,
          52091667.877251245,
          58915710.53316723,
          77218980.23892511,
          110433135.96924274,
          1371401083.5853636,
          159262369.40185574,
          195690972.9309242,
          251086535.40738317,
          320632050.73356533,
          429315734.10676223,
          790892195.16633,
          1124319281.622002,
          1501701542.2873645,
          1705521081.0649517,
          2024045560.4396603,
          2528927930.6406236,
          2946953675.898338,
          3381086287.4014673,
          4003232635.032804,
          4463422853.999554
         ],
         "yaxis": "y"
        }
       ],
       "layout": {
        "legend": {
         "title": {
          "text": "Economic Group"
         },
         "tracegroupgap": 0
        },
        "margin": {
         "t": 60
        },
        "template": {
         "data": {
          "bar": [
           {
            "error_x": {
             "color": "#2a3f5f"
            },
            "error_y": {
             "color": "#2a3f5f"
            },
            "marker": {
             "line": {
              "color": "#E5ECF6",
              "width": 0.5
             },
             "pattern": {
              "fillmode": "overlay",
              "size": 10,
              "solidity": 0.2
             }
            },
            "type": "bar"
           }
          ],
          "barpolar": [
           {
            "marker": {
             "line": {
              "color": "#E5ECF6",
              "width": 0.5
             },
             "pattern": {
              "fillmode": "overlay",
              "size": 10,
              "solidity": 0.2
             }
            },
            "type": "barpolar"
           }
          ],
          "carpet": [
           {
            "aaxis": {
             "endlinecolor": "#2a3f5f",
             "gridcolor": "white",
             "linecolor": "white",
             "minorgridcolor": "white",
             "startlinecolor": "#2a3f5f"
            },
            "baxis": {
             "endlinecolor": "#2a3f5f",
             "gridcolor": "white",
             "linecolor": "white",
             "minorgridcolor": "white",
             "startlinecolor": "#2a3f5f"
            },
            "type": "carpet"
           }
          ],
          "choropleth": [
           {
            "colorbar": {
             "outlinewidth": 0,
             "ticks": ""
            },
            "type": "choropleth"
           }
          ],
          "contour": [
           {
            "colorbar": {
             "outlinewidth": 0,
             "ticks": ""
            },
            "colorscale": [
             [
              0,
              "#0d0887"
             ],
             [
              0.1111111111111111,
              "#46039f"
             ],
             [
              0.2222222222222222,
              "#7201a8"
             ],
             [
              0.3333333333333333,
              "#9c179e"
             ],
             [
              0.4444444444444444,
              "#bd3786"
             ],
             [
              0.5555555555555556,
              "#d8576b"
             ],
             [
              0.6666666666666666,
              "#ed7953"
             ],
             [
              0.7777777777777778,
              "#fb9f3a"
             ],
             [
              0.8888888888888888,
              "#fdca26"
             ],
             [
              1,
              "#f0f921"
             ]
            ],
            "type": "contour"
           }
          ],
          "contourcarpet": [
           {
            "colorbar": {
             "outlinewidth": 0,
             "ticks": ""
            },
            "type": "contourcarpet"
           }
          ],
          "heatmap": [
           {
            "colorbar": {
             "outlinewidth": 0,
             "ticks": ""
            },
            "colorscale": [
             [
              0,
              "#0d0887"
             ],
             [
              0.1111111111111111,
              "#46039f"
             ],
             [
              0.2222222222222222,
              "#7201a8"
             ],
             [
              0.3333333333333333,
              "#9c179e"
             ],
             [
              0.4444444444444444,
              "#bd3786"
             ],
             [
              0.5555555555555556,
              "#d8576b"
             ],
             [
              0.6666666666666666,
              "#ed7953"
             ],
             [
              0.7777777777777778,
              "#fb9f3a"
             ],
             [
              0.8888888888888888,
              "#fdca26"
             ],
             [
              1,
              "#f0f921"
             ]
            ],
            "type": "heatmap"
           }
          ],
          "heatmapgl": [
           {
            "colorbar": {
             "outlinewidth": 0,
             "ticks": ""
            },
            "colorscale": [
             [
              0,
              "#0d0887"
             ],
             [
              0.1111111111111111,
              "#46039f"
             ],
             [
              0.2222222222222222,
              "#7201a8"
             ],
             [
              0.3333333333333333,
              "#9c179e"
             ],
             [
              0.4444444444444444,
              "#bd3786"
             ],
             [
              0.5555555555555556,
              "#d8576b"
             ],
             [
              0.6666666666666666,
              "#ed7953"
             ],
             [
              0.7777777777777778,
              "#fb9f3a"
             ],
             [
              0.8888888888888888,
              "#fdca26"
             ],
             [
              1,
              "#f0f921"
             ]
            ],
            "type": "heatmapgl"
           }
          ],
          "histogram": [
           {
            "marker": {
             "pattern": {
              "fillmode": "overlay",
              "size": 10,
              "solidity": 0.2
             }
            },
            "type": "histogram"
           }
          ],
          "histogram2d": [
           {
            "colorbar": {
             "outlinewidth": 0,
             "ticks": ""
            },
            "colorscale": [
             [
              0,
              "#0d0887"
             ],
             [
              0.1111111111111111,
              "#46039f"
             ],
             [
              0.2222222222222222,
              "#7201a8"
             ],
             [
              0.3333333333333333,
              "#9c179e"
             ],
             [
              0.4444444444444444,
              "#bd3786"
             ],
             [
              0.5555555555555556,
              "#d8576b"
             ],
             [
              0.6666666666666666,
              "#ed7953"
             ],
             [
              0.7777777777777778,
              "#fb9f3a"
             ],
             [
              0.8888888888888888,
              "#fdca26"
             ],
             [
              1,
              "#f0f921"
             ]
            ],
            "type": "histogram2d"
           }
          ],
          "histogram2dcontour": [
           {
            "colorbar": {
             "outlinewidth": 0,
             "ticks": ""
            },
            "colorscale": [
             [
              0,
              "#0d0887"
             ],
             [
              0.1111111111111111,
              "#46039f"
             ],
             [
              0.2222222222222222,
              "#7201a8"
             ],
             [
              0.3333333333333333,
              "#9c179e"
             ],
             [
              0.4444444444444444,
              "#bd3786"
             ],
             [
              0.5555555555555556,
              "#d8576b"
             ],
             [
              0.6666666666666666,
              "#ed7953"
             ],
             [
              0.7777777777777778,
              "#fb9f3a"
             ],
             [
              0.8888888888888888,
              "#fdca26"
             ],
             [
              1,
              "#f0f921"
             ]
            ],
            "type": "histogram2dcontour"
           }
          ],
          "mesh3d": [
           {
            "colorbar": {
             "outlinewidth": 0,
             "ticks": ""
            },
            "type": "mesh3d"
           }
          ],
          "parcoords": [
           {
            "line": {
             "colorbar": {
              "outlinewidth": 0,
              "ticks": ""
             }
            },
            "type": "parcoords"
           }
          ],
          "pie": [
           {
            "automargin": true,
            "type": "pie"
           }
          ],
          "scatter": [
           {
            "marker": {
             "colorbar": {
              "outlinewidth": 0,
              "ticks": ""
             }
            },
            "type": "scatter"
           }
          ],
          "scatter3d": [
           {
            "line": {
             "colorbar": {
              "outlinewidth": 0,
              "ticks": ""
             }
            },
            "marker": {
             "colorbar": {
              "outlinewidth": 0,
              "ticks": ""
             }
            },
            "type": "scatter3d"
           }
          ],
          "scattercarpet": [
           {
            "marker": {
             "colorbar": {
              "outlinewidth": 0,
              "ticks": ""
             }
            },
            "type": "scattercarpet"
           }
          ],
          "scattergeo": [
           {
            "marker": {
             "colorbar": {
              "outlinewidth": 0,
              "ticks": ""
             }
            },
            "type": "scattergeo"
           }
          ],
          "scattergl": [
           {
            "marker": {
             "colorbar": {
              "outlinewidth": 0,
              "ticks": ""
             }
            },
            "type": "scattergl"
           }
          ],
          "scattermapbox": [
           {
            "marker": {
             "colorbar": {
              "outlinewidth": 0,
              "ticks": ""
             }
            },
            "type": "scattermapbox"
           }
          ],
          "scatterpolar": [
           {
            "marker": {
             "colorbar": {
              "outlinewidth": 0,
              "ticks": ""
             }
            },
            "type": "scatterpolar"
           }
          ],
          "scatterpolargl": [
           {
            "marker": {
             "colorbar": {
              "outlinewidth": 0,
              "ticks": ""
             }
            },
            "type": "scatterpolargl"
           }
          ],
          "scatterternary": [
           {
            "marker": {
             "colorbar": {
              "outlinewidth": 0,
              "ticks": ""
             }
            },
            "type": "scatterternary"
           }
          ],
          "surface": [
           {
            "colorbar": {
             "outlinewidth": 0,
             "ticks": ""
            },
            "colorscale": [
             [
              0,
              "#0d0887"
             ],
             [
              0.1111111111111111,
              "#46039f"
             ],
             [
              0.2222222222222222,
              "#7201a8"
             ],
             [
              0.3333333333333333,
              "#9c179e"
             ],
             [
              0.4444444444444444,
              "#bd3786"
             ],
             [
              0.5555555555555556,
              "#d8576b"
             ],
             [
              0.6666666666666666,
              "#ed7953"
             ],
             [
              0.7777777777777778,
              "#fb9f3a"
             ],
             [
              0.8888888888888888,
              "#fdca26"
             ],
             [
              1,
              "#f0f921"
             ]
            ],
            "type": "surface"
           }
          ],
          "table": [
           {
            "cells": {
             "fill": {
              "color": "#EBF0F8"
             },
             "line": {
              "color": "white"
             }
            },
            "header": {
             "fill": {
              "color": "#C8D4E3"
             },
             "line": {
              "color": "white"
             }
            },
            "type": "table"
           }
          ]
         },
         "layout": {
          "annotationdefaults": {
           "arrowcolor": "#2a3f5f",
           "arrowhead": 0,
           "arrowwidth": 1
          },
          "autotypenumbers": "strict",
          "coloraxis": {
           "colorbar": {
            "outlinewidth": 0,
            "ticks": ""
           }
          },
          "colorscale": {
           "diverging": [
            [
             0,
             "#8e0152"
            ],
            [
             0.1,
             "#c51b7d"
            ],
            [
             0.2,
             "#de77ae"
            ],
            [
             0.3,
             "#f1b6da"
            ],
            [
             0.4,
             "#fde0ef"
            ],
            [
             0.5,
             "#f7f7f7"
            ],
            [
             0.6,
             "#e6f5d0"
            ],
            [
             0.7,
             "#b8e186"
            ],
            [
             0.8,
             "#7fbc41"
            ],
            [
             0.9,
             "#4d9221"
            ],
            [
             1,
             "#276419"
            ]
           ],
           "sequential": [
            [
             0,
             "#0d0887"
            ],
            [
             0.1111111111111111,
             "#46039f"
            ],
            [
             0.2222222222222222,
             "#7201a8"
            ],
            [
             0.3333333333333333,
             "#9c179e"
            ],
            [
             0.4444444444444444,
             "#bd3786"
            ],
            [
             0.5555555555555556,
             "#d8576b"
            ],
            [
             0.6666666666666666,
             "#ed7953"
            ],
            [
             0.7777777777777778,
             "#fb9f3a"
            ],
            [
             0.8888888888888888,
             "#fdca26"
            ],
            [
             1,
             "#f0f921"
            ]
           ],
           "sequentialminus": [
            [
             0,
             "#0d0887"
            ],
            [
             0.1111111111111111,
             "#46039f"
            ],
            [
             0.2222222222222222,
             "#7201a8"
            ],
            [
             0.3333333333333333,
             "#9c179e"
            ],
            [
             0.4444444444444444,
             "#bd3786"
            ],
            [
             0.5555555555555556,
             "#d8576b"
            ],
            [
             0.6666666666666666,
             "#ed7953"
            ],
            [
             0.7777777777777778,
             "#fb9f3a"
            ],
            [
             0.8888888888888888,
             "#fdca26"
            ],
            [
             1,
             "#f0f921"
            ]
           ]
          },
          "colorway": [
           "#636efa",
           "#EF553B",
           "#00cc96",
           "#ab63fa",
           "#FFA15A",
           "#19d3f3",
           "#FF6692",
           "#B6E880",
           "#FF97FF",
           "#FECB52"
          ],
          "font": {
           "color": "#2a3f5f"
          },
          "geo": {
           "bgcolor": "white",
           "lakecolor": "white",
           "landcolor": "#E5ECF6",
           "showlakes": true,
           "showland": true,
           "subunitcolor": "white"
          },
          "hoverlabel": {
           "align": "left"
          },
          "hovermode": "closest",
          "mapbox": {
           "style": "light"
          },
          "paper_bgcolor": "white",
          "plot_bgcolor": "#E5ECF6",
          "polar": {
           "angularaxis": {
            "gridcolor": "white",
            "linecolor": "white",
            "ticks": ""
           },
           "bgcolor": "#E5ECF6",
           "radialaxis": {
            "gridcolor": "white",
            "linecolor": "white",
            "ticks": ""
           }
          },
          "scene": {
           "xaxis": {
            "backgroundcolor": "#E5ECF6",
            "gridcolor": "white",
            "gridwidth": 2,
            "linecolor": "white",
            "showbackground": true,
            "ticks": "",
            "zerolinecolor": "white"
           },
           "yaxis": {
            "backgroundcolor": "#E5ECF6",
            "gridcolor": "white",
            "gridwidth": 2,
            "linecolor": "white",
            "showbackground": true,
            "ticks": "",
            "zerolinecolor": "white"
           },
           "zaxis": {
            "backgroundcolor": "#E5ECF6",
            "gridcolor": "white",
            "gridwidth": 2,
            "linecolor": "white",
            "showbackground": true,
            "ticks": "",
            "zerolinecolor": "white"
           }
          },
          "shapedefaults": {
           "line": {
            "color": "#2a3f5f"
           }
          },
          "ternary": {
           "aaxis": {
            "gridcolor": "white",
            "linecolor": "white",
            "ticks": ""
           },
           "baxis": {
            "gridcolor": "white",
            "linecolor": "white",
            "ticks": ""
           },
           "bgcolor": "#E5ECF6",
           "caxis": {
            "gridcolor": "white",
            "linecolor": "white",
            "ticks": ""
           }
          },
          "title": {
           "x": 0.05
          },
          "xaxis": {
           "automargin": true,
           "gridcolor": "white",
           "linecolor": "white",
           "ticks": "",
           "title": {
            "standoff": 15
           },
           "zerolinecolor": "white",
           "zerolinewidth": 2
          },
          "yaxis": {
           "automargin": true,
           "gridcolor": "white",
           "linecolor": "white",
           "ticks": "",
           "title": {
            "standoff": 15
           },
           "zerolinecolor": "white",
           "zerolinewidth": 2
          }
         }
        },
        "xaxis": {
         "anchor": "y",
         "domain": [
          0,
          1
         ],
         "title": {
          "text": "date"
         }
        },
        "yaxis": {
         "anchor": "x",
         "domain": [
          0,
          1
         ],
         "title": {
          "text": "Value"
         }
        }
       }
      }
     },
     "metadata": {},
     "output_type": "display_data"
    }
   ],
   "source": [
    "px.line(ecpi_pdf[ecpi_pdf['Item'] == 'Consumer Prices, Food Indices (2015 = 100)'].sort_values(by=['date']) , x='date', y='Value', color='Economic Group')"
   ]
  },
  {
   "cell_type": "markdown",
   "metadata": {},
   "source": [
    "We can see that there is some outlier in the Upper-middle-income economy group."
   ]
  },
  {
   "cell_type": "code",
   "execution_count": 60,
   "metadata": {},
   "outputs": [
    {
     "data": {
      "text/html": [
       "<div>\n",
       "<style scoped>\n",
       "    .dataframe tbody tr th:only-of-type {\n",
       "        vertical-align: middle;\n",
       "    }\n",
       "\n",
       "    .dataframe tbody tr th {\n",
       "        vertical-align: top;\n",
       "    }\n",
       "\n",
       "    .dataframe thead th {\n",
       "        text-align: right;\n",
       "    }\n",
       "</style>\n",
       "<table border=\"1\" class=\"dataframe\">\n",
       "  <thead>\n",
       "    <tr style=\"text-align: right;\">\n",
       "      <th></th>\n",
       "      <th>Area Code (M49)</th>\n",
       "      <th>Area</th>\n",
       "      <th>Year Code</th>\n",
       "      <th>Year</th>\n",
       "      <th>Item</th>\n",
       "      <th>Months Code</th>\n",
       "      <th>Months</th>\n",
       "      <th>Unit</th>\n",
       "      <th>Value</th>\n",
       "      <th>Flag</th>\n",
       "      <th>Flag Description</th>\n",
       "      <th>Note</th>\n",
       "    </tr>\n",
       "  </thead>\n",
       "  <tbody>\n",
       "    <tr>\n",
       "      <th>150764</th>\n",
       "      <td>862</td>\n",
       "      <td>Venezuela (Bolivarian Republic of)</td>\n",
       "      <td>2020</td>\n",
       "      <td>2020</td>\n",
       "      <td>Consumer Prices, Food Indices (2015 = 100)</td>\n",
       "      <td>7001</td>\n",
       "      <td>January</td>\n",
       "      <td>NaN</td>\n",
       "      <td>2.177090e+09</td>\n",
       "      <td>X</td>\n",
       "      <td>International reliable sources</td>\n",
       "      <td>base year is 2015</td>\n",
       "    </tr>\n",
       "    <tr>\n",
       "      <th>150765</th>\n",
       "      <td>862</td>\n",
       "      <td>Venezuela (Bolivarian Republic of)</td>\n",
       "      <td>2021</td>\n",
       "      <td>2021</td>\n",
       "      <td>Consumer Prices, Food Indices (2015 = 100)</td>\n",
       "      <td>7001</td>\n",
       "      <td>January</td>\n",
       "      <td>NaN</td>\n",
       "      <td>5.509164e+10</td>\n",
       "      <td>X</td>\n",
       "      <td>International reliable sources</td>\n",
       "      <td>base year is 2015</td>\n",
       "    </tr>\n",
       "    <tr>\n",
       "      <th>150786</th>\n",
       "      <td>862</td>\n",
       "      <td>Venezuela (Bolivarian Republic of)</td>\n",
       "      <td>2020</td>\n",
       "      <td>2020</td>\n",
       "      <td>Consumer Prices, Food Indices (2015 = 100)</td>\n",
       "      <td>7002</td>\n",
       "      <td>February</td>\n",
       "      <td>NaN</td>\n",
       "      <td>2.552486e+09</td>\n",
       "      <td>X</td>\n",
       "      <td>International reliable sources</td>\n",
       "      <td>base year is 2015</td>\n",
       "    </tr>\n",
       "    <tr>\n",
       "      <th>150787</th>\n",
       "      <td>862</td>\n",
       "      <td>Venezuela (Bolivarian Republic of)</td>\n",
       "      <td>2021</td>\n",
       "      <td>2021</td>\n",
       "      <td>Consumer Prices, Food Indices (2015 = 100)</td>\n",
       "      <td>7002</td>\n",
       "      <td>February</td>\n",
       "      <td>NaN</td>\n",
       "      <td>7.358337e+10</td>\n",
       "      <td>X</td>\n",
       "      <td>International reliable sources</td>\n",
       "      <td>base year is 2015</td>\n",
       "    </tr>\n",
       "    <tr>\n",
       "      <th>150808</th>\n",
       "      <td>862</td>\n",
       "      <td>Venezuela (Bolivarian Republic of)</td>\n",
       "      <td>2020</td>\n",
       "      <td>2020</td>\n",
       "      <td>Consumer Prices, Food Indices (2015 = 100)</td>\n",
       "      <td>7003</td>\n",
       "      <td>March</td>\n",
       "      <td>NaN</td>\n",
       "      <td>2.886864e+09</td>\n",
       "      <td>X</td>\n",
       "      <td>International reliable sources</td>\n",
       "      <td>base year is 2015</td>\n",
       "    </tr>\n",
       "  </tbody>\n",
       "</table>\n",
       "</div>"
      ],
      "text/plain": [
       "        Area Code (M49)                                Area  Year Code  Year  \\\n",
       "150764              862  Venezuela (Bolivarian Republic of)       2020  2020   \n",
       "150765              862  Venezuela (Bolivarian Republic of)       2021  2021   \n",
       "150786              862  Venezuela (Bolivarian Republic of)       2020  2020   \n",
       "150787              862  Venezuela (Bolivarian Republic of)       2021  2021   \n",
       "150808              862  Venezuela (Bolivarian Republic of)       2020  2020   \n",
       "\n",
       "                                              Item  Months Code    Months  \\\n",
       "150764  Consumer Prices, Food Indices (2015 = 100)         7001   January   \n",
       "150765  Consumer Prices, Food Indices (2015 = 100)         7001   January   \n",
       "150786  Consumer Prices, Food Indices (2015 = 100)         7002  February   \n",
       "150787  Consumer Prices, Food Indices (2015 = 100)         7002  February   \n",
       "150808  Consumer Prices, Food Indices (2015 = 100)         7003     March   \n",
       "\n",
       "       Unit         Value Flag                Flag Description  \\\n",
       "150764  NaN  2.177090e+09    X  International reliable sources   \n",
       "150765  NaN  5.509164e+10    X  International reliable sources   \n",
       "150786  NaN  2.552486e+09    X  International reliable sources   \n",
       "150787  NaN  7.358337e+10    X  International reliable sources   \n",
       "150808  NaN  2.886864e+09    X  International reliable sources   \n",
       "\n",
       "                     Note  \n",
       "150764  base year is 2015  \n",
       "150765  base year is 2015  \n",
       "150786  base year is 2015  \n",
       "150787  base year is 2015  \n",
       "150808  base year is 2015  "
      ]
     },
     "execution_count": 60,
     "metadata": {},
     "output_type": "execute_result"
    }
   ],
   "source": [
    "cpi_pdf = pd.read_csv(consumer_data_pth).drop(columns=['Domain Code', 'Domain', 'Item Code'])\n",
    "cpi_pdf[(cpi_pdf['Year'] >= 2020) & (cpi_pdf['Item'] == 'Consumer Prices, Food Indices (2015 = 100)')  & (cpi_pdf['Value'] > 50000)].head()"
   ]
  },
  {
   "cell_type": "markdown",
   "metadata": {},
   "source": [
    "Looking at the above we can see that it is caused by Venezuela, we will treat this as an outlier and filter it from our data"
   ]
  },
  {
   "cell_type": "code",
   "execution_count": 57,
   "metadata": {},
   "outputs": [
    {
     "data": {
      "text/html": [
       "<div>\n",
       "<style scoped>\n",
       "    .dataframe tbody tr th:only-of-type {\n",
       "        vertical-align: middle;\n",
       "    }\n",
       "\n",
       "    .dataframe tbody tr th {\n",
       "        vertical-align: top;\n",
       "    }\n",
       "\n",
       "    .dataframe thead th {\n",
       "        text-align: right;\n",
       "    }\n",
       "</style>\n",
       "<table border=\"1\" class=\"dataframe\">\n",
       "  <thead>\n",
       "    <tr style=\"text-align: right;\">\n",
       "      <th></th>\n",
       "      <th>Economic Group</th>\n",
       "      <th>Year</th>\n",
       "      <th>Months</th>\n",
       "      <th>Item</th>\n",
       "      <th>Year Code</th>\n",
       "      <th>Months Code</th>\n",
       "      <th>Value</th>\n",
       "      <th>date</th>\n",
       "    </tr>\n",
       "  </thead>\n",
       "  <tbody>\n",
       "    <tr>\n",
       "      <th>0</th>\n",
       "      <td>High-income economies</td>\n",
       "      <td>2000</td>\n",
       "      <td>April</td>\n",
       "      <td>Consumer Prices, Food Indices (2015 = 100)</td>\n",
       "      <td>2000.0</td>\n",
       "      <td>7004.0</td>\n",
       "      <td>63.919783</td>\n",
       "      <td>2000-04-01</td>\n",
       "    </tr>\n",
       "    <tr>\n",
       "      <th>1</th>\n",
       "      <td>High-income economies</td>\n",
       "      <td>2000</td>\n",
       "      <td>April</td>\n",
       "      <td>Consumer Prices, General Indices (2015 = 100)</td>\n",
       "      <td>2000.0</td>\n",
       "      <td>7004.0</td>\n",
       "      <td>68.103791</td>\n",
       "      <td>2000-04-01</td>\n",
       "    </tr>\n",
       "    <tr>\n",
       "      <th>2</th>\n",
       "      <td>High-income economies</td>\n",
       "      <td>2000</td>\n",
       "      <td>August</td>\n",
       "      <td>Consumer Prices, Food Indices (2015 = 100)</td>\n",
       "      <td>2000.0</td>\n",
       "      <td>7008.0</td>\n",
       "      <td>64.219141</td>\n",
       "      <td>2000-08-01</td>\n",
       "    </tr>\n",
       "    <tr>\n",
       "      <th>3</th>\n",
       "      <td>High-income economies</td>\n",
       "      <td>2000</td>\n",
       "      <td>August</td>\n",
       "      <td>Consumer Prices, General Indices (2015 = 100)</td>\n",
       "      <td>2000.0</td>\n",
       "      <td>7008.0</td>\n",
       "      <td>68.561712</td>\n",
       "      <td>2000-08-01</td>\n",
       "    </tr>\n",
       "    <tr>\n",
       "      <th>4</th>\n",
       "      <td>High-income economies</td>\n",
       "      <td>2000</td>\n",
       "      <td>December</td>\n",
       "      <td>Consumer Prices, Food Indices (2015 = 100)</td>\n",
       "      <td>2000.0</td>\n",
       "      <td>7012.0</td>\n",
       "      <td>64.758543</td>\n",
       "      <td>2000-12-01</td>\n",
       "    </tr>\n",
       "  </tbody>\n",
       "</table>\n",
       "</div>"
      ],
      "text/plain": [
       "          Economic Group  Year    Months  \\\n",
       "0  High-income economies  2000     April   \n",
       "1  High-income economies  2000     April   \n",
       "2  High-income economies  2000    August   \n",
       "3  High-income economies  2000    August   \n",
       "4  High-income economies  2000  December   \n",
       "\n",
       "                                            Item  Year Code  Months Code  \\\n",
       "0     Consumer Prices, Food Indices (2015 = 100)     2000.0       7004.0   \n",
       "1  Consumer Prices, General Indices (2015 = 100)     2000.0       7004.0   \n",
       "2     Consumer Prices, Food Indices (2015 = 100)     2000.0       7008.0   \n",
       "3  Consumer Prices, General Indices (2015 = 100)     2000.0       7008.0   \n",
       "4     Consumer Prices, Food Indices (2015 = 100)     2000.0       7012.0   \n",
       "\n",
       "       Value       date  \n",
       "0  63.919783 2000-04-01  \n",
       "1  68.103791 2000-04-01  \n",
       "2  64.219141 2000-08-01  \n",
       "3  68.561712 2000-08-01  \n",
       "4  64.758543 2000-12-01  "
      ]
     },
     "execution_count": 57,
     "metadata": {},
     "output_type": "execute_result"
    }
   ],
   "source": [
    "ecpi_pdf = cpi_pdf[~cpi_pdf.isin([862])].merge(cg_pdf).drop(columns=['Area Code (M49)']).groupby(['Economic Group', 'Year', 'Months', 'Item']).mean().reset_index()\n",
    "ecpi_pdf['date'] = pd.to_datetime(ecpi_pdf['Year'].astype(str)  + ecpi_pdf['Months'], format='%Y%B')\n",
    "ecpi_pdf .head()"
   ]
  },
  {
   "cell_type": "code",
   "execution_count": 58,
   "metadata": {},
   "outputs": [
    {
     "data": {
      "application/vnd.plotly.v1+json": {
       "config": {
        "plotlyServerURL": "https://plot.ly"
       },
       "data": [
        {
         "hovertemplate": "Economic Group=Lower-middle-income economies<br>date=%{x}<br>Value=%{y}<extra></extra>",
         "legendgroup": "Lower-middle-income economies",
         "line": {
          "color": "#636efa",
          "dash": "solid"
         },
         "marker": {
          "symbol": "circle"
         },
         "mode": "lines",
         "name": "Lower-middle-income economies",
         "showlegend": true,
         "type": "scattergl",
         "x": [
          "2000-01-01T00:00:00",
          "2000-02-01T00:00:00",
          "2000-03-01T00:00:00",
          "2000-04-01T00:00:00",
          "2000-05-01T00:00:00",
          "2000-06-01T00:00:00",
          "2000-07-01T00:00:00",
          "2000-08-01T00:00:00",
          "2000-09-01T00:00:00",
          "2000-10-01T00:00:00",
          "2000-11-01T00:00:00",
          "2000-12-01T00:00:00",
          "2001-01-01T00:00:00",
          "2001-02-01T00:00:00",
          "2001-03-01T00:00:00",
          "2001-04-01T00:00:00",
          "2001-05-01T00:00:00",
          "2001-06-01T00:00:00",
          "2001-07-01T00:00:00",
          "2001-08-01T00:00:00",
          "2001-09-01T00:00:00",
          "2001-10-01T00:00:00",
          "2001-11-01T00:00:00",
          "2001-12-01T00:00:00",
          "2002-01-01T00:00:00",
          "2002-02-01T00:00:00",
          "2002-03-01T00:00:00",
          "2002-04-01T00:00:00",
          "2002-05-01T00:00:00",
          "2002-06-01T00:00:00",
          "2002-07-01T00:00:00",
          "2002-08-01T00:00:00",
          "2002-09-01T00:00:00",
          "2002-10-01T00:00:00",
          "2002-11-01T00:00:00",
          "2002-12-01T00:00:00",
          "2003-01-01T00:00:00",
          "2003-02-01T00:00:00",
          "2003-03-01T00:00:00",
          "2003-04-01T00:00:00",
          "2003-05-01T00:00:00",
          "2003-06-01T00:00:00",
          "2003-07-01T00:00:00",
          "2003-08-01T00:00:00",
          "2003-09-01T00:00:00",
          "2003-10-01T00:00:00",
          "2003-11-01T00:00:00",
          "2003-12-01T00:00:00",
          "2004-01-01T00:00:00",
          "2004-02-01T00:00:00",
          "2004-03-01T00:00:00",
          "2004-04-01T00:00:00",
          "2004-05-01T00:00:00",
          "2004-06-01T00:00:00",
          "2004-07-01T00:00:00",
          "2004-08-01T00:00:00",
          "2004-09-01T00:00:00",
          "2004-10-01T00:00:00",
          "2004-11-01T00:00:00",
          "2004-12-01T00:00:00",
          "2005-01-01T00:00:00",
          "2005-02-01T00:00:00",
          "2005-03-01T00:00:00",
          "2005-04-01T00:00:00",
          "2005-05-01T00:00:00",
          "2005-06-01T00:00:00",
          "2005-07-01T00:00:00",
          "2005-08-01T00:00:00",
          "2005-09-01T00:00:00",
          "2005-10-01T00:00:00",
          "2005-11-01T00:00:00",
          "2005-12-01T00:00:00",
          "2006-01-01T00:00:00",
          "2006-02-01T00:00:00",
          "2006-03-01T00:00:00",
          "2006-04-01T00:00:00",
          "2006-05-01T00:00:00",
          "2006-06-01T00:00:00",
          "2006-07-01T00:00:00",
          "2006-08-01T00:00:00",
          "2006-09-01T00:00:00",
          "2006-10-01T00:00:00",
          "2006-11-01T00:00:00",
          "2006-12-01T00:00:00",
          "2007-01-01T00:00:00",
          "2007-02-01T00:00:00",
          "2007-03-01T00:00:00",
          "2007-04-01T00:00:00",
          "2007-05-01T00:00:00",
          "2007-06-01T00:00:00",
          "2007-07-01T00:00:00",
          "2007-08-01T00:00:00",
          "2007-09-01T00:00:00",
          "2007-10-01T00:00:00",
          "2007-11-01T00:00:00",
          "2007-12-01T00:00:00",
          "2008-01-01T00:00:00",
          "2008-02-01T00:00:00",
          "2008-03-01T00:00:00",
          "2008-04-01T00:00:00",
          "2008-05-01T00:00:00",
          "2008-06-01T00:00:00",
          "2008-07-01T00:00:00",
          "2008-08-01T00:00:00",
          "2008-09-01T00:00:00",
          "2008-10-01T00:00:00",
          "2008-11-01T00:00:00",
          "2008-12-01T00:00:00",
          "2009-01-01T00:00:00",
          "2009-02-01T00:00:00",
          "2009-03-01T00:00:00",
          "2009-04-01T00:00:00",
          "2009-05-01T00:00:00",
          "2009-06-01T00:00:00",
          "2009-07-01T00:00:00",
          "2009-08-01T00:00:00",
          "2009-09-01T00:00:00",
          "2009-10-01T00:00:00",
          "2009-11-01T00:00:00",
          "2009-12-01T00:00:00",
          "2010-01-01T00:00:00",
          "2010-02-01T00:00:00",
          "2010-03-01T00:00:00",
          "2010-04-01T00:00:00",
          "2010-05-01T00:00:00",
          "2010-06-01T00:00:00",
          "2010-07-01T00:00:00",
          "2010-08-01T00:00:00",
          "2010-09-01T00:00:00",
          "2010-10-01T00:00:00",
          "2010-11-01T00:00:00",
          "2010-12-01T00:00:00",
          "2011-01-01T00:00:00",
          "2011-02-01T00:00:00",
          "2011-03-01T00:00:00",
          "2011-04-01T00:00:00",
          "2011-05-01T00:00:00",
          "2011-06-01T00:00:00",
          "2011-07-01T00:00:00",
          "2011-08-01T00:00:00",
          "2011-09-01T00:00:00",
          "2011-10-01T00:00:00",
          "2011-11-01T00:00:00",
          "2011-12-01T00:00:00",
          "2012-01-01T00:00:00",
          "2012-02-01T00:00:00",
          "2012-03-01T00:00:00",
          "2012-04-01T00:00:00",
          "2012-05-01T00:00:00",
          "2012-06-01T00:00:00",
          "2012-07-01T00:00:00",
          "2012-08-01T00:00:00",
          "2012-09-01T00:00:00",
          "2012-10-01T00:00:00",
          "2012-11-01T00:00:00",
          "2012-12-01T00:00:00",
          "2013-01-01T00:00:00",
          "2013-02-01T00:00:00",
          "2013-03-01T00:00:00",
          "2013-04-01T00:00:00",
          "2013-05-01T00:00:00",
          "2013-06-01T00:00:00",
          "2013-07-01T00:00:00",
          "2013-08-01T00:00:00",
          "2013-09-01T00:00:00",
          "2013-10-01T00:00:00",
          "2013-11-01T00:00:00",
          "2013-12-01T00:00:00",
          "2014-01-01T00:00:00",
          "2014-02-01T00:00:00",
          "2014-03-01T00:00:00",
          "2014-04-01T00:00:00",
          "2014-05-01T00:00:00",
          "2014-06-01T00:00:00",
          "2014-07-01T00:00:00",
          "2014-08-01T00:00:00",
          "2014-09-01T00:00:00",
          "2014-10-01T00:00:00",
          "2014-11-01T00:00:00",
          "2014-12-01T00:00:00",
          "2015-01-01T00:00:00",
          "2015-02-01T00:00:00",
          "2015-03-01T00:00:00",
          "2015-04-01T00:00:00",
          "2015-05-01T00:00:00",
          "2015-06-01T00:00:00",
          "2015-07-01T00:00:00",
          "2015-08-01T00:00:00",
          "2015-09-01T00:00:00",
          "2015-10-01T00:00:00",
          "2015-11-01T00:00:00",
          "2015-12-01T00:00:00",
          "2016-01-01T00:00:00",
          "2016-02-01T00:00:00",
          "2016-03-01T00:00:00",
          "2016-04-01T00:00:00",
          "2016-05-01T00:00:00",
          "2016-06-01T00:00:00",
          "2016-07-01T00:00:00",
          "2016-08-01T00:00:00",
          "2016-09-01T00:00:00",
          "2016-10-01T00:00:00",
          "2016-11-01T00:00:00",
          "2016-12-01T00:00:00",
          "2017-01-01T00:00:00",
          "2017-02-01T00:00:00",
          "2017-03-01T00:00:00",
          "2017-04-01T00:00:00",
          "2017-05-01T00:00:00",
          "2017-06-01T00:00:00",
          "2017-07-01T00:00:00",
          "2017-08-01T00:00:00",
          "2017-09-01T00:00:00",
          "2017-10-01T00:00:00",
          "2017-11-01T00:00:00",
          "2017-12-01T00:00:00",
          "2018-01-01T00:00:00",
          "2018-02-01T00:00:00",
          "2018-03-01T00:00:00",
          "2018-04-01T00:00:00",
          "2018-05-01T00:00:00",
          "2018-06-01T00:00:00",
          "2018-07-01T00:00:00",
          "2018-08-01T00:00:00",
          "2018-09-01T00:00:00",
          "2018-10-01T00:00:00",
          "2018-11-01T00:00:00",
          "2018-12-01T00:00:00",
          "2019-01-01T00:00:00",
          "2019-02-01T00:00:00",
          "2019-03-01T00:00:00",
          "2019-04-01T00:00:00",
          "2019-05-01T00:00:00",
          "2019-06-01T00:00:00",
          "2019-07-01T00:00:00",
          "2019-08-01T00:00:00",
          "2019-09-01T00:00:00",
          "2019-10-01T00:00:00",
          "2019-11-01T00:00:00",
          "2019-12-01T00:00:00",
          "2020-01-01T00:00:00",
          "2020-02-01T00:00:00",
          "2020-03-01T00:00:00",
          "2020-04-01T00:00:00",
          "2020-05-01T00:00:00",
          "2020-06-01T00:00:00",
          "2020-07-01T00:00:00",
          "2020-08-01T00:00:00",
          "2020-09-01T00:00:00",
          "2020-10-01T00:00:00",
          "2020-11-01T00:00:00",
          "2020-12-01T00:00:00",
          "2021-01-01T00:00:00",
          "2021-02-01T00:00:00",
          "2021-03-01T00:00:00",
          "2021-04-01T00:00:00",
          "2021-05-01T00:00:00",
          "2021-06-01T00:00:00",
          "2021-07-01T00:00:00",
          "2021-08-01T00:00:00",
          "2021-09-01T00:00:00"
         ],
         "xaxis": "x",
         "y": [
          37.00004737777778,
          37.190428,
          37.36725402222222,
          37.51905795555555,
          37.69135493333333,
          37.87895588888889,
          37.99434448888889,
          38.08412982222222,
          38.163259266666664,
          38.30521126666667,
          38.47066142222222,
          38.71216606666667,
          39.02319148888889,
          39.23413497777778,
          39.46383455555555,
          39.6051642,
          39.806102422222224,
          39.91120086666667,
          40.02555668888889,
          40.11353677777778,
          40.25581375555555,
          40.42533308888889,
          40.67125253333333,
          40.916690933333335,
          41.221780933333335,
          41.43572208888889,
          41.573559688888885,
          41.803256777777776,
          42.034003,
          42.19270306666667,
          42.33156228888889,
          42.51492213333333,
          42.74038575555556,
          42.95206988888889,
          43.19172384444445,
          43.50200935555556,
          43.722772444444445,
          43.952909,
          44.113083333333336,
          44.32146271111112,
          44.53509313333333,
          44.66758913333334,
          44.67088782222222,
          44.75797,
          44.90898822222222,
          45.17130035555555,
          45.447375622222225,
          45.70606222222223,
          46.02655877777778,
          46.25781968888889,
          46.40127404444444,
          46.635613355555556,
          46.84331095555555,
          47.06789824444444,
          47.25681297777778,
          47.42212946666666,
          47.49962197777778,
          47.70600271111111,
          48.00323151111111,
          48.296562511111105,
          48.59878602222222,
          48.93010988888889,
          49.25032382222222,
          49.532896111111114,
          49.80277366666667,
          50.00999766666666,
          50.20523175555555,
          50.56328877777778,
          50.81194137777778,
          51.02103206666666,
          51.25786106666666,
          51.502873377777775,
          51.83663924444444,
          52.24760228888889,
          52.52129082222222,
          53.002415311111115,
          53.453056466666666,
          53.71771588888889,
          53.96146497777777,
          54.013456311111106,
          54.15264291111111,
          54.36975524444444,
          54.69688028888889,
          55.16800264444444,
          55.73731464444444,
          56.12888193333334,
          56.42487975555555,
          56.82546908888889,
          57.24267848888889,
          57.68452031111111,
          58.06344775555556,
          58.70251015555555,
          59.24995571111111,
          59.9656856,
          60.53106897777778,
          61.01061966666666,
          61.274602673913044,
          62.28031019565217,
          63.33369365217391,
          64.5165050652174,
          65.9982405,
          66.88717930434782,
          67.71626567391304,
          68.77019417391304,
          69.00395845652174,
          69.12976560869565,
          69.40754547826087,
          69.62000756521739,
          69.89762830434783,
          70.20963045652174,
          70.53193191304348,
          70.85260845652174,
          71.24418882608695,
          71.39378347826087,
          71.39372695652175,
          71.68602276086958,
          71.7118947173913,
          71.68459730434783,
          71.87717254347827,
          72.15878632608695,
          72.751504,
          73.24972923913043,
          73.69574306521739,
          73.88876582608695,
          74.12044634782609,
          74.45016552173912,
          74.67483134782609,
          75.22515417391305,
          76.15731819565217,
          76.6286367826087,
          77.20085447826087,
          77.80244565217392,
          78.69516923913044,
          79.28592163043479,
          79.81007845652174,
          80.6319382173913,
          80.82578058695653,
          80.83648802173913,
          81.2600775,
          81.72225019565217,
          81.97890245652174,
          82.08866980434783,
          82.34992715217392,
          82.71631323913043,
          83.36214760869565,
          83.71816117391305,
          84.24527819565218,
          84.89931767391305,
          85.02528354347827,
          85.25742880434782,
          85.64584571739131,
          86.01643460869565,
          86.28643854347825,
          86.42543339130434,
          86.71879389130434,
          87.312088,
          88.3183963478261,
          88.58080002173914,
          88.77439486956521,
          89.21360208695651,
          89.59353773913043,
          90.13085504347826,
          90.55618495652173,
          91.01744689130435,
          91.26685317391305,
          91.8115062826087,
          91.98778930434783,
          92.26127093478262,
          92.69402517391305,
          92.9445955,
          93.3548732173913,
          94.24070776086957,
          94.71081643478261,
          95.34069930434782,
          95.79785258695651,
          96.00524410869566,
          95.97085313043479,
          96.24785997826086,
          96.64511141304347,
          97.13031202173913,
          97.78755021739131,
          97.91818430434782,
          98.47752565217392,
          99.098531,
          99.69458539130436,
          100.14783908695652,
          100.37609545652174,
          100.54264580434783,
          100.89677595652174,
          101.39422306521739,
          101.89894897826086,
          102.23136956521739,
          102.5171019347826,
          102.89493723913043,
          103.30468484782608,
          104.3285827826087,
          105.08167054347825,
          105.4779194130435,
          105.83966258695652,
          105.84504932608695,
          106.0899955,
          106.51922389130435,
          107.29284228260869,
          107.85391510869566,
          108.79325806521739,
          109.6004995,
          110.35022115217392,
          111.3644010652174,
          111.88829482608696,
          112.1800838478261,
          112.62144189130434,
          113.0256924347826,
          113.48145367391305,
          113.81859010869564,
          114.33099332608697,
          114.93579036956523,
          116.41445565217391,
          116.87474726086955,
          117.40149867391305,
          118.19203226086957,
          118.8460917826087,
          119.29493547826087,
          119.80342356521739,
          120.399535,
          121.01186015217391,
          121.53780439130435,
          122.35193339130436,
          123.01667413043478,
          123.90331423913044,
          124.83164104347826,
          125.72342510869565,
          127.01747045652175,
          128.1462457173913,
          128.62584397826086,
          129.8349499347826,
          130.83339510869567,
          131.70478163043478,
          132.70841136956523,
          134.26559367391303,
          135.44452267391304,
          137.02904930434784,
          138.57932697826087,
          141.51508808695652,
          145.56200404347825,
          147.94949747826087,
          150.10368582608697,
          152.47626045652174,
          154.3529496521739,
          158.58896260869565,
          162.41380247826086,
          166.02390152173913,
          168.3131606521739,
          175.80986956521738,
          182.32664969565215,
          186.98629721739132,
          193.76805636956524,
          199.26176060869565,
          204.51328197826086,
          209.8768748478261,
          215.18948030434782,
          220.74435823913043
         ],
         "yaxis": "y"
        },
        {
         "hovertemplate": "Economic Group=High-income economies<br>date=%{x}<br>Value=%{y}<extra></extra>",
         "legendgroup": "High-income economies",
         "line": {
          "color": "#EF553B",
          "dash": "solid"
         },
         "marker": {
          "symbol": "circle"
         },
         "mode": "lines",
         "name": "High-income economies",
         "showlegend": true,
         "type": "scattergl",
         "x": [
          "2000-01-01T00:00:00",
          "2000-02-01T00:00:00",
          "2000-03-01T00:00:00",
          "2000-04-01T00:00:00",
          "2000-05-01T00:00:00",
          "2000-06-01T00:00:00",
          "2000-07-01T00:00:00",
          "2000-08-01T00:00:00",
          "2000-09-01T00:00:00",
          "2000-10-01T00:00:00",
          "2000-11-01T00:00:00",
          "2000-12-01T00:00:00",
          "2001-01-01T00:00:00",
          "2001-02-01T00:00:00",
          "2001-03-01T00:00:00",
          "2001-04-01T00:00:00",
          "2001-05-01T00:00:00",
          "2001-06-01T00:00:00",
          "2001-07-01T00:00:00",
          "2001-08-01T00:00:00",
          "2001-09-01T00:00:00",
          "2001-10-01T00:00:00",
          "2001-11-01T00:00:00",
          "2001-12-01T00:00:00",
          "2002-01-01T00:00:00",
          "2002-02-01T00:00:00",
          "2002-03-01T00:00:00",
          "2002-04-01T00:00:00",
          "2002-05-01T00:00:00",
          "2002-06-01T00:00:00",
          "2002-07-01T00:00:00",
          "2002-08-01T00:00:00",
          "2002-09-01T00:00:00",
          "2002-10-01T00:00:00",
          "2002-11-01T00:00:00",
          "2002-12-01T00:00:00",
          "2003-01-01T00:00:00",
          "2003-02-01T00:00:00",
          "2003-03-01T00:00:00",
          "2003-04-01T00:00:00",
          "2003-05-01T00:00:00",
          "2003-06-01T00:00:00",
          "2003-07-01T00:00:00",
          "2003-08-01T00:00:00",
          "2003-09-01T00:00:00",
          "2003-10-01T00:00:00",
          "2003-11-01T00:00:00",
          "2003-12-01T00:00:00",
          "2004-01-01T00:00:00",
          "2004-02-01T00:00:00",
          "2004-03-01T00:00:00",
          "2004-04-01T00:00:00",
          "2004-05-01T00:00:00",
          "2004-06-01T00:00:00",
          "2004-07-01T00:00:00",
          "2004-08-01T00:00:00",
          "2004-09-01T00:00:00",
          "2004-10-01T00:00:00",
          "2004-11-01T00:00:00",
          "2004-12-01T00:00:00",
          "2005-01-01T00:00:00",
          "2005-02-01T00:00:00",
          "2005-03-01T00:00:00",
          "2005-04-01T00:00:00",
          "2005-05-01T00:00:00",
          "2005-06-01T00:00:00",
          "2005-07-01T00:00:00",
          "2005-08-01T00:00:00",
          "2005-09-01T00:00:00",
          "2005-10-01T00:00:00",
          "2005-11-01T00:00:00",
          "2005-12-01T00:00:00",
          "2006-01-01T00:00:00",
          "2006-02-01T00:00:00",
          "2006-03-01T00:00:00",
          "2006-04-01T00:00:00",
          "2006-05-01T00:00:00",
          "2006-06-01T00:00:00",
          "2006-07-01T00:00:00",
          "2006-08-01T00:00:00",
          "2006-09-01T00:00:00",
          "2006-10-01T00:00:00",
          "2006-11-01T00:00:00",
          "2006-12-01T00:00:00",
          "2007-01-01T00:00:00",
          "2007-02-01T00:00:00",
          "2007-03-01T00:00:00",
          "2007-04-01T00:00:00",
          "2007-05-01T00:00:00",
          "2007-06-01T00:00:00",
          "2007-07-01T00:00:00",
          "2007-08-01T00:00:00",
          "2007-09-01T00:00:00",
          "2007-10-01T00:00:00",
          "2007-11-01T00:00:00",
          "2007-12-01T00:00:00",
          "2008-01-01T00:00:00",
          "2008-02-01T00:00:00",
          "2008-03-01T00:00:00",
          "2008-04-01T00:00:00",
          "2008-05-01T00:00:00",
          "2008-06-01T00:00:00",
          "2008-07-01T00:00:00",
          "2008-08-01T00:00:00",
          "2008-09-01T00:00:00",
          "2008-10-01T00:00:00",
          "2008-11-01T00:00:00",
          "2008-12-01T00:00:00",
          "2009-01-01T00:00:00",
          "2009-02-01T00:00:00",
          "2009-03-01T00:00:00",
          "2009-04-01T00:00:00",
          "2009-05-01T00:00:00",
          "2009-06-01T00:00:00",
          "2009-07-01T00:00:00",
          "2009-08-01T00:00:00",
          "2009-09-01T00:00:00",
          "2009-10-01T00:00:00",
          "2009-11-01T00:00:00",
          "2009-12-01T00:00:00",
          "2010-01-01T00:00:00",
          "2010-02-01T00:00:00",
          "2010-03-01T00:00:00",
          "2010-04-01T00:00:00",
          "2010-05-01T00:00:00",
          "2010-06-01T00:00:00",
          "2010-07-01T00:00:00",
          "2010-08-01T00:00:00",
          "2010-09-01T00:00:00",
          "2010-10-01T00:00:00",
          "2010-11-01T00:00:00",
          "2010-12-01T00:00:00",
          "2011-01-01T00:00:00",
          "2011-02-01T00:00:00",
          "2011-03-01T00:00:00",
          "2011-04-01T00:00:00",
          "2011-05-01T00:00:00",
          "2011-06-01T00:00:00",
          "2011-07-01T00:00:00",
          "2011-08-01T00:00:00",
          "2011-09-01T00:00:00",
          "2011-10-01T00:00:00",
          "2011-11-01T00:00:00",
          "2011-12-01T00:00:00",
          "2012-01-01T00:00:00",
          "2012-02-01T00:00:00",
          "2012-03-01T00:00:00",
          "2012-04-01T00:00:00",
          "2012-05-01T00:00:00",
          "2012-06-01T00:00:00",
          "2012-07-01T00:00:00",
          "2012-08-01T00:00:00",
          "2012-09-01T00:00:00",
          "2012-10-01T00:00:00",
          "2012-11-01T00:00:00",
          "2012-12-01T00:00:00",
          "2013-01-01T00:00:00",
          "2013-02-01T00:00:00",
          "2013-03-01T00:00:00",
          "2013-04-01T00:00:00",
          "2013-05-01T00:00:00",
          "2013-06-01T00:00:00",
          "2013-07-01T00:00:00",
          "2013-08-01T00:00:00",
          "2013-09-01T00:00:00",
          "2013-10-01T00:00:00",
          "2013-11-01T00:00:00",
          "2013-12-01T00:00:00",
          "2014-01-01T00:00:00",
          "2014-02-01T00:00:00",
          "2014-03-01T00:00:00",
          "2014-04-01T00:00:00",
          "2014-05-01T00:00:00",
          "2014-06-01T00:00:00",
          "2014-07-01T00:00:00",
          "2014-08-01T00:00:00",
          "2014-09-01T00:00:00",
          "2014-10-01T00:00:00",
          "2014-11-01T00:00:00",
          "2014-12-01T00:00:00",
          "2015-01-01T00:00:00",
          "2015-02-01T00:00:00",
          "2015-03-01T00:00:00",
          "2015-04-01T00:00:00",
          "2015-05-01T00:00:00",
          "2015-06-01T00:00:00",
          "2015-07-01T00:00:00",
          "2015-08-01T00:00:00",
          "2015-09-01T00:00:00",
          "2015-10-01T00:00:00",
          "2015-11-01T00:00:00",
          "2015-12-01T00:00:00",
          "2016-01-01T00:00:00",
          "2016-02-01T00:00:00",
          "2016-03-01T00:00:00",
          "2016-04-01T00:00:00",
          "2016-05-01T00:00:00",
          "2016-06-01T00:00:00",
          "2016-07-01T00:00:00",
          "2016-08-01T00:00:00",
          "2016-09-01T00:00:00",
          "2016-10-01T00:00:00",
          "2016-11-01T00:00:00",
          "2016-12-01T00:00:00",
          "2017-01-01T00:00:00",
          "2017-02-01T00:00:00",
          "2017-03-01T00:00:00",
          "2017-04-01T00:00:00",
          "2017-05-01T00:00:00",
          "2017-06-01T00:00:00",
          "2017-07-01T00:00:00",
          "2017-08-01T00:00:00",
          "2017-09-01T00:00:00",
          "2017-10-01T00:00:00",
          "2017-11-01T00:00:00",
          "2017-12-01T00:00:00",
          "2018-01-01T00:00:00",
          "2018-02-01T00:00:00",
          "2018-03-01T00:00:00",
          "2018-04-01T00:00:00",
          "2018-05-01T00:00:00",
          "2018-06-01T00:00:00",
          "2018-07-01T00:00:00",
          "2018-08-01T00:00:00",
          "2018-09-01T00:00:00",
          "2018-10-01T00:00:00",
          "2018-11-01T00:00:00",
          "2018-12-01T00:00:00",
          "2019-01-01T00:00:00",
          "2019-02-01T00:00:00",
          "2019-03-01T00:00:00",
          "2019-04-01T00:00:00",
          "2019-05-01T00:00:00",
          "2019-06-01T00:00:00",
          "2019-07-01T00:00:00",
          "2019-08-01T00:00:00",
          "2019-09-01T00:00:00",
          "2019-10-01T00:00:00",
          "2019-11-01T00:00:00",
          "2019-12-01T00:00:00",
          "2020-01-01T00:00:00",
          "2020-02-01T00:00:00",
          "2020-03-01T00:00:00",
          "2020-04-01T00:00:00",
          "2020-05-01T00:00:00",
          "2020-06-01T00:00:00",
          "2020-07-01T00:00:00",
          "2020-08-01T00:00:00",
          "2020-09-01T00:00:00",
          "2020-10-01T00:00:00",
          "2020-11-01T00:00:00",
          "2020-12-01T00:00:00",
          "2021-01-01T00:00:00",
          "2021-02-01T00:00:00",
          "2021-03-01T00:00:00",
          "2021-04-01T00:00:00",
          "2021-05-01T00:00:00",
          "2021-06-01T00:00:00",
          "2021-07-01T00:00:00",
          "2021-08-01T00:00:00",
          "2021-09-01T00:00:00"
         ],
         "xaxis": "x",
         "y": [
          63.693677290322576,
          63.85047498387097,
          63.8570209032258,
          63.91978259677419,
          64.07556893548387,
          64.09051420967742,
          64.19226320967742,
          64.21914064516129,
          64.33142516129031,
          64.4498678064516,
          64.5736409516129,
          64.75854333870969,
          65.1681335483871,
          65.37290019354839,
          65.68889148387096,
          66.04635727419355,
          66.49242235483871,
          66.74904733870967,
          66.53222772580645,
          66.54827424193547,
          66.61961938709678,
          66.80098022580646,
          66.75589941935485,
          67.08364970967742,
          67.78922782258066,
          67.80705083870967,
          67.86874538709677,
          67.91807453225807,
          67.91735016129033,
          67.76248101612904,
          67.60986912903225,
          67.59274325806452,
          67.73471446774194,
          67.77857662903226,
          67.83318166129033,
          67.98195846774193,
          68.30863443548387,
          68.56663743548387,
          68.82842311290322,
          68.91565383870967,
          69.0584568064516,
          69.09706543548387,
          68.89669356451613,
          68.86188472580645,
          69.12587438709677,
          69.18664748387097,
          69.35066912903226,
          69.43607477419354,
          69.89834843548387,
          69.99345220967741,
          70.17269467741936,
          70.2422932580645,
          70.45538061290323,
          70.5387284516129,
          70.52452737096775,
          70.42618527419354,
          70.45405140322582,
          70.5227240967742,
          70.67563146774194,
          70.96438370967742,
          71.0606973064516,
          71.4478734516129,
          71.58584266129033,
          71.4813182419355,
          71.61550258064516,
          71.57916540322582,
          71.42609025806452,
          71.41565353225806,
          71.61331229032258,
          71.75318927419355,
          71.9343597419355,
          72.17168248387097,
          72.66380308064517,
          72.8796080483871,
          72.98898898387097,
          73.21631059677419,
          73.6066585483871,
          73.77776672580646,
          73.89503970967742,
          74.09928072580644,
          74.41315633870967,
          74.46155587096774,
          74.75898970967742,
          74.99426780645162,
          75.55158916129032,
          75.75820029032259,
          75.81143567741935,
          76.26101088709677,
          76.46490391935484,
          76.61782058064516,
          76.87128974193548,
          77.27162266129032,
          77.92883627419354,
          78.67798891935485,
          79.34050361290323,
          79.89248380645162,
          80.89487196774193,
          81.58607932258064,
          82.01304627419356,
          82.72343535483871,
          83.36685320967743,
          83.76042177419356,
          84.2979695,
          84.6120695,
          85.07345491935484,
          85.4629844032258,
          85.95018854838709,
          86.20462620967741,
          86.82324409677419,
          86.95151711290323,
          87.01895716129033,
          86.73929785483871,
          86.70914964516129,
          86.4887085483871,
          86.21776593548387,
          85.97422908064516,
          86.04724209677418,
          85.89741564516129,
          85.96983932258065,
          86.08929009677419,
          86.60573685483871,
          86.95803162903225,
          87.15581106451613,
          87.52157151612903,
          87.52749087096774,
          87.62200666129033,
          87.85849985483871,
          88.13562419354838,
          88.70025133870968,
          88.83484424193549,
          88.95072853225805,
          89.2579858064516,
          89.93590941935483,
          90.56435798387098,
          90.93973046774194,
          91.21375633870967,
          91.66525575806452,
          91.66791806451613,
          91.77658216129032,
          91.85181250000001,
          92.12182851612903,
          92.32572096774193,
          92.594779,
          92.94634916129033,
          93.5126850483871,
          94.01954979032259,
          94.32688267741935,
          94.42197408064516,
          94.59783583870968,
          94.59905008064516,
          94.6842649516129,
          94.8642684516129,
          95.26432111290323,
          95.55732183870968,
          95.65137169354838,
          95.90018498387097,
          96.656228,
          96.92900279032258,
          97.00892803225807,
          97.34117680645161,
          97.67366279032258,
          97.87561538709677,
          97.80114422580645,
          97.72741793548387,
          97.76291416129031,
          97.75433541935485,
          97.71308970967742,
          98.01450237096775,
          98.46648408064517,
          98.70834675806452,
          98.72132314516129,
          98.72748785483871,
          98.8043355967742,
          98.82339780645162,
          98.80922248387097,
          98.80876454838709,
          99.06082172580645,
          99.18966609677419,
          99.27808480645162,
          99.10430274193548,
          99.68707066129032,
          99.87246708064515,
          99.89693456451613,
          99.82554920967742,
          100.19121933870969,
          100.19409035483872,
          100.1065975,
          100.36861841935485,
          100.66231712903225,
          100.89226082258065,
          100.70387729032258,
          100.47266596774195,
          100.67217579032257,
          101.10354730645162,
          100.88253974193549,
          101.05745991935483,
          101.179219,
          101.0745531935484,
          101.40826690322581,
          101.55384548387097,
          101.61835685483871,
          101.52398670967742,
          101.5181144516129,
          101.6676905967742,
          102.283309,
          102.87124351612904,
          102.66706767741935,
          102.59156630645161,
          102.9399215967742,
          102.99602056451613,
          103.34930014516128,
          103.47432072580645,
          103.64239482258064,
          103.97383675806451,
          104.09243522580645,
          104.18048206451613,
          104.85095888709677,
          105.06148275806451,
          104.88368416129032,
          104.93004316129033,
          105.16077608064516,
          105.42166561290323,
          105.77874888709677,
          105.86792883870969,
          106.36364543548386,
          106.63829533870968,
          106.60469203225806,
          106.6429461935484,
          107.38034096774194,
          107.9568375483871,
          108.17480585483871,
          108.16966930645161,
          108.5036839032258,
          108.90641516129031,
          109.42239282258065,
          109.88680061290323,
          110.18789374193548,
          110.38200404838709,
          110.811243,
          111.10683806451613,
          112.24999290322582,
          112.8384060483871,
          113.31120851612904,
          114.26026193548387,
          114.58381766129031,
          114.66878349999999,
          114.70996056451614,
          115.09293917741935,
          115.23793745161291,
          115.8207330967742,
          115.84960943548387,
          115.93696635483872,
          116.92213841935484,
          117.49460520967742,
          117.76571087096774,
          118.45045735483872,
          119.12767398387096,
          119.67224109677419,
          120.31647406451613,
          120.91445214516129,
          121.4378699516129
         ],
         "yaxis": "y"
        },
        {
         "hovertemplate": "Economic Group=Low income economies<br>date=%{x}<br>Value=%{y}<extra></extra>",
         "legendgroup": "Low income economies",
         "line": {
          "color": "#00cc96",
          "dash": "solid"
         },
         "marker": {
          "symbol": "circle"
         },
         "mode": "lines",
         "name": "Low income economies",
         "showlegend": true,
         "type": "scattergl",
         "x": [
          "2000-01-01T00:00:00",
          "2000-02-01T00:00:00",
          "2000-03-01T00:00:00",
          "2000-04-01T00:00:00",
          "2000-05-01T00:00:00",
          "2000-06-01T00:00:00",
          "2000-07-01T00:00:00",
          "2000-08-01T00:00:00",
          "2000-09-01T00:00:00",
          "2000-10-01T00:00:00",
          "2000-11-01T00:00:00",
          "2000-12-01T00:00:00",
          "2001-01-01T00:00:00",
          "2001-02-01T00:00:00",
          "2001-03-01T00:00:00",
          "2001-04-01T00:00:00",
          "2001-05-01T00:00:00",
          "2001-06-01T00:00:00",
          "2001-07-01T00:00:00",
          "2001-08-01T00:00:00",
          "2001-09-01T00:00:00",
          "2001-10-01T00:00:00",
          "2001-11-01T00:00:00",
          "2001-12-01T00:00:00",
          "2002-01-01T00:00:00",
          "2002-02-01T00:00:00",
          "2002-03-01T00:00:00",
          "2002-04-01T00:00:00",
          "2002-05-01T00:00:00",
          "2002-06-01T00:00:00",
          "2002-07-01T00:00:00",
          "2002-08-01T00:00:00",
          "2002-09-01T00:00:00",
          "2002-10-01T00:00:00",
          "2002-11-01T00:00:00",
          "2002-12-01T00:00:00",
          "2003-01-01T00:00:00",
          "2003-02-01T00:00:00",
          "2003-03-01T00:00:00",
          "2003-04-01T00:00:00",
          "2003-05-01T00:00:00",
          "2003-06-01T00:00:00",
          "2003-07-01T00:00:00",
          "2003-08-01T00:00:00",
          "2003-09-01T00:00:00",
          "2003-10-01T00:00:00",
          "2003-11-01T00:00:00",
          "2003-12-01T00:00:00",
          "2004-01-01T00:00:00",
          "2004-02-01T00:00:00",
          "2004-03-01T00:00:00",
          "2004-04-01T00:00:00",
          "2004-05-01T00:00:00",
          "2004-06-01T00:00:00",
          "2004-07-01T00:00:00",
          "2004-08-01T00:00:00",
          "2004-09-01T00:00:00",
          "2004-10-01T00:00:00",
          "2004-11-01T00:00:00",
          "2004-12-01T00:00:00",
          "2005-01-01T00:00:00",
          "2005-02-01T00:00:00",
          "2005-03-01T00:00:00",
          "2005-04-01T00:00:00",
          "2005-05-01T00:00:00",
          "2005-06-01T00:00:00",
          "2005-07-01T00:00:00",
          "2005-08-01T00:00:00",
          "2005-09-01T00:00:00",
          "2005-10-01T00:00:00",
          "2005-11-01T00:00:00",
          "2005-12-01T00:00:00",
          "2006-01-01T00:00:00",
          "2006-02-01T00:00:00",
          "2006-03-01T00:00:00",
          "2006-04-01T00:00:00",
          "2006-05-01T00:00:00",
          "2006-06-01T00:00:00",
          "2006-07-01T00:00:00",
          "2006-08-01T00:00:00",
          "2006-09-01T00:00:00",
          "2006-10-01T00:00:00",
          "2006-11-01T00:00:00",
          "2006-12-01T00:00:00",
          "2007-01-01T00:00:00",
          "2007-02-01T00:00:00",
          "2007-03-01T00:00:00",
          "2007-04-01T00:00:00",
          "2007-05-01T00:00:00",
          "2007-06-01T00:00:00",
          "2007-07-01T00:00:00",
          "2007-08-01T00:00:00",
          "2007-09-01T00:00:00",
          "2007-10-01T00:00:00",
          "2007-11-01T00:00:00",
          "2007-12-01T00:00:00",
          "2008-01-01T00:00:00",
          "2008-02-01T00:00:00",
          "2008-03-01T00:00:00",
          "2008-04-01T00:00:00",
          "2008-05-01T00:00:00",
          "2008-06-01T00:00:00",
          "2008-07-01T00:00:00",
          "2008-08-01T00:00:00",
          "2008-09-01T00:00:00",
          "2008-10-01T00:00:00",
          "2008-11-01T00:00:00",
          "2008-12-01T00:00:00",
          "2009-01-01T00:00:00",
          "2009-02-01T00:00:00",
          "2009-03-01T00:00:00",
          "2009-04-01T00:00:00",
          "2009-05-01T00:00:00",
          "2009-06-01T00:00:00",
          "2009-07-01T00:00:00",
          "2009-08-01T00:00:00",
          "2009-09-01T00:00:00",
          "2009-10-01T00:00:00",
          "2009-11-01T00:00:00",
          "2009-12-01T00:00:00",
          "2010-01-01T00:00:00",
          "2010-02-01T00:00:00",
          "2010-03-01T00:00:00",
          "2010-04-01T00:00:00",
          "2010-05-01T00:00:00",
          "2010-06-01T00:00:00",
          "2010-07-01T00:00:00",
          "2010-08-01T00:00:00",
          "2010-09-01T00:00:00",
          "2010-10-01T00:00:00",
          "2010-11-01T00:00:00",
          "2010-12-01T00:00:00",
          "2011-01-01T00:00:00",
          "2011-02-01T00:00:00",
          "2011-03-01T00:00:00",
          "2011-04-01T00:00:00",
          "2011-05-01T00:00:00",
          "2011-06-01T00:00:00",
          "2011-07-01T00:00:00",
          "2011-08-01T00:00:00",
          "2011-09-01T00:00:00",
          "2011-10-01T00:00:00",
          "2011-11-01T00:00:00",
          "2011-12-01T00:00:00",
          "2012-01-01T00:00:00",
          "2012-02-01T00:00:00",
          "2012-03-01T00:00:00",
          "2012-04-01T00:00:00",
          "2012-05-01T00:00:00",
          "2012-06-01T00:00:00",
          "2012-07-01T00:00:00",
          "2012-08-01T00:00:00",
          "2012-09-01T00:00:00",
          "2012-10-01T00:00:00",
          "2012-11-01T00:00:00",
          "2012-12-01T00:00:00",
          "2013-01-01T00:00:00",
          "2013-02-01T00:00:00",
          "2013-03-01T00:00:00",
          "2013-04-01T00:00:00",
          "2013-05-01T00:00:00",
          "2013-06-01T00:00:00",
          "2013-07-01T00:00:00",
          "2013-08-01T00:00:00",
          "2013-09-01T00:00:00",
          "2013-10-01T00:00:00",
          "2013-11-01T00:00:00",
          "2013-12-01T00:00:00",
          "2014-01-01T00:00:00",
          "2014-02-01T00:00:00",
          "2014-03-01T00:00:00",
          "2014-04-01T00:00:00",
          "2014-05-01T00:00:00",
          "2014-06-01T00:00:00",
          "2014-07-01T00:00:00",
          "2014-08-01T00:00:00",
          "2014-09-01T00:00:00",
          "2014-10-01T00:00:00",
          "2014-11-01T00:00:00",
          "2014-12-01T00:00:00",
          "2015-01-01T00:00:00",
          "2015-02-01T00:00:00",
          "2015-03-01T00:00:00",
          "2015-04-01T00:00:00",
          "2015-05-01T00:00:00",
          "2015-06-01T00:00:00",
          "2015-07-01T00:00:00",
          "2015-08-01T00:00:00",
          "2015-09-01T00:00:00",
          "2015-10-01T00:00:00",
          "2015-11-01T00:00:00",
          "2015-12-01T00:00:00",
          "2016-01-01T00:00:00",
          "2016-02-01T00:00:00",
          "2016-03-01T00:00:00",
          "2016-04-01T00:00:00",
          "2016-05-01T00:00:00",
          "2016-06-01T00:00:00",
          "2016-07-01T00:00:00",
          "2016-08-01T00:00:00",
          "2016-09-01T00:00:00",
          "2016-10-01T00:00:00",
          "2016-11-01T00:00:00",
          "2016-12-01T00:00:00",
          "2017-01-01T00:00:00",
          "2017-02-01T00:00:00",
          "2017-03-01T00:00:00",
          "2017-04-01T00:00:00",
          "2017-05-01T00:00:00",
          "2017-06-01T00:00:00",
          "2017-07-01T00:00:00",
          "2017-08-01T00:00:00",
          "2017-09-01T00:00:00",
          "2017-10-01T00:00:00",
          "2017-11-01T00:00:00",
          "2017-12-01T00:00:00",
          "2018-01-01T00:00:00",
          "2018-02-01T00:00:00",
          "2018-03-01T00:00:00",
          "2018-04-01T00:00:00",
          "2018-05-01T00:00:00",
          "2018-06-01T00:00:00",
          "2018-07-01T00:00:00",
          "2018-08-01T00:00:00",
          "2018-09-01T00:00:00",
          "2018-10-01T00:00:00",
          "2018-11-01T00:00:00",
          "2018-12-01T00:00:00",
          "2019-01-01T00:00:00",
          "2019-02-01T00:00:00",
          "2019-03-01T00:00:00",
          "2019-04-01T00:00:00",
          "2019-05-01T00:00:00",
          "2019-06-01T00:00:00",
          "2019-07-01T00:00:00",
          "2019-08-01T00:00:00",
          "2019-09-01T00:00:00",
          "2019-10-01T00:00:00",
          "2019-11-01T00:00:00",
          "2019-12-01T00:00:00",
          "2020-01-01T00:00:00",
          "2020-02-01T00:00:00",
          "2020-03-01T00:00:00",
          "2020-04-01T00:00:00",
          "2020-05-01T00:00:00",
          "2020-06-01T00:00:00",
          "2020-07-01T00:00:00",
          "2020-08-01T00:00:00",
          "2020-09-01T00:00:00",
          "2020-10-01T00:00:00",
          "2020-11-01T00:00:00",
          "2020-12-01T00:00:00",
          "2021-01-01T00:00:00",
          "2021-02-01T00:00:00",
          "2021-03-01T00:00:00",
          "2021-04-01T00:00:00",
          "2021-05-01T00:00:00",
          "2021-06-01T00:00:00",
          "2021-07-01T00:00:00",
          "2021-08-01T00:00:00",
          "2021-09-01T00:00:00"
         ],
         "xaxis": "x",
         "y": [
          37.249867103448274,
          37.13925979310345,
          37.332233206896554,
          37.42836534482758,
          37.76568582758621,
          38.00466106896551,
          37.95395813793104,
          38.00273344827586,
          38.00270086206896,
          38.04723820689656,
          38.0844628275862,
          38.567666482758625,
          39.052783999999996,
          38.910217448275866,
          39.67131555172414,
          39.83483375862069,
          40.16597017241379,
          40.664593068965516,
          40.913620206896546,
          41.21801137931034,
          41.119410655172416,
          41.35037313793103,
          41.553935103448275,
          41.652326655172416,
          41.83150172413793,
          42.20502996551724,
          42.44053113793104,
          42.66698065517242,
          42.951115103448274,
          43.435627,
          43.68893720689655,
          43.485092620689656,
          43.13060624137931,
          43.23760634482758,
          43.52240317241379,
          43.38409355172414,
          43.54341710344828,
          43.702803379310346,
          43.50637037931035,
          43.83447386206897,
          44.62305789655172,
          45.0808175862069,
          44.801222344827586,
          44.60689586206897,
          44.61896,
          44.81746817241379,
          45.07584468965517,
          44.92660882758621,
          44.914510896551725,
          44.916167551724136,
          44.949564034482755,
          45.383645413793104,
          46.07051310344827,
          46.472207137931036,
          46.802906586206895,
          47.14694968965517,
          47.10434737931035,
          47.788223379310345,
          48.246636,
          48.218221275862064,
          48.615591241379306,
          48.98804724137931,
          49.50781468965518,
          50.15466437931035,
          50.804620517241375,
          51.47803024137931,
          52.278868068965515,
          52.56820348275862,
          52.12859272413793,
          52.4116048275862,
          51.89018855172414,
          51.59464675862069,
          51.87121058620689,
          52.069985448275865,
          52.350577,
          52.83433237931035,
          53.423389965517245,
          53.90528275862069,
          53.95715665517241,
          54.194448758620695,
          54.60609396551724,
          54.976502413793106,
          54.92581520689655,
          55.568275793103446,
          55.46209196551724,
          55.92879679310345,
          56.209086896551725,
          56.199174793103445,
          56.150666931034486,
          56.76600896551724,
          57.26729827586207,
          57.16615562068965,
          58.09269368965517,
          58.920768379310346,
          59.79856251724138,
          59.79189534482758,
          60.257711,
          60.852526499999996,
          61.491250199999996,
          62.459271400000006,
          63.835905866666664,
          65.402819,
          66.76920439999999,
          67.78102129999999,
          68.31139723333334,
          68.50611316666667,
          68.1455287,
          67.828269,
          67.8199444,
          67.59967520000001,
          67.29040933333333,
          67.65617803333333,
          67.7894439,
          67.5152434,
          68.4246391,
          69.00676046666668,
          69.38313176666666,
          69.06997526666667,
          69.30185093333333,
          69.09234586666666,
          69.62658316666666,
          69.75519576666667,
          69.78844843333333,
          70.11075696666667,
          70.37335209999999,
          71.03655869999999,
          71.8682802,
          72.6411015,
          72.80186673333333,
          72.96783356666667,
          73.37978673333333,
          74.1057778,
          75.22216806666667,
          75.09776256666667,
          75.42040186666667,
          76.4624715,
          76.96324603333332,
          78.1712176,
          79.40481756666667,
          80.05347356666667,
          80.15901726666667,
          80.78173443333334,
          81.5196343,
          82.1213214,
          82.46924346666667,
          82.7105803,
          83.21357540000001,
          83.9804167,
          85.28042146666667,
          85.28596013333332,
          85.89248963333333,
          86.77988056666666,
          87.21213306666667,
          87.1083013,
          87.86702543333332,
          87.7094296,
          87.96408939999999,
          88.16066436666667,
          88.53644393333335,
          88.98666543333334,
          89.39279376666667,
          89.65059373333334,
          90.55050823333335,
          91.26160759999999,
          91.8573883,
          92.46633019999999,
          92.3900422,
          91.70175466666666,
          91.79829826666668,
          91.7513857,
          92.2047997,
          92.43941799999999,
          92.8101961,
          92.9579847,
          93.74419053333332,
          93.92603383333334,
          93.86621553333333,
          94.145211,
          94.66530403333333,
          94.49980736666666,
          95.0429452,
          95.684388,
          96.50638869999999,
          97.4208758,
          98.55361996666667,
          99.85878819999999,
          100.32971666666667,
          101.33340043333332,
          103.08585790000001,
          103.77531743333334,
          105.0887877,
          106.17742679999999,
          107.77776560000001,
          108.96248963333332,
          110.1117944,
          112.10249596666667,
          114.56218606666667,
          115.5085191,
          126.02974446666667,
          126.9513269,
          131.06318113333333,
          131.61040626666667,
          134.15575386666666,
          141.3370866,
          140.5479933,
          155.16098453333333,
          149.98458346666666,
          148.59847856666667,
          165.79901213333332,
          158.9641026,
          159.89358053333336,
          161.07553776666666,
          165.37816216666667,
          162.59645373333333,
          171.22786406666668,
          173.3498735,
          179.62264510000003,
          181.04351353333334,
          188.3564723,
          211.54532033333334,
          201.31591043333336,
          195.42137793333333,
          221.39547793333335,
          201.54966196666663,
          192.3139931,
          191.8033306,
          196.9902111,
          196.3843642,
          228.5261716,
          251.30760693333332,
          270.652835,
          281.4024915333333,
          291.7750564,
          299.9715235333333,
          322.6049175,
          333.36284943333334,
          343.9278103666667,
          362.75176123333335,
          305.82104259999994,
          322.9084459,
          330.54671626666664,
          351.5469804,
          370.49244293333334,
          404.6865937333333,
          423.2066131,
          416.58612460000006,
          485.211179,
          524.0265431,
          560.3537447666666,
          572.6880883666668,
          566.3224197333333,
          559.1705110333334,
          580.9733869666667,
          607.9434742666667,
          618.7932127666667,
          628.6085878666668,
          637.0808057666667,
          651.1986459666666,
          663.9176157333333,
          674.9846480666668,
          685.9636155000001
         ],
         "yaxis": "y"
        },
        {
         "hovertemplate": "Economic Group=Upper-middle-income economies<br>date=%{x}<br>Value=%{y}<extra></extra>",
         "legendgroup": "Upper-middle-income economies",
         "line": {
          "color": "#ab63fa",
          "dash": "solid"
         },
         "marker": {
          "symbol": "circle"
         },
         "mode": "lines",
         "name": "Upper-middle-income economies",
         "showlegend": true,
         "type": "scattergl",
         "x": [
          "2000-01-01T00:00:00",
          "2000-02-01T00:00:00",
          "2000-03-01T00:00:00",
          "2000-04-01T00:00:00",
          "2000-05-01T00:00:00",
          "2000-06-01T00:00:00",
          "2000-07-01T00:00:00",
          "2000-08-01T00:00:00",
          "2000-09-01T00:00:00",
          "2000-10-01T00:00:00",
          "2000-11-01T00:00:00",
          "2000-12-01T00:00:00",
          "2001-01-01T00:00:00",
          "2001-02-01T00:00:00",
          "2001-03-01T00:00:00",
          "2001-04-01T00:00:00",
          "2001-05-01T00:00:00",
          "2001-06-01T00:00:00",
          "2001-07-01T00:00:00",
          "2001-08-01T00:00:00",
          "2001-09-01T00:00:00",
          "2001-10-01T00:00:00",
          "2001-11-01T00:00:00",
          "2001-12-01T00:00:00",
          "2002-01-01T00:00:00",
          "2002-02-01T00:00:00",
          "2002-03-01T00:00:00",
          "2002-04-01T00:00:00",
          "2002-05-01T00:00:00",
          "2002-06-01T00:00:00",
          "2002-07-01T00:00:00",
          "2002-08-01T00:00:00",
          "2002-09-01T00:00:00",
          "2002-10-01T00:00:00",
          "2002-11-01T00:00:00",
          "2002-12-01T00:00:00",
          "2003-01-01T00:00:00",
          "2003-02-01T00:00:00",
          "2003-03-01T00:00:00",
          "2003-04-01T00:00:00",
          "2003-05-01T00:00:00",
          "2003-06-01T00:00:00",
          "2003-07-01T00:00:00",
          "2003-08-01T00:00:00",
          "2003-09-01T00:00:00",
          "2003-10-01T00:00:00",
          "2003-11-01T00:00:00",
          "2003-12-01T00:00:00",
          "2004-01-01T00:00:00",
          "2004-02-01T00:00:00",
          "2004-03-01T00:00:00",
          "2004-04-01T00:00:00",
          "2004-05-01T00:00:00",
          "2004-06-01T00:00:00",
          "2004-07-01T00:00:00",
          "2004-08-01T00:00:00",
          "2004-09-01T00:00:00",
          "2004-10-01T00:00:00",
          "2004-11-01T00:00:00",
          "2004-12-01T00:00:00",
          "2005-01-01T00:00:00",
          "2005-02-01T00:00:00",
          "2005-03-01T00:00:00",
          "2005-04-01T00:00:00",
          "2005-05-01T00:00:00",
          "2005-06-01T00:00:00",
          "2005-07-01T00:00:00",
          "2005-08-01T00:00:00",
          "2005-09-01T00:00:00",
          "2005-10-01T00:00:00",
          "2005-11-01T00:00:00",
          "2005-12-01T00:00:00",
          "2006-01-01T00:00:00",
          "2006-02-01T00:00:00",
          "2006-03-01T00:00:00",
          "2006-04-01T00:00:00",
          "2006-05-01T00:00:00",
          "2006-06-01T00:00:00",
          "2006-07-01T00:00:00",
          "2006-08-01T00:00:00",
          "2006-09-01T00:00:00",
          "2006-10-01T00:00:00",
          "2006-11-01T00:00:00",
          "2006-12-01T00:00:00",
          "2007-01-01T00:00:00",
          "2007-02-01T00:00:00",
          "2007-03-01T00:00:00",
          "2007-04-01T00:00:00",
          "2007-05-01T00:00:00",
          "2007-06-01T00:00:00",
          "2007-07-01T00:00:00",
          "2007-08-01T00:00:00",
          "2007-09-01T00:00:00",
          "2007-10-01T00:00:00",
          "2007-11-01T00:00:00",
          "2007-12-01T00:00:00",
          "2008-01-01T00:00:00",
          "2008-02-01T00:00:00",
          "2008-03-01T00:00:00",
          "2008-04-01T00:00:00",
          "2008-05-01T00:00:00",
          "2008-06-01T00:00:00",
          "2008-07-01T00:00:00",
          "2008-08-01T00:00:00",
          "2008-09-01T00:00:00",
          "2008-10-01T00:00:00",
          "2008-11-01T00:00:00",
          "2008-12-01T00:00:00",
          "2009-01-01T00:00:00",
          "2009-02-01T00:00:00",
          "2009-03-01T00:00:00",
          "2009-04-01T00:00:00",
          "2009-05-01T00:00:00",
          "2009-06-01T00:00:00",
          "2009-07-01T00:00:00",
          "2009-08-01T00:00:00",
          "2009-09-01T00:00:00",
          "2009-10-01T00:00:00",
          "2009-11-01T00:00:00",
          "2009-12-01T00:00:00",
          "2010-01-01T00:00:00",
          "2010-02-01T00:00:00",
          "2010-03-01T00:00:00",
          "2010-04-01T00:00:00",
          "2010-05-01T00:00:00",
          "2010-06-01T00:00:00",
          "2010-07-01T00:00:00",
          "2010-08-01T00:00:00",
          "2010-09-01T00:00:00",
          "2010-10-01T00:00:00",
          "2010-11-01T00:00:00",
          "2010-12-01T00:00:00",
          "2011-01-01T00:00:00",
          "2011-02-01T00:00:00",
          "2011-03-01T00:00:00",
          "2011-04-01T00:00:00",
          "2011-05-01T00:00:00",
          "2011-06-01T00:00:00",
          "2011-07-01T00:00:00",
          "2011-08-01T00:00:00",
          "2011-09-01T00:00:00",
          "2011-10-01T00:00:00",
          "2011-11-01T00:00:00",
          "2011-12-01T00:00:00",
          "2012-01-01T00:00:00",
          "2012-02-01T00:00:00",
          "2012-03-01T00:00:00",
          "2012-04-01T00:00:00",
          "2012-05-01T00:00:00",
          "2012-06-01T00:00:00",
          "2012-07-01T00:00:00",
          "2012-08-01T00:00:00",
          "2012-09-01T00:00:00",
          "2012-10-01T00:00:00",
          "2012-11-01T00:00:00",
          "2012-12-01T00:00:00",
          "2013-01-01T00:00:00",
          "2013-02-01T00:00:00",
          "2013-03-01T00:00:00",
          "2013-04-01T00:00:00",
          "2013-05-01T00:00:00",
          "2013-06-01T00:00:00",
          "2013-07-01T00:00:00",
          "2013-08-01T00:00:00",
          "2013-09-01T00:00:00",
          "2013-10-01T00:00:00",
          "2013-11-01T00:00:00",
          "2013-12-01T00:00:00",
          "2014-01-01T00:00:00",
          "2014-02-01T00:00:00",
          "2014-03-01T00:00:00",
          "2014-04-01T00:00:00",
          "2014-05-01T00:00:00",
          "2014-06-01T00:00:00",
          "2014-07-01T00:00:00",
          "2014-08-01T00:00:00",
          "2014-09-01T00:00:00",
          "2014-10-01T00:00:00",
          "2014-11-01T00:00:00",
          "2014-12-01T00:00:00",
          "2015-01-01T00:00:00",
          "2015-02-01T00:00:00",
          "2015-03-01T00:00:00",
          "2015-04-01T00:00:00",
          "2015-05-01T00:00:00",
          "2015-06-01T00:00:00",
          "2015-07-01T00:00:00",
          "2015-08-01T00:00:00",
          "2015-09-01T00:00:00",
          "2015-10-01T00:00:00",
          "2015-11-01T00:00:00",
          "2015-12-01T00:00:00",
          "2016-01-01T00:00:00",
          "2016-02-01T00:00:00",
          "2016-03-01T00:00:00",
          "2016-04-01T00:00:00",
          "2016-05-01T00:00:00",
          "2016-06-01T00:00:00",
          "2016-07-01T00:00:00",
          "2016-08-01T00:00:00",
          "2016-09-01T00:00:00",
          "2016-10-01T00:00:00",
          "2016-11-01T00:00:00",
          "2016-12-01T00:00:00",
          "2017-01-01T00:00:00",
          "2017-02-01T00:00:00",
          "2017-03-01T00:00:00",
          "2017-04-01T00:00:00",
          "2017-05-01T00:00:00",
          "2017-06-01T00:00:00",
          "2017-07-01T00:00:00",
          "2017-08-01T00:00:00",
          "2017-09-01T00:00:00",
          "2017-10-01T00:00:00",
          "2017-11-01T00:00:00",
          "2017-12-01T00:00:00",
          "2018-01-01T00:00:00",
          "2018-02-01T00:00:00",
          "2018-03-01T00:00:00",
          "2018-04-01T00:00:00",
          "2018-05-01T00:00:00",
          "2018-06-01T00:00:00",
          "2018-07-01T00:00:00",
          "2018-08-01T00:00:00",
          "2018-09-01T00:00:00",
          "2018-10-01T00:00:00",
          "2018-11-01T00:00:00",
          "2018-12-01T00:00:00",
          "2019-01-01T00:00:00",
          "2019-02-01T00:00:00",
          "2019-03-01T00:00:00",
          "2019-04-01T00:00:00",
          "2019-05-01T00:00:00",
          "2019-06-01T00:00:00",
          "2019-07-01T00:00:00",
          "2019-08-01T00:00:00",
          "2019-09-01T00:00:00",
          "2019-10-01T00:00:00",
          "2019-11-01T00:00:00",
          "2019-12-01T00:00:00",
          "2020-01-01T00:00:00",
          "2020-02-01T00:00:00",
          "2020-03-01T00:00:00",
          "2020-04-01T00:00:00",
          "2020-05-01T00:00:00",
          "2020-06-01T00:00:00",
          "2020-07-01T00:00:00",
          "2020-08-01T00:00:00",
          "2020-09-01T00:00:00",
          "2020-10-01T00:00:00",
          "2020-11-01T00:00:00",
          "2020-12-01T00:00:00",
          "2021-01-01T00:00:00",
          "2021-02-01T00:00:00",
          "2021-03-01T00:00:00",
          "2021-04-01T00:00:00",
          "2021-05-01T00:00:00",
          "2021-06-01T00:00:00",
          "2021-07-01T00:00:00",
          "2021-08-01T00:00:00",
          "2021-09-01T00:00:00"
         ],
         "xaxis": "x",
         "y": [
          41.05679247916667,
          41.29193804166667,
          41.43940533333333,
          41.650373270833335,
          41.83072079166667,
          41.9585690625,
          42.0413900625,
          42.2708900625,
          42.389590354166664,
          42.62330254166667,
          42.74462754166667,
          43.004113708333335,
          43.26719772916667,
          43.5249745625,
          43.732841791666665,
          44.07477041666667,
          44.3413930625,
          44.58291641666667,
          44.663842375,
          44.857082,
          45.19659077083333,
          45.42762764583333,
          45.72588827083334,
          46.084522562500005,
          46.42684154166667,
          46.6041881875,
          46.74563910416666,
          46.903941895833334,
          46.958830437500005,
          47.03066260416667,
          47.02253725,
          47.220354625,
          47.51301627083333,
          47.81780097916666,
          48.11260375,
          48.343923625,
          48.598476229166664,
          48.75539333333333,
          48.97147845833334,
          49.17227627083333,
          49.41518345833333,
          49.41379839583333,
          49.514947729166664,
          49.6817885,
          49.88702733333333,
          50.30243879166667,
          50.660311291666666,
          50.999741625000006,
          51.45951695833333,
          51.78629310416667,
          52.02938691666666,
          52.27285472916666,
          52.492308125,
          52.42969779166666,
          52.594068312500006,
          52.768853687500005,
          52.93267935416666,
          53.234535270833334,
          53.44571885416667,
          53.72867133333333,
          54.045876291666666,
          54.401251270833335,
          54.64202789583334,
          54.87180010416666,
          54.975191708333334,
          54.91579989583334,
          55.00803079166667,
          54.84001697916667,
          55.44812704166667,
          56.02344166666666,
          56.0291144375,
          56.38570252083333,
          56.978054791666665,
          57.24223525,
          57.48728179166667,
          57.721153979166665,
          57.93149391666666,
          58.00544729166666,
          58.020151687500004,
          58.198407083333336,
          58.550017375,
          58.99543793749999,
          59.50597039583334,
          60.163177875,
          60.8918689375,
          61.15955695833333,
          61.38762914583333,
          61.80047066666666,
          62.154054395833334,
          62.377428583333334,
          62.643363812500006,
          63.517202229166664,
          64.35784735416667,
          65.1967131875,
          65.98858139583334,
          66.8976985,
          67.8208751875,
          68.86610508333334,
          69.80676895833334,
          70.69358077083334,
          71.29794422916667,
          71.75304785416667,
          72.17177035416667,
          72.82679897916667,
          73.56450679166666,
          74.01507931249999,
          74.22355377083333,
          74.63303527083333,
          75.17091997916667,
          75.15169964583333,
          75.40988064583333,
          75.25672470833332,
          75.23927335416667,
          75.05155789583334,
          74.86562583333334,
          75.24090145833334,
          75.5195506875,
          75.52278520833333,
          75.7210745625,
          76.2019841875,
          76.28291733333333,
          76.965984875,
          77.32185566666666,
          77.6122341875,
          77.57561754166666,
          77.56863391666667,
          77.70260320833333,
          78.26823625,
          78.66534283333333,
          79.35552837499999,
          79.84793564583333,
          80.45676908333333,
          81.4288593125,
          82.08444995833334,
          82.9050224375,
          83.59754933333333,
          84.13174402083332,
          83.82741229166668,
          84.08879677083333,
          84.75691987500001,
          85.13780345833334,
          85.56204664583333,
          86.15215579166666,
          86.68781775000001,
          87.17425297916667,
          87.48524825,
          87.96961768749999,
          88.30418639583333,
          88.0370396875,
          88.20115410416668,
          88.43721120833334,
          88.847994375,
          89.46386464583333,
          90.19810729166666,
          90.32074195833333,
          90.96183814583333,
          91.93064120833333,
          92.23945308333333,
          92.60106941666668,
          92.85933572916667,
          92.80774724999999,
          92.85625402083333,
          92.745693,
          92.796845,
          92.93354752083333,
          93.31540945833332,
          93.30947608333334,
          93.82679520833334,
          94.91556754166668,
          95.20143666666667,
          95.55053243750001,
          95.65168989583333,
          95.53411110416666,
          95.50929931249999,
          95.52051277083332,
          96.12395822916666,
          96.38457822916666,
          96.88134483333333,
          97.27458529166667,
          97.88508949999999,
          99.56411083333334,
          99.68431516666668,
          100.05799397916667,
          100.3067254375,
          99.77758952083333,
          99.43239220833334,
          99.27059860416666,
          99.5987016875,
          99.9188118125,
          100.37145716666667,
          100.82690677083333,
          101.59379404166667,
          102.88021239583333,
          103.37078883333334,
          103.65071818749999,
          104.04192820833333,
          104.14113835416667,
          104.321327,
          104.68718922916668,
          105.08570660416666,
          105.43271025,
          105.6589371875,
          106.12716225000001,
          106.76798614583333,
          108.23246972916667,
          108.79466087499999,
          109.48922599999999,
          110.05579910416667,
          110.06354327083334,
          110.06941712499999,
          109.99238341666667,
          110.1889233125,
          110.2605295,
          110.71986997916667,
          111.31851858333333,
          112.23141583333334,
          113.09709283333332,
          113.39984602083332,
          114.02007414583333,
          114.04087358333334,
          114.211364875,
          114.37953147916666,
          114.17018504166667,
          114.64958962499999,
          115.18295885416667,
          115.71837729166667,
          115.95937025,
          116.34921150000001,
          117.9143450625,
          118.89798993749999,
          119.73924435416666,
          120.41964241666666,
          120.37155183333334,
          119.70845858333333,
          119.59653820833334,
          119.78193472916666,
          119.75460008333333,
          120.20433297916667,
          120.64418272916667,
          121.62976477083333,
          122.75637875,
          123.6248815625,
          125.67555889583333,
          130.16239977083333,
          131.2681694375,
          132.47786875,
          134.82921860416667,
          135.89181639583333,
          137.59458970833333,
          139.11068683333335,
          140.71307789583332,
          142.399831,
          144.13358685416668,
          146.8468510625,
          149.44201410416667,
          154.26667725000001,
          157.82422535416666,
          163.06657058333334,
          173.22392277083335,
          181.8429324583333,
          186.6805278958333
         ],
         "yaxis": "y"
        }
       ],
       "layout": {
        "legend": {
         "title": {
          "text": "Economic Group"
         },
         "tracegroupgap": 0
        },
        "margin": {
         "t": 60
        },
        "template": {
         "data": {
          "bar": [
           {
            "error_x": {
             "color": "#2a3f5f"
            },
            "error_y": {
             "color": "#2a3f5f"
            },
            "marker": {
             "line": {
              "color": "#E5ECF6",
              "width": 0.5
             },
             "pattern": {
              "fillmode": "overlay",
              "size": 10,
              "solidity": 0.2
             }
            },
            "type": "bar"
           }
          ],
          "barpolar": [
           {
            "marker": {
             "line": {
              "color": "#E5ECF6",
              "width": 0.5
             },
             "pattern": {
              "fillmode": "overlay",
              "size": 10,
              "solidity": 0.2
             }
            },
            "type": "barpolar"
           }
          ],
          "carpet": [
           {
            "aaxis": {
             "endlinecolor": "#2a3f5f",
             "gridcolor": "white",
             "linecolor": "white",
             "minorgridcolor": "white",
             "startlinecolor": "#2a3f5f"
            },
            "baxis": {
             "endlinecolor": "#2a3f5f",
             "gridcolor": "white",
             "linecolor": "white",
             "minorgridcolor": "white",
             "startlinecolor": "#2a3f5f"
            },
            "type": "carpet"
           }
          ],
          "choropleth": [
           {
            "colorbar": {
             "outlinewidth": 0,
             "ticks": ""
            },
            "type": "choropleth"
           }
          ],
          "contour": [
           {
            "colorbar": {
             "outlinewidth": 0,
             "ticks": ""
            },
            "colorscale": [
             [
              0,
              "#0d0887"
             ],
             [
              0.1111111111111111,
              "#46039f"
             ],
             [
              0.2222222222222222,
              "#7201a8"
             ],
             [
              0.3333333333333333,
              "#9c179e"
             ],
             [
              0.4444444444444444,
              "#bd3786"
             ],
             [
              0.5555555555555556,
              "#d8576b"
             ],
             [
              0.6666666666666666,
              "#ed7953"
             ],
             [
              0.7777777777777778,
              "#fb9f3a"
             ],
             [
              0.8888888888888888,
              "#fdca26"
             ],
             [
              1,
              "#f0f921"
             ]
            ],
            "type": "contour"
           }
          ],
          "contourcarpet": [
           {
            "colorbar": {
             "outlinewidth": 0,
             "ticks": ""
            },
            "type": "contourcarpet"
           }
          ],
          "heatmap": [
           {
            "colorbar": {
             "outlinewidth": 0,
             "ticks": ""
            },
            "colorscale": [
             [
              0,
              "#0d0887"
             ],
             [
              0.1111111111111111,
              "#46039f"
             ],
             [
              0.2222222222222222,
              "#7201a8"
             ],
             [
              0.3333333333333333,
              "#9c179e"
             ],
             [
              0.4444444444444444,
              "#bd3786"
             ],
             [
              0.5555555555555556,
              "#d8576b"
             ],
             [
              0.6666666666666666,
              "#ed7953"
             ],
             [
              0.7777777777777778,
              "#fb9f3a"
             ],
             [
              0.8888888888888888,
              "#fdca26"
             ],
             [
              1,
              "#f0f921"
             ]
            ],
            "type": "heatmap"
           }
          ],
          "heatmapgl": [
           {
            "colorbar": {
             "outlinewidth": 0,
             "ticks": ""
            },
            "colorscale": [
             [
              0,
              "#0d0887"
             ],
             [
              0.1111111111111111,
              "#46039f"
             ],
             [
              0.2222222222222222,
              "#7201a8"
             ],
             [
              0.3333333333333333,
              "#9c179e"
             ],
             [
              0.4444444444444444,
              "#bd3786"
             ],
             [
              0.5555555555555556,
              "#d8576b"
             ],
             [
              0.6666666666666666,
              "#ed7953"
             ],
             [
              0.7777777777777778,
              "#fb9f3a"
             ],
             [
              0.8888888888888888,
              "#fdca26"
             ],
             [
              1,
              "#f0f921"
             ]
            ],
            "type": "heatmapgl"
           }
          ],
          "histogram": [
           {
            "marker": {
             "pattern": {
              "fillmode": "overlay",
              "size": 10,
              "solidity": 0.2
             }
            },
            "type": "histogram"
           }
          ],
          "histogram2d": [
           {
            "colorbar": {
             "outlinewidth": 0,
             "ticks": ""
            },
            "colorscale": [
             [
              0,
              "#0d0887"
             ],
             [
              0.1111111111111111,
              "#46039f"
             ],
             [
              0.2222222222222222,
              "#7201a8"
             ],
             [
              0.3333333333333333,
              "#9c179e"
             ],
             [
              0.4444444444444444,
              "#bd3786"
             ],
             [
              0.5555555555555556,
              "#d8576b"
             ],
             [
              0.6666666666666666,
              "#ed7953"
             ],
             [
              0.7777777777777778,
              "#fb9f3a"
             ],
             [
              0.8888888888888888,
              "#fdca26"
             ],
             [
              1,
              "#f0f921"
             ]
            ],
            "type": "histogram2d"
           }
          ],
          "histogram2dcontour": [
           {
            "colorbar": {
             "outlinewidth": 0,
             "ticks": ""
            },
            "colorscale": [
             [
              0,
              "#0d0887"
             ],
             [
              0.1111111111111111,
              "#46039f"
             ],
             [
              0.2222222222222222,
              "#7201a8"
             ],
             [
              0.3333333333333333,
              "#9c179e"
             ],
             [
              0.4444444444444444,
              "#bd3786"
             ],
             [
              0.5555555555555556,
              "#d8576b"
             ],
             [
              0.6666666666666666,
              "#ed7953"
             ],
             [
              0.7777777777777778,
              "#fb9f3a"
             ],
             [
              0.8888888888888888,
              "#fdca26"
             ],
             [
              1,
              "#f0f921"
             ]
            ],
            "type": "histogram2dcontour"
           }
          ],
          "mesh3d": [
           {
            "colorbar": {
             "outlinewidth": 0,
             "ticks": ""
            },
            "type": "mesh3d"
           }
          ],
          "parcoords": [
           {
            "line": {
             "colorbar": {
              "outlinewidth": 0,
              "ticks": ""
             }
            },
            "type": "parcoords"
           }
          ],
          "pie": [
           {
            "automargin": true,
            "type": "pie"
           }
          ],
          "scatter": [
           {
            "marker": {
             "colorbar": {
              "outlinewidth": 0,
              "ticks": ""
             }
            },
            "type": "scatter"
           }
          ],
          "scatter3d": [
           {
            "line": {
             "colorbar": {
              "outlinewidth": 0,
              "ticks": ""
             }
            },
            "marker": {
             "colorbar": {
              "outlinewidth": 0,
              "ticks": ""
             }
            },
            "type": "scatter3d"
           }
          ],
          "scattercarpet": [
           {
            "marker": {
             "colorbar": {
              "outlinewidth": 0,
              "ticks": ""
             }
            },
            "type": "scattercarpet"
           }
          ],
          "scattergeo": [
           {
            "marker": {
             "colorbar": {
              "outlinewidth": 0,
              "ticks": ""
             }
            },
            "type": "scattergeo"
           }
          ],
          "scattergl": [
           {
            "marker": {
             "colorbar": {
              "outlinewidth": 0,
              "ticks": ""
             }
            },
            "type": "scattergl"
           }
          ],
          "scattermapbox": [
           {
            "marker": {
             "colorbar": {
              "outlinewidth": 0,
              "ticks": ""
             }
            },
            "type": "scattermapbox"
           }
          ],
          "scatterpolar": [
           {
            "marker": {
             "colorbar": {
              "outlinewidth": 0,
              "ticks": ""
             }
            },
            "type": "scatterpolar"
           }
          ],
          "scatterpolargl": [
           {
            "marker": {
             "colorbar": {
              "outlinewidth": 0,
              "ticks": ""
             }
            },
            "type": "scatterpolargl"
           }
          ],
          "scatterternary": [
           {
            "marker": {
             "colorbar": {
              "outlinewidth": 0,
              "ticks": ""
             }
            },
            "type": "scatterternary"
           }
          ],
          "surface": [
           {
            "colorbar": {
             "outlinewidth": 0,
             "ticks": ""
            },
            "colorscale": [
             [
              0,
              "#0d0887"
             ],
             [
              0.1111111111111111,
              "#46039f"
             ],
             [
              0.2222222222222222,
              "#7201a8"
             ],
             [
              0.3333333333333333,
              "#9c179e"
             ],
             [
              0.4444444444444444,
              "#bd3786"
             ],
             [
              0.5555555555555556,
              "#d8576b"
             ],
             [
              0.6666666666666666,
              "#ed7953"
             ],
             [
              0.7777777777777778,
              "#fb9f3a"
             ],
             [
              0.8888888888888888,
              "#fdca26"
             ],
             [
              1,
              "#f0f921"
             ]
            ],
            "type": "surface"
           }
          ],
          "table": [
           {
            "cells": {
             "fill": {
              "color": "#EBF0F8"
             },
             "line": {
              "color": "white"
             }
            },
            "header": {
             "fill": {
              "color": "#C8D4E3"
             },
             "line": {
              "color": "white"
             }
            },
            "type": "table"
           }
          ]
         },
         "layout": {
          "annotationdefaults": {
           "arrowcolor": "#2a3f5f",
           "arrowhead": 0,
           "arrowwidth": 1
          },
          "autotypenumbers": "strict",
          "coloraxis": {
           "colorbar": {
            "outlinewidth": 0,
            "ticks": ""
           }
          },
          "colorscale": {
           "diverging": [
            [
             0,
             "#8e0152"
            ],
            [
             0.1,
             "#c51b7d"
            ],
            [
             0.2,
             "#de77ae"
            ],
            [
             0.3,
             "#f1b6da"
            ],
            [
             0.4,
             "#fde0ef"
            ],
            [
             0.5,
             "#f7f7f7"
            ],
            [
             0.6,
             "#e6f5d0"
            ],
            [
             0.7,
             "#b8e186"
            ],
            [
             0.8,
             "#7fbc41"
            ],
            [
             0.9,
             "#4d9221"
            ],
            [
             1,
             "#276419"
            ]
           ],
           "sequential": [
            [
             0,
             "#0d0887"
            ],
            [
             0.1111111111111111,
             "#46039f"
            ],
            [
             0.2222222222222222,
             "#7201a8"
            ],
            [
             0.3333333333333333,
             "#9c179e"
            ],
            [
             0.4444444444444444,
             "#bd3786"
            ],
            [
             0.5555555555555556,
             "#d8576b"
            ],
            [
             0.6666666666666666,
             "#ed7953"
            ],
            [
             0.7777777777777778,
             "#fb9f3a"
            ],
            [
             0.8888888888888888,
             "#fdca26"
            ],
            [
             1,
             "#f0f921"
            ]
           ],
           "sequentialminus": [
            [
             0,
             "#0d0887"
            ],
            [
             0.1111111111111111,
             "#46039f"
            ],
            [
             0.2222222222222222,
             "#7201a8"
            ],
            [
             0.3333333333333333,
             "#9c179e"
            ],
            [
             0.4444444444444444,
             "#bd3786"
            ],
            [
             0.5555555555555556,
             "#d8576b"
            ],
            [
             0.6666666666666666,
             "#ed7953"
            ],
            [
             0.7777777777777778,
             "#fb9f3a"
            ],
            [
             0.8888888888888888,
             "#fdca26"
            ],
            [
             1,
             "#f0f921"
            ]
           ]
          },
          "colorway": [
           "#636efa",
           "#EF553B",
           "#00cc96",
           "#ab63fa",
           "#FFA15A",
           "#19d3f3",
           "#FF6692",
           "#B6E880",
           "#FF97FF",
           "#FECB52"
          ],
          "font": {
           "color": "#2a3f5f"
          },
          "geo": {
           "bgcolor": "white",
           "lakecolor": "white",
           "landcolor": "#E5ECF6",
           "showlakes": true,
           "showland": true,
           "subunitcolor": "white"
          },
          "hoverlabel": {
           "align": "left"
          },
          "hovermode": "closest",
          "mapbox": {
           "style": "light"
          },
          "paper_bgcolor": "white",
          "plot_bgcolor": "#E5ECF6",
          "polar": {
           "angularaxis": {
            "gridcolor": "white",
            "linecolor": "white",
            "ticks": ""
           },
           "bgcolor": "#E5ECF6",
           "radialaxis": {
            "gridcolor": "white",
            "linecolor": "white",
            "ticks": ""
           }
          },
          "scene": {
           "xaxis": {
            "backgroundcolor": "#E5ECF6",
            "gridcolor": "white",
            "gridwidth": 2,
            "linecolor": "white",
            "showbackground": true,
            "ticks": "",
            "zerolinecolor": "white"
           },
           "yaxis": {
            "backgroundcolor": "#E5ECF6",
            "gridcolor": "white",
            "gridwidth": 2,
            "linecolor": "white",
            "showbackground": true,
            "ticks": "",
            "zerolinecolor": "white"
           },
           "zaxis": {
            "backgroundcolor": "#E5ECF6",
            "gridcolor": "white",
            "gridwidth": 2,
            "linecolor": "white",
            "showbackground": true,
            "ticks": "",
            "zerolinecolor": "white"
           }
          },
          "shapedefaults": {
           "line": {
            "color": "#2a3f5f"
           }
          },
          "ternary": {
           "aaxis": {
            "gridcolor": "white",
            "linecolor": "white",
            "ticks": ""
           },
           "baxis": {
            "gridcolor": "white",
            "linecolor": "white",
            "ticks": ""
           },
           "bgcolor": "#E5ECF6",
           "caxis": {
            "gridcolor": "white",
            "linecolor": "white",
            "ticks": ""
           }
          },
          "title": {
           "x": 0.05
          },
          "xaxis": {
           "automargin": true,
           "gridcolor": "white",
           "linecolor": "white",
           "ticks": "",
           "title": {
            "standoff": 15
           },
           "zerolinecolor": "white",
           "zerolinewidth": 2
          },
          "yaxis": {
           "automargin": true,
           "gridcolor": "white",
           "linecolor": "white",
           "ticks": "",
           "title": {
            "standoff": 15
           },
           "zerolinecolor": "white",
           "zerolinewidth": 2
          }
         }
        },
        "xaxis": {
         "anchor": "y",
         "domain": [
          0,
          1
         ],
         "title": {
          "text": "date"
         }
        },
        "yaxis": {
         "anchor": "x",
         "domain": [
          0,
          1
         ],
         "title": {
          "text": "Value"
         }
        }
       }
      }
     },
     "metadata": {},
     "output_type": "display_data"
    }
   ],
   "source": [
    "px.line(ecpi_pdf[ecpi_pdf['Item'] == 'Consumer Prices, Food Indices (2015 = 100)'].sort_values(by=['date']) , x='date', y='Value', color='Economic Group')"
   ]
  },
  {
   "cell_type": "code",
   "execution_count": 62,
   "metadata": {},
   "outputs": [
    {
     "data": {
      "application/vnd.plotly.v1+json": {
       "config": {
        "plotlyServerURL": "https://plot.ly"
       },
       "data": [
        {
         "hovertemplate": "Economic Group=Lower-middle-income economies<br>date=%{x}<br>Value=%{y}<extra></extra>",
         "legendgroup": "Lower-middle-income economies",
         "line": {
          "color": "#636efa",
          "dash": "solid"
         },
         "marker": {
          "symbol": "circle"
         },
         "mode": "lines",
         "name": "Lower-middle-income economies",
         "orientation": "v",
         "showlegend": true,
         "type": "scatter",
         "x": [
          "2001-01-01T00:00:00",
          "2001-02-01T00:00:00",
          "2001-03-01T00:00:00",
          "2001-04-01T00:00:00",
          "2001-05-01T00:00:00",
          "2001-06-01T00:00:00",
          "2001-07-01T00:00:00",
          "2001-08-01T00:00:00",
          "2001-09-01T00:00:00",
          "2001-10-01T00:00:00",
          "2001-11-01T00:00:00",
          "2001-12-01T00:00:00",
          "2002-01-01T00:00:00",
          "2002-02-01T00:00:00",
          "2002-03-01T00:00:00",
          "2002-04-01T00:00:00",
          "2002-05-01T00:00:00",
          "2002-06-01T00:00:00",
          "2002-07-01T00:00:00",
          "2002-08-01T00:00:00",
          "2002-09-01T00:00:00",
          "2002-10-01T00:00:00",
          "2002-11-01T00:00:00",
          "2002-12-01T00:00:00",
          "2003-01-01T00:00:00",
          "2003-02-01T00:00:00",
          "2003-03-01T00:00:00",
          "2003-04-01T00:00:00",
          "2003-05-01T00:00:00",
          "2003-06-01T00:00:00",
          "2003-07-01T00:00:00",
          "2003-08-01T00:00:00",
          "2003-09-01T00:00:00",
          "2003-10-01T00:00:00",
          "2003-11-01T00:00:00",
          "2003-12-01T00:00:00",
          "2004-01-01T00:00:00",
          "2004-02-01T00:00:00",
          "2004-03-01T00:00:00",
          "2004-04-01T00:00:00",
          "2004-05-01T00:00:00",
          "2004-06-01T00:00:00",
          "2004-07-01T00:00:00",
          "2004-08-01T00:00:00",
          "2004-09-01T00:00:00",
          "2004-10-01T00:00:00",
          "2004-11-01T00:00:00",
          "2004-12-01T00:00:00",
          "2005-01-01T00:00:00",
          "2005-02-01T00:00:00",
          "2005-03-01T00:00:00",
          "2005-04-01T00:00:00",
          "2005-05-01T00:00:00",
          "2005-06-01T00:00:00",
          "2005-07-01T00:00:00",
          "2005-08-01T00:00:00",
          "2005-09-01T00:00:00",
          "2005-10-01T00:00:00",
          "2005-11-01T00:00:00",
          "2005-12-01T00:00:00",
          "2006-01-01T00:00:00",
          "2006-02-01T00:00:00",
          "2006-03-01T00:00:00",
          "2006-04-01T00:00:00",
          "2006-05-01T00:00:00",
          "2006-06-01T00:00:00",
          "2006-07-01T00:00:00",
          "2006-08-01T00:00:00",
          "2006-09-01T00:00:00",
          "2006-10-01T00:00:00",
          "2006-11-01T00:00:00",
          "2006-12-01T00:00:00",
          "2007-01-01T00:00:00",
          "2007-02-01T00:00:00",
          "2007-03-01T00:00:00",
          "2007-04-01T00:00:00",
          "2007-05-01T00:00:00",
          "2007-06-01T00:00:00",
          "2007-07-01T00:00:00",
          "2007-08-01T00:00:00",
          "2007-09-01T00:00:00",
          "2007-10-01T00:00:00",
          "2007-11-01T00:00:00",
          "2007-12-01T00:00:00",
          "2008-01-01T00:00:00",
          "2008-02-01T00:00:00",
          "2008-03-01T00:00:00",
          "2008-04-01T00:00:00",
          "2008-05-01T00:00:00",
          "2008-06-01T00:00:00",
          "2008-07-01T00:00:00",
          "2008-08-01T00:00:00",
          "2008-09-01T00:00:00",
          "2008-10-01T00:00:00",
          "2008-11-01T00:00:00",
          "2008-12-01T00:00:00",
          "2009-01-01T00:00:00",
          "2009-02-01T00:00:00",
          "2009-03-01T00:00:00",
          "2009-04-01T00:00:00",
          "2009-05-01T00:00:00",
          "2009-06-01T00:00:00",
          "2009-07-01T00:00:00",
          "2009-08-01T00:00:00",
          "2009-09-01T00:00:00",
          "2009-10-01T00:00:00",
          "2009-11-01T00:00:00",
          "2009-12-01T00:00:00",
          "2010-01-01T00:00:00",
          "2010-02-01T00:00:00",
          "2010-03-01T00:00:00",
          "2010-04-01T00:00:00",
          "2010-05-01T00:00:00",
          "2010-06-01T00:00:00",
          "2010-07-01T00:00:00",
          "2010-08-01T00:00:00",
          "2010-09-01T00:00:00",
          "2010-10-01T00:00:00",
          "2010-11-01T00:00:00",
          "2010-12-01T00:00:00",
          "2011-01-01T00:00:00",
          "2011-02-01T00:00:00",
          "2011-03-01T00:00:00",
          "2011-04-01T00:00:00",
          "2011-05-01T00:00:00",
          "2011-06-01T00:00:00",
          "2011-07-01T00:00:00",
          "2011-08-01T00:00:00",
          "2011-09-01T00:00:00",
          "2011-10-01T00:00:00",
          "2011-11-01T00:00:00",
          "2011-12-01T00:00:00",
          "2012-01-01T00:00:00",
          "2012-02-01T00:00:00",
          "2012-03-01T00:00:00",
          "2012-04-01T00:00:00",
          "2012-05-01T00:00:00",
          "2012-06-01T00:00:00",
          "2012-07-01T00:00:00",
          "2012-08-01T00:00:00",
          "2012-09-01T00:00:00",
          "2012-10-01T00:00:00",
          "2012-11-01T00:00:00",
          "2012-12-01T00:00:00",
          "2013-01-01T00:00:00",
          "2013-02-01T00:00:00",
          "2013-03-01T00:00:00",
          "2013-04-01T00:00:00",
          "2013-05-01T00:00:00",
          "2013-06-01T00:00:00",
          "2013-07-01T00:00:00",
          "2013-08-01T00:00:00",
          "2013-09-01T00:00:00",
          "2013-10-01T00:00:00",
          "2013-11-01T00:00:00",
          "2013-12-01T00:00:00",
          "2014-01-01T00:00:00",
          "2014-02-01T00:00:00",
          "2014-03-01T00:00:00",
          "2014-04-01T00:00:00",
          "2014-05-01T00:00:00",
          "2014-06-01T00:00:00",
          "2014-07-01T00:00:00",
          "2014-08-01T00:00:00",
          "2014-09-01T00:00:00",
          "2014-10-01T00:00:00",
          "2014-11-01T00:00:00",
          "2014-12-01T00:00:00",
          "2015-01-01T00:00:00",
          "2015-02-01T00:00:00",
          "2015-03-01T00:00:00",
          "2015-04-01T00:00:00",
          "2015-05-01T00:00:00",
          "2015-06-01T00:00:00",
          "2015-07-01T00:00:00",
          "2015-08-01T00:00:00",
          "2015-09-01T00:00:00",
          "2015-10-01T00:00:00",
          "2015-11-01T00:00:00",
          "2015-12-01T00:00:00",
          "2016-01-01T00:00:00",
          "2016-02-01T00:00:00",
          "2016-03-01T00:00:00",
          "2016-04-01T00:00:00",
          "2016-05-01T00:00:00",
          "2016-06-01T00:00:00",
          "2016-07-01T00:00:00",
          "2016-08-01T00:00:00",
          "2016-09-01T00:00:00",
          "2016-10-01T00:00:00",
          "2016-11-01T00:00:00",
          "2016-12-01T00:00:00",
          "2017-01-01T00:00:00",
          "2017-02-01T00:00:00",
          "2017-03-01T00:00:00",
          "2017-04-01T00:00:00",
          "2017-05-01T00:00:00",
          "2017-06-01T00:00:00",
          "2017-07-01T00:00:00",
          "2017-08-01T00:00:00",
          "2017-09-01T00:00:00",
          "2017-10-01T00:00:00",
          "2017-11-01T00:00:00",
          "2017-12-01T00:00:00",
          "2018-01-01T00:00:00",
          "2018-02-01T00:00:00",
          "2018-03-01T00:00:00",
          "2018-04-01T00:00:00",
          "2018-05-01T00:00:00",
          "2018-06-01T00:00:00",
          "2018-07-01T00:00:00",
          "2018-08-01T00:00:00",
          "2018-09-01T00:00:00",
          "2018-10-01T00:00:00",
          "2018-11-01T00:00:00",
          "2018-12-01T00:00:00",
          "2019-01-01T00:00:00",
          "2019-02-01T00:00:00",
          "2019-03-01T00:00:00",
          "2019-04-01T00:00:00",
          "2019-05-01T00:00:00",
          "2019-06-01T00:00:00",
          "2019-07-01T00:00:00",
          "2019-08-01T00:00:00",
          "2019-09-01T00:00:00",
          "2019-10-01T00:00:00",
          "2019-11-01T00:00:00",
          "2019-12-01T00:00:00",
          "2020-01-01T00:00:00",
          "2020-02-01T00:00:00",
          "2020-03-01T00:00:00",
          "2020-04-01T00:00:00",
          "2020-05-01T00:00:00",
          "2020-06-01T00:00:00",
          "2020-07-01T00:00:00",
          "2020-08-01T00:00:00",
          "2020-09-01T00:00:00",
          "2020-10-01T00:00:00",
          "2020-11-01T00:00:00",
          "2020-12-01T00:00:00",
          "2021-01-01T00:00:00",
          "2021-02-01T00:00:00",
          "2021-03-01T00:00:00",
          "2021-04-01T00:00:00",
          "2021-05-01T00:00:00",
          "2021-06-01T00:00:00",
          "2021-07-01T00:00:00",
          "2021-08-01T00:00:00",
          "2021-09-01T00:00:00"
         ],
         "xaxis": "x",
         "y": [
          13.9159544,
          13.334323066666666,
          12.882095066666668,
          12.45496062222222,
          12.037901066666667,
          11.3832668,
          11.087940022222222,
          10.70581808888889,
          10.666632577777778,
          10.627526711111111,
          10.651975577777778,
          10.443284799999999,
          10.070502977777778,
          9.802404133333333,
          9.269531200000001,
          9.305861955555555,
          9.357415422222221,
          9.373934488888889,
          9.482027755555556,
          9.813482666666667,
          10.018200177777778,
          9.961605422222222,
          9.9845908,
          10.23573128888889,
          10.008259222222222,
          10.083600333333333,
          10.147303088888888,
          10.003025511111112,
          9.7306592,
          9.671705044444444,
          9.102181111111111,
          8.671009377777779,
          8.356146466666667,
          8.448855733333334,
          8.3594276,
          8.134104222222222,
          8.152278977777778,
          7.914464911111111,
          7.788845755555556,
          7.705598,
          7.614754733333334,
          7.775681488888889,
          8.0837716,
          8.160890688888887,
          7.857552200000001,
          7.663356422222223,
          7.589437355555555,
          7.534536955555556,
          7.380374644444444,
          7.4592746,
          7.818233911111112,
          7.864361577777778,
          7.951532222222221,
          7.766782533333334,
          7.7416670000000005,
          8.067141844444444,
          8.40614011111111,
          8.320872622222224,
          8.142361511111112,
          7.929315822222222,
          7.958351955555555,
          8.073131955555555,
          7.828107511111111,
          8.283119933333333,
          8.5408946,
          8.665427088888888,
          8.7686266,
          8.050481644444444,
          7.787404644444444,
          7.7536460444444435,
          7.840796866666667,
          8.163615466666668,
          8.471920377777778,
          8.42623268888889,
          8.417652222222223,
          8.094848355555555,
          8.021150666666667,
          8.346515733333334,
          8.693740355555557,
          9.964864311111112,
          10.814933777777778,
          11.762528533333334,
          12.215602,
          12.372046622222223,
          13.383000022222223,
          14.567407577777779,
          16.063457644444444,
          17.52298051111111,
          19.3323136,
          19.86781251111111,
          20.18738582222222,
          20.30233017777778,
          19.494542466666665,
          18.17369548888889,
          17.38104837777778,
          16.666547755555555,
          14.905923847826088,
          13.430997717391305,
          12.015763086956522,
          10.484283673913044,
          8.612959847826087,
          7.396372804347827,
          6.1710206956521745,
          5.134180934782608,
          4.899165260869565,
          4.76479047826087,
          4.779743065217391,
          4.841992652173913,
          5.330009630434782,
          5.689046413043479,
          5.7884073913043474,
          5.536158717391304,
          5.22129047826087,
          5.3750249782608694,
          5.656024326086957,
          6.1085300652173915,
          7.157209434782608,
          7.769611456521739,
          8.27918902173913,
          8.833219804347825,
          9.1655305,
          9.047153630434781,
          9.167107065217392,
          9.876455,
          9.8658225,
          9.466721999999999,
          9.660480326086956,
          9.429383108695651,
          8.428145282608696,
          7.883885760869566,
          7.380123478260869,
          6.999794673913043,
          6.627083586956521,
          6.392926434782608,
          6.370777413043479,
          6.296337869565218,
          6.135294782608696,
          6.339326086956521,
          6.266698282608695,
          6.056359326086957,
          6.040592108695652,
          6.1296260217391305,
          6.144615956521739,
          6.2946002826086955,
          6.6205430000000005,
          6.504275695652174,
          6.0821910217391295,
          5.693276630434782,
          5.874611195652174,
          6.079033956521739,
          6.053174195652174,
          6.124719108695652,
          6.173679760869565,
          6.640179239130434,
          6.523835130434782,
          6.100574217391305,
          5.372904347826087,
          5.281073717391304,
          5.481418934782609,
          5.959939369565218,
          6.096887826086957,
          6.226484673913044,
          6.234800869565217,
          5.929206869565218,
          5.558009543478261,
          5.246935586956522,
          5.434956586956522,
          5.651048913043479,
          5.871666434782608,
          5.75537147826087,
          6.015100086956522,
          5.671624434782609,
          5.733848130434783,
          5.482927239130435,
          5.194096826086956,
          5.106626239130435,
          5.4810232173913045,
          5.664398673913044,
          5.7744993478260875,
          5.54481454347826,
          5.101188717391304,
          5.251389630434783,
          4.980390391304348,
          5.351901695652174,
          5.456083826086956,
          5.365467326086956,
          5.455367434782609,
          5.26222797826087,
          5.104060586956522,
          4.990533173913043,
          5.2080398260869565,
          5.392561456521739,
          5.996980347826087,
          6.340706173913043,
          6.614315891304348,
          6.500847195652174,
          6.175472108695652,
          6.001256043478261,
          6.015865586956522,
          6.378900152173912,
          6.5271165652173915,
          6.396393891304348,
          6.0665446086956525,
          6.04493552173913,
          6.3858024130434785,
          6.000667695652174,
          5.722172804347826,
          5.416707347826087,
          5.430565673913043,
          5.486404934782609,
          5.382775043478261,
          5.398216586956521,
          5.387080478260869,
          5.531517326086957,
          5.71350897826087,
          5.657569282608696,
          4.981817956521739,
          5.230417260869565,
          5.454323565217392,
          5.741131543478262,
          5.994474891304349,
          5.908038565217391,
          6.193319739130436,
          6.407746934782608,
          6.656394956521739,
          6.9543516304347825,
          7.293533913043478,
          7.59520902173913,
          7.89450606521739,
          7.904948347826086,
          8.533919391304348,
          9.656010217391303,
          9.56512852173913,
          9.860663043478262,
          9.83880004347826,
          9.423684043478262,
          9.902617478260868,
          10.516608173913044,
          10.519253608695653,
          10.555305217391304,
          11.168928413043478,
          11.806102130434782,
          11.33565504347826,
          10.73564,
          10.957437739130434,
          11.168752717391303,
          11.383453695652173,
          11.954275760869566,
          11.795170347826085
         ],
         "yaxis": "y"
        },
        {
         "hovertemplate": "Economic Group=High-income economies<br>date=%{x}<br>Value=%{y}<extra></extra>",
         "legendgroup": "High-income economies",
         "line": {
          "color": "#EF553B",
          "dash": "solid"
         },
         "marker": {
          "symbol": "circle"
         },
         "mode": "lines",
         "name": "High-income economies",
         "orientation": "v",
         "showlegend": true,
         "type": "scatter",
         "x": [
          "2001-01-01T00:00:00",
          "2001-02-01T00:00:00",
          "2001-03-01T00:00:00",
          "2001-04-01T00:00:00",
          "2001-05-01T00:00:00",
          "2001-06-01T00:00:00",
          "2001-07-01T00:00:00",
          "2001-08-01T00:00:00",
          "2001-09-01T00:00:00",
          "2001-10-01T00:00:00",
          "2001-11-01T00:00:00",
          "2001-12-01T00:00:00",
          "2002-01-01T00:00:00",
          "2002-02-01T00:00:00",
          "2002-03-01T00:00:00",
          "2002-04-01T00:00:00",
          "2002-05-01T00:00:00",
          "2002-06-01T00:00:00",
          "2002-07-01T00:00:00",
          "2002-08-01T00:00:00",
          "2002-09-01T00:00:00",
          "2002-10-01T00:00:00",
          "2002-11-01T00:00:00",
          "2002-12-01T00:00:00",
          "2003-01-01T00:00:00",
          "2003-02-01T00:00:00",
          "2003-03-01T00:00:00",
          "2003-04-01T00:00:00",
          "2003-05-01T00:00:00",
          "2003-06-01T00:00:00",
          "2003-07-01T00:00:00",
          "2003-08-01T00:00:00",
          "2003-09-01T00:00:00",
          "2003-10-01T00:00:00",
          "2003-11-01T00:00:00",
          "2003-12-01T00:00:00",
          "2004-01-01T00:00:00",
          "2004-02-01T00:00:00",
          "2004-03-01T00:00:00",
          "2004-04-01T00:00:00",
          "2004-05-01T00:00:00",
          "2004-06-01T00:00:00",
          "2004-07-01T00:00:00",
          "2004-08-01T00:00:00",
          "2004-09-01T00:00:00",
          "2004-10-01T00:00:00",
          "2004-11-01T00:00:00",
          "2004-12-01T00:00:00",
          "2005-01-01T00:00:00",
          "2005-02-01T00:00:00",
          "2005-03-01T00:00:00",
          "2005-04-01T00:00:00",
          "2005-05-01T00:00:00",
          "2005-06-01T00:00:00",
          "2005-07-01T00:00:00",
          "2005-08-01T00:00:00",
          "2005-09-01T00:00:00",
          "2005-10-01T00:00:00",
          "2005-11-01T00:00:00",
          "2005-12-01T00:00:00",
          "2006-01-01T00:00:00",
          "2006-02-01T00:00:00",
          "2006-03-01T00:00:00",
          "2006-04-01T00:00:00",
          "2006-05-01T00:00:00",
          "2006-06-01T00:00:00",
          "2006-07-01T00:00:00",
          "2006-08-01T00:00:00",
          "2006-09-01T00:00:00",
          "2006-10-01T00:00:00",
          "2006-11-01T00:00:00",
          "2006-12-01T00:00:00",
          "2007-01-01T00:00:00",
          "2007-02-01T00:00:00",
          "2007-03-01T00:00:00",
          "2007-04-01T00:00:00",
          "2007-05-01T00:00:00",
          "2007-06-01T00:00:00",
          "2007-07-01T00:00:00",
          "2007-08-01T00:00:00",
          "2007-09-01T00:00:00",
          "2007-10-01T00:00:00",
          "2007-11-01T00:00:00",
          "2007-12-01T00:00:00",
          "2008-01-01T00:00:00",
          "2008-02-01T00:00:00",
          "2008-03-01T00:00:00",
          "2008-04-01T00:00:00",
          "2008-05-01T00:00:00",
          "2008-06-01T00:00:00",
          "2008-07-01T00:00:00",
          "2008-08-01T00:00:00",
          "2008-09-01T00:00:00",
          "2008-10-01T00:00:00",
          "2008-11-01T00:00:00",
          "2008-12-01T00:00:00",
          "2009-01-01T00:00:00",
          "2009-02-01T00:00:00",
          "2009-03-01T00:00:00",
          "2009-04-01T00:00:00",
          "2009-05-01T00:00:00",
          "2009-06-01T00:00:00",
          "2009-07-01T00:00:00",
          "2009-08-01T00:00:00",
          "2009-09-01T00:00:00",
          "2009-10-01T00:00:00",
          "2009-11-01T00:00:00",
          "2009-12-01T00:00:00",
          "2010-01-01T00:00:00",
          "2010-02-01T00:00:00",
          "2010-03-01T00:00:00",
          "2010-04-01T00:00:00",
          "2010-05-01T00:00:00",
          "2010-06-01T00:00:00",
          "2010-07-01T00:00:00",
          "2010-08-01T00:00:00",
          "2010-09-01T00:00:00",
          "2010-10-01T00:00:00",
          "2010-11-01T00:00:00",
          "2010-12-01T00:00:00",
          "2011-01-01T00:00:00",
          "2011-02-01T00:00:00",
          "2011-03-01T00:00:00",
          "2011-04-01T00:00:00",
          "2011-05-01T00:00:00",
          "2011-06-01T00:00:00",
          "2011-07-01T00:00:00",
          "2011-08-01T00:00:00",
          "2011-09-01T00:00:00",
          "2011-10-01T00:00:00",
          "2011-11-01T00:00:00",
          "2011-12-01T00:00:00",
          "2012-01-01T00:00:00",
          "2012-02-01T00:00:00",
          "2012-03-01T00:00:00",
          "2012-04-01T00:00:00",
          "2012-05-01T00:00:00",
          "2012-06-01T00:00:00",
          "2012-07-01T00:00:00",
          "2012-08-01T00:00:00",
          "2012-09-01T00:00:00",
          "2012-10-01T00:00:00",
          "2012-11-01T00:00:00",
          "2012-12-01T00:00:00",
          "2013-01-01T00:00:00",
          "2013-02-01T00:00:00",
          "2013-03-01T00:00:00",
          "2013-04-01T00:00:00",
          "2013-05-01T00:00:00",
          "2013-06-01T00:00:00",
          "2013-07-01T00:00:00",
          "2013-08-01T00:00:00",
          "2013-09-01T00:00:00",
          "2013-10-01T00:00:00",
          "2013-11-01T00:00:00",
          "2013-12-01T00:00:00",
          "2014-01-01T00:00:00",
          "2014-02-01T00:00:00",
          "2014-03-01T00:00:00",
          "2014-04-01T00:00:00",
          "2014-05-01T00:00:00",
          "2014-06-01T00:00:00",
          "2014-07-01T00:00:00",
          "2014-08-01T00:00:00",
          "2014-09-01T00:00:00",
          "2014-10-01T00:00:00",
          "2014-11-01T00:00:00",
          "2014-12-01T00:00:00",
          "2015-01-01T00:00:00",
          "2015-02-01T00:00:00",
          "2015-03-01T00:00:00",
          "2015-04-01T00:00:00",
          "2015-05-01T00:00:00",
          "2015-06-01T00:00:00",
          "2015-07-01T00:00:00",
          "2015-08-01T00:00:00",
          "2015-09-01T00:00:00",
          "2015-10-01T00:00:00",
          "2015-11-01T00:00:00",
          "2015-12-01T00:00:00",
          "2016-01-01T00:00:00",
          "2016-02-01T00:00:00",
          "2016-03-01T00:00:00",
          "2016-04-01T00:00:00",
          "2016-05-01T00:00:00",
          "2016-06-01T00:00:00",
          "2016-07-01T00:00:00",
          "2016-08-01T00:00:00",
          "2016-09-01T00:00:00",
          "2016-10-01T00:00:00",
          "2016-11-01T00:00:00",
          "2016-12-01T00:00:00",
          "2017-01-01T00:00:00",
          "2017-02-01T00:00:00",
          "2017-03-01T00:00:00",
          "2017-04-01T00:00:00",
          "2017-05-01T00:00:00",
          "2017-06-01T00:00:00",
          "2017-07-01T00:00:00",
          "2017-08-01T00:00:00",
          "2017-09-01T00:00:00",
          "2017-10-01T00:00:00",
          "2017-11-01T00:00:00",
          "2017-12-01T00:00:00",
          "2018-01-01T00:00:00",
          "2018-02-01T00:00:00",
          "2018-03-01T00:00:00",
          "2018-04-01T00:00:00",
          "2018-05-01T00:00:00",
          "2018-06-01T00:00:00",
          "2018-07-01T00:00:00",
          "2018-08-01T00:00:00",
          "2018-09-01T00:00:00",
          "2018-10-01T00:00:00",
          "2018-11-01T00:00:00",
          "2018-12-01T00:00:00",
          "2019-01-01T00:00:00",
          "2019-02-01T00:00:00",
          "2019-03-01T00:00:00",
          "2019-04-01T00:00:00",
          "2019-05-01T00:00:00",
          "2019-06-01T00:00:00",
          "2019-07-01T00:00:00",
          "2019-08-01T00:00:00",
          "2019-09-01T00:00:00",
          "2019-10-01T00:00:00",
          "2019-11-01T00:00:00",
          "2019-12-01T00:00:00",
          "2020-01-01T00:00:00",
          "2020-02-01T00:00:00",
          "2020-03-01T00:00:00",
          "2020-04-01T00:00:00",
          "2020-05-01T00:00:00",
          "2020-06-01T00:00:00",
          "2020-07-01T00:00:00",
          "2020-08-01T00:00:00",
          "2020-09-01T00:00:00",
          "2020-10-01T00:00:00",
          "2020-11-01T00:00:00",
          "2020-12-01T00:00:00",
          "2021-01-01T00:00:00",
          "2021-02-01T00:00:00",
          "2021-03-01T00:00:00",
          "2021-04-01T00:00:00",
          "2021-05-01T00:00:00",
          "2021-06-01T00:00:00",
          "2021-07-01T00:00:00",
          "2021-08-01T00:00:00",
          "2021-09-01T00:00:00"
         ],
         "xaxis": "x",
         "y": [
          2.4148918064516125,
          2.4977606451612906,
          2.9717369032258065,
          3.4264159193548385,
          3.861734258064516,
          4.253838112903225,
          3.7728775000000003,
          3.7651665967741934,
          3.687970822580645,
          3.7726654838709677,
          3.547867822580645,
          3.755355129032258,
          4.185198887096774,
          3.960595741935484,
          3.5824378870967744,
          3.140395241935484,
          2.5227154032258063,
          1.9450787258064517,
          2.0292132580645164,
          2.0078239838709675,
          2.148745516129032,
          1.9951470000000002,
          2.160645306451613,
          1.953565741935484,
          1.4250761612903224,
          1.7146909838709676,
          2.023630080645161,
          2.0847271451612905,
          2.2939851290322584,
          2.5658664677419356,
          2.5116078064516127,
          2.4433271129032255,
          2.5761489516129035,
          2.594849870967742,
          2.7800165161290327,
          2.6680807741935486,
          2.840254129032258,
          2.5904449677419352,
          2.427596048387097,
          2.369863983870968,
          2.4804262903225807,
          2.530818677419355,
          2.810700290322581,
          2.780259177419355,
          2.4700527903225806,
          2.444077709677419,
          2.41177,
          2.7202101612903227,
          2.2016642096774195,
          2.6474459032258064,
          2.6046724032258064,
          2.3430973064516127,
          2.174486612903226,
          2.040894548387097,
          1.8745515806451614,
          1.9494096451612903,
          2.1888007903225803,
          2.293377112903226,
          2.307368887096774,
          2.2191697903225807,
          2.7429941129032254,
          2.4451472258064517,
          2.4114688387096774,
          2.8620711612903222,
          3.243901580645161,
          3.561156080645161,
          3.907978887096774,
          4.21739414516129,
          4.369132177419354,
          4.247766451612903,
          4.395927080645161,
          4.3657151774193546,
          4.437653080645162,
          4.446791193548387,
          4.33636014516129,
          4.623833419354838,
          4.367235854838709,
          4.335789225806452,
          4.541509741935483,
          4.869694096774194,
          5.326351903225806,
          6.317453080645161,
          6.782901258064516,
          7.176097838709677,
          7.76581979032258,
          8.422271129032257,
          8.901120596774193,
          9.242462,
          9.776440451612904,
          10.078789225806453,
          10.446982467741934,
          10.314866209677419,
          9.981156306451613,
          9.381960258064517,
          9.31225535483871,
          8.939134661290323,
          8.31133829032258,
          7.46525679032258,
          6.977441290322581,
          5.675172209677419,
          4.794029677419355,
          3.966570629032258,
          2.875178516129032,
          2.1003341935483872,
          1.6489383709677419,
          0.9610966774193549,
          0.26790590322580643,
          0.1075271451612903,
          -0.012239983870967726,
          0.2808305806451613,
          0.4239986935483871,
          1.202590564516129,
          1.3036734032258066,
          1.7250592903225808,
          2.3282877741935484,
          2.9678852419354835,
          3.450741,
          3.7704329999999997,
          3.825067677419355,
          4.029271225806451,
          4.186036838709677,
          4.431668241935484,
          4.597646080645161,
          4.435708451612903,
          4.881593306451613,
          4.733960483870968,
          4.578333016129032,
          4.330611516129032,
          3.9996801774193544,
          4.081748338709677,
          4.295819725806451,
          4.328124354838709,
          4.178919161290322,
          4.070240661290322,
          3.9932211612903226,
          3.8176344193548384,
          3.509319564516129,
          3.4754135483870967,
          3.4228679032258067,
          3.4845607741935485,
          3.602203064516129,
          3.7046763387096773,
          3.477222306451613,
          3.3339780806451613,
          3.5092095,
          3.226306983870968,
          2.973364483870968,
          3.1960426935483874,
          3.3454891129032256,
          3.5750171451612904,
          3.3738954677419355,
          3.1178810161290325,
          2.7138611935483867,
          2.3779315161290326,
          2.2545047096774193,
          2.3211832903225806,
          1.9856535161290323,
          1.9734246290322581,
          1.9202251612903227,
          1.577967693548387,
          1.3300675,
          1.1405807258064515,
          1.2229298387096774,
          1.294857935483871,
          1.5111758387096774,
          1.655201629032258,
          1.764971193548387,
          1.291773,
          1.4141602258064514,
          1.3117474838709677,
          1.2990272903225806,
          1.2184415806451612,
          1.5103652580645162,
          1.5001395806451612,
          1.4186254193548387,
          1.6728628870967743,
          1.7106953870967743,
          1.7931929193548386,
          1.5099382580645162,
          1.4265987741935484,
          1.0282920967741935,
          1.2700172096774194,
          1.0230477096774193,
          1.2607093548387096,
          1.0094435161290323,
          0.8941213709677419,
          1.3097664677419356,
          1.1746168709677418,
          0.937994935483871,
          0.6177931451612902,
          0.7923407096774193,
          1.168106806451613,
          1.5791358870967742,
          1.7392387096774196,
          1.7469172258064516,
          1.4906782096774194,
          1.709544483870968,
          1.873461758064516,
          1.8989509999999998,
          1.8575840161290322,
          1.9469619677419356,
          2.365375935483871,
          2.4767399193548387,
          2.406529080645161,
          2.454716338709677,
          2.052480435483871,
          2.073917822580645,
          2.1901886290322583,
          2.0516746774193546,
          2.2276624354838708,
          2.2110225483870964,
          2.145973161290323,
          2.413171580645161,
          2.303592887096774,
          2.1287636290322585,
          2.0618892258064516,
          2.0827785161290326,
          2.358155451612903,
          2.657034129032258,
          2.566406,
          2.612702370967742,
          2.7005487903225807,
          2.808994693548387,
          3.088888096774194,
          2.802124241935484,
          2.6914821612903226,
          3.0268024193548384,
          3.188607806451613,
          3.4569475483870966,
          3.4399438870967742,
          3.6194777741935487,
          4.428559758064516,
          4.429925338709677,
          4.141019887096775,
          3.6789050806451615,
          3.557943451612903,
          3.4173742419354842,
          3.6325669354838706,
          3.2669064677419355,
          2.962013629032258,
          2.704508016129032,
          2.5523850161290325,
          2.2444075967741934,
          1.8881219677419356,
          2.0382249677419355,
          2.2679504032258064,
          2.642842032258064,
          2.8578387096774196,
          3.1016955645161293
         ],
         "yaxis": "y"
        },
        {
         "hovertemplate": "Economic Group=Low income economies<br>date=%{x}<br>Value=%{y}<extra></extra>",
         "legendgroup": "Low income economies",
         "line": {
          "color": "#00cc96",
          "dash": "solid"
         },
         "marker": {
          "symbol": "circle"
         },
         "mode": "lines",
         "name": "Low income economies",
         "orientation": "v",
         "showlegend": true,
         "type": "scatter",
         "x": [
          "2001-01-01T00:00:00",
          "2001-02-01T00:00:00",
          "2001-03-01T00:00:00",
          "2001-04-01T00:00:00",
          "2001-05-01T00:00:00",
          "2001-06-01T00:00:00",
          "2001-07-01T00:00:00",
          "2001-08-01T00:00:00",
          "2001-09-01T00:00:00",
          "2001-10-01T00:00:00",
          "2001-11-01T00:00:00",
          "2001-12-01T00:00:00",
          "2002-01-01T00:00:00",
          "2002-02-01T00:00:00",
          "2002-03-01T00:00:00",
          "2002-04-01T00:00:00",
          "2002-05-01T00:00:00",
          "2002-06-01T00:00:00",
          "2002-07-01T00:00:00",
          "2002-08-01T00:00:00",
          "2002-09-01T00:00:00",
          "2002-10-01T00:00:00",
          "2002-11-01T00:00:00",
          "2002-12-01T00:00:00",
          "2003-01-01T00:00:00",
          "2003-02-01T00:00:00",
          "2003-03-01T00:00:00",
          "2003-04-01T00:00:00",
          "2003-05-01T00:00:00",
          "2003-06-01T00:00:00",
          "2003-07-01T00:00:00",
          "2003-08-01T00:00:00",
          "2003-09-01T00:00:00",
          "2003-10-01T00:00:00",
          "2003-11-01T00:00:00",
          "2003-12-01T00:00:00",
          "2004-01-01T00:00:00",
          "2004-02-01T00:00:00",
          "2004-03-01T00:00:00",
          "2004-04-01T00:00:00",
          "2004-05-01T00:00:00",
          "2004-06-01T00:00:00",
          "2004-07-01T00:00:00",
          "2004-08-01T00:00:00",
          "2004-09-01T00:00:00",
          "2004-10-01T00:00:00",
          "2004-11-01T00:00:00",
          "2004-12-01T00:00:00",
          "2005-01-01T00:00:00",
          "2005-02-01T00:00:00",
          "2005-03-01T00:00:00",
          "2005-04-01T00:00:00",
          "2005-05-01T00:00:00",
          "2005-06-01T00:00:00",
          "2005-07-01T00:00:00",
          "2005-08-01T00:00:00",
          "2005-09-01T00:00:00",
          "2005-10-01T00:00:00",
          "2005-11-01T00:00:00",
          "2005-12-01T00:00:00",
          "2006-01-01T00:00:00",
          "2006-02-01T00:00:00",
          "2006-03-01T00:00:00",
          "2006-04-01T00:00:00",
          "2006-05-01T00:00:00",
          "2006-06-01T00:00:00",
          "2006-07-01T00:00:00",
          "2006-08-01T00:00:00",
          "2006-09-01T00:00:00",
          "2006-10-01T00:00:00",
          "2006-11-01T00:00:00",
          "2006-12-01T00:00:00",
          "2007-01-01T00:00:00",
          "2007-02-01T00:00:00",
          "2007-03-01T00:00:00",
          "2007-04-01T00:00:00",
          "2007-05-01T00:00:00",
          "2007-06-01T00:00:00",
          "2007-07-01T00:00:00",
          "2007-08-01T00:00:00",
          "2007-09-01T00:00:00",
          "2007-10-01T00:00:00",
          "2007-11-01T00:00:00",
          "2007-12-01T00:00:00",
          "2008-01-01T00:00:00",
          "2008-02-01T00:00:00",
          "2008-03-01T00:00:00",
          "2008-04-01T00:00:00",
          "2008-05-01T00:00:00",
          "2008-06-01T00:00:00",
          "2008-07-01T00:00:00",
          "2008-08-01T00:00:00",
          "2008-09-01T00:00:00",
          "2008-10-01T00:00:00",
          "2008-11-01T00:00:00",
          "2008-12-01T00:00:00",
          "2009-01-01T00:00:00",
          "2009-02-01T00:00:00",
          "2009-03-01T00:00:00",
          "2009-04-01T00:00:00",
          "2009-05-01T00:00:00",
          "2009-06-01T00:00:00",
          "2009-07-01T00:00:00",
          "2009-08-01T00:00:00",
          "2009-09-01T00:00:00",
          "2009-10-01T00:00:00",
          "2009-11-01T00:00:00",
          "2009-12-01T00:00:00",
          "2010-01-01T00:00:00",
          "2010-02-01T00:00:00",
          "2010-03-01T00:00:00",
          "2010-04-01T00:00:00",
          "2010-05-01T00:00:00",
          "2010-06-01T00:00:00",
          "2010-07-01T00:00:00",
          "2010-08-01T00:00:00",
          "2010-09-01T00:00:00",
          "2010-10-01T00:00:00",
          "2010-11-01T00:00:00",
          "2010-12-01T00:00:00",
          "2011-01-01T00:00:00",
          "2011-02-01T00:00:00",
          "2011-03-01T00:00:00",
          "2011-04-01T00:00:00",
          "2011-05-01T00:00:00",
          "2011-06-01T00:00:00",
          "2011-07-01T00:00:00",
          "2011-08-01T00:00:00",
          "2011-09-01T00:00:00",
          "2011-10-01T00:00:00",
          "2011-11-01T00:00:00",
          "2011-12-01T00:00:00",
          "2012-01-01T00:00:00",
          "2012-02-01T00:00:00",
          "2012-03-01T00:00:00",
          "2012-04-01T00:00:00",
          "2012-05-01T00:00:00",
          "2012-06-01T00:00:00",
          "2012-07-01T00:00:00",
          "2012-08-01T00:00:00",
          "2012-09-01T00:00:00",
          "2012-10-01T00:00:00",
          "2012-11-01T00:00:00",
          "2012-12-01T00:00:00",
          "2013-01-01T00:00:00",
          "2013-02-01T00:00:00",
          "2013-03-01T00:00:00",
          "2013-04-01T00:00:00",
          "2013-05-01T00:00:00",
          "2013-06-01T00:00:00",
          "2013-07-01T00:00:00",
          "2013-08-01T00:00:00",
          "2013-09-01T00:00:00",
          "2013-10-01T00:00:00",
          "2013-11-01T00:00:00",
          "2013-12-01T00:00:00",
          "2014-01-01T00:00:00",
          "2014-02-01T00:00:00",
          "2014-03-01T00:00:00",
          "2014-04-01T00:00:00",
          "2014-05-01T00:00:00",
          "2014-06-01T00:00:00",
          "2014-07-01T00:00:00",
          "2014-08-01T00:00:00",
          "2014-09-01T00:00:00",
          "2014-10-01T00:00:00",
          "2014-11-01T00:00:00",
          "2014-12-01T00:00:00",
          "2015-01-01T00:00:00",
          "2015-02-01T00:00:00",
          "2015-03-01T00:00:00",
          "2015-04-01T00:00:00",
          "2015-05-01T00:00:00",
          "2015-06-01T00:00:00",
          "2015-07-01T00:00:00",
          "2015-08-01T00:00:00",
          "2015-09-01T00:00:00",
          "2015-10-01T00:00:00",
          "2015-11-01T00:00:00",
          "2015-12-01T00:00:00",
          "2016-01-01T00:00:00",
          "2016-02-01T00:00:00",
          "2016-03-01T00:00:00",
          "2016-04-01T00:00:00",
          "2016-05-01T00:00:00",
          "2016-06-01T00:00:00",
          "2016-07-01T00:00:00",
          "2016-08-01T00:00:00",
          "2016-09-01T00:00:00",
          "2016-10-01T00:00:00",
          "2016-11-01T00:00:00",
          "2016-12-01T00:00:00",
          "2017-01-01T00:00:00",
          "2017-02-01T00:00:00",
          "2017-03-01T00:00:00",
          "2017-04-01T00:00:00",
          "2017-05-01T00:00:00",
          "2017-06-01T00:00:00",
          "2017-07-01T00:00:00",
          "2017-08-01T00:00:00",
          "2017-09-01T00:00:00",
          "2017-10-01T00:00:00",
          "2017-11-01T00:00:00",
          "2017-12-01T00:00:00",
          "2018-01-01T00:00:00",
          "2018-02-01T00:00:00",
          "2018-03-01T00:00:00",
          "2018-04-01T00:00:00",
          "2018-05-01T00:00:00",
          "2018-06-01T00:00:00",
          "2018-07-01T00:00:00",
          "2018-08-01T00:00:00",
          "2018-09-01T00:00:00",
          "2018-10-01T00:00:00",
          "2018-11-01T00:00:00",
          "2018-12-01T00:00:00",
          "2019-01-01T00:00:00",
          "2019-02-01T00:00:00",
          "2019-03-01T00:00:00",
          "2019-04-01T00:00:00",
          "2019-05-01T00:00:00",
          "2019-06-01T00:00:00",
          "2019-07-01T00:00:00",
          "2019-08-01T00:00:00",
          "2019-09-01T00:00:00",
          "2019-10-01T00:00:00",
          "2019-11-01T00:00:00",
          "2019-12-01T00:00:00",
          "2020-01-01T00:00:00",
          "2020-02-01T00:00:00",
          "2020-03-01T00:00:00",
          "2020-04-01T00:00:00",
          "2020-05-01T00:00:00",
          "2020-06-01T00:00:00",
          "2020-07-01T00:00:00",
          "2020-08-01T00:00:00",
          "2020-09-01T00:00:00",
          "2020-10-01T00:00:00",
          "2020-11-01T00:00:00",
          "2020-12-01T00:00:00",
          "2021-01-01T00:00:00",
          "2021-02-01T00:00:00",
          "2021-03-01T00:00:00",
          "2021-04-01T00:00:00",
          "2021-05-01T00:00:00",
          "2021-06-01T00:00:00",
          "2021-07-01T00:00:00",
          "2021-08-01T00:00:00",
          "2021-09-01T00:00:00"
         ],
         "xaxis": "x",
         "y": [
          25.998310655172414,
          16.166797931034484,
          25.990357482758622,
          28.127973275862068,
          28.1766425862069,
          27.77255186206897,
          22.623691034482757,
          20.92660324137931,
          18.404220586206897,
          17.130664,
          15.301098620689654,
          11.739868931034483,
          9.180389344827587,
          13.855133310344828,
          8.706383965517242,
          8.322781620689655,
          8.109028448275861,
          7.6009073103448275,
          7.9694959310344835,
          7.239743275862069,
          6.7366705862068965,
          6.280982896551724,
          6.543062931034483,
          6.457919724137931,
          6.774020620689655,
          6.456337482758621,
          6.149932517241379,
          6.3550562758620694,
          7.206087310344827,
          7.397910655172414,
          6.659485689655173,
          6.467125931034483,
          6.346374,
          6.582086793103448,
          6.355385275862069,
          6.214390344827586,
          5.617653965517242,
          5.256128,
          5.643231172413794,
          5.813820034482759,
          5.868383310344827,
          5.523911793103449,
          6.6223301034482756,
          8.027773379310345,
          8.490117758620691,
          9.449515620689656,
          9.853965344827586,
          9.963490620689656,
          10.79189655172414,
          11.427634586206898,
          12.044330275862068,
          12.364196586206896,
          12.070071103448276,
          12.692068620689655,
          13.457658379310343,
          12.908873172413793,
          11.830343620689655,
          10.758051034482758,
          9.010509482758621,
          8.638735551724137,
          8.209226103448275,
          8.013934896551724,
          7.618858068965517,
          7.185976310344828,
          7.4017501034482756,
          7.135207586206897,
          5.921836068965518,
          5.773467034482758,
          6.954436137931035,
          7.504066689655172,
          8.31502348275862,
          9.929574172413792,
          8.761077724137932,
          9.987174310344828,
          9.643448931034483,
          8.816145034482759,
          6.953139137931034,
          6.91459748275862,
          7.66017348275862,
          7.170797344827586,
          8.166230068965517,
          8.616877413793103,
          10.076210103448277,
          9.248039241379312,
          12.601706655172414,
          12.200850965517242,
          13.245432689655173,
          15.22569875862069,
          18.058426034482757,
          20.053597137931032,
          21.36508527586207,
          23.090383000000003,
          21.906523310344827,
          20.555657344827587,
          17.96709279310345,
          16.91205696551724,
          14.014212033333333,
          12.3530885,
          10.7961445,
          9.723969766666666,
          7.53135,
          4.663989133333333,
          3.6963936333333334,
          3.2593131,
          3.240110733333333,
          2.5640623333333337,
          3.5221589666666664,
          3.462004933333333,
          3.5842043666666665,
          4.164111466666666,
          4.491279366666666,
          4.289206766666667,
          4.500957,
          5.392184866666667,
          5.326533433333333,
          5.4777428,
          5.3551737,
          6.088669733333333,
          6.2884177,
          8.099300633333334,
          9.143046199999999,
          8.885956333333333,
          9.267449466666667,
          10.692542933333332,
          10.793277633333334,
          12.153705,
          12.887444966666667,
          12.795498433333334,
          12.5640228,
          13.374731166666665,
          13.8859253,
          12.951582133333334,
          11.623777833333333,
          12.172988166666666,
          12.571149566666666,
          11.554961466666667,
          13.846358299999999,
          11.378494366666667,
          10.263452800000001,
          10.420439133333334,
          10.871449666666667,
          9.645068266666666,
          9.929018866666667,
          8.836716766666665,
          8.746130899999999,
          8.2691632,
          8.024525500000001,
          7.900378233333333,
          6.9083863333333335,
          8.0634239,
          9.3543077,
          9.332397466666666,
          9.136506666666666,
          9.646909233333332,
          8.0649629,
          6.812687633333334,
          6.238607833333333,
          5.841737966666667,
          5.6803769,
          5.0840545666666666,
          4.798421733333333,
          4.3128459,
          3.8837129999999997,
          3.3144537666666665,
          2.4625165666666664,
          1.9512103,
          2.8897339000000004,
          3.3347446333333335,
          3.8155428666666666,
          4.664707633333333,
          5.115197433333333,
          6.004624300000001,
          7.1517105333333335,
          8.581582033333332,
          8.214995433333334,
          9.060372366666666,
          11.545946333333335,
          12.147419266666667,
          11.892640333333333,
          14.067636533333333,
          15.832460933333333,
          16.092889133333333,
          16.284313333333333,
          17.328251233333333,
          17.314141166666666,
          15.553886333333333,
          25.293655333333334,
          23.380753133333332,
          22.598873633333334,
          22.980877000000003,
          21.975028066666667,
          25.257178800000002,
          20.738120966666667,
          25.39891983333333,
          21.482493533333333,
          18.448577399999998,
          21.383851133333334,
          18.530854166666664,
          11.7537396,
          11.057674733333332,
          10.450907533333332,
          9.720238966666667,
          9.906363266666666,
          7.803829566666667,
          8.8400809,
          6.119225366666667,
          6.693067666666666,
          9.3428476,
          6.1939771,
          6.450110666666666,
          7.699717966666666,
          6.8271273,
          5.189312866666667,
          5.855037466666667,
          5.7803382333333335,
          5.752848833333333,
          7.453701466666667,
          8.511648066666668,
          9.7683862,
          9.0901567,
          11.548999366666665,
          16.879104833333333,
          18.2341361,
          22.831773166666668,
          27.619059633333336,
          33.287953433333335,
          32.19595043333334,
          35.4808355,
          33.00202803333333,
          34.5345979,
          38.20375973333333,
          45.259678533333336,
          44.31139996666666,
          40.7842419,
          45.921506066666666,
          43.311771,
          38.362678933333335,
          29.721090333333333,
          27.472875866666666,
          23.964197199999997,
          23.690346633333334,
          22.66128086666667,
          19.818221166666664,
          15.750851133333333,
          14.3248229,
          13.236162799999999,
          11.0748627,
          9.816568733333334,
          9.884497366666666
         ],
         "yaxis": "y"
        },
        {
         "hovertemplate": "Economic Group=Upper-middle-income economies<br>date=%{x}<br>Value=%{y}<extra></extra>",
         "legendgroup": "Upper-middle-income economies",
         "line": {
          "color": "#ab63fa",
          "dash": "solid"
         },
         "marker": {
          "symbol": "circle"
         },
         "mode": "lines",
         "name": "Upper-middle-income economies",
         "orientation": "v",
         "showlegend": true,
         "type": "scatter",
         "x": [
          "2001-01-01T00:00:00",
          "2001-02-01T00:00:00",
          "2001-03-01T00:00:00",
          "2001-04-01T00:00:00",
          "2001-05-01T00:00:00",
          "2001-06-01T00:00:00",
          "2001-07-01T00:00:00",
          "2001-08-01T00:00:00",
          "2001-09-01T00:00:00",
          "2001-10-01T00:00:00",
          "2001-11-01T00:00:00",
          "2001-12-01T00:00:00",
          "2002-01-01T00:00:00",
          "2002-02-01T00:00:00",
          "2002-03-01T00:00:00",
          "2002-04-01T00:00:00",
          "2002-05-01T00:00:00",
          "2002-06-01T00:00:00",
          "2002-07-01T00:00:00",
          "2002-08-01T00:00:00",
          "2002-09-01T00:00:00",
          "2002-10-01T00:00:00",
          "2002-11-01T00:00:00",
          "2002-12-01T00:00:00",
          "2003-01-01T00:00:00",
          "2003-02-01T00:00:00",
          "2003-03-01T00:00:00",
          "2003-04-01T00:00:00",
          "2003-05-01T00:00:00",
          "2003-06-01T00:00:00",
          "2003-07-01T00:00:00",
          "2003-08-01T00:00:00",
          "2003-09-01T00:00:00",
          "2003-10-01T00:00:00",
          "2003-11-01T00:00:00",
          "2003-12-01T00:00:00",
          "2004-01-01T00:00:00",
          "2004-02-01T00:00:00",
          "2004-03-01T00:00:00",
          "2004-04-01T00:00:00",
          "2004-05-01T00:00:00",
          "2004-06-01T00:00:00",
          "2004-07-01T00:00:00",
          "2004-08-01T00:00:00",
          "2004-09-01T00:00:00",
          "2004-10-01T00:00:00",
          "2004-11-01T00:00:00",
          "2004-12-01T00:00:00",
          "2005-01-01T00:00:00",
          "2005-02-01T00:00:00",
          "2005-03-01T00:00:00",
          "2005-04-01T00:00:00",
          "2005-05-01T00:00:00",
          "2005-06-01T00:00:00",
          "2005-07-01T00:00:00",
          "2005-08-01T00:00:00",
          "2005-09-01T00:00:00",
          "2005-10-01T00:00:00",
          "2005-11-01T00:00:00",
          "2005-12-01T00:00:00",
          "2006-01-01T00:00:00",
          "2006-02-01T00:00:00",
          "2006-03-01T00:00:00",
          "2006-04-01T00:00:00",
          "2006-05-01T00:00:00",
          "2006-06-01T00:00:00",
          "2006-07-01T00:00:00",
          "2006-08-01T00:00:00",
          "2006-09-01T00:00:00",
          "2006-10-01T00:00:00",
          "2006-11-01T00:00:00",
          "2006-12-01T00:00:00",
          "2007-01-01T00:00:00",
          "2007-02-01T00:00:00",
          "2007-03-01T00:00:00",
          "2007-04-01T00:00:00",
          "2007-05-01T00:00:00",
          "2007-06-01T00:00:00",
          "2007-07-01T00:00:00",
          "2007-08-01T00:00:00",
          "2007-09-01T00:00:00",
          "2007-10-01T00:00:00",
          "2007-11-01T00:00:00",
          "2007-12-01T00:00:00",
          "2008-01-01T00:00:00",
          "2008-02-01T00:00:00",
          "2008-03-01T00:00:00",
          "2008-04-01T00:00:00",
          "2008-05-01T00:00:00",
          "2008-06-01T00:00:00",
          "2008-07-01T00:00:00",
          "2008-08-01T00:00:00",
          "2008-09-01T00:00:00",
          "2008-10-01T00:00:00",
          "2008-11-01T00:00:00",
          "2008-12-01T00:00:00",
          "2009-01-01T00:00:00",
          "2009-02-01T00:00:00",
          "2009-03-01T00:00:00",
          "2009-04-01T00:00:00",
          "2009-05-01T00:00:00",
          "2009-06-01T00:00:00",
          "2009-07-01T00:00:00",
          "2009-08-01T00:00:00",
          "2009-09-01T00:00:00",
          "2009-10-01T00:00:00",
          "2009-11-01T00:00:00",
          "2009-12-01T00:00:00",
          "2010-01-01T00:00:00",
          "2010-02-01T00:00:00",
          "2010-03-01T00:00:00",
          "2010-04-01T00:00:00",
          "2010-05-01T00:00:00",
          "2010-06-01T00:00:00",
          "2010-07-01T00:00:00",
          "2010-08-01T00:00:00",
          "2010-09-01T00:00:00",
          "2010-10-01T00:00:00",
          "2010-11-01T00:00:00",
          "2010-12-01T00:00:00",
          "2011-01-01T00:00:00",
          "2011-02-01T00:00:00",
          "2011-03-01T00:00:00",
          "2011-04-01T00:00:00",
          "2011-05-01T00:00:00",
          "2011-06-01T00:00:00",
          "2011-07-01T00:00:00",
          "2011-08-01T00:00:00",
          "2011-09-01T00:00:00",
          "2011-10-01T00:00:00",
          "2011-11-01T00:00:00",
          "2011-12-01T00:00:00",
          "2012-01-01T00:00:00",
          "2012-02-01T00:00:00",
          "2012-03-01T00:00:00",
          "2012-04-01T00:00:00",
          "2012-05-01T00:00:00",
          "2012-06-01T00:00:00",
          "2012-07-01T00:00:00",
          "2012-08-01T00:00:00",
          "2012-09-01T00:00:00",
          "2012-10-01T00:00:00",
          "2012-11-01T00:00:00",
          "2012-12-01T00:00:00",
          "2013-01-01T00:00:00",
          "2013-02-01T00:00:00",
          "2013-03-01T00:00:00",
          "2013-04-01T00:00:00",
          "2013-05-01T00:00:00",
          "2013-06-01T00:00:00",
          "2013-07-01T00:00:00",
          "2013-08-01T00:00:00",
          "2013-09-01T00:00:00",
          "2013-10-01T00:00:00",
          "2013-11-01T00:00:00",
          "2013-12-01T00:00:00",
          "2014-01-01T00:00:00",
          "2014-02-01T00:00:00",
          "2014-03-01T00:00:00",
          "2014-04-01T00:00:00",
          "2014-05-01T00:00:00",
          "2014-06-01T00:00:00",
          "2014-07-01T00:00:00",
          "2014-08-01T00:00:00",
          "2014-09-01T00:00:00",
          "2014-10-01T00:00:00",
          "2014-11-01T00:00:00",
          "2014-12-01T00:00:00",
          "2015-01-01T00:00:00",
          "2015-02-01T00:00:00",
          "2015-03-01T00:00:00",
          "2015-04-01T00:00:00",
          "2015-05-01T00:00:00",
          "2015-06-01T00:00:00",
          "2015-07-01T00:00:00",
          "2015-08-01T00:00:00",
          "2015-09-01T00:00:00",
          "2015-10-01T00:00:00",
          "2015-11-01T00:00:00",
          "2015-12-01T00:00:00",
          "2016-01-01T00:00:00",
          "2016-02-01T00:00:00",
          "2016-03-01T00:00:00",
          "2016-04-01T00:00:00",
          "2016-05-01T00:00:00",
          "2016-06-01T00:00:00",
          "2016-07-01T00:00:00",
          "2016-08-01T00:00:00",
          "2016-09-01T00:00:00",
          "2016-10-01T00:00:00",
          "2016-11-01T00:00:00",
          "2016-12-01T00:00:00",
          "2017-01-01T00:00:00",
          "2017-02-01T00:00:00",
          "2017-03-01T00:00:00",
          "2017-04-01T00:00:00",
          "2017-05-01T00:00:00",
          "2017-06-01T00:00:00",
          "2017-07-01T00:00:00",
          "2017-08-01T00:00:00",
          "2017-09-01T00:00:00",
          "2017-10-01T00:00:00",
          "2017-11-01T00:00:00",
          "2017-12-01T00:00:00",
          "2018-01-01T00:00:00",
          "2018-02-01T00:00:00",
          "2018-03-01T00:00:00",
          "2018-04-01T00:00:00",
          "2018-05-01T00:00:00",
          "2018-06-01T00:00:00",
          "2018-07-01T00:00:00",
          "2018-08-01T00:00:00",
          "2018-09-01T00:00:00",
          "2018-10-01T00:00:00",
          "2018-11-01T00:00:00",
          "2018-12-01T00:00:00",
          "2019-01-01T00:00:00",
          "2019-02-01T00:00:00",
          "2019-03-01T00:00:00",
          "2019-04-01T00:00:00",
          "2019-05-01T00:00:00",
          "2019-06-01T00:00:00",
          "2019-07-01T00:00:00",
          "2019-08-01T00:00:00",
          "2019-09-01T00:00:00",
          "2019-10-01T00:00:00",
          "2019-11-01T00:00:00",
          "2019-12-01T00:00:00",
          "2020-01-01T00:00:00",
          "2020-02-01T00:00:00",
          "2020-03-01T00:00:00",
          "2020-04-01T00:00:00",
          "2020-05-01T00:00:00",
          "2020-06-01T00:00:00",
          "2020-07-01T00:00:00",
          "2020-08-01T00:00:00",
          "2020-09-01T00:00:00",
          "2020-10-01T00:00:00",
          "2020-11-01T00:00:00",
          "2020-12-01T00:00:00",
          "2021-01-01T00:00:00",
          "2021-02-01T00:00:00",
          "2021-03-01T00:00:00",
          "2021-04-01T00:00:00",
          "2021-05-01T00:00:00",
          "2021-06-01T00:00:00",
          "2021-07-01T00:00:00",
          "2021-08-01T00:00:00",
          "2021-09-01T00:00:00"
         ],
         "xaxis": "x",
         "y": [
          12.205645958333333,
          11.5870498125,
          11.226562145833334,
          11.211723916666665,
          11.155700125000001,
          11.140586854166665,
          10.714125875,
          10.360101729166667,
          10.747996895833333,
          10.7473160625,
          11.125972833333334,
          11.282591291666668,
          11.436880791666667,
          10.900985458333333,
          10.294158458333333,
          9.38179425,
          8.55644325,
          8.028355729166668,
          7.8558679375,
          7.785790187500001,
          7.491764708333334,
          7.454237520833334,
          7.451111041666667,
          6.991963208333334,
          6.648619812500001,
          6.511859125,
          6.687129166666666,
          6.733331479166666,
          7.152453583333333,
          7.0556771875,
          7.201381895833333,
          7.058510916666667,
          6.786312124999999,
          6.952808541666667,
          6.900242291666667,
          7.085648291666666,
          7.554919916666667,
          8.164499104166667,
          8.138030500000001,
          8.253133666666667,
          8.183962416666667,
          7.8256122291666665,
          7.891866666666666,
          7.818800625000001,
          7.611861875,
          7.217353083333333,
          6.847532104166667,
          6.685788333333334,
          6.306977104166666,
          6.27874525,
          6.330589520833333,
          6.4049285000000005,
          6.005752104166667,
          5.89959875,
          5.686101666666667,
          4.792191833333333,
          5.72234275,
          6.218999395833333,
          5.752446666666667,
          5.747073125,
          6.015532833333332,
          5.860251229166667,
          5.8289903125,
          5.611561666666667,
          5.827983,
          6.240401354166667,
          6.083469395833333,
          6.987761375000001,
          6.327303125,
          6.081517604166667,
          6.803400395833333,
          7.478144291666666,
          7.6956048125,
          7.590707375,
          7.4659226875,
          7.839946729166667,
          8.095084104166666,
          8.291545020833334,
          8.727395708333333,
          9.940381770833334,
          10.547465604166666,
          11.252329770833333,
          11.745111229166667,
          12.0217265,
          12.226620208333335,
          13.493523479166667,
          14.675912020833332,
          15.454072895833333,
          15.770655625000002,
          16.097837395833334,
          16.285651708333333,
          15.782278208333333,
          15.496480083333333,
          14.634636416666666,
          13.437540041666667,
          12.425656354166668,
          11.659929645833332,
          9.8921420625,
          8.802944333333334,
          7.099147666666667,
          6.180720541666666,
          5.3173927291666665,
          4.485374333333334,
          4.05661925,
          3.3193730208333334,
          2.7097880416666666,
          2.685908166666666,
          2.734034833333333,
          2.1331506041666666,
          3.071292958333333,
          3.159040958333333,
          3.7668715,
          3.70276175,
          3.847933625,
          4.317393229166666,
          4.5831705625,
          4.787769125,
          5.742246375,
          6.12240425,
          6.292022,
          7.432147479166667,
          7.3504775625,
          7.869904395833333,
          8.405292729166666,
          9.456815958333333,
          9.237845645833334,
          9.422641375,
          9.685654145833334,
          10.017793645833335,
          9.769346291666666,
          9.9626295,
          9.780029833333334,
          9.0543518125,
          8.620265916666666,
          8.2003008125,
          7.546401708333334,
          6.1098686041666666,
          6.4606095833333335,
          6.437220833333334,
          5.923634229166666,
          5.9438403125,
          6.203272166666667,
          5.616826208333333,
          5.714732208333333,
          6.1641038125,
          6.122735416666667,
          5.9709595208333335,
          5.925922625000001,
          6.0879515,
          5.997833208333333,
          5.476997666666667,
          5.0027229166666665,
          4.4207476875,
          3.982430125,
          3.762698395833333,
          3.567252020833333,
          3.681123416666667,
          3.5877535833333334,
          3.490009875,
          3.2957697291666666,
          3.256058833333333,
          3.154284104166667,
          3.2562704791666666,
          3.8645954583333335,
          3.992882208333333,
          4.096578833333333,
          4.500921229166667,
          4.585858395833333,
          5.1808953749999995,
          4.996330854166667,
          5.0110101875,
          5.1322194375,
          4.658743270833333,
          4.312261708333334,
          4.115370416666667,
          3.7864502499999997,
          3.837632645833333,
          3.754190625,
          3.809115333333333,
          3.9421080416666663,
          3.6496251458333333,
          3.8372607083333334,
          3.714224729166667,
          3.8355183541666666,
          4.468901166666666,
          4.946467895833334,
          5.4581271875,
          5.494199416666667,
          5.5012763541666665,
          5.191151708333334,
          5.137364770833334,
          4.957954583333334,
          4.993836666666667,
          4.974982333333333,
          5.2776443125,
          5.361299083333333,
          5.266679229166667,
          5.0926171875,
          4.6053676875,
          4.383498666666667,
          4.152337833333333,
          4.3383126249999995,
          4.377081916666667,
          4.5757272916666665,
          3.950321,
          3.7569278333333336,
          3.684891791666667,
          3.204462020833333,
          3.3375735625,
          3.462821625,
          3.3769206458333336,
          3.616549583333333,
          4.0426676875,
          4.2440094791666665,
          4.016204625,
          3.6106787083333334,
          4.160741291666667,
          4.579354479166667,
          4.777102354166667,
          5.181607958333333,
          5.072060979166666,
          4.3850788750000005,
          4.435839375,
          4.132247625000001,
          3.626197770833333,
          3.497771416666667,
          3.6361240625,
          4.054830666666667,
          3.716226666666667,
          3.5813474166666666,
          4.398043604166666,
          7.516975354166667,
          8.3139860625,
          9.812702020833333,
          11.852008229166666,
          12.461990499999999,
          13.853275854166666,
          14.426719583333332,
          14.600557854166667,
          14.332392854166665,
          14.225612229166666,
          15.070171375,
          14.0275966875,
          10.246778708333332,
          10.627904729166668,
          11.235698395833333,
          12.225804666666667,
          13.832969229166666,
          13.961437291666668
         ],
         "yaxis": "y"
        }
       ],
       "layout": {
        "legend": {
         "title": {
          "text": "Economic Group"
         },
         "tracegroupgap": 0
        },
        "margin": {
         "t": 60
        },
        "template": {
         "data": {
          "bar": [
           {
            "error_x": {
             "color": "#2a3f5f"
            },
            "error_y": {
             "color": "#2a3f5f"
            },
            "marker": {
             "line": {
              "color": "#E5ECF6",
              "width": 0.5
             },
             "pattern": {
              "fillmode": "overlay",
              "size": 10,
              "solidity": 0.2
             }
            },
            "type": "bar"
           }
          ],
          "barpolar": [
           {
            "marker": {
             "line": {
              "color": "#E5ECF6",
              "width": 0.5
             },
             "pattern": {
              "fillmode": "overlay",
              "size": 10,
              "solidity": 0.2
             }
            },
            "type": "barpolar"
           }
          ],
          "carpet": [
           {
            "aaxis": {
             "endlinecolor": "#2a3f5f",
             "gridcolor": "white",
             "linecolor": "white",
             "minorgridcolor": "white",
             "startlinecolor": "#2a3f5f"
            },
            "baxis": {
             "endlinecolor": "#2a3f5f",
             "gridcolor": "white",
             "linecolor": "white",
             "minorgridcolor": "white",
             "startlinecolor": "#2a3f5f"
            },
            "type": "carpet"
           }
          ],
          "choropleth": [
           {
            "colorbar": {
             "outlinewidth": 0,
             "ticks": ""
            },
            "type": "choropleth"
           }
          ],
          "contour": [
           {
            "colorbar": {
             "outlinewidth": 0,
             "ticks": ""
            },
            "colorscale": [
             [
              0,
              "#0d0887"
             ],
             [
              0.1111111111111111,
              "#46039f"
             ],
             [
              0.2222222222222222,
              "#7201a8"
             ],
             [
              0.3333333333333333,
              "#9c179e"
             ],
             [
              0.4444444444444444,
              "#bd3786"
             ],
             [
              0.5555555555555556,
              "#d8576b"
             ],
             [
              0.6666666666666666,
              "#ed7953"
             ],
             [
              0.7777777777777778,
              "#fb9f3a"
             ],
             [
              0.8888888888888888,
              "#fdca26"
             ],
             [
              1,
              "#f0f921"
             ]
            ],
            "type": "contour"
           }
          ],
          "contourcarpet": [
           {
            "colorbar": {
             "outlinewidth": 0,
             "ticks": ""
            },
            "type": "contourcarpet"
           }
          ],
          "heatmap": [
           {
            "colorbar": {
             "outlinewidth": 0,
             "ticks": ""
            },
            "colorscale": [
             [
              0,
              "#0d0887"
             ],
             [
              0.1111111111111111,
              "#46039f"
             ],
             [
              0.2222222222222222,
              "#7201a8"
             ],
             [
              0.3333333333333333,
              "#9c179e"
             ],
             [
              0.4444444444444444,
              "#bd3786"
             ],
             [
              0.5555555555555556,
              "#d8576b"
             ],
             [
              0.6666666666666666,
              "#ed7953"
             ],
             [
              0.7777777777777778,
              "#fb9f3a"
             ],
             [
              0.8888888888888888,
              "#fdca26"
             ],
             [
              1,
              "#f0f921"
             ]
            ],
            "type": "heatmap"
           }
          ],
          "heatmapgl": [
           {
            "colorbar": {
             "outlinewidth": 0,
             "ticks": ""
            },
            "colorscale": [
             [
              0,
              "#0d0887"
             ],
             [
              0.1111111111111111,
              "#46039f"
             ],
             [
              0.2222222222222222,
              "#7201a8"
             ],
             [
              0.3333333333333333,
              "#9c179e"
             ],
             [
              0.4444444444444444,
              "#bd3786"
             ],
             [
              0.5555555555555556,
              "#d8576b"
             ],
             [
              0.6666666666666666,
              "#ed7953"
             ],
             [
              0.7777777777777778,
              "#fb9f3a"
             ],
             [
              0.8888888888888888,
              "#fdca26"
             ],
             [
              1,
              "#f0f921"
             ]
            ],
            "type": "heatmapgl"
           }
          ],
          "histogram": [
           {
            "marker": {
             "pattern": {
              "fillmode": "overlay",
              "size": 10,
              "solidity": 0.2
             }
            },
            "type": "histogram"
           }
          ],
          "histogram2d": [
           {
            "colorbar": {
             "outlinewidth": 0,
             "ticks": ""
            },
            "colorscale": [
             [
              0,
              "#0d0887"
             ],
             [
              0.1111111111111111,
              "#46039f"
             ],
             [
              0.2222222222222222,
              "#7201a8"
             ],
             [
              0.3333333333333333,
              "#9c179e"
             ],
             [
              0.4444444444444444,
              "#bd3786"
             ],
             [
              0.5555555555555556,
              "#d8576b"
             ],
             [
              0.6666666666666666,
              "#ed7953"
             ],
             [
              0.7777777777777778,
              "#fb9f3a"
             ],
             [
              0.8888888888888888,
              "#fdca26"
             ],
             [
              1,
              "#f0f921"
             ]
            ],
            "type": "histogram2d"
           }
          ],
          "histogram2dcontour": [
           {
            "colorbar": {
             "outlinewidth": 0,
             "ticks": ""
            },
            "colorscale": [
             [
              0,
              "#0d0887"
             ],
             [
              0.1111111111111111,
              "#46039f"
             ],
             [
              0.2222222222222222,
              "#7201a8"
             ],
             [
              0.3333333333333333,
              "#9c179e"
             ],
             [
              0.4444444444444444,
              "#bd3786"
             ],
             [
              0.5555555555555556,
              "#d8576b"
             ],
             [
              0.6666666666666666,
              "#ed7953"
             ],
             [
              0.7777777777777778,
              "#fb9f3a"
             ],
             [
              0.8888888888888888,
              "#fdca26"
             ],
             [
              1,
              "#f0f921"
             ]
            ],
            "type": "histogram2dcontour"
           }
          ],
          "mesh3d": [
           {
            "colorbar": {
             "outlinewidth": 0,
             "ticks": ""
            },
            "type": "mesh3d"
           }
          ],
          "parcoords": [
           {
            "line": {
             "colorbar": {
              "outlinewidth": 0,
              "ticks": ""
             }
            },
            "type": "parcoords"
           }
          ],
          "pie": [
           {
            "automargin": true,
            "type": "pie"
           }
          ],
          "scatter": [
           {
            "marker": {
             "colorbar": {
              "outlinewidth": 0,
              "ticks": ""
             }
            },
            "type": "scatter"
           }
          ],
          "scatter3d": [
           {
            "line": {
             "colorbar": {
              "outlinewidth": 0,
              "ticks": ""
             }
            },
            "marker": {
             "colorbar": {
              "outlinewidth": 0,
              "ticks": ""
             }
            },
            "type": "scatter3d"
           }
          ],
          "scattercarpet": [
           {
            "marker": {
             "colorbar": {
              "outlinewidth": 0,
              "ticks": ""
             }
            },
            "type": "scattercarpet"
           }
          ],
          "scattergeo": [
           {
            "marker": {
             "colorbar": {
              "outlinewidth": 0,
              "ticks": ""
             }
            },
            "type": "scattergeo"
           }
          ],
          "scattergl": [
           {
            "marker": {
             "colorbar": {
              "outlinewidth": 0,
              "ticks": ""
             }
            },
            "type": "scattergl"
           }
          ],
          "scattermapbox": [
           {
            "marker": {
             "colorbar": {
              "outlinewidth": 0,
              "ticks": ""
             }
            },
            "type": "scattermapbox"
           }
          ],
          "scatterpolar": [
           {
            "marker": {
             "colorbar": {
              "outlinewidth": 0,
              "ticks": ""
             }
            },
            "type": "scatterpolar"
           }
          ],
          "scatterpolargl": [
           {
            "marker": {
             "colorbar": {
              "outlinewidth": 0,
              "ticks": ""
             }
            },
            "type": "scatterpolargl"
           }
          ],
          "scatterternary": [
           {
            "marker": {
             "colorbar": {
              "outlinewidth": 0,
              "ticks": ""
             }
            },
            "type": "scatterternary"
           }
          ],
          "surface": [
           {
            "colorbar": {
             "outlinewidth": 0,
             "ticks": ""
            },
            "colorscale": [
             [
              0,
              "#0d0887"
             ],
             [
              0.1111111111111111,
              "#46039f"
             ],
             [
              0.2222222222222222,
              "#7201a8"
             ],
             [
              0.3333333333333333,
              "#9c179e"
             ],
             [
              0.4444444444444444,
              "#bd3786"
             ],
             [
              0.5555555555555556,
              "#d8576b"
             ],
             [
              0.6666666666666666,
              "#ed7953"
             ],
             [
              0.7777777777777778,
              "#fb9f3a"
             ],
             [
              0.8888888888888888,
              "#fdca26"
             ],
             [
              1,
              "#f0f921"
             ]
            ],
            "type": "surface"
           }
          ],
          "table": [
           {
            "cells": {
             "fill": {
              "color": "#EBF0F8"
             },
             "line": {
              "color": "white"
             }
            },
            "header": {
             "fill": {
              "color": "#C8D4E3"
             },
             "line": {
              "color": "white"
             }
            },
            "type": "table"
           }
          ]
         },
         "layout": {
          "annotationdefaults": {
           "arrowcolor": "#2a3f5f",
           "arrowhead": 0,
           "arrowwidth": 1
          },
          "autotypenumbers": "strict",
          "coloraxis": {
           "colorbar": {
            "outlinewidth": 0,
            "ticks": ""
           }
          },
          "colorscale": {
           "diverging": [
            [
             0,
             "#8e0152"
            ],
            [
             0.1,
             "#c51b7d"
            ],
            [
             0.2,
             "#de77ae"
            ],
            [
             0.3,
             "#f1b6da"
            ],
            [
             0.4,
             "#fde0ef"
            ],
            [
             0.5,
             "#f7f7f7"
            ],
            [
             0.6,
             "#e6f5d0"
            ],
            [
             0.7,
             "#b8e186"
            ],
            [
             0.8,
             "#7fbc41"
            ],
            [
             0.9,
             "#4d9221"
            ],
            [
             1,
             "#276419"
            ]
           ],
           "sequential": [
            [
             0,
             "#0d0887"
            ],
            [
             0.1111111111111111,
             "#46039f"
            ],
            [
             0.2222222222222222,
             "#7201a8"
            ],
            [
             0.3333333333333333,
             "#9c179e"
            ],
            [
             0.4444444444444444,
             "#bd3786"
            ],
            [
             0.5555555555555556,
             "#d8576b"
            ],
            [
             0.6666666666666666,
             "#ed7953"
            ],
            [
             0.7777777777777778,
             "#fb9f3a"
            ],
            [
             0.8888888888888888,
             "#fdca26"
            ],
            [
             1,
             "#f0f921"
            ]
           ],
           "sequentialminus": [
            [
             0,
             "#0d0887"
            ],
            [
             0.1111111111111111,
             "#46039f"
            ],
            [
             0.2222222222222222,
             "#7201a8"
            ],
            [
             0.3333333333333333,
             "#9c179e"
            ],
            [
             0.4444444444444444,
             "#bd3786"
            ],
            [
             0.5555555555555556,
             "#d8576b"
            ],
            [
             0.6666666666666666,
             "#ed7953"
            ],
            [
             0.7777777777777778,
             "#fb9f3a"
            ],
            [
             0.8888888888888888,
             "#fdca26"
            ],
            [
             1,
             "#f0f921"
            ]
           ]
          },
          "colorway": [
           "#636efa",
           "#EF553B",
           "#00cc96",
           "#ab63fa",
           "#FFA15A",
           "#19d3f3",
           "#FF6692",
           "#B6E880",
           "#FF97FF",
           "#FECB52"
          ],
          "font": {
           "color": "#2a3f5f"
          },
          "geo": {
           "bgcolor": "white",
           "lakecolor": "white",
           "landcolor": "#E5ECF6",
           "showlakes": true,
           "showland": true,
           "subunitcolor": "white"
          },
          "hoverlabel": {
           "align": "left"
          },
          "hovermode": "closest",
          "mapbox": {
           "style": "light"
          },
          "paper_bgcolor": "white",
          "plot_bgcolor": "#E5ECF6",
          "polar": {
           "angularaxis": {
            "gridcolor": "white",
            "linecolor": "white",
            "ticks": ""
           },
           "bgcolor": "#E5ECF6",
           "radialaxis": {
            "gridcolor": "white",
            "linecolor": "white",
            "ticks": ""
           }
          },
          "scene": {
           "xaxis": {
            "backgroundcolor": "#E5ECF6",
            "gridcolor": "white",
            "gridwidth": 2,
            "linecolor": "white",
            "showbackground": true,
            "ticks": "",
            "zerolinecolor": "white"
           },
           "yaxis": {
            "backgroundcolor": "#E5ECF6",
            "gridcolor": "white",
            "gridwidth": 2,
            "linecolor": "white",
            "showbackground": true,
            "ticks": "",
            "zerolinecolor": "white"
           },
           "zaxis": {
            "backgroundcolor": "#E5ECF6",
            "gridcolor": "white",
            "gridwidth": 2,
            "linecolor": "white",
            "showbackground": true,
            "ticks": "",
            "zerolinecolor": "white"
           }
          },
          "shapedefaults": {
           "line": {
            "color": "#2a3f5f"
           }
          },
          "ternary": {
           "aaxis": {
            "gridcolor": "white",
            "linecolor": "white",
            "ticks": ""
           },
           "baxis": {
            "gridcolor": "white",
            "linecolor": "white",
            "ticks": ""
           },
           "bgcolor": "#E5ECF6",
           "caxis": {
            "gridcolor": "white",
            "linecolor": "white",
            "ticks": ""
           }
          },
          "title": {
           "x": 0.05
          },
          "xaxis": {
           "automargin": true,
           "gridcolor": "white",
           "linecolor": "white",
           "ticks": "",
           "title": {
            "standoff": 15
           },
           "zerolinecolor": "white",
           "zerolinewidth": 2
          },
          "yaxis": {
           "automargin": true,
           "gridcolor": "white",
           "linecolor": "white",
           "ticks": "",
           "title": {
            "standoff": 15
           },
           "zerolinecolor": "white",
           "zerolinewidth": 2
          }
         }
        },
        "xaxis": {
         "anchor": "y",
         "domain": [
          0,
          1
         ],
         "title": {
          "text": "date"
         }
        },
        "yaxis": {
         "anchor": "x",
         "domain": [
          0,
          1
         ],
         "title": {
          "text": "Value"
         }
        }
       }
      }
     },
     "metadata": {},
     "output_type": "display_data"
    }
   ],
   "source": [
    "px.line(ecpi_pdf[ecpi_pdf['Item'] == 'Food price inflation'].sort_values(by=['date']) , x='date', y='Value', color='Economic Group')"
   ]
  },
  {
   "cell_type": "code",
   "execution_count": 61,
   "metadata": {},
   "outputs": [
    {
     "data": {
      "application/vnd.plotly.v1+json": {
       "config": {
        "plotlyServerURL": "https://plot.ly"
       },
       "data": [
        {
         "hovertemplate": "Economic Group=Lower-middle-income economies<br>date=%{x}<br>Value=%{y}<extra></extra>",
         "legendgroup": "Lower-middle-income economies",
         "line": {
          "color": "#636efa",
          "dash": "solid"
         },
         "marker": {
          "symbol": "circle"
         },
         "mode": "lines",
         "name": "Lower-middle-income economies",
         "showlegend": true,
         "type": "scattergl",
         "x": [
          "2000-01-01T00:00:00",
          "2000-02-01T00:00:00",
          "2000-03-01T00:00:00",
          "2000-04-01T00:00:00",
          "2000-05-01T00:00:00",
          "2000-06-01T00:00:00",
          "2000-07-01T00:00:00",
          "2000-08-01T00:00:00",
          "2000-09-01T00:00:00",
          "2000-10-01T00:00:00",
          "2000-11-01T00:00:00",
          "2000-12-01T00:00:00",
          "2001-01-01T00:00:00",
          "2001-02-01T00:00:00",
          "2001-03-01T00:00:00",
          "2001-04-01T00:00:00",
          "2001-05-01T00:00:00",
          "2001-06-01T00:00:00",
          "2001-07-01T00:00:00",
          "2001-08-01T00:00:00",
          "2001-09-01T00:00:00",
          "2001-10-01T00:00:00",
          "2001-11-01T00:00:00",
          "2001-12-01T00:00:00",
          "2002-01-01T00:00:00",
          "2002-02-01T00:00:00",
          "2002-03-01T00:00:00",
          "2002-04-01T00:00:00",
          "2002-05-01T00:00:00",
          "2002-06-01T00:00:00",
          "2002-07-01T00:00:00",
          "2002-08-01T00:00:00",
          "2002-09-01T00:00:00",
          "2002-10-01T00:00:00",
          "2002-11-01T00:00:00",
          "2002-12-01T00:00:00",
          "2003-01-01T00:00:00",
          "2003-02-01T00:00:00",
          "2003-03-01T00:00:00",
          "2003-04-01T00:00:00",
          "2003-05-01T00:00:00",
          "2003-06-01T00:00:00",
          "2003-07-01T00:00:00",
          "2003-08-01T00:00:00",
          "2003-09-01T00:00:00",
          "2003-10-01T00:00:00",
          "2003-11-01T00:00:00",
          "2003-12-01T00:00:00",
          "2004-01-01T00:00:00",
          "2004-02-01T00:00:00",
          "2004-03-01T00:00:00",
          "2004-04-01T00:00:00",
          "2004-05-01T00:00:00",
          "2004-06-01T00:00:00",
          "2004-07-01T00:00:00",
          "2004-08-01T00:00:00",
          "2004-09-01T00:00:00",
          "2004-10-01T00:00:00",
          "2004-11-01T00:00:00",
          "2004-12-01T00:00:00",
          "2005-01-01T00:00:00",
          "2005-02-01T00:00:00",
          "2005-03-01T00:00:00",
          "2005-04-01T00:00:00",
          "2005-05-01T00:00:00",
          "2005-06-01T00:00:00",
          "2005-07-01T00:00:00",
          "2005-08-01T00:00:00",
          "2005-09-01T00:00:00",
          "2005-10-01T00:00:00",
          "2005-11-01T00:00:00",
          "2005-12-01T00:00:00",
          "2006-01-01T00:00:00",
          "2006-02-01T00:00:00",
          "2006-03-01T00:00:00",
          "2006-04-01T00:00:00",
          "2006-05-01T00:00:00",
          "2006-06-01T00:00:00",
          "2006-07-01T00:00:00",
          "2006-08-01T00:00:00",
          "2006-09-01T00:00:00",
          "2006-10-01T00:00:00",
          "2006-11-01T00:00:00",
          "2006-12-01T00:00:00",
          "2007-01-01T00:00:00",
          "2007-02-01T00:00:00",
          "2007-03-01T00:00:00",
          "2007-04-01T00:00:00",
          "2007-05-01T00:00:00",
          "2007-06-01T00:00:00",
          "2007-07-01T00:00:00",
          "2007-08-01T00:00:00",
          "2007-09-01T00:00:00",
          "2007-10-01T00:00:00",
          "2007-11-01T00:00:00",
          "2007-12-01T00:00:00",
          "2008-01-01T00:00:00",
          "2008-02-01T00:00:00",
          "2008-03-01T00:00:00",
          "2008-04-01T00:00:00",
          "2008-05-01T00:00:00",
          "2008-06-01T00:00:00",
          "2008-07-01T00:00:00",
          "2008-08-01T00:00:00",
          "2008-09-01T00:00:00",
          "2008-10-01T00:00:00",
          "2008-11-01T00:00:00",
          "2008-12-01T00:00:00",
          "2009-01-01T00:00:00",
          "2009-02-01T00:00:00",
          "2009-03-01T00:00:00",
          "2009-04-01T00:00:00",
          "2009-05-01T00:00:00",
          "2009-06-01T00:00:00",
          "2009-07-01T00:00:00",
          "2009-08-01T00:00:00",
          "2009-09-01T00:00:00",
          "2009-10-01T00:00:00",
          "2009-11-01T00:00:00",
          "2009-12-01T00:00:00",
          "2010-01-01T00:00:00",
          "2010-02-01T00:00:00",
          "2010-03-01T00:00:00",
          "2010-04-01T00:00:00",
          "2010-05-01T00:00:00",
          "2010-06-01T00:00:00",
          "2010-07-01T00:00:00",
          "2010-08-01T00:00:00",
          "2010-09-01T00:00:00",
          "2010-10-01T00:00:00",
          "2010-11-01T00:00:00",
          "2010-12-01T00:00:00",
          "2011-01-01T00:00:00",
          "2011-02-01T00:00:00",
          "2011-03-01T00:00:00",
          "2011-04-01T00:00:00",
          "2011-05-01T00:00:00",
          "2011-06-01T00:00:00",
          "2011-07-01T00:00:00",
          "2011-08-01T00:00:00",
          "2011-09-01T00:00:00",
          "2011-10-01T00:00:00",
          "2011-11-01T00:00:00",
          "2011-12-01T00:00:00",
          "2012-01-01T00:00:00",
          "2012-02-01T00:00:00",
          "2012-03-01T00:00:00",
          "2012-04-01T00:00:00",
          "2012-05-01T00:00:00",
          "2012-06-01T00:00:00",
          "2012-07-01T00:00:00",
          "2012-08-01T00:00:00",
          "2012-09-01T00:00:00",
          "2012-10-01T00:00:00",
          "2012-11-01T00:00:00",
          "2012-12-01T00:00:00",
          "2013-01-01T00:00:00",
          "2013-02-01T00:00:00",
          "2013-03-01T00:00:00",
          "2013-04-01T00:00:00",
          "2013-05-01T00:00:00",
          "2013-06-01T00:00:00",
          "2013-07-01T00:00:00",
          "2013-08-01T00:00:00",
          "2013-09-01T00:00:00",
          "2013-10-01T00:00:00",
          "2013-11-01T00:00:00",
          "2013-12-01T00:00:00",
          "2014-01-01T00:00:00",
          "2014-02-01T00:00:00",
          "2014-03-01T00:00:00",
          "2014-04-01T00:00:00",
          "2014-05-01T00:00:00",
          "2014-06-01T00:00:00",
          "2014-07-01T00:00:00",
          "2014-08-01T00:00:00",
          "2014-09-01T00:00:00",
          "2014-10-01T00:00:00",
          "2014-11-01T00:00:00",
          "2014-12-01T00:00:00",
          "2015-01-01T00:00:00",
          "2015-02-01T00:00:00",
          "2015-03-01T00:00:00",
          "2015-04-01T00:00:00",
          "2015-05-01T00:00:00",
          "2015-06-01T00:00:00",
          "2015-07-01T00:00:00",
          "2015-08-01T00:00:00",
          "2015-09-01T00:00:00",
          "2015-10-01T00:00:00",
          "2015-11-01T00:00:00",
          "2015-12-01T00:00:00",
          "2016-01-01T00:00:00",
          "2016-02-01T00:00:00",
          "2016-03-01T00:00:00",
          "2016-04-01T00:00:00",
          "2016-05-01T00:00:00",
          "2016-06-01T00:00:00",
          "2016-07-01T00:00:00",
          "2016-08-01T00:00:00",
          "2016-09-01T00:00:00",
          "2016-10-01T00:00:00",
          "2016-11-01T00:00:00",
          "2016-12-01T00:00:00",
          "2017-01-01T00:00:00",
          "2017-02-01T00:00:00",
          "2017-03-01T00:00:00",
          "2017-04-01T00:00:00",
          "2017-05-01T00:00:00",
          "2017-06-01T00:00:00",
          "2017-07-01T00:00:00",
          "2017-08-01T00:00:00",
          "2017-09-01T00:00:00",
          "2017-10-01T00:00:00",
          "2017-11-01T00:00:00",
          "2017-12-01T00:00:00",
          "2018-01-01T00:00:00",
          "2018-02-01T00:00:00",
          "2018-03-01T00:00:00",
          "2018-04-01T00:00:00",
          "2018-05-01T00:00:00",
          "2018-06-01T00:00:00",
          "2018-07-01T00:00:00",
          "2018-08-01T00:00:00",
          "2018-09-01T00:00:00",
          "2018-10-01T00:00:00",
          "2018-11-01T00:00:00",
          "2018-12-01T00:00:00",
          "2019-01-01T00:00:00",
          "2019-02-01T00:00:00",
          "2019-03-01T00:00:00",
          "2019-04-01T00:00:00",
          "2019-05-01T00:00:00",
          "2019-06-01T00:00:00",
          "2019-07-01T00:00:00",
          "2019-08-01T00:00:00",
          "2019-09-01T00:00:00",
          "2019-10-01T00:00:00",
          "2019-11-01T00:00:00",
          "2019-12-01T00:00:00",
          "2020-01-01T00:00:00",
          "2020-02-01T00:00:00",
          "2020-03-01T00:00:00",
          "2020-04-01T00:00:00",
          "2020-05-01T00:00:00",
          "2020-06-01T00:00:00",
          "2020-07-01T00:00:00",
          "2020-08-01T00:00:00",
          "2020-09-01T00:00:00",
          "2020-10-01T00:00:00",
          "2020-11-01T00:00:00",
          "2020-12-01T00:00:00",
          "2021-01-01T00:00:00",
          "2021-02-01T00:00:00",
          "2021-03-01T00:00:00",
          "2021-04-01T00:00:00",
          "2021-05-01T00:00:00",
          "2021-06-01T00:00:00",
          "2021-07-01T00:00:00",
          "2021-08-01T00:00:00",
          "2021-09-01T00:00:00"
         ],
         "xaxis": "x",
         "y": [
          40.306663888888885,
          40.38711822222222,
          40.629912999999995,
          40.88071057777778,
          41.085015577777774,
          41.350917466666665,
          41.38541757777778,
          41.529124555555555,
          41.69706946666667,
          41.8943826,
          41.96336271111111,
          42.163611044444444,
          42.36924066666666,
          42.523892688888886,
          42.69524037777778,
          42.95349522222222,
          43.185331644444446,
          43.274458933333335,
          43.42963651111111,
          43.58886395555556,
          43.727412533333336,
          43.8555672,
          44.0082508,
          44.29111102222222,
          44.790331,
          45.01373382222222,
          45.17411937777778,
          45.44792426666667,
          45.76502288888889,
          45.86339815555556,
          45.98462333333334,
          46.19211564444444,
          46.43004957777777,
          46.59343395555556,
          46.862187444444444,
          47.18432482222222,
          47.54615717777778,
          47.83356482222222,
          47.9812524,
          48.240677355555555,
          48.43619433333333,
          48.545116,
          48.60487926666667,
          48.68283304444445,
          48.9373018,
          49.16118882222223,
          49.35346551111111,
          49.60274966666667,
          49.914468488888886,
          50.180936177777774,
          50.342480155555556,
          50.53141768888889,
          50.83334713333333,
          50.99933257777778,
          51.22193257777778,
          51.417494955555554,
          51.60578413333333,
          51.85710397777778,
          52.12380526666667,
          52.40950531111112,
          52.79702717777778,
          53.08595177777778,
          53.37393448888889,
          53.67639022222222,
          53.89565684444444,
          54.02072293333333,
          54.2645096,
          54.54058026666667,
          54.71485026666667,
          55.11095111111111,
          55.337381244444444,
          55.55098928888889,
          55.94793424444444,
          56.35475062222222,
          56.59619755555556,
          57.01257357777778,
          57.4049192,
          57.67372393333334,
          57.9323528,
          58.16275051111111,
          58.441697399999995,
          58.65872962222222,
          58.88522442222222,
          59.317594400000004,
          59.71840575555555,
          60.12491953333334,
          60.28659326666667,
          60.53823846666666,
          60.87629215555556,
          61.26325893333334,
          61.6074532,
          62.05926971111111,
          62.529010911111115,
          63.153614777777776,
          63.690167377777776,
          64.16972204444444,
          64.33418365217392,
          65.09402710869564,
          65.82532308695652,
          66.63769073913043,
          67.62908165217391,
          68.43196141304348,
          69.2509522826087,
          70.01174619565218,
          70.2560955,
          70.33489491304348,
          70.36695865217392,
          70.32013536956522,
          70.52305473913043,
          70.70270697826086,
          70.89586800000001,
          71.12711134782609,
          71.44627063043478,
          71.75463208695652,
          72.00938236956522,
          72.35610799999999,
          72.61128647826087,
          72.75349869565218,
          73.03810130434783,
          73.35161730434783,
          73.91203889130435,
          74.29770765217391,
          74.58355615217391,
          74.79888204347826,
          75.0642705,
          75.45914773913044,
          75.7365884347826,
          76.2085507173913,
          76.75079419565218,
          77.14503817391305,
          77.55397573913044,
          78.12881991304349,
          78.77197539130434,
          79.3131558478261,
          79.84831019565218,
          80.49688969565217,
          80.86266467391305,
          81.06386154347825,
          81.4550327826087,
          81.87722413043478,
          82.25915443478262,
          82.51068323913044,
          82.8063977173913,
          83.16695154347826,
          83.6849035652174,
          83.98454452173914,
          84.40636573913044,
          84.99262928260869,
          85.19752923913043,
          85.47449269565217,
          85.72756189130435,
          86.14598773913043,
          86.61102993478261,
          87.01106369565217,
          87.32621795652175,
          87.76649339130435,
          88.49494452173913,
          88.88368426086957,
          89.14304647826087,
          89.48841295652174,
          89.77152704347826,
          90.12776658695653,
          90.46980415217391,
          90.88565460869566,
          91.25386163043478,
          91.88124563043478,
          92.14508480434783,
          92.46660634782609,
          92.95889676086956,
          93.33143965217393,
          93.69988410869566,
          94.30096906521739,
          94.61072434782609,
          95.05146258695652,
          95.67623167391305,
          95.90701132608694,
          96.2615812826087,
          96.60944278260868,
          96.90335132608696,
          97.29120019565218,
          97.715313,
          97.89456463043477,
          98.40557952173913,
          99.08554028260869,
          99.49586502173912,
          99.94791110869565,
          100.30182258695652,
          100.61687182608695,
          100.96312430434783,
          101.6010761521739,
          102.0120395,
          102.33548795652173,
          102.54568269565218,
          102.82252439130434,
          103.25164367391305,
          104.00485297826087,
          104.57936336956521,
          105.00472504347826,
          105.40977308695653,
          105.62121054347826,
          106.05157434782608,
          106.57707660869565,
          107.40149452173914,
          107.94251126086957,
          108.69450210869566,
          109.31734284782608,
          109.89363441304349,
          110.66410565217392,
          111.11366313043477,
          111.49231526086956,
          111.96782106521738,
          112.36768486956522,
          112.90219495652174,
          113.39577130434782,
          113.9552765,
          114.52507167391305,
          115.97491263043479,
          116.4169859347826,
          116.87802665217392,
          117.6196163478261,
          118.19606154347827,
          118.83591536956521,
          119.42244197826086,
          120.02376393478262,
          120.8472057173913,
          121.45304576086957,
          122.0576209347826,
          122.50111552173914,
          123.2893822173913,
          123.97221132608695,
          124.72773176086956,
          125.5498737826087,
          126.51829163043477,
          127.19481434782608,
          128.32311676086957,
          129.23861202173913,
          130.06558232608694,
          130.90233354347828,
          131.95338304347825,
          132.76646569565216,
          134.42393373913043,
          135.61644576086957,
          131.37345530434783,
          132.40078189130435,
          141.83631491304348,
          144.8358743043478,
          147.43219147826088,
          150.6726045,
          156.30667386956523,
          159.42164223913045,
          163.82493095652174,
          166.73671552173914,
          174.49186832608694,
          182.00682613043477,
          188.80800358695654,
          196.22678510869565,
          203.55075234782606,
          210.82589556521742,
          218.3244695652174,
          225.63789082608693,
          233.07015969565217
         ],
         "yaxis": "y"
        },
        {
         "hovertemplate": "Economic Group=High-income economies<br>date=%{x}<br>Value=%{y}<extra></extra>",
         "legendgroup": "High-income economies",
         "line": {
          "color": "#EF553B",
          "dash": "solid"
         },
         "marker": {
          "symbol": "circle"
         },
         "mode": "lines",
         "name": "High-income economies",
         "showlegend": true,
         "type": "scattergl",
         "x": [
          "2000-01-01T00:00:00",
          "2000-02-01T00:00:00",
          "2000-03-01T00:00:00",
          "2000-04-01T00:00:00",
          "2000-05-01T00:00:00",
          "2000-06-01T00:00:00",
          "2000-07-01T00:00:00",
          "2000-08-01T00:00:00",
          "2000-09-01T00:00:00",
          "2000-10-01T00:00:00",
          "2000-11-01T00:00:00",
          "2000-12-01T00:00:00",
          "2001-01-01T00:00:00",
          "2001-02-01T00:00:00",
          "2001-03-01T00:00:00",
          "2001-04-01T00:00:00",
          "2001-05-01T00:00:00",
          "2001-06-01T00:00:00",
          "2001-07-01T00:00:00",
          "2001-08-01T00:00:00",
          "2001-09-01T00:00:00",
          "2001-10-01T00:00:00",
          "2001-11-01T00:00:00",
          "2001-12-01T00:00:00",
          "2002-01-01T00:00:00",
          "2002-02-01T00:00:00",
          "2002-03-01T00:00:00",
          "2002-04-01T00:00:00",
          "2002-05-01T00:00:00",
          "2002-06-01T00:00:00",
          "2002-07-01T00:00:00",
          "2002-08-01T00:00:00",
          "2002-09-01T00:00:00",
          "2002-10-01T00:00:00",
          "2002-11-01T00:00:00",
          "2002-12-01T00:00:00",
          "2003-01-01T00:00:00",
          "2003-02-01T00:00:00",
          "2003-03-01T00:00:00",
          "2003-04-01T00:00:00",
          "2003-05-01T00:00:00",
          "2003-06-01T00:00:00",
          "2003-07-01T00:00:00",
          "2003-08-01T00:00:00",
          "2003-09-01T00:00:00",
          "2003-10-01T00:00:00",
          "2003-11-01T00:00:00",
          "2003-12-01T00:00:00",
          "2004-01-01T00:00:00",
          "2004-02-01T00:00:00",
          "2004-03-01T00:00:00",
          "2004-04-01T00:00:00",
          "2004-05-01T00:00:00",
          "2004-06-01T00:00:00",
          "2004-07-01T00:00:00",
          "2004-08-01T00:00:00",
          "2004-09-01T00:00:00",
          "2004-10-01T00:00:00",
          "2004-11-01T00:00:00",
          "2004-12-01T00:00:00",
          "2005-01-01T00:00:00",
          "2005-02-01T00:00:00",
          "2005-03-01T00:00:00",
          "2005-04-01T00:00:00",
          "2005-05-01T00:00:00",
          "2005-06-01T00:00:00",
          "2005-07-01T00:00:00",
          "2005-08-01T00:00:00",
          "2005-09-01T00:00:00",
          "2005-10-01T00:00:00",
          "2005-11-01T00:00:00",
          "2005-12-01T00:00:00",
          "2006-01-01T00:00:00",
          "2006-02-01T00:00:00",
          "2006-03-01T00:00:00",
          "2006-04-01T00:00:00",
          "2006-05-01T00:00:00",
          "2006-06-01T00:00:00",
          "2006-07-01T00:00:00",
          "2006-08-01T00:00:00",
          "2006-09-01T00:00:00",
          "2006-10-01T00:00:00",
          "2006-11-01T00:00:00",
          "2006-12-01T00:00:00",
          "2007-01-01T00:00:00",
          "2007-02-01T00:00:00",
          "2007-03-01T00:00:00",
          "2007-04-01T00:00:00",
          "2007-05-01T00:00:00",
          "2007-06-01T00:00:00",
          "2007-07-01T00:00:00",
          "2007-08-01T00:00:00",
          "2007-09-01T00:00:00",
          "2007-10-01T00:00:00",
          "2007-11-01T00:00:00",
          "2007-12-01T00:00:00",
          "2008-01-01T00:00:00",
          "2008-02-01T00:00:00",
          "2008-03-01T00:00:00",
          "2008-04-01T00:00:00",
          "2008-05-01T00:00:00",
          "2008-06-01T00:00:00",
          "2008-07-01T00:00:00",
          "2008-08-01T00:00:00",
          "2008-09-01T00:00:00",
          "2008-10-01T00:00:00",
          "2008-11-01T00:00:00",
          "2008-12-01T00:00:00",
          "2009-01-01T00:00:00",
          "2009-02-01T00:00:00",
          "2009-03-01T00:00:00",
          "2009-04-01T00:00:00",
          "2009-05-01T00:00:00",
          "2009-06-01T00:00:00",
          "2009-07-01T00:00:00",
          "2009-08-01T00:00:00",
          "2009-09-01T00:00:00",
          "2009-10-01T00:00:00",
          "2009-11-01T00:00:00",
          "2009-12-01T00:00:00",
          "2010-01-01T00:00:00",
          "2010-02-01T00:00:00",
          "2010-03-01T00:00:00",
          "2010-04-01T00:00:00",
          "2010-05-01T00:00:00",
          "2010-06-01T00:00:00",
          "2010-07-01T00:00:00",
          "2010-08-01T00:00:00",
          "2010-09-01T00:00:00",
          "2010-10-01T00:00:00",
          "2010-11-01T00:00:00",
          "2010-12-01T00:00:00",
          "2011-01-01T00:00:00",
          "2011-02-01T00:00:00",
          "2011-03-01T00:00:00",
          "2011-04-01T00:00:00",
          "2011-05-01T00:00:00",
          "2011-06-01T00:00:00",
          "2011-07-01T00:00:00",
          "2011-08-01T00:00:00",
          "2011-09-01T00:00:00",
          "2011-10-01T00:00:00",
          "2011-11-01T00:00:00",
          "2011-12-01T00:00:00",
          "2012-01-01T00:00:00",
          "2012-02-01T00:00:00",
          "2012-03-01T00:00:00",
          "2012-04-01T00:00:00",
          "2012-05-01T00:00:00",
          "2012-06-01T00:00:00",
          "2012-07-01T00:00:00",
          "2012-08-01T00:00:00",
          "2012-09-01T00:00:00",
          "2012-10-01T00:00:00",
          "2012-11-01T00:00:00",
          "2012-12-01T00:00:00",
          "2013-01-01T00:00:00",
          "2013-02-01T00:00:00",
          "2013-03-01T00:00:00",
          "2013-04-01T00:00:00",
          "2013-05-01T00:00:00",
          "2013-06-01T00:00:00",
          "2013-07-01T00:00:00",
          "2013-08-01T00:00:00",
          "2013-09-01T00:00:00",
          "2013-10-01T00:00:00",
          "2013-11-01T00:00:00",
          "2013-12-01T00:00:00",
          "2014-01-01T00:00:00",
          "2014-02-01T00:00:00",
          "2014-03-01T00:00:00",
          "2014-04-01T00:00:00",
          "2014-05-01T00:00:00",
          "2014-06-01T00:00:00",
          "2014-07-01T00:00:00",
          "2014-08-01T00:00:00",
          "2014-09-01T00:00:00",
          "2014-10-01T00:00:00",
          "2014-11-01T00:00:00",
          "2014-12-01T00:00:00",
          "2015-01-01T00:00:00",
          "2015-02-01T00:00:00",
          "2015-03-01T00:00:00",
          "2015-04-01T00:00:00",
          "2015-05-01T00:00:00",
          "2015-06-01T00:00:00",
          "2015-07-01T00:00:00",
          "2015-08-01T00:00:00",
          "2015-09-01T00:00:00",
          "2015-10-01T00:00:00",
          "2015-11-01T00:00:00",
          "2015-12-01T00:00:00",
          "2016-01-01T00:00:00",
          "2016-02-01T00:00:00",
          "2016-03-01T00:00:00",
          "2016-04-01T00:00:00",
          "2016-05-01T00:00:00",
          "2016-06-01T00:00:00",
          "2016-07-01T00:00:00",
          "2016-08-01T00:00:00",
          "2016-09-01T00:00:00",
          "2016-10-01T00:00:00",
          "2016-11-01T00:00:00",
          "2016-12-01T00:00:00",
          "2017-01-01T00:00:00",
          "2017-02-01T00:00:00",
          "2017-03-01T00:00:00",
          "2017-04-01T00:00:00",
          "2017-05-01T00:00:00",
          "2017-06-01T00:00:00",
          "2017-07-01T00:00:00",
          "2017-08-01T00:00:00",
          "2017-09-01T00:00:00",
          "2017-10-01T00:00:00",
          "2017-11-01T00:00:00",
          "2017-12-01T00:00:00",
          "2018-01-01T00:00:00",
          "2018-02-01T00:00:00",
          "2018-03-01T00:00:00",
          "2018-04-01T00:00:00",
          "2018-05-01T00:00:00",
          "2018-06-01T00:00:00",
          "2018-07-01T00:00:00",
          "2018-08-01T00:00:00",
          "2018-09-01T00:00:00",
          "2018-10-01T00:00:00",
          "2018-11-01T00:00:00",
          "2018-12-01T00:00:00",
          "2019-01-01T00:00:00",
          "2019-02-01T00:00:00",
          "2019-03-01T00:00:00",
          "2019-04-01T00:00:00",
          "2019-05-01T00:00:00",
          "2019-06-01T00:00:00",
          "2019-07-01T00:00:00",
          "2019-08-01T00:00:00",
          "2019-09-01T00:00:00",
          "2019-10-01T00:00:00",
          "2019-11-01T00:00:00",
          "2019-12-01T00:00:00",
          "2020-01-01T00:00:00",
          "2020-02-01T00:00:00",
          "2020-03-01T00:00:00",
          "2020-04-01T00:00:00",
          "2020-05-01T00:00:00",
          "2020-06-01T00:00:00",
          "2020-07-01T00:00:00",
          "2020-08-01T00:00:00",
          "2020-09-01T00:00:00",
          "2020-10-01T00:00:00",
          "2020-11-01T00:00:00",
          "2020-12-01T00:00:00",
          "2021-01-01T00:00:00",
          "2021-02-01T00:00:00",
          "2021-03-01T00:00:00",
          "2021-04-01T00:00:00",
          "2021-05-01T00:00:00",
          "2021-06-01T00:00:00",
          "2021-07-01T00:00:00",
          "2021-08-01T00:00:00",
          "2021-09-01T00:00:00"
         ],
         "xaxis": "x",
         "y": [
          67.57055553225806,
          67.71493393548387,
          67.95077329032257,
          68.10379077419354,
          68.23706158064516,
          68.39751008064516,
          68.47769809677419,
          68.5617120483871,
          68.85409638709677,
          69.01472504838709,
          69.14890193548388,
          69.23522309677419,
          69.29839806451614,
          69.45772201612904,
          69.68311437096774,
          69.97391012903226,
          70.27612404838709,
          70.38939367741935,
          70.31043817741936,
          70.3674985483871,
          70.5676419032258,
          70.58342269354839,
          70.54562501612904,
          70.5621324516129,
          70.84240162903227,
          70.96034112903226,
          71.18617841935483,
          71.48313069354839,
          71.64198311290323,
          71.66650750000001,
          71.66879698387096,
          71.79353467741936,
          71.98739903225807,
          72.15867640322581,
          72.15898338709677,
          72.25915362903227,
          72.5120255483871,
          72.77728567741936,
          73.06108896774194,
          73.09352027419355,
          73.08517320967742,
          73.10066954838709,
          73.0054483548387,
          73.09308577419355,
          73.31279587096775,
          73.42732338709678,
          73.50694764516129,
          73.59084062903226,
          73.75216327419355,
          73.94970691935484,
          74.18513643548387,
          74.4327098064516,
          74.70454346774194,
          74.8235724032258,
          74.81165788709677,
          74.92196398387097,
          75.11456446774193,
          75.33168872580646,
          75.46132141935485,
          75.53967588709676,
          75.49283185483871,
          75.70710916129032,
          76.02236991935483,
          76.33076856451613,
          76.48924782258065,
          76.62391262903226,
          76.70960138709678,
          76.87527041935483,
          77.32916619354837,
          77.58477753225807,
          77.62451656451613,
          77.71063106451614,
          77.80950498387098,
          78.01939453225806,
          78.33059651612903,
          78.74987408064516,
          79.06644238709677,
          79.19786974193548,
          79.29973266129032,
          79.48779198387096,
          79.66806259677419,
          79.70607801612904,
          79.82293896774193,
          80.03401149999999,
          80.1892536935484,
          80.39282503225806,
          80.8310694516129,
          81.20303938709678,
          81.46165422580644,
          81.65677485483872,
          81.83886309677419,
          82.0478498548387,
          82.47761170967742,
          82.92786312903226,
          83.42822161290323,
          83.74737841935485,
          84.26015432258065,
          84.7002955483871,
          85.26322122580645,
          85.81034667741935,
          86.39005461290323,
          86.93447464516129,
          87.3017789516129,
          87.52334562903225,
          87.92304601612902,
          88.13634935483871,
          88.15915288709677,
          87.9280991451613,
          87.72901333870968,
          87.85760570967743,
          87.98592866129033,
          88.13126496774194,
          88.21103651612903,
          88.3448379032258,
          88.27093590322582,
          88.39948066129033,
          88.54670303225807,
          88.65192275806452,
          88.76597617741936,
          88.82435329032258,
          88.89205270967742,
          89.16105070967743,
          89.5093715483871,
          89.89733822580645,
          90.06046032258064,
          90.1914370967742,
          90.18701320967742,
          90.35829574193548,
          90.61430048387096,
          90.85839088709677,
          91.0066070483871,
          91.33863587096774,
          91.56443030645161,
          91.91645016129033,
          92.43459033870968,
          92.86616146774195,
          93.17980562903226,
          93.23166893548387,
          93.25256835483871,
          93.43373072580646,
          93.75506688709677,
          94.07138164516128,
          94.25397970967742,
          94.42487696774194,
          94.59558446774193,
          94.89397993548387,
          95.38354688709677,
          95.76915475806452,
          95.87746540322581,
          95.82267703225807,
          95.73038180645162,
          95.95187083870967,
          96.3644414516129,
          96.62574161290323,
          96.58462446774193,
          96.64441546774194,
          96.69189846774194,
          97.01523091935485,
          97.33678290322581,
          97.47029240322581,
          97.57827267741935,
          97.711793,
          97.6819579516129,
          97.72818906451613,
          97.98402633870967,
          98.08671166129032,
          98.1074009516129,
          98.21534556451613,
          98.11513708064516,
          98.3957879516129,
          98.75664683870967,
          98.99544214516129,
          99.10022332258065,
          99.22195401612903,
          99.20856711290324,
          99.2504415,
          99.47933603225808,
          99.62039324193547,
          99.52885596774193,
          99.38531887096774,
          99.08217620967743,
          99.27691419354838,
          99.75360488709677,
          99.8799054032258,
          100.10248164516129,
          100.23284403225806,
          100.17719133870968,
          100.19502666129033,
          100.3045585967742,
          100.40627832258063,
          100.33316114516128,
          100.27481808064516,
          99.99950587096774,
          100.14528280645162,
          100.48682830645161,
          100.69960443548386,
          100.92523256451614,
          101.14833514516128,
          101.14283808064516,
          101.1701326935484,
          101.37596685483871,
          101.53556617741935,
          101.54628362903226,
          101.73192604838711,
          101.85543146774192,
          102.1966475967742,
          102.50940969354839,
          102.7665969516129,
          102.86719058064516,
          102.92790893548388,
          102.93686888709678,
          103.11073053225806,
          103.38161933870968,
          103.59890953225806,
          103.69773367741935,
          103.85158235483871,
          103.97170070967742,
          104.33659106451613,
          104.58231177419354,
          104.85935883870968,
          105.18471238709677,
          105.49601775806453,
          105.65313804838709,
          105.87954488709678,
          106.22195446774194,
          106.60061079032258,
          106.62421338709677,
          106.57363898387096,
          106.43765162903226,
          106.87857066129033,
          107.45206030645161,
          107.99107029032258,
          108.2960680483871,
          108.49063661290322,
          108.5563429516129,
          108.9363965483871,
          109.25206843548388,
          109.57426419354839,
          109.845261,
          110.10772629032259,
          110.16541230645161,
          110.42571998387096,
          110.67156725806451,
          110.55215948387097,
          110.597154,
          110.8659629032258,
          111.0483834516129,
          111.38103280645161,
          111.645148,
          112.08211270967742,
          112.25950793548387,
          112.67887020967741,
          113.29165170967742,
          113.81762474193549,
          114.61215430645161,
          115.35963611290323,
          115.9768420967742,
          116.57294258064516,
          117.15749453225807,
          117.7106045967742,
          118.43879930645161
         ],
         "yaxis": "y"
        },
        {
         "hovertemplate": "Economic Group=Low income economies<br>date=%{x}<br>Value=%{y}<extra></extra>",
         "legendgroup": "Low income economies",
         "line": {
          "color": "#00cc96",
          "dash": "solid"
         },
         "marker": {
          "symbol": "circle"
         },
         "mode": "lines",
         "name": "Low income economies",
         "showlegend": true,
         "type": "scattergl",
         "x": [
          "2000-01-01T00:00:00",
          "2000-02-01T00:00:00",
          "2000-03-01T00:00:00",
          "2000-04-01T00:00:00",
          "2000-05-01T00:00:00",
          "2000-06-01T00:00:00",
          "2000-07-01T00:00:00",
          "2000-08-01T00:00:00",
          "2000-09-01T00:00:00",
          "2000-10-01T00:00:00",
          "2000-11-01T00:00:00",
          "2000-12-01T00:00:00",
          "2001-01-01T00:00:00",
          "2001-02-01T00:00:00",
          "2001-03-01T00:00:00",
          "2001-04-01T00:00:00",
          "2001-05-01T00:00:00",
          "2001-06-01T00:00:00",
          "2001-07-01T00:00:00",
          "2001-08-01T00:00:00",
          "2001-09-01T00:00:00",
          "2001-10-01T00:00:00",
          "2001-11-01T00:00:00",
          "2001-12-01T00:00:00",
          "2002-01-01T00:00:00",
          "2002-02-01T00:00:00",
          "2002-03-01T00:00:00",
          "2002-04-01T00:00:00",
          "2002-05-01T00:00:00",
          "2002-06-01T00:00:00",
          "2002-07-01T00:00:00",
          "2002-08-01T00:00:00",
          "2002-09-01T00:00:00",
          "2002-10-01T00:00:00",
          "2002-11-01T00:00:00",
          "2002-12-01T00:00:00",
          "2003-01-01T00:00:00",
          "2003-02-01T00:00:00",
          "2003-03-01T00:00:00",
          "2003-04-01T00:00:00",
          "2003-05-01T00:00:00",
          "2003-06-01T00:00:00",
          "2003-07-01T00:00:00",
          "2003-08-01T00:00:00",
          "2003-09-01T00:00:00",
          "2003-10-01T00:00:00",
          "2003-11-01T00:00:00",
          "2003-12-01T00:00:00",
          "2004-01-01T00:00:00",
          "2004-02-01T00:00:00",
          "2004-03-01T00:00:00",
          "2004-04-01T00:00:00",
          "2004-05-01T00:00:00",
          "2004-06-01T00:00:00",
          "2004-07-01T00:00:00",
          "2004-08-01T00:00:00",
          "2004-09-01T00:00:00",
          "2004-10-01T00:00:00",
          "2004-11-01T00:00:00",
          "2004-12-01T00:00:00",
          "2005-01-01T00:00:00",
          "2005-02-01T00:00:00",
          "2005-03-01T00:00:00",
          "2005-04-01T00:00:00",
          "2005-05-01T00:00:00",
          "2005-06-01T00:00:00",
          "2005-07-01T00:00:00",
          "2005-08-01T00:00:00",
          "2005-09-01T00:00:00",
          "2005-10-01T00:00:00",
          "2005-11-01T00:00:00",
          "2005-12-01T00:00:00",
          "2006-01-01T00:00:00",
          "2006-02-01T00:00:00",
          "2006-03-01T00:00:00",
          "2006-04-01T00:00:00",
          "2006-05-01T00:00:00",
          "2006-06-01T00:00:00",
          "2006-07-01T00:00:00",
          "2006-08-01T00:00:00",
          "2006-09-01T00:00:00",
          "2006-10-01T00:00:00",
          "2006-11-01T00:00:00",
          "2006-12-01T00:00:00",
          "2007-01-01T00:00:00",
          "2007-02-01T00:00:00",
          "2007-03-01T00:00:00",
          "2007-04-01T00:00:00",
          "2007-05-01T00:00:00",
          "2007-06-01T00:00:00",
          "2007-07-01T00:00:00",
          "2007-08-01T00:00:00",
          "2007-09-01T00:00:00",
          "2007-10-01T00:00:00",
          "2007-11-01T00:00:00",
          "2007-12-01T00:00:00",
          "2008-01-01T00:00:00",
          "2008-02-01T00:00:00",
          "2008-03-01T00:00:00",
          "2008-04-01T00:00:00",
          "2008-05-01T00:00:00",
          "2008-06-01T00:00:00",
          "2008-07-01T00:00:00",
          "2008-08-01T00:00:00",
          "2008-09-01T00:00:00",
          "2008-10-01T00:00:00",
          "2008-11-01T00:00:00",
          "2008-12-01T00:00:00",
          "2009-01-01T00:00:00",
          "2009-02-01T00:00:00",
          "2009-03-01T00:00:00",
          "2009-04-01T00:00:00",
          "2009-05-01T00:00:00",
          "2009-06-01T00:00:00",
          "2009-07-01T00:00:00",
          "2009-08-01T00:00:00",
          "2009-09-01T00:00:00",
          "2009-10-01T00:00:00",
          "2009-11-01T00:00:00",
          "2009-12-01T00:00:00",
          "2010-01-01T00:00:00",
          "2010-02-01T00:00:00",
          "2010-03-01T00:00:00",
          "2010-04-01T00:00:00",
          "2010-05-01T00:00:00",
          "2010-06-01T00:00:00",
          "2010-07-01T00:00:00",
          "2010-08-01T00:00:00",
          "2010-09-01T00:00:00",
          "2010-10-01T00:00:00",
          "2010-11-01T00:00:00",
          "2010-12-01T00:00:00",
          "2011-01-01T00:00:00",
          "2011-02-01T00:00:00",
          "2011-03-01T00:00:00",
          "2011-04-01T00:00:00",
          "2011-05-01T00:00:00",
          "2011-06-01T00:00:00",
          "2011-07-01T00:00:00",
          "2011-08-01T00:00:00",
          "2011-09-01T00:00:00",
          "2011-10-01T00:00:00",
          "2011-11-01T00:00:00",
          "2011-12-01T00:00:00",
          "2012-01-01T00:00:00",
          "2012-02-01T00:00:00",
          "2012-03-01T00:00:00",
          "2012-04-01T00:00:00",
          "2012-05-01T00:00:00",
          "2012-06-01T00:00:00",
          "2012-07-01T00:00:00",
          "2012-08-01T00:00:00",
          "2012-09-01T00:00:00",
          "2012-10-01T00:00:00",
          "2012-11-01T00:00:00",
          "2012-12-01T00:00:00",
          "2013-01-01T00:00:00",
          "2013-02-01T00:00:00",
          "2013-03-01T00:00:00",
          "2013-04-01T00:00:00",
          "2013-05-01T00:00:00",
          "2013-06-01T00:00:00",
          "2013-07-01T00:00:00",
          "2013-08-01T00:00:00",
          "2013-09-01T00:00:00",
          "2013-10-01T00:00:00",
          "2013-11-01T00:00:00",
          "2013-12-01T00:00:00",
          "2014-01-01T00:00:00",
          "2014-02-01T00:00:00",
          "2014-03-01T00:00:00",
          "2014-04-01T00:00:00",
          "2014-05-01T00:00:00",
          "2014-06-01T00:00:00",
          "2014-07-01T00:00:00",
          "2014-08-01T00:00:00",
          "2014-09-01T00:00:00",
          "2014-10-01T00:00:00",
          "2014-11-01T00:00:00",
          "2014-12-01T00:00:00",
          "2015-01-01T00:00:00",
          "2015-02-01T00:00:00",
          "2015-03-01T00:00:00",
          "2015-04-01T00:00:00",
          "2015-05-01T00:00:00",
          "2015-06-01T00:00:00",
          "2015-07-01T00:00:00",
          "2015-08-01T00:00:00",
          "2015-09-01T00:00:00",
          "2015-10-01T00:00:00",
          "2015-11-01T00:00:00",
          "2015-12-01T00:00:00",
          "2016-01-01T00:00:00",
          "2016-02-01T00:00:00",
          "2016-03-01T00:00:00",
          "2016-04-01T00:00:00",
          "2016-05-01T00:00:00",
          "2016-06-01T00:00:00",
          "2016-07-01T00:00:00",
          "2016-08-01T00:00:00",
          "2016-09-01T00:00:00",
          "2016-10-01T00:00:00",
          "2016-11-01T00:00:00",
          "2016-12-01T00:00:00",
          "2017-01-01T00:00:00",
          "2017-02-01T00:00:00",
          "2017-03-01T00:00:00",
          "2017-04-01T00:00:00",
          "2017-05-01T00:00:00",
          "2017-06-01T00:00:00",
          "2017-07-01T00:00:00",
          "2017-08-01T00:00:00",
          "2017-09-01T00:00:00",
          "2017-10-01T00:00:00",
          "2017-11-01T00:00:00",
          "2017-12-01T00:00:00",
          "2018-01-01T00:00:00",
          "2018-02-01T00:00:00",
          "2018-03-01T00:00:00",
          "2018-04-01T00:00:00",
          "2018-05-01T00:00:00",
          "2018-06-01T00:00:00",
          "2018-07-01T00:00:00",
          "2018-08-01T00:00:00",
          "2018-09-01T00:00:00",
          "2018-10-01T00:00:00",
          "2018-11-01T00:00:00",
          "2018-12-01T00:00:00",
          "2019-01-01T00:00:00",
          "2019-02-01T00:00:00",
          "2019-03-01T00:00:00",
          "2019-04-01T00:00:00",
          "2019-05-01T00:00:00",
          "2019-06-01T00:00:00",
          "2019-07-01T00:00:00",
          "2019-08-01T00:00:00",
          "2019-09-01T00:00:00",
          "2019-10-01T00:00:00",
          "2019-11-01T00:00:00",
          "2019-12-01T00:00:00",
          "2020-01-01T00:00:00",
          "2020-02-01T00:00:00",
          "2020-03-01T00:00:00",
          "2020-04-01T00:00:00",
          "2020-05-01T00:00:00",
          "2020-06-01T00:00:00",
          "2020-07-01T00:00:00",
          "2020-08-01T00:00:00",
          "2020-09-01T00:00:00",
          "2020-10-01T00:00:00",
          "2020-11-01T00:00:00",
          "2020-12-01T00:00:00",
          "2021-01-01T00:00:00",
          "2021-02-01T00:00:00",
          "2021-03-01T00:00:00",
          "2021-04-01T00:00:00",
          "2021-05-01T00:00:00",
          "2021-06-01T00:00:00",
          "2021-07-01T00:00:00",
          "2021-08-01T00:00:00",
          "2021-09-01T00:00:00"
         ],
         "xaxis": "x",
         "y": [
          40.041798,
          40.0926163,
          40.4156732,
          40.80329966666667,
          41.1189805,
          41.41023253333333,
          41.482573366666664,
          41.5302529,
          41.8819688,
          42.2439951,
          42.36061936666667,
          42.69837363333333,
          42.971590766666665,
          42.899434533333334,
          43.57761926666667,
          43.875449966666665,
          44.15064903333334,
          44.733673599999996,
          44.80380723333334,
          45.12302566666666,
          45.101898166666665,
          45.21833166666667,
          45.08046583333333,
          45.15458303333333,
          45.242847966666666,
          45.419562533333334,
          45.7745192,
          46.110943633333335,
          46.412574033333335,
          46.7695105,
          47.0884649,
          47.1621831,
          47.1665382,
          47.34637516666667,
          47.7629232,
          47.7176013,
          47.74150793333333,
          48.094902733333335,
          48.034215700000004,
          48.50876563333333,
          48.94277580000001,
          49.26931383333333,
          49.290476733333335,
          49.31363603333333,
          49.38794506666667,
          49.496111166666665,
          49.750949766666665,
          49.63101163333333,
          49.733959199999994,
          49.806771033333334,
          49.903017133333336,
          50.29472416666667,
          50.76334376666667,
          51.033393466666666,
          51.375282500000004,
          51.808038466666666,
          51.92084653333334,
          52.56320993333333,
          52.8678087,
          52.86688576666667,
          53.2480011,
          53.56220636666667,
          53.88816046666667,
          54.2769665,
          54.70257026666666,
          55.18820663333334,
          55.837010899999996,
          56.32456666666667,
          56.3683776,
          56.662336333333336,
          56.4590292,
          56.32891863333334,
          56.61649633333333,
          56.90302676666667,
          57.46412503333333,
          57.8849984,
          58.33749796666667,
          58.753553466666666,
          58.92918916666667,
          59.246041766666664,
          59.633204433333326,
          60.116406866666665,
          59.566937599999996,
          59.93478016666666,
          59.48734963333333,
          60.25443343333333,
          60.51391426666667,
          60.49745986666667,
          60.64721926666667,
          61.09393693333333,
          61.554329100000004,
          61.61756813333333,
          62.4786342,
          63.01945023333334,
          63.35578063333333,
          63.5667806,
          63.7737459032258,
          64.33773929032257,
          64.7813260967742,
          65.59257435483872,
          66.51028183870967,
          67.52144251612903,
          68.5711525483871,
          69.3795855483871,
          69.93844045161289,
          70.09583174193548,
          69.83488422580645,
          69.66363909677419,
          69.87499367741935,
          69.71773029032258,
          69.64970796774193,
          69.90195712903225,
          70.08928441935484,
          70.09031096774194,
          70.67274387096774,
          71.09256387096774,
          71.58648132258065,
          71.45165348387097,
          71.52660558064515,
          71.63290770967743,
          71.37105212903225,
          71.57177638709678,
          71.6613744516129,
          71.73034483870968,
          72.07528170967741,
          72.53378116129032,
          73.00779977419356,
          73.59098616129033,
          73.74455258064516,
          73.95562016129033,
          74.22232929032259,
          74.84474132258065,
          75.86642348387097,
          76.00622829032258,
          76.35002667741936,
          77.12480848387096,
          77.56005332258064,
          78.43105741935484,
          79.3530794516129,
          79.98851151612904,
          80.292135,
          80.8744302580645,
          81.39704661290322,
          82.04184083870967,
          82.87671803225805,
          83.13379267741936,
          83.57024861290321,
          83.88851451612904,
          84.88129893548387,
          85.02636051612903,
          85.43133754838709,
          86.14677874193549,
          86.67059616129032,
          86.75846387096774,
          87.41805722580645,
          87.47892287096775,
          88.04294183870968,
          88.30811,
          88.54376806451612,
          88.87864038709678,
          89.22874503225806,
          89.62662061290322,
          90.30086422580645,
          90.87280412903226,
          91.51930783870968,
          91.89506470967743,
          92.05852248387097,
          92.00261470967742,
          92.31561861290322,
          92.4937039032258,
          92.74499567741935,
          92.92240087096773,
          93.11680919354839,
          93.64121409677419,
          94.37250125806452,
          94.70327225806452,
          94.82737964516129,
          95.10619341935484,
          95.5868744516129,
          95.51218254838709,
          96.23630461290323,
          96.56715106451612,
          97.06434996774195,
          97.68418687096774,
          98.5098095483871,
          99.69811496774193,
          100.13635503225807,
          101.09535767741936,
          102.41143293548387,
          103.1675279032258,
          104.1237886451613,
          105.22915212903226,
          106.70395103225806,
          107.9308349032258,
          109.45153125806452,
          110.95514229032258,
          113.43574983870968,
          113.04172503225806,
          121.62594561290322,
          123.19738367741937,
          132.1455433548387,
          130.0821213548387,
          132.19073948387097,
          135.79702045161292,
          136.53907038709679,
          146.36256741935483,
          143.25903748387097,
          145.12851322580644,
          159.50627606451613,
          156.38679303225805,
          157.18051674193546,
          162.18468777419355,
          167.09342722580644,
          169.42093841935483,
          176.1565213548387,
          175.6457590645161,
          178.17354725806453,
          194.33493422580642,
          202.3113640645161,
          215.80172896774192,
          206.99342303225805,
          203.41841567741935,
          220.52853358064516,
          207.15835006451616,
          200.9648551935484,
          200.60918251612904,
          205.24334496774193,
          208.8360753548387,
          232.33715254838708,
          249.0490699032258,
          266.027498,
          276.92192267741933,
          286.66855696774195,
          290.13737322580647,
          308.63333048387096,
          318.8137983225806,
          347.81083877419354,
          361.54351696774194,
          294.81052687096775,
          301.44824812903227,
          306.3986835806451,
          356.0330201290323,
          371.8749320322581,
          393.606669,
          410.7731906129032,
          389.1156227741936,
          431.0117581935484,
          456.2074398709678,
          478.1060130645161,
          503.22662667741935,
          523.4551532580646,
          501.75911293548387,
          498.1733617419355,
          514.2506669354839,
          537.0500928064516,
          545.8774233548387,
          556.4091286451613,
          569.3579473225806,
          580.4101860322581,
          591.6162371612903,
          602.5635731290322
         ],
         "yaxis": "y"
        },
        {
         "hovertemplate": "Economic Group=Upper-middle-income economies<br>date=%{x}<br>Value=%{y}<extra></extra>",
         "legendgroup": "Upper-middle-income economies",
         "line": {
          "color": "#ab63fa",
          "dash": "solid"
         },
         "marker": {
          "symbol": "circle"
         },
         "mode": "lines",
         "name": "Upper-middle-income economies",
         "showlegend": true,
         "type": "scattergl",
         "x": [
          "2000-01-01T00:00:00",
          "2000-02-01T00:00:00",
          "2000-03-01T00:00:00",
          "2000-04-01T00:00:00",
          "2000-05-01T00:00:00",
          "2000-06-01T00:00:00",
          "2000-07-01T00:00:00",
          "2000-08-01T00:00:00",
          "2000-09-01T00:00:00",
          "2000-10-01T00:00:00",
          "2000-11-01T00:00:00",
          "2000-12-01T00:00:00",
          "2001-01-01T00:00:00",
          "2001-02-01T00:00:00",
          "2001-03-01T00:00:00",
          "2001-04-01T00:00:00",
          "2001-05-01T00:00:00",
          "2001-06-01T00:00:00",
          "2001-07-01T00:00:00",
          "2001-08-01T00:00:00",
          "2001-09-01T00:00:00",
          "2001-10-01T00:00:00",
          "2001-11-01T00:00:00",
          "2001-12-01T00:00:00",
          "2002-01-01T00:00:00",
          "2002-02-01T00:00:00",
          "2002-03-01T00:00:00",
          "2002-04-01T00:00:00",
          "2002-05-01T00:00:00",
          "2002-06-01T00:00:00",
          "2002-07-01T00:00:00",
          "2002-08-01T00:00:00",
          "2002-09-01T00:00:00",
          "2002-10-01T00:00:00",
          "2002-11-01T00:00:00",
          "2002-12-01T00:00:00",
          "2003-01-01T00:00:00",
          "2003-02-01T00:00:00",
          "2003-03-01T00:00:00",
          "2003-04-01T00:00:00",
          "2003-05-01T00:00:00",
          "2003-06-01T00:00:00",
          "2003-07-01T00:00:00",
          "2003-08-01T00:00:00",
          "2003-09-01T00:00:00",
          "2003-10-01T00:00:00",
          "2003-11-01T00:00:00",
          "2003-12-01T00:00:00",
          "2004-01-01T00:00:00",
          "2004-02-01T00:00:00",
          "2004-03-01T00:00:00",
          "2004-04-01T00:00:00",
          "2004-05-01T00:00:00",
          "2004-06-01T00:00:00",
          "2004-07-01T00:00:00",
          "2004-08-01T00:00:00",
          "2004-09-01T00:00:00",
          "2004-10-01T00:00:00",
          "2004-11-01T00:00:00",
          "2004-12-01T00:00:00",
          "2005-01-01T00:00:00",
          "2005-02-01T00:00:00",
          "2005-03-01T00:00:00",
          "2005-04-01T00:00:00",
          "2005-05-01T00:00:00",
          "2005-06-01T00:00:00",
          "2005-07-01T00:00:00",
          "2005-08-01T00:00:00",
          "2005-09-01T00:00:00",
          "2005-10-01T00:00:00",
          "2005-11-01T00:00:00",
          "2005-12-01T00:00:00",
          "2006-01-01T00:00:00",
          "2006-02-01T00:00:00",
          "2006-03-01T00:00:00",
          "2006-04-01T00:00:00",
          "2006-05-01T00:00:00",
          "2006-06-01T00:00:00",
          "2006-07-01T00:00:00",
          "2006-08-01T00:00:00",
          "2006-09-01T00:00:00",
          "2006-10-01T00:00:00",
          "2006-11-01T00:00:00",
          "2006-12-01T00:00:00",
          "2007-01-01T00:00:00",
          "2007-02-01T00:00:00",
          "2007-03-01T00:00:00",
          "2007-04-01T00:00:00",
          "2007-05-01T00:00:00",
          "2007-06-01T00:00:00",
          "2007-07-01T00:00:00",
          "2007-08-01T00:00:00",
          "2007-09-01T00:00:00",
          "2007-10-01T00:00:00",
          "2007-11-01T00:00:00",
          "2007-12-01T00:00:00",
          "2008-01-01T00:00:00",
          "2008-02-01T00:00:00",
          "2008-03-01T00:00:00",
          "2008-04-01T00:00:00",
          "2008-05-01T00:00:00",
          "2008-06-01T00:00:00",
          "2008-07-01T00:00:00",
          "2008-08-01T00:00:00",
          "2008-09-01T00:00:00",
          "2008-10-01T00:00:00",
          "2008-11-01T00:00:00",
          "2008-12-01T00:00:00",
          "2009-01-01T00:00:00",
          "2009-02-01T00:00:00",
          "2009-03-01T00:00:00",
          "2009-04-01T00:00:00",
          "2009-05-01T00:00:00",
          "2009-06-01T00:00:00",
          "2009-07-01T00:00:00",
          "2009-08-01T00:00:00",
          "2009-09-01T00:00:00",
          "2009-10-01T00:00:00",
          "2009-11-01T00:00:00",
          "2009-12-01T00:00:00",
          "2010-01-01T00:00:00",
          "2010-02-01T00:00:00",
          "2010-03-01T00:00:00",
          "2010-04-01T00:00:00",
          "2010-05-01T00:00:00",
          "2010-06-01T00:00:00",
          "2010-07-01T00:00:00",
          "2010-08-01T00:00:00",
          "2010-09-01T00:00:00",
          "2010-10-01T00:00:00",
          "2010-11-01T00:00:00",
          "2010-12-01T00:00:00",
          "2011-01-01T00:00:00",
          "2011-02-01T00:00:00",
          "2011-03-01T00:00:00",
          "2011-04-01T00:00:00",
          "2011-05-01T00:00:00",
          "2011-06-01T00:00:00",
          "2011-07-01T00:00:00",
          "2011-08-01T00:00:00",
          "2011-09-01T00:00:00",
          "2011-10-01T00:00:00",
          "2011-11-01T00:00:00",
          "2011-12-01T00:00:00",
          "2012-01-01T00:00:00",
          "2012-02-01T00:00:00",
          "2012-03-01T00:00:00",
          "2012-04-01T00:00:00",
          "2012-05-01T00:00:00",
          "2012-06-01T00:00:00",
          "2012-07-01T00:00:00",
          "2012-08-01T00:00:00",
          "2012-09-01T00:00:00",
          "2012-10-01T00:00:00",
          "2012-11-01T00:00:00",
          "2012-12-01T00:00:00",
          "2013-01-01T00:00:00",
          "2013-02-01T00:00:00",
          "2013-03-01T00:00:00",
          "2013-04-01T00:00:00",
          "2013-05-01T00:00:00",
          "2013-06-01T00:00:00",
          "2013-07-01T00:00:00",
          "2013-08-01T00:00:00",
          "2013-09-01T00:00:00",
          "2013-10-01T00:00:00",
          "2013-11-01T00:00:00",
          "2013-12-01T00:00:00",
          "2014-01-01T00:00:00",
          "2014-02-01T00:00:00",
          "2014-03-01T00:00:00",
          "2014-04-01T00:00:00",
          "2014-05-01T00:00:00",
          "2014-06-01T00:00:00",
          "2014-07-01T00:00:00",
          "2014-08-01T00:00:00",
          "2014-09-01T00:00:00",
          "2014-10-01T00:00:00",
          "2014-11-01T00:00:00",
          "2014-12-01T00:00:00",
          "2015-01-01T00:00:00",
          "2015-02-01T00:00:00",
          "2015-03-01T00:00:00",
          "2015-04-01T00:00:00",
          "2015-05-01T00:00:00",
          "2015-06-01T00:00:00",
          "2015-07-01T00:00:00",
          "2015-08-01T00:00:00",
          "2015-09-01T00:00:00",
          "2015-10-01T00:00:00",
          "2015-11-01T00:00:00",
          "2015-12-01T00:00:00",
          "2016-01-01T00:00:00",
          "2016-02-01T00:00:00",
          "2016-03-01T00:00:00",
          "2016-04-01T00:00:00",
          "2016-05-01T00:00:00",
          "2016-06-01T00:00:00",
          "2016-07-01T00:00:00",
          "2016-08-01T00:00:00",
          "2016-09-01T00:00:00",
          "2016-10-01T00:00:00",
          "2016-11-01T00:00:00",
          "2016-12-01T00:00:00",
          "2017-01-01T00:00:00",
          "2017-02-01T00:00:00",
          "2017-03-01T00:00:00",
          "2017-04-01T00:00:00",
          "2017-05-01T00:00:00",
          "2017-06-01T00:00:00",
          "2017-07-01T00:00:00",
          "2017-08-01T00:00:00",
          "2017-09-01T00:00:00",
          "2017-10-01T00:00:00",
          "2017-11-01T00:00:00",
          "2017-12-01T00:00:00",
          "2018-01-01T00:00:00",
          "2018-02-01T00:00:00",
          "2018-03-01T00:00:00",
          "2018-04-01T00:00:00",
          "2018-05-01T00:00:00",
          "2018-06-01T00:00:00",
          "2018-07-01T00:00:00",
          "2018-08-01T00:00:00",
          "2018-09-01T00:00:00",
          "2018-10-01T00:00:00",
          "2018-11-01T00:00:00",
          "2018-12-01T00:00:00",
          "2019-01-01T00:00:00",
          "2019-02-01T00:00:00",
          "2019-03-01T00:00:00",
          "2019-04-01T00:00:00",
          "2019-05-01T00:00:00",
          "2019-06-01T00:00:00",
          "2019-07-01T00:00:00",
          "2019-08-01T00:00:00",
          "2019-09-01T00:00:00",
          "2019-10-01T00:00:00",
          "2019-11-01T00:00:00",
          "2019-12-01T00:00:00",
          "2020-01-01T00:00:00",
          "2020-02-01T00:00:00",
          "2020-03-01T00:00:00",
          "2020-04-01T00:00:00",
          "2020-05-01T00:00:00",
          "2020-06-01T00:00:00",
          "2020-07-01T00:00:00",
          "2020-08-01T00:00:00",
          "2020-09-01T00:00:00",
          "2020-10-01T00:00:00",
          "2020-11-01T00:00:00",
          "2020-12-01T00:00:00",
          "2021-01-01T00:00:00",
          "2021-02-01T00:00:00",
          "2021-03-01T00:00:00",
          "2021-04-01T00:00:00",
          "2021-05-01T00:00:00",
          "2021-06-01T00:00:00",
          "2021-07-01T00:00:00",
          "2021-08-01T00:00:00",
          "2021-09-01T00:00:00"
         ],
         "xaxis": "x",
         "y": [
          47.21252710204081,
          47.416504387755104,
          47.53652342857143,
          47.79519175510204,
          48.015659367346935,
          48.140595530612245,
          48.22997989795918,
          48.43328751020408,
          48.71872924489796,
          49.09065669387755,
          49.32839155102041,
          49.6945386122449,
          50.13104106122449,
          50.26688924489796,
          50.5202796122449,
          50.82390379591837,
          51.05531657142858,
          51.2088073877551,
          51.244475877551025,
          51.3642048367347,
          51.61027246938775,
          51.781284040816324,
          52.06703132653061,
          52.37490034693877,
          52.78795883673469,
          52.919404938775514,
          53.08032851020408,
          53.32126685714286,
          53.476773816326535,
          53.50770924489797,
          53.70446512244898,
          53.9372863877551,
          54.14525793877551,
          54.3374297755102,
          54.60422485714286,
          55.00645902040816,
          55.38832436734693,
          55.61475993877551,
          55.81749540816327,
          56.13530116326531,
          56.39043981632653,
          56.38271516326531,
          56.434139897959184,
          56.57934028571429,
          56.81567571428571,
          57.08459169387755,
          57.35552375510205,
          57.764821979591844,
          58.363910591836735,
          58.65912693877551,
          58.929533367346934,
          59.167596755102046,
          59.41420902040816,
          59.42281357142857,
          59.52180663265307,
          59.63287904081633,
          59.85478406122449,
          60.11450757142857,
          60.40338944897959,
          60.65375281632653,
          61.23996604081633,
          61.52217336734694,
          61.73220514285714,
          61.99953055102041,
          62.16951030612245,
          62.23426297959183,
          62.393822551020406,
          62.55970053061225,
          62.940748938775506,
          63.47425289795919,
          63.721002367346934,
          64.04041081632653,
          64.51328665306123,
          64.77888514285713,
          65.01617520408163,
          65.28317806122449,
          65.6038236122449,
          65.70537797959184,
          65.84594648979592,
          66.02556551020409,
          66.23445089795918,
          66.54186059183674,
          66.83853391836735,
          67.26300206122448,
          67.74465759183673,
          67.95583753061224,
          68.25678597959184,
          68.55542885714286,
          68.98410426530613,
          69.1973791632653,
          69.44675985714285,
          69.94567051020408,
          70.49914022448979,
          71.08902228571428,
          71.6029718367347,
          72.1985223877551,
          73.0795827142857,
          73.74538775510204,
          74.48579957142857,
          75.17324573469388,
          75.7535282244898,
          76.37457148979591,
          76.86059189795918,
          77.19036026530613,
          77.69393934693878,
          77.91123157142857,
          77.7775101632653,
          77.62545885714286,
          77.83067057142857,
          77.85167746938775,
          78.08198342857142,
          78.19017989795918,
          78.34029126530612,
          78.49060504081633,
          78.64158873469388,
          78.95449551020408,
          79.20190320408163,
          79.28763273469387,
          79.5112902244898,
          79.8176847755102,
          80.19974218367346,
          80.67009802040816,
          80.97826912244898,
          81.28332114285715,
          81.41730867346939,
          81.5033453265306,
          81.66345979591836,
          81.98427769387754,
          82.24232312244898,
          82.674896,
          83.06574046938775,
          83.49156916326531,
          84.27048540816327,
          84.78256842857142,
          85.45920544897959,
          86.0288252244898,
          86.48520351020409,
          86.58813065306123,
          86.79349820408163,
          87.31461910204082,
          87.67154534693879,
          88.06547589795919,
          88.53000191836735,
          88.88112853061224,
          89.34814404081632,
          89.66383595918367,
          90.10637614285714,
          90.44566930612244,
          90.4204557755102,
          90.49184291836735,
          90.77635638775511,
          91.19960726530613,
          91.62108726530612,
          92.17907373469387,
          92.39534946938774,
          92.68958714285715,
          93.34371451020408,
          93.67355134693878,
          93.96766095918368,
          94.09651142857142,
          94.07092385714287,
          94.16379089795919,
          94.31303114285716,
          94.51990846938776,
          94.86486246938775,
          95.14661342857143,
          95.22213489795918,
          95.6245806122449,
          96.3001297755102,
          96.5601478367347,
          96.92766726530613,
          97.11188338775511,
          97.17557308163266,
          97.2679150612245,
          97.44608685714284,
          97.75980573469387,
          97.90886842857144,
          98.28536353061224,
          98.40448046938775,
          98.54472836734693,
          99.10948065306123,
          98.95913989795918,
          99.33774473469389,
          99.6843990612245,
          99.77435734693877,
          99.80329,
          99.90450632653062,
          100.04621471428571,
          100.20005787755102,
          100.60330553061225,
          101.17076957142858,
          101.62142271428571,
          102.38858659183673,
          102.64431314285714,
          102.92562659183673,
          103.37054477551021,
          103.74187936734694,
          104.17067097959183,
          104.62031857142857,
          104.93886102040815,
          105.334246,
          105.69165579591838,
          106.0350947142857,
          106.4722841632653,
          107.3939049387755,
          107.88267159183674,
          108.3460791632653,
          108.77763702040816,
          108.9095393877551,
          108.9895371632653,
          109.05754987755101,
          109.35018651020408,
          109.64023604081632,
          110.15853312244897,
          110.63090434693878,
          111.01292763265306,
          111.71669573469389,
          111.95254955102041,
          112.26943434693877,
          112.55392708163265,
          112.9633483877551,
          113.2732964489796,
          113.53433367346939,
          113.98385232653061,
          114.59917208163266,
          115.13870624489796,
          115.20602867346939,
          115.18906071428572,
          115.6038725510204,
          115.97281373469389,
          116.51266846938775,
          116.9747251632653,
          117.307956,
          117.17663855102042,
          117.35007548979593,
          117.4924645510204,
          117.65535302040816,
          118.16816402040816,
          118.48907628571428,
          118.95083030612246,
          119.45020828571428,
          119.85542159183673,
          120.75707446938776,
          121.76932059183673,
          122.27709030612243,
          123.33760379591835,
          124.49073228571429,
          125.17672940816327,
          126.0748206122449,
          127.34186081632653,
          128.06009769387757,
          129.37922414285714,
          130.45467220408162,
          131.5574005102041,
          132.9495784489796,
          134.4897644489796,
          135.61486630612245,
          137.7350422857143,
          141.16272814285713,
          143.16920836734695,
          145.01108320408164
         ],
         "yaxis": "y"
        }
       ],
       "layout": {
        "legend": {
         "title": {
          "text": "Economic Group"
         },
         "tracegroupgap": 0
        },
        "margin": {
         "t": 60
        },
        "template": {
         "data": {
          "bar": [
           {
            "error_x": {
             "color": "#2a3f5f"
            },
            "error_y": {
             "color": "#2a3f5f"
            },
            "marker": {
             "line": {
              "color": "#E5ECF6",
              "width": 0.5
             },
             "pattern": {
              "fillmode": "overlay",
              "size": 10,
              "solidity": 0.2
             }
            },
            "type": "bar"
           }
          ],
          "barpolar": [
           {
            "marker": {
             "line": {
              "color": "#E5ECF6",
              "width": 0.5
             },
             "pattern": {
              "fillmode": "overlay",
              "size": 10,
              "solidity": 0.2
             }
            },
            "type": "barpolar"
           }
          ],
          "carpet": [
           {
            "aaxis": {
             "endlinecolor": "#2a3f5f",
             "gridcolor": "white",
             "linecolor": "white",
             "minorgridcolor": "white",
             "startlinecolor": "#2a3f5f"
            },
            "baxis": {
             "endlinecolor": "#2a3f5f",
             "gridcolor": "white",
             "linecolor": "white",
             "minorgridcolor": "white",
             "startlinecolor": "#2a3f5f"
            },
            "type": "carpet"
           }
          ],
          "choropleth": [
           {
            "colorbar": {
             "outlinewidth": 0,
             "ticks": ""
            },
            "type": "choropleth"
           }
          ],
          "contour": [
           {
            "colorbar": {
             "outlinewidth": 0,
             "ticks": ""
            },
            "colorscale": [
             [
              0,
              "#0d0887"
             ],
             [
              0.1111111111111111,
              "#46039f"
             ],
             [
              0.2222222222222222,
              "#7201a8"
             ],
             [
              0.3333333333333333,
              "#9c179e"
             ],
             [
              0.4444444444444444,
              "#bd3786"
             ],
             [
              0.5555555555555556,
              "#d8576b"
             ],
             [
              0.6666666666666666,
              "#ed7953"
             ],
             [
              0.7777777777777778,
              "#fb9f3a"
             ],
             [
              0.8888888888888888,
              "#fdca26"
             ],
             [
              1,
              "#f0f921"
             ]
            ],
            "type": "contour"
           }
          ],
          "contourcarpet": [
           {
            "colorbar": {
             "outlinewidth": 0,
             "ticks": ""
            },
            "type": "contourcarpet"
           }
          ],
          "heatmap": [
           {
            "colorbar": {
             "outlinewidth": 0,
             "ticks": ""
            },
            "colorscale": [
             [
              0,
              "#0d0887"
             ],
             [
              0.1111111111111111,
              "#46039f"
             ],
             [
              0.2222222222222222,
              "#7201a8"
             ],
             [
              0.3333333333333333,
              "#9c179e"
             ],
             [
              0.4444444444444444,
              "#bd3786"
             ],
             [
              0.5555555555555556,
              "#d8576b"
             ],
             [
              0.6666666666666666,
              "#ed7953"
             ],
             [
              0.7777777777777778,
              "#fb9f3a"
             ],
             [
              0.8888888888888888,
              "#fdca26"
             ],
             [
              1,
              "#f0f921"
             ]
            ],
            "type": "heatmap"
           }
          ],
          "heatmapgl": [
           {
            "colorbar": {
             "outlinewidth": 0,
             "ticks": ""
            },
            "colorscale": [
             [
              0,
              "#0d0887"
             ],
             [
              0.1111111111111111,
              "#46039f"
             ],
             [
              0.2222222222222222,
              "#7201a8"
             ],
             [
              0.3333333333333333,
              "#9c179e"
             ],
             [
              0.4444444444444444,
              "#bd3786"
             ],
             [
              0.5555555555555556,
              "#d8576b"
             ],
             [
              0.6666666666666666,
              "#ed7953"
             ],
             [
              0.7777777777777778,
              "#fb9f3a"
             ],
             [
              0.8888888888888888,
              "#fdca26"
             ],
             [
              1,
              "#f0f921"
             ]
            ],
            "type": "heatmapgl"
           }
          ],
          "histogram": [
           {
            "marker": {
             "pattern": {
              "fillmode": "overlay",
              "size": 10,
              "solidity": 0.2
             }
            },
            "type": "histogram"
           }
          ],
          "histogram2d": [
           {
            "colorbar": {
             "outlinewidth": 0,
             "ticks": ""
            },
            "colorscale": [
             [
              0,
              "#0d0887"
             ],
             [
              0.1111111111111111,
              "#46039f"
             ],
             [
              0.2222222222222222,
              "#7201a8"
             ],
             [
              0.3333333333333333,
              "#9c179e"
             ],
             [
              0.4444444444444444,
              "#bd3786"
             ],
             [
              0.5555555555555556,
              "#d8576b"
             ],
             [
              0.6666666666666666,
              "#ed7953"
             ],
             [
              0.7777777777777778,
              "#fb9f3a"
             ],
             [
              0.8888888888888888,
              "#fdca26"
             ],
             [
              1,
              "#f0f921"
             ]
            ],
            "type": "histogram2d"
           }
          ],
          "histogram2dcontour": [
           {
            "colorbar": {
             "outlinewidth": 0,
             "ticks": ""
            },
            "colorscale": [
             [
              0,
              "#0d0887"
             ],
             [
              0.1111111111111111,
              "#46039f"
             ],
             [
              0.2222222222222222,
              "#7201a8"
             ],
             [
              0.3333333333333333,
              "#9c179e"
             ],
             [
              0.4444444444444444,
              "#bd3786"
             ],
             [
              0.5555555555555556,
              "#d8576b"
             ],
             [
              0.6666666666666666,
              "#ed7953"
             ],
             [
              0.7777777777777778,
              "#fb9f3a"
             ],
             [
              0.8888888888888888,
              "#fdca26"
             ],
             [
              1,
              "#f0f921"
             ]
            ],
            "type": "histogram2dcontour"
           }
          ],
          "mesh3d": [
           {
            "colorbar": {
             "outlinewidth": 0,
             "ticks": ""
            },
            "type": "mesh3d"
           }
          ],
          "parcoords": [
           {
            "line": {
             "colorbar": {
              "outlinewidth": 0,
              "ticks": ""
             }
            },
            "type": "parcoords"
           }
          ],
          "pie": [
           {
            "automargin": true,
            "type": "pie"
           }
          ],
          "scatter": [
           {
            "marker": {
             "colorbar": {
              "outlinewidth": 0,
              "ticks": ""
             }
            },
            "type": "scatter"
           }
          ],
          "scatter3d": [
           {
            "line": {
             "colorbar": {
              "outlinewidth": 0,
              "ticks": ""
             }
            },
            "marker": {
             "colorbar": {
              "outlinewidth": 0,
              "ticks": ""
             }
            },
            "type": "scatter3d"
           }
          ],
          "scattercarpet": [
           {
            "marker": {
             "colorbar": {
              "outlinewidth": 0,
              "ticks": ""
             }
            },
            "type": "scattercarpet"
           }
          ],
          "scattergeo": [
           {
            "marker": {
             "colorbar": {
              "outlinewidth": 0,
              "ticks": ""
             }
            },
            "type": "scattergeo"
           }
          ],
          "scattergl": [
           {
            "marker": {
             "colorbar": {
              "outlinewidth": 0,
              "ticks": ""
             }
            },
            "type": "scattergl"
           }
          ],
          "scattermapbox": [
           {
            "marker": {
             "colorbar": {
              "outlinewidth": 0,
              "ticks": ""
             }
            },
            "type": "scattermapbox"
           }
          ],
          "scatterpolar": [
           {
            "marker": {
             "colorbar": {
              "outlinewidth": 0,
              "ticks": ""
             }
            },
            "type": "scatterpolar"
           }
          ],
          "scatterpolargl": [
           {
            "marker": {
             "colorbar": {
              "outlinewidth": 0,
              "ticks": ""
             }
            },
            "type": "scatterpolargl"
           }
          ],
          "scatterternary": [
           {
            "marker": {
             "colorbar": {
              "outlinewidth": 0,
              "ticks": ""
             }
            },
            "type": "scatterternary"
           }
          ],
          "surface": [
           {
            "colorbar": {
             "outlinewidth": 0,
             "ticks": ""
            },
            "colorscale": [
             [
              0,
              "#0d0887"
             ],
             [
              0.1111111111111111,
              "#46039f"
             ],
             [
              0.2222222222222222,
              "#7201a8"
             ],
             [
              0.3333333333333333,
              "#9c179e"
             ],
             [
              0.4444444444444444,
              "#bd3786"
             ],
             [
              0.5555555555555556,
              "#d8576b"
             ],
             [
              0.6666666666666666,
              "#ed7953"
             ],
             [
              0.7777777777777778,
              "#fb9f3a"
             ],
             [
              0.8888888888888888,
              "#fdca26"
             ],
             [
              1,
              "#f0f921"
             ]
            ],
            "type": "surface"
           }
          ],
          "table": [
           {
            "cells": {
             "fill": {
              "color": "#EBF0F8"
             },
             "line": {
              "color": "white"
             }
            },
            "header": {
             "fill": {
              "color": "#C8D4E3"
             },
             "line": {
              "color": "white"
             }
            },
            "type": "table"
           }
          ]
         },
         "layout": {
          "annotationdefaults": {
           "arrowcolor": "#2a3f5f",
           "arrowhead": 0,
           "arrowwidth": 1
          },
          "autotypenumbers": "strict",
          "coloraxis": {
           "colorbar": {
            "outlinewidth": 0,
            "ticks": ""
           }
          },
          "colorscale": {
           "diverging": [
            [
             0,
             "#8e0152"
            ],
            [
             0.1,
             "#c51b7d"
            ],
            [
             0.2,
             "#de77ae"
            ],
            [
             0.3,
             "#f1b6da"
            ],
            [
             0.4,
             "#fde0ef"
            ],
            [
             0.5,
             "#f7f7f7"
            ],
            [
             0.6,
             "#e6f5d0"
            ],
            [
             0.7,
             "#b8e186"
            ],
            [
             0.8,
             "#7fbc41"
            ],
            [
             0.9,
             "#4d9221"
            ],
            [
             1,
             "#276419"
            ]
           ],
           "sequential": [
            [
             0,
             "#0d0887"
            ],
            [
             0.1111111111111111,
             "#46039f"
            ],
            [
             0.2222222222222222,
             "#7201a8"
            ],
            [
             0.3333333333333333,
             "#9c179e"
            ],
            [
             0.4444444444444444,
             "#bd3786"
            ],
            [
             0.5555555555555556,
             "#d8576b"
            ],
            [
             0.6666666666666666,
             "#ed7953"
            ],
            [
             0.7777777777777778,
             "#fb9f3a"
            ],
            [
             0.8888888888888888,
             "#fdca26"
            ],
            [
             1,
             "#f0f921"
            ]
           ],
           "sequentialminus": [
            [
             0,
             "#0d0887"
            ],
            [
             0.1111111111111111,
             "#46039f"
            ],
            [
             0.2222222222222222,
             "#7201a8"
            ],
            [
             0.3333333333333333,
             "#9c179e"
            ],
            [
             0.4444444444444444,
             "#bd3786"
            ],
            [
             0.5555555555555556,
             "#d8576b"
            ],
            [
             0.6666666666666666,
             "#ed7953"
            ],
            [
             0.7777777777777778,
             "#fb9f3a"
            ],
            [
             0.8888888888888888,
             "#fdca26"
            ],
            [
             1,
             "#f0f921"
            ]
           ]
          },
          "colorway": [
           "#636efa",
           "#EF553B",
           "#00cc96",
           "#ab63fa",
           "#FFA15A",
           "#19d3f3",
           "#FF6692",
           "#B6E880",
           "#FF97FF",
           "#FECB52"
          ],
          "font": {
           "color": "#2a3f5f"
          },
          "geo": {
           "bgcolor": "white",
           "lakecolor": "white",
           "landcolor": "#E5ECF6",
           "showlakes": true,
           "showland": true,
           "subunitcolor": "white"
          },
          "hoverlabel": {
           "align": "left"
          },
          "hovermode": "closest",
          "mapbox": {
           "style": "light"
          },
          "paper_bgcolor": "white",
          "plot_bgcolor": "#E5ECF6",
          "polar": {
           "angularaxis": {
            "gridcolor": "white",
            "linecolor": "white",
            "ticks": ""
           },
           "bgcolor": "#E5ECF6",
           "radialaxis": {
            "gridcolor": "white",
            "linecolor": "white",
            "ticks": ""
           }
          },
          "scene": {
           "xaxis": {
            "backgroundcolor": "#E5ECF6",
            "gridcolor": "white",
            "gridwidth": 2,
            "linecolor": "white",
            "showbackground": true,
            "ticks": "",
            "zerolinecolor": "white"
           },
           "yaxis": {
            "backgroundcolor": "#E5ECF6",
            "gridcolor": "white",
            "gridwidth": 2,
            "linecolor": "white",
            "showbackground": true,
            "ticks": "",
            "zerolinecolor": "white"
           },
           "zaxis": {
            "backgroundcolor": "#E5ECF6",
            "gridcolor": "white",
            "gridwidth": 2,
            "linecolor": "white",
            "showbackground": true,
            "ticks": "",
            "zerolinecolor": "white"
           }
          },
          "shapedefaults": {
           "line": {
            "color": "#2a3f5f"
           }
          },
          "ternary": {
           "aaxis": {
            "gridcolor": "white",
            "linecolor": "white",
            "ticks": ""
           },
           "baxis": {
            "gridcolor": "white",
            "linecolor": "white",
            "ticks": ""
           },
           "bgcolor": "#E5ECF6",
           "caxis": {
            "gridcolor": "white",
            "linecolor": "white",
            "ticks": ""
           }
          },
          "title": {
           "x": 0.05
          },
          "xaxis": {
           "automargin": true,
           "gridcolor": "white",
           "linecolor": "white",
           "ticks": "",
           "title": {
            "standoff": 15
           },
           "zerolinecolor": "white",
           "zerolinewidth": 2
          },
          "yaxis": {
           "automargin": true,
           "gridcolor": "white",
           "linecolor": "white",
           "ticks": "",
           "title": {
            "standoff": 15
           },
           "zerolinecolor": "white",
           "zerolinewidth": 2
          }
         }
        },
        "xaxis": {
         "anchor": "y",
         "domain": [
          0,
          1
         ],
         "title": {
          "text": "date"
         }
        },
        "yaxis": {
         "anchor": "x",
         "domain": [
          0,
          1
         ],
         "title": {
          "text": "Value"
         }
        }
       }
      }
     },
     "metadata": {},
     "output_type": "display_data"
    }
   ],
   "source": [
    "px.line(ecpi_pdf[ecpi_pdf['Item'] == 'Consumer Prices, General Indices (2015 = 100)'].sort_values(by=['date']) , x='date', y='Value', color='Economic Group')"
   ]
  },
  {
   "cell_type": "markdown",
   "metadata": {},
   "source": [
    "### Income "
   ]
  },
  {
   "cell_type": "code",
   "execution_count": 71,
   "metadata": {},
   "outputs": [
    {
     "data": {
      "text/html": [
       "<div>\n",
       "<style scoped>\n",
       "    .dataframe tbody tr th:only-of-type {\n",
       "        vertical-align: middle;\n",
       "    }\n",
       "\n",
       "    .dataframe tbody tr th {\n",
       "        vertical-align: top;\n",
       "    }\n",
       "\n",
       "    .dataframe thead th {\n",
       "        text-align: right;\n",
       "    }\n",
       "</style>\n",
       "<table border=\"1\" class=\"dataframe\">\n",
       "  <thead>\n",
       "    <tr style=\"text-align: right;\">\n",
       "      <th></th>\n",
       "      <th>Time</th>\n",
       "      <th>Time Code</th>\n",
       "      <th>Country Name</th>\n",
       "      <th>Country Code</th>\n",
       "      <th>Adjusted net national income (current US$) [NY.ADJ.NNTY.CD]</th>\n",
       "      <th>Income share held by highest 20% [SI.DST.05TH.20]</th>\n",
       "      <th>Income share held by lowest 20% [SI.DST.FRST.20]</th>\n",
       "      <th>Food exports (% of merchandise exports) [TX.VAL.FOOD.ZS.UN]</th>\n",
       "      <th>Food imports (% of merchandise imports) [TM.VAL.FOOD.ZS.UN]</th>\n",
       "      <th>Food production index (2014-2016 = 100) [AG.PRD.FOOD.XD]</th>\n",
       "    </tr>\n",
       "  </thead>\n",
       "  <tbody>\n",
       "    <tr>\n",
       "      <th>0</th>\n",
       "      <td>2001</td>\n",
       "      <td>YR2001</td>\n",
       "      <td>Sweden</td>\n",
       "      <td>SWE</td>\n",
       "      <td>2.033567e+11</td>\n",
       "      <td>NaN</td>\n",
       "      <td>NaN</td>\n",
       "      <td>3.010898</td>\n",
       "      <td>7.047689</td>\n",
       "      <td>98.68</td>\n",
       "    </tr>\n",
       "    <tr>\n",
       "      <th>1</th>\n",
       "      <td>2001</td>\n",
       "      <td>YR2001</td>\n",
       "      <td>Afghanistan</td>\n",
       "      <td>AFG</td>\n",
       "      <td>NaN</td>\n",
       "      <td>NaN</td>\n",
       "      <td>NaN</td>\n",
       "      <td>NaN</td>\n",
       "      <td>NaN</td>\n",
       "      <td>62.28</td>\n",
       "    </tr>\n",
       "    <tr>\n",
       "      <th>2</th>\n",
       "      <td>2001</td>\n",
       "      <td>YR2001</td>\n",
       "      <td>Albania</td>\n",
       "      <td>ALB</td>\n",
       "      <td>3.649171e+09</td>\n",
       "      <td>NaN</td>\n",
       "      <td>NaN</td>\n",
       "      <td>5.789857</td>\n",
       "      <td>19.380031</td>\n",
       "      <td>65.89</td>\n",
       "    </tr>\n",
       "    <tr>\n",
       "      <th>3</th>\n",
       "      <td>2001</td>\n",
       "      <td>YR2001</td>\n",
       "      <td>Algeria</td>\n",
       "      <td>DZA</td>\n",
       "      <td>4.140487e+10</td>\n",
       "      <td>NaN</td>\n",
       "      <td>NaN</td>\n",
       "      <td>0.148606</td>\n",
       "      <td>26.136152</td>\n",
       "      <td>45.04</td>\n",
       "    </tr>\n",
       "    <tr>\n",
       "      <th>4</th>\n",
       "      <td>2001</td>\n",
       "      <td>YR2001</td>\n",
       "      <td>American Samoa</td>\n",
       "      <td>ASM</td>\n",
       "      <td>NaN</td>\n",
       "      <td>NaN</td>\n",
       "      <td>NaN</td>\n",
       "      <td>NaN</td>\n",
       "      <td>NaN</td>\n",
       "      <td>75.09</td>\n",
       "    </tr>\n",
       "  </tbody>\n",
       "</table>\n",
       "</div>"
      ],
      "text/plain": [
       "   Time Time Code    Country Name Country Code  \\\n",
       "0  2001    YR2001          Sweden          SWE   \n",
       "1  2001    YR2001     Afghanistan          AFG   \n",
       "2  2001    YR2001         Albania          ALB   \n",
       "3  2001    YR2001         Algeria          DZA   \n",
       "4  2001    YR2001  American Samoa          ASM   \n",
       "\n",
       "   Adjusted net national income (current US$) [NY.ADJ.NNTY.CD]  \\\n",
       "0                                       2.033567e+11             \n",
       "1                                                NaN             \n",
       "2                                       3.649171e+09             \n",
       "3                                       4.140487e+10             \n",
       "4                                                NaN             \n",
       "\n",
       "   Income share held by highest 20% [SI.DST.05TH.20]  \\\n",
       "0                                                NaN   \n",
       "1                                                NaN   \n",
       "2                                                NaN   \n",
       "3                                                NaN   \n",
       "4                                                NaN   \n",
       "\n",
       "   Income share held by lowest 20% [SI.DST.FRST.20]  \\\n",
       "0                                               NaN   \n",
       "1                                               NaN   \n",
       "2                                               NaN   \n",
       "3                                               NaN   \n",
       "4                                               NaN   \n",
       "\n",
       "   Food exports (% of merchandise exports) [TX.VAL.FOOD.ZS.UN]  \\\n",
       "0                                           3.010898             \n",
       "1                                                NaN             \n",
       "2                                           5.789857             \n",
       "3                                           0.148606             \n",
       "4                                                NaN             \n",
       "\n",
       "   Food imports (% of merchandise imports) [TM.VAL.FOOD.ZS.UN]  \\\n",
       "0                                           7.047689             \n",
       "1                                                NaN             \n",
       "2                                          19.380031             \n",
       "3                                          26.136152             \n",
       "4                                                NaN             \n",
       "\n",
       "   Food production index (2014-2016 = 100) [AG.PRD.FOOD.XD]  \n",
       "0                                              98.68         \n",
       "1                                              62.28         \n",
       "2                                              65.89         \n",
       "3                                              45.04         \n",
       "4                                              75.09         "
      ]
     },
     "execution_count": 71,
     "metadata": {},
     "output_type": "execute_result"
    }
   ],
   "source": [
    "wdi_data_pth = os.path.join(os.pardir, 'data', 'food_security', 'WORLD_BANK_WDI.csv')\n",
    "wdi_pdf = pd.read_csv(wdi_data_pth)\n",
    "wdi_pdf.head()"
   ]
  },
  {
   "cell_type": "code",
   "execution_count": 73,
   "metadata": {},
   "outputs": [
    {
     "data": {
      "text/plain": [
       "Time                                                              0\n",
       "Time Code                                                         0\n",
       "Country Name                                                      0\n",
       "Country Code                                                      0\n",
       "Adjusted net national income (current US$) [NY.ADJ.NNTY.CD]    1037\n",
       "Income share held by highest 20% [SI.DST.05TH.20]              3029\n",
       "Income share held by lowest 20% [SI.DST.FRST.20]               3029\n",
       "Food exports (% of merchandise exports) [TX.VAL.FOOD.ZS.UN]    1054\n",
       "Food imports (% of merchandise imports) [TM.VAL.FOOD.ZS.UN]    1040\n",
       "Food production index (2014-2016 = 100) [AG.PRD.FOOD.XD]        709\n",
       "dtype: int64"
      ]
     },
     "execution_count": 73,
     "metadata": {},
     "output_type": "execute_result"
    }
   ],
   "source": [
    "wdi_pdf.isna().sum()"
   ]
  },
  {
   "cell_type": "markdown",
   "metadata": {},
   "source": []
  },
  {
   "cell_type": "code",
   "execution_count": null,
   "metadata": {},
   "outputs": [],
   "source": []
  }
 ],
 "metadata": {
  "interpreter": {
   "hash": "569284d3b4ee63d52a64be8054ed17e88a37e12e3d4b3eda4e685f5a740911fe"
  },
  "kernelspec": {
   "display_name": "Python 3.8.5 64-bit ('food-security-analysis-wAnqH67o-py3.8': poetry)",
   "language": "python",
   "name": "python3"
  },
  "language_info": {
   "codemirror_mode": {
    "name": "ipython",
    "version": 3
   },
   "file_extension": ".py",
   "mimetype": "text/x-python",
   "name": "python",
   "nbconvert_exporter": "python",
   "pygments_lexer": "ipython3",
   "version": "3.8.5"
  },
  "orig_nbformat": 4
 },
 "nbformat": 4,
 "nbformat_minor": 2
}
