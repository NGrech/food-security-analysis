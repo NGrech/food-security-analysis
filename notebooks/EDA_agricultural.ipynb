{
 "cells": [
  {
   "cell_type": "markdown",
   "metadata": {},
   "source": [
    "# EDA of agricultural data \n",
    "\n",
    "In this notebook we examine data collected from the World Bank and FAO"
   ]
  },
  {
   "cell_type": "code",
   "execution_count": null,
   "metadata": {},
   "outputs": [],
   "source": []
  }
 ],
 "metadata": {
  "interpreter": {
   "hash": "35c7561c2c9459826dff3b57e5e62c9c0209e860073d4ccf80429c83a65e1335"
  },
  "kernelspec": {
   "display_name": "Python 3.9.9 64-bit ('food-security-analysis-vY3KaH9W-py3.9': poetry)",
   "language": "python",
   "name": "python3"
  },
  "language_info": {
   "name": "python",
   "version": "3.9.9"
  },
  "orig_nbformat": 4
 },
 "nbformat": 4,
 "nbformat_minor": 2
}
